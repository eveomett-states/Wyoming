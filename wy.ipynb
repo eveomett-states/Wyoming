{
 "cells": [
  {
   "cell_type": "code",
   "execution_count": 1,
   "metadata": {},
   "outputs": [],
   "source": [
    "import pandas as pd\n",
    "import geopandas as gpd\n",
    "import maup\n",
    "import time\n",
    "from maup import smart_repair\n",
    "from gerrychain import Graph\n",
    "\n",
    "maup.progress.enabled = True"
   ]
  },
  {
   "cell_type": "code",
   "execution_count": 2,
   "metadata": {},
   "outputs": [],
   "source": [
    "import warnings\n",
    "warnings.filterwarnings(\"ignore\")"
   ]
  },
  {
   "cell_type": "code",
   "execution_count": 3,
   "metadata": {},
   "outputs": [],
   "source": [
    "# state = Wyoming\n",
    "state_ab = \"wy\""
   ]
  },
  {
   "cell_type": "markdown",
   "metadata": {},
   "source": [
    "## Data\n",
    "1. Download all the data in directory \"tn_data\"\n",
    "2. Extract them all"
   ]
  },
  {
   "cell_type": "code",
   "execution_count": 5,
   "metadata": {},
   "outputs": [],
   "source": [
    "data_folder = state_ab + \"_data/\"\n",
    "population1_data = \"./{}{}_pl2020_b/{}_pl2020_p1_b.shp\".format(data_folder, state_ab, state_ab)\n",
    "population2_data = \"./{}{}_pl2020_b/{}_pl2020_p2_b.shp\".format(data_folder, state_ab, state_ab)\n",
    "vap_data =  \"./{}{}_pl2020_b/{}_pl2020_p4_b.shp\".format(data_folder, state_ab, state_ab)\n",
    "vest20_data = \"./{}{}_vest_20/{}_vest_20.shp\".format(data_folder, state_ab, state_ab)\n",
    "vest18_data = \"./{}{}_vest_18/{}_vest_18.shp\".format(data_folder, state_ab, state_ab)\n",
    "vest16_data = \"./{}{}_vest_16/{}_vest_16.shp\".format(data_folder, state_ab, state_ab)\n",
    "send_data = \"./{}{}_sldu_adopted_2022/HB0100_HEA0062_SDFinal_20220314.shp\".format(data_folder, state_ab)\n",
    "hdist_data = \"./{}{}_sldl_adopted_2022/HB0100_HEA0062_HDFinal_20220314.shp\".format(data_folder, state_ab)\n",
    "county_data = \"./{}{}_cvap_2022_cnty/{}_cvap_2022_cnty.shp\".format(data_folder, state_ab, state_ab)"
   ]
  },
  {
   "cell_type": "code",
   "execution_count": 6,
   "metadata": {},
   "outputs": [],
   "source": [
    "def do_smart_repair(df, min_rook_length = None, snap_precision = 10):\n",
    "    # change it to the UTM it needs for smart_repair\n",
    "    df = df.to_crs(df.estimate_utm_crs())\n",
    "    df = smart_repair(df, min_rook_length = min_rook_length, snap_precision = snap_precision)\n",
    "    \n",
    "    # check maup doctor again to see if smart repair works\n",
    "    if maup.doctor(df) == True:\n",
    "        # change it back to this UTM for this data\n",
    "        df = df.to_crs('EPSG:4269')\n",
    "    else:\n",
    "        df = df.to_crs('EPSG:4269')\n",
    "        raise Exception('maup.doctor failed')\n",
    "    \n",
    "    return df"
   ]
  },
  {
   "cell_type": "code",
   "execution_count": 7,
   "metadata": {},
   "outputs": [],
   "source": [
    "def add_district(dist_df, dist_name, election_df, col_name):\n",
    "    election_df = election_df.to_crs('EPSG:4269')\n",
    "    dist_df = dist_df.to_crs('EPSG:4269')\n",
    "    # check if it needs to be smart_repair\n",
    "    if maup.doctor(dist_df) != True:\n",
    "        dist_df = do_smart_repair(dist_df)\n",
    "\n",
    "    election_df = gpd.GeoDataFrame(election_df, crs=\"EPSG:4269\")\n",
    "\n",
    "    # assign the pricincts\n",
    "    precincts_to_district_assignment = maup.assign(election_df.geometry, dist_df.geometry)\n",
    "    election_df[dist_name] = precincts_to_district_assignment\n",
    "    for precinct_index in range(len(election_df)):\n",
    "        election_df.at[precinct_index, dist_name] = dist_df.at[election_df.at[precinct_index, dist_name], col_name]\n",
    "\n",
    "    return election_df"
   ]
  },
  {
   "cell_type": "code",
   "execution_count": 8,
   "metadata": {},
   "outputs": [],
   "source": [
    "def rename(original, year):\n",
    "    party = original[6]\n",
    "    if party == 'R' or party == 'D':\n",
    "        return original[3:6] + year + original[6]\n",
    "    else:\n",
    "        return original[3:6] + year + 'O'"
   ]
  },
  {
   "cell_type": "code",
   "execution_count": 9,
   "metadata": {},
   "outputs": [],
   "source": [
    "pop_col = ['TOTPOP', 'HISP', 'NH_WHITE', 'NH_BLACK', 'NH_AMIN', 'NH_ASIAN', 'NH_NHPI', 'NH_OTHER', 'NH_2MORE', 'H_WHITE', 'H_BLACK', 'H_AMIN', 'H_ASIAN', 'H_NHPI', 'H_OTHER', 'H_2MORE', 'VAP', 'HVAP', 'WVAP', 'BVAP', 'AMINVAP', 'ASIANVAP', 'NHPIVAP', 'OTHERVAP', '2MOREVAP']"
   ]
  },
  {
   "cell_type": "code",
   "execution_count": 10,
   "metadata": {},
   "outputs": [],
   "source": [
    "def check_population(population, df):\n",
    "    pop_check = pd.DataFrame({\n",
    "        'pop_col': pop_col,\n",
    "        'population_df': population[pop_col].sum(), \n",
    "        'vest_base': df[pop_col].sum(),\n",
    "        'equal': [x == y for x, y in zip(population[pop_col].sum(), df[pop_col].sum())]\n",
    "    })\n",
    "    if pop_check['equal'].mean() < 1:\n",
    "        print(pop_check)\n",
    "        raise Exception(\"population doesn't agree\")\n",
    "\n",
    "    else:\n",
    "        print(\"population agrees\")"
   ]
  },
  {
   "cell_type": "code",
   "execution_count": 11,
   "metadata": {},
   "outputs": [],
   "source": [
    "def add_vest(vest, df, year, population, start_col):\n",
    "    df = df.to_crs('EPSG:4269')\n",
    "    vest = vest.to_crs('EPSG:4269')\n",
    "    population = population.to_crs('EPSG:4269')\n",
    "     # check if it needs to be smart_repair\n",
    "    if maup.doctor(vest) != True:\n",
    "        vest = do_smart_repair(vest)\n",
    "    \n",
    "    # rename the columns\n",
    "    original_col = vest.columns[start_col:-1]\n",
    "    new_col = [rename(i, year) for i in original_col]\n",
    "    rename_dict = dict(zip(original_col, new_col))\n",
    "    vest = vest.rename(columns=rename_dict)\n",
    "    vest = vest.groupby(level=0, axis=1).sum() # combine all the other party's vote into columns with sufix \"O\"\n",
    "    col_name = list(set(new_col))\n",
    "    col_name.sort()\n",
    "    \n",
    "    # make the blocks from precincts by weight\n",
    "    vest = gpd.GeoDataFrame(vest, crs=\"EPSG:4269\")\n",
    "    election_in_block = population[[\"VAP\", 'geometry']] # population_df is in block scale\n",
    "    blocks_to_precincts_assignment = maup.assign(election_in_block.geometry, vest.geometry)\n",
    "    weights = election_in_block[\"VAP\"] / blocks_to_precincts_assignment.map(election_in_block[\"VAP\"].groupby(blocks_to_precincts_assignment).sum())\n",
    "    weights = weights.fillna(0)\n",
    "    prorated = maup.prorate(blocks_to_precincts_assignment, vest[col_name], weights)\n",
    "    election_in_block[col_name] = prorated\n",
    "    \n",
    "    # assign blocks to precincts\n",
    "    election_in_block = gpd.GeoDataFrame(election_in_block, crs=\"EPSG:4269\")\n",
    "    df = gpd.GeoDataFrame(df, crs=\"EPSG:4269\")\n",
    "    block_to_pricinct_assginment = maup.assign(election_in_block.geometry, df.geometry)\n",
    "    df[col_name] = election_in_block[col_name].groupby(block_to_pricinct_assginment).sum()\n",
    "    df = df.groupby(level=0, axis=1).sum()\n",
    "    df = gpd.GeoDataFrame(df, crs = \"EPSG:4269\")\n",
    "    # check if population agrees\n",
    "    check_population(population, df)\n",
    "    \n",
    "    return df"
   ]
  },
  {
   "cell_type": "markdown",
   "metadata": {},
   "source": [
    "### Read the census data"
   ]
  },
  {
   "cell_type": "code",
   "execution_count": 13,
   "metadata": {},
   "outputs": [],
   "source": [
    "population1_df = gpd.read_file(population1_data)\n",
    "population2_df = gpd.read_file(population2_data)\n",
    "vap_df = gpd.read_file(vap_data)\n",
    "county_df = gpd.read_file(county_data)"
   ]
  },
  {
   "cell_type": "code",
   "execution_count": 14,
   "metadata": {},
   "outputs": [],
   "source": [
    "population2_df = population2_df.drop(columns=['SUMLEV', 'LOGRECNO', 'GEOID', 'COUNTY', 'geometry'])\n",
    "vap_df = vap_df.drop(columns=['SUMLEV', 'LOGRECNO', 'GEOID', 'COUNTY', 'geometry'])"
   ]
  },
  {
   "cell_type": "code",
   "execution_count": 15,
   "metadata": {},
   "outputs": [],
   "source": [
    "population_df = pd.merge(population1_df, population2_df, on='GEOID20')\n",
    "population_df = pd.merge(population_df, vap_df, on='GEOID20')"
   ]
  },
  {
   "cell_type": "code",
   "execution_count": 16,
   "metadata": {},
   "outputs": [
    {
     "name": "stderr",
     "output_type": "stream",
     "text": [
      "100%|███████████████████████████████████| 53769/53769 [00:31<00:00, 1719.27it/s]\n"
     ]
    },
    {
     "data": {
      "text/plain": [
       "True"
      ]
     },
     "execution_count": 16,
     "metadata": {},
     "output_type": "execute_result"
    }
   ],
   "source": [
    "maup.doctor(population_df)"
   ]
  },
  {
   "cell_type": "code",
   "execution_count": 17,
   "metadata": {},
   "outputs": [],
   "source": [
    "population_df['H_WHITE'] = population_df.apply(lambda t: t['P0010003'] - t['P0020005'], 1)\n",
    "population_df['H_BLACK'] = population_df.apply(lambda t: t['P0010004'] - t['P0020006'], 1)\n",
    "population_df['H_AMIN'] = population_df.apply(lambda t: t['P0010005'] - t['P0020007'], 1)\n",
    "population_df['H_ASIAN'] = population_df.apply(lambda t: t['P0010006'] - t['P0020008'], 1)\n",
    "population_df['H_NHPI'] = population_df.apply(lambda t: t['P0010007'] - t['P0020009'], 1)\n",
    "population_df['H_OTHER'] = population_df.apply(lambda t: t['P0010008'] - t['P0020010'], 1)\n",
    "population_df['H_2MORE'] = population_df.apply(lambda t: t['P0010009'] - t['P0020011'], 1)"
   ]
  },
  {
   "cell_type": "code",
   "execution_count": 18,
   "metadata": {},
   "outputs": [],
   "source": [
    "rename_dict = {'P0020001': 'TOTPOP', 'P0020002': 'HISP', 'P0020005': 'NH_WHITE', 'P0020006': 'NH_BLACK', 'P0020007': 'NH_AMIN',\n",
    "                    'P0020008': 'NH_ASIAN', 'P0020009': 'NH_NHPI', 'P0020010': 'NH_OTHER', 'P0020011': 'NH_2MORE',\n",
    "                    'P0040001': 'VAP', 'P0040002': 'HVAP', 'P0040005': 'WVAP', 'P0040006': 'BVAP', 'P0040007': 'AMINVAP',\n",
    "                                        'P0040008': 'ASIANVAP', 'P0040009': 'NHPIVAP', 'P0040010': 'OTHERVAP', 'P0040011': '2MOREVAP'}"
   ]
  },
  {
   "cell_type": "code",
   "execution_count": 19,
   "metadata": {},
   "outputs": [],
   "source": [
    "population_df.rename(columns=rename_dict, inplace = True)"
   ]
  },
  {
   "cell_type": "markdown",
   "metadata": {},
   "source": [
    "Make sure that the County shapefile is clean:"
   ]
  },
  {
   "cell_type": "code",
   "execution_count": 21,
   "metadata": {},
   "outputs": [
    {
     "name": "stderr",
     "output_type": "stream",
     "text": [
      "100%|█████████████████████████████████████████| 23/23 [00:00<00:00, 1554.35it/s]\n"
     ]
    },
    {
     "data": {
      "text/plain": [
       "True"
      ]
     },
     "execution_count": 21,
     "metadata": {},
     "output_type": "execute_result"
    }
   ],
   "source": [
    "maup.doctor(county_df)"
   ]
  },
  {
   "cell_type": "markdown",
   "metadata": {},
   "source": [
    "## Read the vest 20 data\n",
    "\n",
    "Now using it as a \"base pricinct\""
   ]
  },
  {
   "cell_type": "code",
   "execution_count": 23,
   "metadata": {},
   "outputs": [],
   "source": [
    "def add_vest_base(vest, start_col, year, county = None, min_rook_length = None, snap_precision = 10):\n",
    "    vest = vest.to_crs('EPSG:4269')\n",
    "    original_col = vest.columns[start_col:-1]\n",
    "    new_col = [rename(i, year) for i in original_col]\n",
    "    rename_dict = dict(zip(original_col, new_col))\n",
    "    vest = vest.rename(columns=rename_dict)\n",
    "    vest = vest.groupby(level=0, axis=1).sum()\n",
    "    vest = gpd.GeoDataFrame(vest, crs=\"EPSG:4269\")\n",
    "\n",
    "    vest = vest.to_crs(vest.estimate_utm_crs())\n",
    "    if county is not None:\n",
    "        county = county.to_crs(county.estimate_utm_crs())\n",
    "   \n",
    "    vest = smart_repair(vest, nest_within_regions = county, min_rook_length = min_rook_length, snap_precision = snap_precision)\n",
    "    \n",
    "    return vest"
   ]
  },
  {
   "cell_type": "markdown",
   "metadata": {},
   "source": [
    "## Check if vest20 can be used as base"
   ]
  },
  {
   "cell_type": "code",
   "execution_count": 25,
   "metadata": {},
   "outputs": [],
   "source": [
    "vest20 = gpd.read_file(vest20_data)"
   ]
  },
  {
   "cell_type": "code",
   "execution_count": 26,
   "metadata": {},
   "outputs": [
    {
     "data": {
      "text/plain": [
       "Index(['STATEFP20', 'COUNTYFP20', 'VTDST20', 'NAME20', 'G20PRERTRU',\n",
       "       'G20PREDBID', 'G20PRELJOR', 'G20PREIPIE', 'G20PREOWRI', 'G20USSRLUM',\n",
       "       'G20USSDDAV', 'G20USSOWRI', 'G20HALRCHE', 'G20HALDBUL', 'G20HALLBRU',\n",
       "       'G20HALCHAG', 'G20HALOWRI', 'geometry'],\n",
       "      dtype='object')"
      ]
     },
     "execution_count": 26,
     "metadata": {},
     "output_type": "execute_result"
    }
   ],
   "source": [
    "vest20.columns"
   ]
  },
  {
   "cell_type": "code",
   "execution_count": 27,
   "metadata": {},
   "outputs": [],
   "source": [
    "start_col = 4\n",
    "vest_base_data = vest20\n",
    "year = '20'"
   ]
  },
  {
   "cell_type": "code",
   "execution_count": 28,
   "metadata": {},
   "outputs": [
    {
     "name": "stderr",
     "output_type": "stream",
     "text": [
      "100%|█████████████████████████████████████████| 23/23 [00:00<00:00, 1536.91it/s]\n"
     ]
    },
    {
     "name": "stdout",
     "output_type": "stream",
     "text": [
      "Snapping all geometries to a grid with precision 10^( -5 ) to avoid GEOS errors.\n"
     ]
    },
    {
     "name": "stderr",
     "output_type": "stream",
     "text": [
      "100%|█████████████████████████████████████████| 23/23 [00:00<00:00, 1478.63it/s]\n",
      "100%|██████████████████████████████████████████| 23/23 [00:00<00:00, 157.41it/s]\n"
     ]
    },
    {
     "name": "stdout",
     "output_type": "stream",
     "text": [
      "Identifying overlaps...\n"
     ]
    },
    {
     "name": "stderr",
     "output_type": "stream",
     "text": [
      "100%|█████████████████████████████████████| 6814/6814 [00:03<00:00, 2163.86it/s]\n"
     ]
    },
    {
     "name": "stdout",
     "output_type": "stream",
     "text": [
      "Resolving overlaps and filling gaps...\n"
     ]
    },
    {
     "name": "stderr",
     "output_type": "stream",
     "text": [
      "100%|█████████████████████████████████████████| 23/23 [00:00<00:00, 1505.12it/s]\n",
      "100%|██████████████████████████████████████████| 23/23 [00:00<00:00, 155.70it/s]\n",
      "Gaps to simplify in region 0: 100%|█████████████| 41/41 [00:00<00:00, 58.78it/s]\n",
      "Gaps to fill: 0it [00:00, ?it/s]\n",
      "Gaps to simplify in region 1: 100%|███████████| 558/558 [00:06<00:00, 83.25it/s]\n",
      "Gaps to fill in region 1: 100%|███████████████████| 2/2 [00:00<00:00, 35.93it/s]\n",
      "Gaps to simplify in region 2: 100%|█████████| 1063/1063 [00:30<00:00, 35.30it/s]\n",
      "Gaps to fill in region 2: 100%|███████████████████| 7/7 [00:00<00:00, 12.87it/s]\n",
      "Gaps to simplify in region 3: 100%|███████████| 403/403 [00:04<00:00, 83.37it/s]\n",
      "Gaps to fill in region 3: 100%|███████████████████| 5/5 [00:00<00:00, 56.76it/s]\n",
      "Gaps to simplify in region 4: 100%|█████████████| 73/73 [00:00<00:00, 75.32it/s]\n",
      "Gaps to fill in region 4: 100%|███████████████████| 4/4 [00:00<00:00, 65.47it/s]\n",
      "Gaps to simplify in region 5: 100%|███████████| 367/367 [00:09<00:00, 40.70it/s]\n",
      "Gaps to fill in region 5: 100%|███████████████████| 2/2 [00:00<00:00, 22.58it/s]\n",
      "Gaps to simplify in region 6: 100%|█████████████| 54/54 [00:00<00:00, 67.08it/s]\n",
      "Gaps to fill in region 6: 100%|███████████████████| 1/1 [00:00<00:00, 44.94it/s]\n",
      "Gaps to simplify in region 7: 100%|█████████████| 80/80 [00:01<00:00, 54.37it/s]\n",
      "Gaps to fill in region 7: 100%|███████████████████| 1/1 [00:00<00:00, 20.95it/s]\n",
      "Gaps to simplify in region 8: 100%|█████████████| 94/94 [00:03<00:00, 24.69it/s]\n",
      "Gaps to fill in region 8: 100%|███████████████████| 3/3 [00:00<00:00,  6.35it/s]\n",
      "Gaps to simplify in region 9: 100%|█████████████| 76/76 [00:00<00:00, 81.30it/s]\n",
      "Gaps to fill in region 9: 100%|███████████████████| 5/5 [00:00<00:00, 41.03it/s]\n",
      "Gaps to simplify in region 10: 100%|██████████| 258/258 [00:09<00:00, 27.27it/s]\n",
      "Gaps to fill in region 10: 100%|██████████████████| 4/4 [00:00<00:00, 10.36it/s]\n",
      "Gaps to simplify in region 11: 100%|████████████| 66/66 [00:00<00:00, 70.35it/s]\n",
      "Gaps to fill in region 11: 100%|██████████████████| 4/4 [00:00<00:00, 22.32it/s]\n",
      "Gaps to simplify in region 12: 100%|████████████| 75/75 [00:03<00:00, 20.81it/s]\n",
      "Gaps to fill in region 12: 100%|██████████████████| 1/1 [00:00<00:00,  8.07it/s]\n",
      "Gaps to simplify in region 13: 100%|███████████| 85/85 [00:00<00:00, 114.55it/s]\n",
      "Gaps to fill: 0it [00:00, ?it/s]\n",
      "Gaps to simplify in region 14: 100%|█████████| 173/173 [00:01<00:00, 125.09it/s]\n",
      "Gaps to fill in region 14: 100%|██████████████████| 3/3 [00:00<00:00, 49.47it/s]\n",
      "Gaps to simplify in region 15: 100%|██████████| 157/157 [00:01<00:00, 87.78it/s]\n",
      "Gaps to fill: 0it [00:00, ?it/s]\n",
      "Gaps to simplify in region 16: 100%|████████████| 58/58 [00:01<00:00, 44.93it/s]\n",
      "Gaps to fill in region 16: 100%|██████████████████| 4/4 [00:00<00:00, 18.35it/s]\n",
      "Gaps to simplify in region 17: 100%|████████████| 56/56 [00:00<00:00, 69.65it/s]\n",
      "Gaps to fill in region 17: 100%|██████████████████| 6/6 [00:00<00:00, 41.80it/s]\n",
      "Gaps to simplify in region 18: 100%|████████████| 87/87 [00:02<00:00, 35.64it/s]\n",
      "Gaps to fill in region 18: 100%|██████████████████| 2/2 [00:00<00:00, 13.62it/s]\n",
      "Gaps to simplify in region 19: 100%|████████████| 76/76 [00:00<00:00, 78.54it/s]\n",
      "Gaps to fill in region 19: 100%|██████████████████| 2/2 [00:00<00:00, 37.91it/s]\n",
      "Gaps to simplify in region 20: 100%|████████████| 61/61 [00:01<00:00, 53.30it/s]\n",
      "Gaps to fill in region 20: 100%|██████████████████| 5/5 [00:00<00:00, 55.30it/s]\n",
      "Gaps to simplify in region 21: 100%|██████████| 240/240 [00:02<00:00, 88.10it/s]\n",
      "Gaps to fill in region 21: 100%|██████████████████| 4/4 [00:00<00:00, 34.14it/s]\n",
      "Gaps to simplify in region 22: 100%|████████████| 20/20 [00:00<00:00, 41.15it/s]\n",
      "Gaps to fill: 0it [00:00, ?it/s]\n"
     ]
    }
   ],
   "source": [
    "vest_base = add_vest_base(vest_base_data, start_col, year, county = county_df)"
   ]
  },
  {
   "cell_type": "code",
   "execution_count": 29,
   "metadata": {},
   "outputs": [
    {
     "name": "stderr",
     "output_type": "stream",
     "text": [
      "100%|████████████████████████████████████████| 481/481 [00:00<00:00, 637.24it/s]\n"
     ]
    },
    {
     "data": {
      "text/plain": [
       "True"
      ]
     },
     "execution_count": 29,
     "metadata": {},
     "output_type": "execute_result"
    }
   ],
   "source": [
    "maup.doctor(vest_base)"
   ]
  },
  {
   "cell_type": "code",
   "execution_count": 30,
   "metadata": {},
   "outputs": [],
   "source": [
    "this_crs = vest_base.crs\n",
    "if \"proj=utm\" not in this_crs.to_proj4(): # should have been put in crs utm, which is in meters\n",
    "    print(\"Error!\")\n",
    "\n",
    "boundaries = vest_base.copy() \n",
    "boundaries[\"geometry\"] = boundaries.geometry.boundary  # get boundaries\n",
    "neighbors = gpd.sjoin(boundaries, vest_base, predicate=\"intersects\") # find boundaries that intersect\n",
    "neighbors = neighbors[neighbors.index != neighbors.index_right] # remove boundaries of a region with itself\n",
    "\n",
    "# compute shared border length using intersection\n",
    "borders = list(neighbors.apply(\n",
    "    lambda row: row.geometry.intersection(vest_base.loc[row.index_right, \"geometry\"]).length, axis=1\n",
    "))\n",
    "\n",
    "borders.sort()"
   ]
  },
  {
   "cell_type": "code",
   "execution_count": 31,
   "metadata": {},
   "outputs": [
    {
     "name": "stdout",
     "output_type": "stream",
     "text": [
      "[0.0, 0.0, 0.0, 0.0, 0.0, 0.0, 0.0, 0.0, 0.0, 0.0, 0.0, 0.0, 0.0, 0.0, 0.0, 0.0, 0.0, 0.0, 0.0, 0.0, 0.0, 0.0, 0.0, 0.0, 0.0, 0.0, 0.0, 0.0, 0.0, 0.0, 0.0, 0.0, 0.0, 0.0, 0.0, 0.0, 0.0, 0.0, 0.0, 0.0, 0.0, 0.0, 0.0, 0.0, 0.0, 0.0, 0.0, 0.0, 0.0, 0.0, 0.0, 0.0, 0.0, 0.0, 0.0, 0.0, 0.0, 0.0, 0.0, 0.0, 0.0, 0.0, 0.0, 0.0, 0.0, 0.0, 0.0, 0.0, 0.0, 0.0, 0.0, 0.0, 0.0, 0.0, 0.0, 0.0, 0.0, 0.0, 0.0, 0.0, 0.0, 0.0, 0.0, 0.0, 0.0, 0.0, 0.0, 0.0, 0.0, 0.0, 0.0, 0.0, 0.0, 0.0, 0.0, 0.0, 0.0, 0.0, 0.0, 0.0, 0.0, 0.0, 0.0, 0.0, 0.0, 0.0, 0.0, 0.0, 0.0, 0.0, 0.0, 0.0, 0.0, 0.0, 0.0, 0.0, 0.0, 0.0, 0.0, 0.0, 0.0, 0.0, 0.0, 0.0, 0.0, 0.0, 0.0, 0.0, 0.0, 0.0, 2.1537292570887616, 2.1537292570887616, 7.777018460494129, 7.777018460494129, 9.461194491784923, 9.461194491784923, 12.232428502377925, 12.232428502377925, 14.33289573941612, 14.33289573941612, 26.831087560783395, 26.831087560783395, 28.49594379146209, 28.49594379146209, 28.849242162163648, 28.849242162163648, 29.216872683240556, 29.216872683240556, 36.68532170013888, 36.68532170013888, 44.527864475641145, 44.527864475641145, 52.52604302360799, 52.52604302360799, 53.26215875421463, 53.26215875421463, 53.693654599471834, 53.693654599471834, 54.07785780704217, 54.07785780704217, 65.40132296205816, 65.40132296205816, 73.15801697010238, 73.15801697010238, 92.6478225004656, 92.6478225004656, 92.6977567121732, 92.69775671217322, 100.94703026100791, 100.94703026100791, 115.48020709349446, 115.48020709349447, 120.91979991333997, 120.91979991333999, 121.4665254166383, 121.46652541663832, 128.31294620953193, 128.312946209532, 133.865665156232, 133.865665156232, 136.43102419240887, 136.43102419240887, 145.04971502603632, 145.04971502603632, 146.91031841581724, 146.91031841581724, 153.90680463621192, 153.90680463621192, 154.48797277708326, 154.48797277708326, 156.85514972018146, 156.85514972018146, 172.0320727822484, 172.0320727822484, 188.79270243021097, 188.79270243021097, 193.24146386228125, 193.24146386228128, 197.32551199469796, 197.32551199469802, 197.35890288961934, 197.35890288961934, 201.27839933395117, 201.27839933395117, 201.46811311750997, 201.46811311750997, 213.1209431632741, 213.12094316327412, 213.5097911457573, 213.5097911457573, 215.35091436764236, 215.35091436764236, 218.70358075281837, 218.70358075281837, 220.68416776637406, 220.68416776637406, 223.53408414075233, 223.53408414075233, 229.88512276062914, 229.88512276062914, 238.63287893160503, 238.63287893160506, 238.7277009237242, 238.72770092372423, 240.52538438145334, 240.52538438145334, 251.34253841495607, 251.3425384149561, 253.2756288667293, 253.27562886672933, 257.52570518565506, 257.52570518565506, 263.7451957857661, 263.74519578576616, 265.4053051626751, 265.4053051626751, 272.3662249058605, 272.3662249058605, 284.90432935612955, 284.90432935612955, 285.17109858676224, 285.17109858676224, 298.2445693080001, 298.24456930800017, 308.9176398257549, 308.9176398257549, 316.27516057235016, 316.27516057235016, 317.5288878333918, 317.5288878333918, 326.8066184448511, 326.8066184448511, 327.18989744456417, 327.18989744456417, 327.35094741255006, 327.35094741255006, 328.58224828073463, 328.5822482807347, 329.74218494454533, 329.7421849445454, 343.7380383508988, 343.7380383508989, 346.0095238037536, 346.0095238037536, 347.0882535766094, 347.0882535766095, 351.91915317738784, 351.9191531773879, 359.2217708442454, 359.22177084424544, 361.796025214395, 361.796025214395, 363.9451528448542, 363.9451528448542, 364.4261012680616, 364.4261012680616, 364.4272813437529, 364.42728134375295, 369.56302639451894, 369.56302639451894, 378.3776605997237, 378.37766059972375, 379.7508748849426, 379.7508748849426, 382.295052421488, 382.29505242148804, 386.3138274065697, 386.3138274065697, 388.2473220457001, 388.2473220457001, 392.8057008423117, 392.8057008423117, 393.3601066436255, 393.3601066436255, 394.38876111339926, 394.3887611133993, 394.413625793961, 394.413625793961, 399.0337058139627, 399.03370581396274]\n"
     ]
    }
   ],
   "source": [
    "print(borders[:300])"
   ]
  },
  {
   "cell_type": "code",
   "execution_count": 32,
   "metadata": {},
   "outputs": [
    {
     "name": "stdout",
     "output_type": "stream",
     "text": [
      "Snapping all geometries to a grid with precision 10^( -5 ) to avoid GEOS errors.\n",
      "Identifying overlaps...\n"
     ]
    },
    {
     "name": "stderr",
     "output_type": "stream",
     "text": [
      "100%|███████████████████████████████████████| 667/667 [00:00<00:00, 2588.34it/s]\n"
     ]
    },
    {
     "name": "stdout",
     "output_type": "stream",
     "text": [
      "Resolving overlaps...\n",
      "Filling gaps...\n"
     ]
    },
    {
     "name": "stderr",
     "output_type": "stream",
     "text": [
      "Gaps to simplify: 0it [00:00, ?it/s]\n",
      "Gaps to fill: 0it [00:00, ?it/s]\n"
     ]
    },
    {
     "name": "stdout",
     "output_type": "stream",
     "text": [
      "Converting small rook adjacencies to queen...\n"
     ]
    },
    {
     "name": "stderr",
     "output_type": "stream",
     "text": [
      "100%|████████████████████████████████████████| 481/481 [00:00<00:00, 579.61it/s]\n",
      "100%|███████████████████████████████████████████| 5/5 [00:00<00:00, 2828.26it/s]\n",
      "100%|███████████████████████████████████████████| 5/5 [00:00<00:00, 2297.75it/s]\n",
      "100%|███████████████████████████████████████████| 5/5 [00:00<00:00, 2523.95it/s]\n",
      "100%|███████████████████████████████████████████| 4/4 [00:00<00:00, 2284.17it/s]\n",
      "100%|███████████████████████████████████████████| 6/6 [00:00<00:00, 2544.32it/s]\n",
      "100%|███████████████████████████████████████████| 6/6 [00:00<00:00, 1827.58it/s]\n",
      "100%|███████████████████████████████████████████| 4/4 [00:00<00:00, 1992.78it/s]\n",
      "100%|███████████████████████████████████████████| 5/5 [00:00<00:00, 2451.09it/s]\n",
      "100%|███████████████████████████████████████████| 6/6 [00:00<00:00, 2577.15it/s]\n",
      "100%|████████████████████████████████████████| 481/481 [00:00<00:00, 603.20it/s]\n"
     ]
    }
   ],
   "source": [
    "vest_base = do_smart_repair(vest_base, min_rook_length = 30.5)"
   ]
  },
  {
   "cell_type": "code",
   "execution_count": 33,
   "metadata": {},
   "outputs": [
    {
     "data": {
      "text/html": [
       "<div>\n",
       "<style scoped>\n",
       "    .dataframe tbody tr th:only-of-type {\n",
       "        vertical-align: middle;\n",
       "    }\n",
       "\n",
       "    .dataframe tbody tr th {\n",
       "        vertical-align: top;\n",
       "    }\n",
       "\n",
       "    .dataframe thead th {\n",
       "        text-align: right;\n",
       "    }\n",
       "</style>\n",
       "<table border=\"1\" class=\"dataframe\">\n",
       "  <thead>\n",
       "    <tr style=\"text-align: right;\">\n",
       "      <th></th>\n",
       "      <th>COUNTYFP20</th>\n",
       "      <th>HAL20D</th>\n",
       "      <th>HAL20O</th>\n",
       "      <th>HAL20R</th>\n",
       "      <th>NAME20</th>\n",
       "      <th>PRE20D</th>\n",
       "      <th>PRE20O</th>\n",
       "      <th>PRE20R</th>\n",
       "      <th>STATEFP20</th>\n",
       "      <th>USS20D</th>\n",
       "      <th>USS20O</th>\n",
       "      <th>USS20R</th>\n",
       "      <th>VTDST20</th>\n",
       "      <th>geometry</th>\n",
       "    </tr>\n",
       "  </thead>\n",
       "  <tbody>\n",
       "  </tbody>\n",
       "</table>\n",
       "</div>"
      ],
      "text/plain": [
       "Empty GeoDataFrame\n",
       "Columns: [COUNTYFP20, HAL20D, HAL20O, HAL20R, NAME20, PRE20D, PRE20O, PRE20R, STATEFP20, USS20D, USS20O, USS20R, VTDST20, geometry]\n",
       "Index: []"
      ]
     },
     "execution_count": 33,
     "metadata": {},
     "output_type": "execute_result"
    }
   ],
   "source": [
    "vest_base[~vest_base.geom_type.isin(['Polygon', 'MultiPolygon'])]"
   ]
  },
  {
   "cell_type": "code",
   "execution_count": 34,
   "metadata": {},
   "outputs": [
    {
     "data": {
      "text/html": [
       "<div>\n",
       "<style scoped>\n",
       "    .dataframe tbody tr th:only-of-type {\n",
       "        vertical-align: middle;\n",
       "    }\n",
       "\n",
       "    .dataframe tbody tr th {\n",
       "        vertical-align: top;\n",
       "    }\n",
       "\n",
       "    .dataframe thead th {\n",
       "        text-align: right;\n",
       "    }\n",
       "</style>\n",
       "<table border=\"1\" class=\"dataframe\">\n",
       "  <thead>\n",
       "    <tr style=\"text-align: right;\">\n",
       "      <th></th>\n",
       "      <th>COUNTYFP20</th>\n",
       "      <th>HAL20D</th>\n",
       "      <th>HAL20O</th>\n",
       "      <th>HAL20R</th>\n",
       "      <th>NAME20</th>\n",
       "      <th>PRE20D</th>\n",
       "      <th>PRE20O</th>\n",
       "      <th>PRE20R</th>\n",
       "      <th>STATEFP20</th>\n",
       "      <th>USS20D</th>\n",
       "      <th>USS20O</th>\n",
       "      <th>USS20R</th>\n",
       "      <th>VTDST20</th>\n",
       "      <th>geometry</th>\n",
       "    </tr>\n",
       "  </thead>\n",
       "  <tbody>\n",
       "    <tr>\n",
       "      <th>184</th>\n",
       "      <td>003</td>\n",
       "      <td>31</td>\n",
       "      <td>29</td>\n",
       "      <td>477</td>\n",
       "      <td>Cowley</td>\n",
       "      <td>36</td>\n",
       "      <td>18</td>\n",
       "      <td>493</td>\n",
       "      <td>56</td>\n",
       "      <td>33</td>\n",
       "      <td>0</td>\n",
       "      <td>508</td>\n",
       "      <td>002201</td>\n",
       "      <td>POLYGON ((-108.45407 44.82467, -108.45441 44.8...</td>\n",
       "    </tr>\n",
       "  </tbody>\n",
       "</table>\n",
       "</div>"
      ],
      "text/plain": [
       "    COUNTYFP20  HAL20D  HAL20O  HAL20R  NAME20  PRE20D  PRE20O  PRE20R  \\\n",
       "184        003      31      29     477  Cowley      36      18     493   \n",
       "\n",
       "    STATEFP20  USS20D  USS20O  USS20R VTDST20  \\\n",
       "184        56      33       0     508  002201   \n",
       "\n",
       "                                              geometry  \n",
       "184  POLYGON ((-108.45407 44.82467, -108.45441 44.8...  "
      ]
     },
     "execution_count": 34,
     "metadata": {},
     "output_type": "execute_result"
    }
   ],
   "source": [
    "vest_base[~vest_base.is_valid]"
   ]
  },
  {
   "cell_type": "code",
   "execution_count": 35,
   "metadata": {},
   "outputs": [
    {
     "data": {
      "text/html": [
       "<div>\n",
       "<style scoped>\n",
       "    .dataframe tbody tr th:only-of-type {\n",
       "        vertical-align: middle;\n",
       "    }\n",
       "\n",
       "    .dataframe tbody tr th {\n",
       "        vertical-align: top;\n",
       "    }\n",
       "\n",
       "    .dataframe thead th {\n",
       "        text-align: right;\n",
       "    }\n",
       "</style>\n",
       "<table border=\"1\" class=\"dataframe\">\n",
       "  <thead>\n",
       "    <tr style=\"text-align: right;\">\n",
       "      <th></th>\n",
       "      <th>GEOID20</th>\n",
       "      <th>SUMLEV</th>\n",
       "      <th>LOGRECNO</th>\n",
       "      <th>GEOID</th>\n",
       "      <th>COUNTY</th>\n",
       "      <th>P0010001</th>\n",
       "      <th>P0010002</th>\n",
       "      <th>P0010003</th>\n",
       "      <th>P0010004</th>\n",
       "      <th>P0010005</th>\n",
       "      <th>...</th>\n",
       "      <th>P0040071</th>\n",
       "      <th>P0040072</th>\n",
       "      <th>P0040073</th>\n",
       "      <th>H_WHITE</th>\n",
       "      <th>H_BLACK</th>\n",
       "      <th>H_AMIN</th>\n",
       "      <th>H_ASIAN</th>\n",
       "      <th>H_NHPI</th>\n",
       "      <th>H_OTHER</th>\n",
       "      <th>H_2MORE</th>\n",
       "    </tr>\n",
       "  </thead>\n",
       "  <tbody>\n",
       "  </tbody>\n",
       "</table>\n",
       "<p>0 rows × 230 columns</p>\n",
       "</div>"
      ],
      "text/plain": [
       "Empty GeoDataFrame\n",
       "Columns: [GEOID20, SUMLEV, LOGRECNO, GEOID, COUNTY, P0010001, P0010002, P0010003, P0010004, P0010005, P0010006, P0010007, P0010008, P0010009, P0010010, P0010011, P0010012, P0010013, P0010014, P0010015, P0010016, P0010017, P0010018, P0010019, P0010020, P0010021, P0010022, P0010023, P0010024, P0010025, P0010026, P0010027, P0010028, P0010029, P0010030, P0010031, P0010032, P0010033, P0010034, P0010035, P0010036, P0010037, P0010038, P0010039, P0010040, P0010041, P0010042, P0010043, P0010044, P0010045, P0010046, P0010047, P0010048, P0010049, P0010050, P0010051, P0010052, P0010053, P0010054, P0010055, P0010056, P0010057, P0010058, P0010059, P0010060, P0010061, P0010062, P0010063, P0010064, P0010065, P0010066, P0010067, P0010068, P0010069, P0010070, P0010071, geometry, TOTPOP, HISP, P0020003, P0020004, NH_WHITE, NH_BLACK, NH_AMIN, NH_ASIAN, NH_NHPI, NH_OTHER, NH_2MORE, P0020012, P0020013, P0020014, P0020015, P0020016, P0020017, P0020018, P0020019, P0020020, P0020021, P0020022, P0020023, ...]\n",
       "Index: []\n",
       "\n",
       "[0 rows x 230 columns]"
      ]
     },
     "execution_count": 35,
     "metadata": {},
     "output_type": "execute_result"
    }
   ],
   "source": [
    "population_df[~population_df.geom_type.isin(['Polygon', 'MultiPolygon'])]"
   ]
  },
  {
   "cell_type": "code",
   "execution_count": 36,
   "metadata": {},
   "outputs": [
    {
     "data": {
      "text/html": [
       "<div>\n",
       "<style scoped>\n",
       "    .dataframe tbody tr th:only-of-type {\n",
       "        vertical-align: middle;\n",
       "    }\n",
       "\n",
       "    .dataframe tbody tr th {\n",
       "        vertical-align: top;\n",
       "    }\n",
       "\n",
       "    .dataframe thead th {\n",
       "        text-align: right;\n",
       "    }\n",
       "</style>\n",
       "<table border=\"1\" class=\"dataframe\">\n",
       "  <thead>\n",
       "    <tr style=\"text-align: right;\">\n",
       "      <th></th>\n",
       "      <th>GEOID20</th>\n",
       "      <th>SUMLEV</th>\n",
       "      <th>LOGRECNO</th>\n",
       "      <th>GEOID</th>\n",
       "      <th>COUNTY</th>\n",
       "      <th>P0010001</th>\n",
       "      <th>P0010002</th>\n",
       "      <th>P0010003</th>\n",
       "      <th>P0010004</th>\n",
       "      <th>P0010005</th>\n",
       "      <th>...</th>\n",
       "      <th>P0040071</th>\n",
       "      <th>P0040072</th>\n",
       "      <th>P0040073</th>\n",
       "      <th>H_WHITE</th>\n",
       "      <th>H_BLACK</th>\n",
       "      <th>H_AMIN</th>\n",
       "      <th>H_ASIAN</th>\n",
       "      <th>H_NHPI</th>\n",
       "      <th>H_OTHER</th>\n",
       "      <th>H_2MORE</th>\n",
       "    </tr>\n",
       "  </thead>\n",
       "  <tbody>\n",
       "  </tbody>\n",
       "</table>\n",
       "<p>0 rows × 230 columns</p>\n",
       "</div>"
      ],
      "text/plain": [
       "Empty GeoDataFrame\n",
       "Columns: [GEOID20, SUMLEV, LOGRECNO, GEOID, COUNTY, P0010001, P0010002, P0010003, P0010004, P0010005, P0010006, P0010007, P0010008, P0010009, P0010010, P0010011, P0010012, P0010013, P0010014, P0010015, P0010016, P0010017, P0010018, P0010019, P0010020, P0010021, P0010022, P0010023, P0010024, P0010025, P0010026, P0010027, P0010028, P0010029, P0010030, P0010031, P0010032, P0010033, P0010034, P0010035, P0010036, P0010037, P0010038, P0010039, P0010040, P0010041, P0010042, P0010043, P0010044, P0010045, P0010046, P0010047, P0010048, P0010049, P0010050, P0010051, P0010052, P0010053, P0010054, P0010055, P0010056, P0010057, P0010058, P0010059, P0010060, P0010061, P0010062, P0010063, P0010064, P0010065, P0010066, P0010067, P0010068, P0010069, P0010070, P0010071, geometry, TOTPOP, HISP, P0020003, P0020004, NH_WHITE, NH_BLACK, NH_AMIN, NH_ASIAN, NH_NHPI, NH_OTHER, NH_2MORE, P0020012, P0020013, P0020014, P0020015, P0020016, P0020017, P0020018, P0020019, P0020020, P0020021, P0020022, P0020023, ...]\n",
       "Index: []\n",
       "\n",
       "[0 rows x 230 columns]"
      ]
     },
     "execution_count": 36,
     "metadata": {},
     "output_type": "execute_result"
    }
   ],
   "source": [
    "population_df[~population_df.is_valid]"
   ]
  },
  {
   "cell_type": "code",
   "execution_count": 37,
   "metadata": {},
   "outputs": [
    {
     "name": "stderr",
     "output_type": "stream",
     "text": [
      "100%|████████████████████████████████████████| 481/481 [00:01<00:00, 454.70it/s]\n",
      " 38%|███████████████▋                         | 184/481 [00:02<00:03, 90.62it/s]\n"
     ]
    },
    {
     "ename": "GEOSException",
     "evalue": "TopologyException: side location conflict at -108.29616606126318 45.000172480885453. This can occur if the input geometry is invalid.",
     "output_type": "error",
     "traceback": [
      "\u001b[0;31m---------------------------------------------------------------------------\u001b[0m",
      "\u001b[0;31mGEOSException\u001b[0m                             Traceback (most recent call last)",
      "Cell \u001b[0;32mIn[37], line 2\u001b[0m\n\u001b[1;32m      1\u001b[0m vest_base \u001b[38;5;241m=\u001b[39m vest_base\u001b[38;5;241m.\u001b[39mto_crs(\u001b[38;5;124m'\u001b[39m\u001b[38;5;124mEPSG:4269\u001b[39m\u001b[38;5;124m'\u001b[39m)\n\u001b[0;32m----> 2\u001b[0m blocks_to_precincts_assignment \u001b[38;5;241m=\u001b[39m \u001b[43mmaup\u001b[49m\u001b[38;5;241;43m.\u001b[39;49m\u001b[43massign\u001b[49m\u001b[43m(\u001b[49m\u001b[43mpopulation_df\u001b[49m\u001b[38;5;241;43m.\u001b[39;49m\u001b[43mgeometry\u001b[49m\u001b[43m,\u001b[49m\u001b[43m \u001b[49m\u001b[43mvest_base\u001b[49m\u001b[38;5;241;43m.\u001b[39;49m\u001b[43mgeometry\u001b[49m\u001b[43m)\u001b[49m\n",
      "File \u001b[0;32m~/anaconda3/envs/gerry/lib/python3.11/site-packages/maup/crs.py:14\u001b[0m, in \u001b[0;36mrequire_same_crs.<locals>.wrapped\u001b[0;34m(*args, **kwargs)\u001b[0m\n\u001b[1;32m      8\u001b[0m \u001b[38;5;28;01mif\u001b[39;00m \u001b[38;5;129;01mnot\u001b[39;00m geoms1\u001b[38;5;241m.\u001b[39mcrs \u001b[38;5;241m==\u001b[39m geoms2\u001b[38;5;241m.\u001b[39mcrs:\n\u001b[1;32m      9\u001b[0m     \u001b[38;5;28;01mraise\u001b[39;00m \u001b[38;5;167;01mTypeError\u001b[39;00m(\n\u001b[1;32m     10\u001b[0m         \u001b[38;5;124m\"\u001b[39m\u001b[38;5;124mthe source and target geometries must have the same CRS. \u001b[39m\u001b[38;5;132;01m{}\u001b[39;00m\u001b[38;5;124m \u001b[39m\u001b[38;5;132;01m{}\u001b[39;00m\u001b[38;5;124m\"\u001b[39m\u001b[38;5;241m.\u001b[39mformat(\n\u001b[1;32m     11\u001b[0m             geoms1\u001b[38;5;241m.\u001b[39mcrs, geoms2\u001b[38;5;241m.\u001b[39mcrs\n\u001b[1;32m     12\u001b[0m         )\n\u001b[1;32m     13\u001b[0m     )\n\u001b[0;32m---> 14\u001b[0m \u001b[38;5;28;01mreturn\u001b[39;00m \u001b[43mf\u001b[49m\u001b[43m(\u001b[49m\u001b[38;5;241;43m*\u001b[39;49m\u001b[43margs\u001b[49m\u001b[43m,\u001b[49m\u001b[43m \u001b[49m\u001b[38;5;241;43m*\u001b[39;49m\u001b[38;5;241;43m*\u001b[39;49m\u001b[43mkwargs\u001b[49m\u001b[43m)\u001b[49m\n",
      "File \u001b[0;32m~/anaconda3/envs/gerry/lib/python3.11/site-packages/maup/assign.py:23\u001b[0m, in \u001b[0;36massign\u001b[0;34m(sources, targets)\u001b[0m\n\u001b[1;32m     19\u001b[0m unassigned \u001b[38;5;241m=\u001b[39m sources[assignment\u001b[38;5;241m.\u001b[39misna()]\n\u001b[1;32m     21\u001b[0m \u001b[38;5;28;01mif\u001b[39;00m \u001b[38;5;28mlen\u001b[39m(unassigned):  \u001b[38;5;66;03m# skip if done\u001b[39;00m\n\u001b[1;32m     22\u001b[0m     assignments_by_area \u001b[38;5;241m=\u001b[39m pandas\u001b[38;5;241m.\u001b[39mSeries(\n\u001b[0;32m---> 23\u001b[0m         \u001b[43massign_by_area\u001b[49m\u001b[43m(\u001b[49m\u001b[43munassigned\u001b[49m\u001b[43m,\u001b[49m\u001b[43m \u001b[49m\u001b[43mtargets\u001b[49m\u001b[43m)\u001b[49m,\n\u001b[1;32m     24\u001b[0m         dtype\u001b[38;5;241m=\u001b[39m\u001b[38;5;124m\"\u001b[39m\u001b[38;5;124mfloat\u001b[39m\u001b[38;5;124m\"\u001b[39m\n\u001b[1;32m     25\u001b[0m     )\n\u001b[1;32m     26\u001b[0m     assignment\u001b[38;5;241m.\u001b[39mupdate(assignments_by_area)\n\u001b[1;32m     28\u001b[0m \u001b[38;5;66;03m# TODO: add a warning here if there are still unassigned source geometries.\u001b[39;00m\n",
      "File \u001b[0;32m~/anaconda3/envs/gerry/lib/python3.11/site-packages/maup/assign.py:38\u001b[0m, in \u001b[0;36massign_by_area\u001b[0;34m(sources, targets)\u001b[0m\n\u001b[1;32m     37\u001b[0m \u001b[38;5;28;01mdef\u001b[39;00m \u001b[38;5;21massign_by_area\u001b[39m(sources, targets):\n\u001b[0;32m---> 38\u001b[0m     \u001b[38;5;28;01mreturn\u001b[39;00m assign_to_max(\u001b[43mintersections\u001b[49m\u001b[43m(\u001b[49m\u001b[43msources\u001b[49m\u001b[43m,\u001b[49m\u001b[43m \u001b[49m\u001b[43mtargets\u001b[49m\u001b[43m,\u001b[49m\u001b[43m \u001b[49m\u001b[43marea_cutoff\u001b[49m\u001b[38;5;241;43m=\u001b[39;49m\u001b[38;5;241;43m0\u001b[39;49m\u001b[43m)\u001b[49m\u001b[38;5;241m.\u001b[39marea)\n",
      "File \u001b[0;32m~/anaconda3/envs/gerry/lib/python3.11/site-packages/maup/crs.py:14\u001b[0m, in \u001b[0;36mrequire_same_crs.<locals>.wrapped\u001b[0;34m(*args, **kwargs)\u001b[0m\n\u001b[1;32m      8\u001b[0m \u001b[38;5;28;01mif\u001b[39;00m \u001b[38;5;129;01mnot\u001b[39;00m geoms1\u001b[38;5;241m.\u001b[39mcrs \u001b[38;5;241m==\u001b[39m geoms2\u001b[38;5;241m.\u001b[39mcrs:\n\u001b[1;32m      9\u001b[0m     \u001b[38;5;28;01mraise\u001b[39;00m \u001b[38;5;167;01mTypeError\u001b[39;00m(\n\u001b[1;32m     10\u001b[0m         \u001b[38;5;124m\"\u001b[39m\u001b[38;5;124mthe source and target geometries must have the same CRS. \u001b[39m\u001b[38;5;132;01m{}\u001b[39;00m\u001b[38;5;124m \u001b[39m\u001b[38;5;132;01m{}\u001b[39;00m\u001b[38;5;124m\"\u001b[39m\u001b[38;5;241m.\u001b[39mformat(\n\u001b[1;32m     11\u001b[0m             geoms1\u001b[38;5;241m.\u001b[39mcrs, geoms2\u001b[38;5;241m.\u001b[39mcrs\n\u001b[1;32m     12\u001b[0m         )\n\u001b[1;32m     13\u001b[0m     )\n\u001b[0;32m---> 14\u001b[0m \u001b[38;5;28;01mreturn\u001b[39;00m \u001b[43mf\u001b[49m\u001b[43m(\u001b[49m\u001b[38;5;241;43m*\u001b[39;49m\u001b[43margs\u001b[49m\u001b[43m,\u001b[49m\u001b[43m \u001b[49m\u001b[38;5;241;43m*\u001b[39;49m\u001b[38;5;241;43m*\u001b[39;49m\u001b[43mkwargs\u001b[49m\u001b[43m)\u001b[49m\n",
      "File \u001b[0;32m~/anaconda3/envs/gerry/lib/python3.11/site-packages/maup/intersections.py:32\u001b[0m, in \u001b[0;36mintersections\u001b[0;34m(sources, targets, output_type, area_cutoff)\u001b[0m\n\u001b[1;32m     29\u001b[0m reindexed_targets \u001b[38;5;241m=\u001b[39m get_geometries_with_range_index(targets)\n\u001b[1;32m     30\u001b[0m spatially_indexed_sources \u001b[38;5;241m=\u001b[39m IndexedGeometries(reindexed_sources)\n\u001b[0;32m---> 32\u001b[0m records \u001b[38;5;241m=\u001b[39m \u001b[43m[\u001b[49m\n\u001b[1;32m     33\u001b[0m \u001b[43m    \u001b[49m\u001b[38;5;66;43;03m# Flip i, j to j, i so that the index is [\"source\", \"target\"]\u001b[39;49;00m\n\u001b[1;32m     34\u001b[0m \u001b[43m    \u001b[49m\u001b[43m(\u001b[49m\u001b[43msources\u001b[49m\u001b[38;5;241;43m.\u001b[39;49m\u001b[43mindex\u001b[49m\u001b[43m[\u001b[49m\u001b[43mj\u001b[49m\u001b[43m]\u001b[49m\u001b[43m,\u001b[49m\u001b[43m \u001b[49m\u001b[43mtargets\u001b[49m\u001b[38;5;241;43m.\u001b[39;49m\u001b[43mindex\u001b[49m\u001b[43m[\u001b[49m\u001b[43mi\u001b[49m\u001b[43m]\u001b[49m\u001b[43m,\u001b[49m\u001b[43m \u001b[49m\u001b[43mgeometry\u001b[49m\u001b[43m)\u001b[49m\n\u001b[1;32m     35\u001b[0m \u001b[43m    \u001b[49m\u001b[38;5;28;43;01mfor\u001b[39;49;00m\u001b[43m \u001b[49m\u001b[43mi\u001b[49m\u001b[43m,\u001b[49m\u001b[43m \u001b[49m\u001b[43mj\u001b[49m\u001b[43m,\u001b[49m\u001b[43m \u001b[49m\u001b[43mgeometry\u001b[49m\u001b[43m \u001b[49m\u001b[38;5;129;43;01min\u001b[39;49;00m\u001b[43m \u001b[49m\u001b[43mspatially_indexed_sources\u001b[49m\u001b[38;5;241;43m.\u001b[39;49m\u001b[43menumerate_intersections\u001b[49m\u001b[43m(\u001b[49m\n\u001b[1;32m     36\u001b[0m \u001b[43m        \u001b[49m\u001b[43mreindexed_targets\u001b[49m\n\u001b[1;32m     37\u001b[0m \u001b[43m    \u001b[49m\u001b[43m)\u001b[49m\n\u001b[1;32m     38\u001b[0m \u001b[43m\u001b[49m\u001b[43m]\u001b[49m\n\u001b[1;32m     40\u001b[0m df \u001b[38;5;241m=\u001b[39m GeoDataFrame(records, columns\u001b[38;5;241m=\u001b[39m[\u001b[38;5;124m\"\u001b[39m\u001b[38;5;124msource\u001b[39m\u001b[38;5;124m\"\u001b[39m, \u001b[38;5;124m\"\u001b[39m\u001b[38;5;124mtarget\u001b[39m\u001b[38;5;124m\"\u001b[39m, \u001b[38;5;124m\"\u001b[39m\u001b[38;5;124mgeometry\u001b[39m\u001b[38;5;124m\"\u001b[39m], crs\u001b[38;5;241m=\u001b[39msources\u001b[38;5;241m.\u001b[39mcrs)\n\u001b[1;32m     41\u001b[0m df \u001b[38;5;241m=\u001b[39m df\u001b[38;5;241m.\u001b[39msort_values(by\u001b[38;5;241m=\u001b[39m[\u001b[38;5;124m\"\u001b[39m\u001b[38;5;124msource\u001b[39m\u001b[38;5;124m\"\u001b[39m, \u001b[38;5;124m\"\u001b[39m\u001b[38;5;124mtarget\u001b[39m\u001b[38;5;124m\"\u001b[39m])\u001b[38;5;241m.\u001b[39mreset_index(drop\u001b[38;5;241m=\u001b[39m\u001b[38;5;28;01mTrue\u001b[39;00m)\n",
      "File \u001b[0;32m~/anaconda3/envs/gerry/lib/python3.11/site-packages/maup/intersections.py:32\u001b[0m, in \u001b[0;36m<listcomp>\u001b[0;34m(.0)\u001b[0m\n\u001b[1;32m     29\u001b[0m reindexed_targets \u001b[38;5;241m=\u001b[39m get_geometries_with_range_index(targets)\n\u001b[1;32m     30\u001b[0m spatially_indexed_sources \u001b[38;5;241m=\u001b[39m IndexedGeometries(reindexed_sources)\n\u001b[0;32m---> 32\u001b[0m records \u001b[38;5;241m=\u001b[39m \u001b[43m[\u001b[49m\n\u001b[1;32m     33\u001b[0m \u001b[43m    \u001b[49m\u001b[38;5;66;43;03m# Flip i, j to j, i so that the index is [\"source\", \"target\"]\u001b[39;49;00m\n\u001b[1;32m     34\u001b[0m \u001b[43m    \u001b[49m\u001b[43m(\u001b[49m\u001b[43msources\u001b[49m\u001b[38;5;241;43m.\u001b[39;49m\u001b[43mindex\u001b[49m\u001b[43m[\u001b[49m\u001b[43mj\u001b[49m\u001b[43m]\u001b[49m\u001b[43m,\u001b[49m\u001b[43m \u001b[49m\u001b[43mtargets\u001b[49m\u001b[38;5;241;43m.\u001b[39;49m\u001b[43mindex\u001b[49m\u001b[43m[\u001b[49m\u001b[43mi\u001b[49m\u001b[43m]\u001b[49m\u001b[43m,\u001b[49m\u001b[43m \u001b[49m\u001b[43mgeometry\u001b[49m\u001b[43m)\u001b[49m\n\u001b[1;32m     35\u001b[0m \u001b[43m    \u001b[49m\u001b[38;5;28;43;01mfor\u001b[39;49;00m\u001b[43m \u001b[49m\u001b[43mi\u001b[49m\u001b[43m,\u001b[49m\u001b[43m \u001b[49m\u001b[43mj\u001b[49m\u001b[43m,\u001b[49m\u001b[43m \u001b[49m\u001b[43mgeometry\u001b[49m\u001b[43m \u001b[49m\u001b[38;5;129;43;01min\u001b[39;49;00m\u001b[43m \u001b[49m\u001b[43mspatially_indexed_sources\u001b[49m\u001b[38;5;241;43m.\u001b[39;49m\u001b[43menumerate_intersections\u001b[49m\u001b[43m(\u001b[49m\n\u001b[1;32m     36\u001b[0m \u001b[43m        \u001b[49m\u001b[43mreindexed_targets\u001b[49m\n\u001b[1;32m     37\u001b[0m \u001b[43m    \u001b[49m\u001b[43m)\u001b[49m\n\u001b[1;32m     38\u001b[0m \u001b[43m\u001b[49m\u001b[43m]\u001b[49m\n\u001b[1;32m     40\u001b[0m df \u001b[38;5;241m=\u001b[39m GeoDataFrame(records, columns\u001b[38;5;241m=\u001b[39m[\u001b[38;5;124m\"\u001b[39m\u001b[38;5;124msource\u001b[39m\u001b[38;5;124m\"\u001b[39m, \u001b[38;5;124m\"\u001b[39m\u001b[38;5;124mtarget\u001b[39m\u001b[38;5;124m\"\u001b[39m, \u001b[38;5;124m\"\u001b[39m\u001b[38;5;124mgeometry\u001b[39m\u001b[38;5;124m\"\u001b[39m], crs\u001b[38;5;241m=\u001b[39msources\u001b[38;5;241m.\u001b[39mcrs)\n\u001b[1;32m     41\u001b[0m df \u001b[38;5;241m=\u001b[39m df\u001b[38;5;241m.\u001b[39msort_values(by\u001b[38;5;241m=\u001b[39m[\u001b[38;5;124m\"\u001b[39m\u001b[38;5;124msource\u001b[39m\u001b[38;5;124m\"\u001b[39m, \u001b[38;5;124m\"\u001b[39m\u001b[38;5;124mtarget\u001b[39m\u001b[38;5;124m\"\u001b[39m])\u001b[38;5;241m.\u001b[39mreset_index(drop\u001b[38;5;241m=\u001b[39m\u001b[38;5;28;01mTrue\u001b[39;00m)\n",
      "File \u001b[0;32m~/anaconda3/envs/gerry/lib/python3.11/site-packages/maup/indexed_geometries.py:76\u001b[0m, in \u001b[0;36mIndexedGeometries.enumerate_intersections\u001b[0;34m(self, targets)\u001b[0m\n\u001b[1;32m     74\u001b[0m target_geometries \u001b[38;5;241m=\u001b[39m get_geometries(targets)\n\u001b[1;32m     75\u001b[0m \u001b[38;5;28;01mfor\u001b[39;00m i, target \u001b[38;5;129;01min\u001b[39;00m progress(target_geometries\u001b[38;5;241m.\u001b[39mitems(), \u001b[38;5;28mlen\u001b[39m(target_geometries)):\n\u001b[0;32m---> 76\u001b[0m     \u001b[38;5;28;01mfor\u001b[39;00m j, intersection \u001b[38;5;129;01min\u001b[39;00m \u001b[38;5;28;43mself\u001b[39;49m\u001b[38;5;241;43m.\u001b[39;49m\u001b[43mintersections\u001b[49m\u001b[43m(\u001b[49m\u001b[43mtarget\u001b[49m\u001b[43m)\u001b[49m\u001b[38;5;241m.\u001b[39mitems():\n\u001b[1;32m     77\u001b[0m         \u001b[38;5;28;01myield\u001b[39;00m i, j, intersection\n",
      "File \u001b[0;32m~/anaconda3/envs/gerry/lib/python3.11/site-packages/maup/indexed_geometries.py:33\u001b[0m, in \u001b[0;36mIndexedGeometries.intersections\u001b[0;34m(self, geometry)\u001b[0m\n\u001b[1;32m     31\u001b[0m \u001b[38;5;28;01mdef\u001b[39;00m \u001b[38;5;21mintersections\u001b[39m(\u001b[38;5;28mself\u001b[39m, geometry):\n\u001b[1;32m     32\u001b[0m     relevant_geometries \u001b[38;5;241m=\u001b[39m \u001b[38;5;28mself\u001b[39m\u001b[38;5;241m.\u001b[39mquery(geometry)\n\u001b[0;32m---> 33\u001b[0m     intersections \u001b[38;5;241m=\u001b[39m \u001b[43mrelevant_geometries\u001b[49m\u001b[38;5;241;43m.\u001b[39;49m\u001b[43mintersection\u001b[49m\u001b[43m(\u001b[49m\u001b[43mgeometry\u001b[49m\u001b[43m)\u001b[49m\n\u001b[1;32m     34\u001b[0m     \u001b[38;5;28;01mreturn\u001b[39;00m intersections[\u001b[38;5;241m-\u001b[39m(intersections\u001b[38;5;241m.\u001b[39mis_empty \u001b[38;5;241m|\u001b[39m intersections\u001b[38;5;241m.\u001b[39misna())]\n",
      "File \u001b[0;32m~/anaconda3/envs/gerry/lib/python3.11/site-packages/geopandas/base.py:3266\u001b[0m, in \u001b[0;36mGeoPandasBase.intersection\u001b[0;34m(self, other, align)\u001b[0m\n\u001b[1;32m   3155\u001b[0m \u001b[38;5;28;01mdef\u001b[39;00m \u001b[38;5;21mintersection\u001b[39m(\u001b[38;5;28mself\u001b[39m, other, align\u001b[38;5;241m=\u001b[39m\u001b[38;5;28;01mTrue\u001b[39;00m):\n\u001b[1;32m   3156\u001b[0m \u001b[38;5;250m    \u001b[39m\u001b[38;5;124;03m\"\"\"Returns a ``GeoSeries`` of the intersection of points in each\u001b[39;00m\n\u001b[1;32m   3157\u001b[0m \u001b[38;5;124;03m    aligned geometry with `other`.\u001b[39;00m\n\u001b[1;32m   3158\u001b[0m \n\u001b[0;32m   (...)\u001b[0m\n\u001b[1;32m   3264\u001b[0m \u001b[38;5;124;03m    GeoSeries.union\u001b[39;00m\n\u001b[1;32m   3265\u001b[0m \u001b[38;5;124;03m    \"\"\"\u001b[39;00m\n\u001b[0;32m-> 3266\u001b[0m     \u001b[38;5;28;01mreturn\u001b[39;00m \u001b[43m_binary_geo\u001b[49m\u001b[43m(\u001b[49m\u001b[38;5;124;43m\"\u001b[39;49m\u001b[38;5;124;43mintersection\u001b[39;49m\u001b[38;5;124;43m\"\u001b[39;49m\u001b[43m,\u001b[49m\u001b[43m \u001b[49m\u001b[38;5;28;43mself\u001b[39;49m\u001b[43m,\u001b[49m\u001b[43m \u001b[49m\u001b[43mother\u001b[49m\u001b[43m,\u001b[49m\u001b[43m \u001b[49m\u001b[43malign\u001b[49m\u001b[43m)\u001b[49m\n",
      "File \u001b[0;32m~/anaconda3/envs/gerry/lib/python3.11/site-packages/geopandas/base.py:56\u001b[0m, in \u001b[0;36m_binary_geo\u001b[0;34m(op, this, other, align)\u001b[0m\n\u001b[1;32m     53\u001b[0m \u001b[38;5;250m\u001b[39m\u001b[38;5;124;03m\"\"\"Binary operation on GeoSeries objects that returns a GeoSeries\"\"\"\u001b[39;00m\n\u001b[1;32m     54\u001b[0m \u001b[38;5;28;01mfrom\u001b[39;00m \u001b[38;5;21;01m.\u001b[39;00m\u001b[38;5;21;01mgeoseries\u001b[39;00m \u001b[38;5;28;01mimport\u001b[39;00m GeoSeries\n\u001b[0;32m---> 56\u001b[0m geoms, index \u001b[38;5;241m=\u001b[39m \u001b[43m_delegate_binary_method\u001b[49m\u001b[43m(\u001b[49m\u001b[43mop\u001b[49m\u001b[43m,\u001b[49m\u001b[43m \u001b[49m\u001b[43mthis\u001b[49m\u001b[43m,\u001b[49m\u001b[43m \u001b[49m\u001b[43mother\u001b[49m\u001b[43m,\u001b[49m\u001b[43m \u001b[49m\u001b[43malign\u001b[49m\u001b[43m)\u001b[49m\n\u001b[1;32m     57\u001b[0m \u001b[38;5;28;01mreturn\u001b[39;00m GeoSeries(geoms, index\u001b[38;5;241m=\u001b[39mindex, crs\u001b[38;5;241m=\u001b[39mthis\u001b[38;5;241m.\u001b[39mcrs)\n",
      "File \u001b[0;32m~/anaconda3/envs/gerry/lib/python3.11/site-packages/geopandas/base.py:47\u001b[0m, in \u001b[0;36m_delegate_binary_method\u001b[0;34m(op, this, other, align, *args, **kwargs)\u001b[0m\n\u001b[1;32m     44\u001b[0m \u001b[38;5;28;01melse\u001b[39;00m:\n\u001b[1;32m     45\u001b[0m     \u001b[38;5;28;01mraise\u001b[39;00m \u001b[38;5;167;01mTypeError\u001b[39;00m(\u001b[38;5;28mtype\u001b[39m(this), \u001b[38;5;28mtype\u001b[39m(other))\n\u001b[0;32m---> 47\u001b[0m data \u001b[38;5;241m=\u001b[39m \u001b[38;5;28;43mgetattr\u001b[39;49m\u001b[43m(\u001b[49m\u001b[43ma_this\u001b[49m\u001b[43m,\u001b[49m\u001b[43m \u001b[49m\u001b[43mop\u001b[49m\u001b[43m)\u001b[49m\u001b[43m(\u001b[49m\u001b[43mother\u001b[49m\u001b[43m,\u001b[49m\u001b[43m \u001b[49m\u001b[38;5;241;43m*\u001b[39;49m\u001b[43margs\u001b[49m\u001b[43m,\u001b[49m\u001b[43m \u001b[49m\u001b[38;5;241;43m*\u001b[39;49m\u001b[38;5;241;43m*\u001b[39;49m\u001b[43mkwargs\u001b[49m\u001b[43m)\u001b[49m\n\u001b[1;32m     48\u001b[0m \u001b[38;5;28;01mreturn\u001b[39;00m data, this\u001b[38;5;241m.\u001b[39mindex\n",
      "File \u001b[0;32m~/anaconda3/envs/gerry/lib/python3.11/site-packages/geopandas/array.py:671\u001b[0m, in \u001b[0;36mGeometryArray.intersection\u001b[0;34m(self, other)\u001b[0m\n\u001b[1;32m    669\u001b[0m \u001b[38;5;28;01mdef\u001b[39;00m \u001b[38;5;21mintersection\u001b[39m(\u001b[38;5;28mself\u001b[39m, other):\n\u001b[1;32m    670\u001b[0m     \u001b[38;5;28;01mreturn\u001b[39;00m GeometryArray(\n\u001b[0;32m--> 671\u001b[0m         \u001b[38;5;28;43mself\u001b[39;49m\u001b[38;5;241;43m.\u001b[39;49m\u001b[43m_binary_method\u001b[49m\u001b[43m(\u001b[49m\u001b[38;5;124;43m\"\u001b[39;49m\u001b[38;5;124;43mintersection\u001b[39;49m\u001b[38;5;124;43m\"\u001b[39;49m\u001b[43m,\u001b[49m\u001b[43m \u001b[49m\u001b[38;5;28;43mself\u001b[39;49m\u001b[43m,\u001b[49m\u001b[43m \u001b[49m\u001b[43mother\u001b[49m\u001b[43m)\u001b[49m, crs\u001b[38;5;241m=\u001b[39m\u001b[38;5;28mself\u001b[39m\u001b[38;5;241m.\u001b[39mcrs\n\u001b[1;32m    672\u001b[0m     )\n",
      "File \u001b[0;32m~/anaconda3/envs/gerry/lib/python3.11/site-packages/geopandas/array.py:611\u001b[0m, in \u001b[0;36mGeometryArray._binary_method\u001b[0;34m(op, left, right, **kwargs)\u001b[0m\n\u001b[1;32m    608\u001b[0m         _crs_mismatch_warn(left, right, stacklevel\u001b[38;5;241m=\u001b[39m\u001b[38;5;241m7\u001b[39m)\n\u001b[1;32m    609\u001b[0m     right \u001b[38;5;241m=\u001b[39m right\u001b[38;5;241m.\u001b[39m_data\n\u001b[0;32m--> 611\u001b[0m \u001b[38;5;28;01mreturn\u001b[39;00m \u001b[38;5;28;43mgetattr\u001b[39;49m\u001b[43m(\u001b[49m\u001b[43mvectorized\u001b[49m\u001b[43m,\u001b[49m\u001b[43m \u001b[49m\u001b[43mop\u001b[49m\u001b[43m)\u001b[49m\u001b[43m(\u001b[49m\u001b[43mleft\u001b[49m\u001b[38;5;241;43m.\u001b[39;49m\u001b[43m_data\u001b[49m\u001b[43m,\u001b[49m\u001b[43m \u001b[49m\u001b[43mright\u001b[49m\u001b[43m,\u001b[49m\u001b[43m \u001b[49m\u001b[38;5;241;43m*\u001b[39;49m\u001b[38;5;241;43m*\u001b[39;49m\u001b[43mkwargs\u001b[49m\u001b[43m)\u001b[49m\n",
      "File \u001b[0;32m~/anaconda3/envs/gerry/lib/python3.11/site-packages/geopandas/_vectorized.py:938\u001b[0m, in \u001b[0;36mintersection\u001b[0;34m(data, other)\u001b[0m\n\u001b[1;32m    936\u001b[0m \u001b[38;5;28;01mdef\u001b[39;00m \u001b[38;5;21mintersection\u001b[39m(data, other):\n\u001b[1;32m    937\u001b[0m     \u001b[38;5;28;01mif\u001b[39;00m compat\u001b[38;5;241m.\u001b[39mUSE_SHAPELY_20:\n\u001b[0;32m--> 938\u001b[0m         \u001b[38;5;28;01mreturn\u001b[39;00m \u001b[43mshapely\u001b[49m\u001b[38;5;241;43m.\u001b[39;49m\u001b[43mintersection\u001b[49m\u001b[43m(\u001b[49m\u001b[43mdata\u001b[49m\u001b[43m,\u001b[49m\u001b[43m \u001b[49m\u001b[43mother\u001b[49m\u001b[43m)\u001b[49m\n\u001b[1;32m    939\u001b[0m     \u001b[38;5;28;01melif\u001b[39;00m compat\u001b[38;5;241m.\u001b[39mUSE_PYGEOS:\n\u001b[1;32m    940\u001b[0m         \u001b[38;5;28;01mreturn\u001b[39;00m _binary_method(\u001b[38;5;124m\"\u001b[39m\u001b[38;5;124mintersection\u001b[39m\u001b[38;5;124m\"\u001b[39m, data, other)\n",
      "File \u001b[0;32m~/anaconda3/envs/gerry/lib/python3.11/site-packages/shapely/decorators.py:77\u001b[0m, in \u001b[0;36mmultithreading_enabled.<locals>.wrapped\u001b[0;34m(*args, **kwargs)\u001b[0m\n\u001b[1;32m     75\u001b[0m     \u001b[38;5;28;01mfor\u001b[39;00m arr \u001b[38;5;129;01min\u001b[39;00m array_args:\n\u001b[1;32m     76\u001b[0m         arr\u001b[38;5;241m.\u001b[39mflags\u001b[38;5;241m.\u001b[39mwriteable \u001b[38;5;241m=\u001b[39m \u001b[38;5;28;01mFalse\u001b[39;00m\n\u001b[0;32m---> 77\u001b[0m     \u001b[38;5;28;01mreturn\u001b[39;00m \u001b[43mfunc\u001b[49m\u001b[43m(\u001b[49m\u001b[38;5;241;43m*\u001b[39;49m\u001b[43margs\u001b[49m\u001b[43m,\u001b[49m\u001b[43m \u001b[49m\u001b[38;5;241;43m*\u001b[39;49m\u001b[38;5;241;43m*\u001b[39;49m\u001b[43mkwargs\u001b[49m\u001b[43m)\u001b[49m\n\u001b[1;32m     78\u001b[0m \u001b[38;5;28;01mfinally\u001b[39;00m:\n\u001b[1;32m     79\u001b[0m     \u001b[38;5;28;01mfor\u001b[39;00m arr, old_flag \u001b[38;5;129;01min\u001b[39;00m \u001b[38;5;28mzip\u001b[39m(array_args, old_flags):\n",
      "File \u001b[0;32m~/anaconda3/envs/gerry/lib/python3.11/site-packages/shapely/set_operations.py:131\u001b[0m, in \u001b[0;36mintersection\u001b[0;34m(a, b, grid_size, **kwargs)\u001b[0m\n\u001b[1;32m    127\u001b[0m         \u001b[38;5;28;01mraise\u001b[39;00m \u001b[38;5;167;01mValueError\u001b[39;00m(\u001b[38;5;124m\"\u001b[39m\u001b[38;5;124mgrid_size parameter only accepts scalar values\u001b[39m\u001b[38;5;124m\"\u001b[39m)\n\u001b[1;32m    129\u001b[0m     \u001b[38;5;28;01mreturn\u001b[39;00m lib\u001b[38;5;241m.\u001b[39mintersection_prec(a, b, grid_size, \u001b[38;5;241m*\u001b[39m\u001b[38;5;241m*\u001b[39mkwargs)\n\u001b[0;32m--> 131\u001b[0m \u001b[38;5;28;01mreturn\u001b[39;00m \u001b[43mlib\u001b[49m\u001b[38;5;241;43m.\u001b[39;49m\u001b[43mintersection\u001b[49m\u001b[43m(\u001b[49m\u001b[43ma\u001b[49m\u001b[43m,\u001b[49m\u001b[43m \u001b[49m\u001b[43mb\u001b[49m\u001b[43m,\u001b[49m\u001b[43m \u001b[49m\u001b[38;5;241;43m*\u001b[39;49m\u001b[38;5;241;43m*\u001b[39;49m\u001b[43mkwargs\u001b[49m\u001b[43m)\u001b[49m\n",
      "\u001b[0;31mGEOSException\u001b[0m: TopologyException: side location conflict at -108.29616606126318 45.000172480885453. This can occur if the input geometry is invalid."
     ]
    }
   ],
   "source": [
    "vest_base = vest_base.to_crs('EPSG:4269')\n",
    "blocks_to_precincts_assignment = maup.assign(population_df.geometry, vest_base.geometry)"
   ]
  },
  {
   "cell_type": "code",
   "execution_count": null,
   "metadata": {},
   "outputs": [],
   "source": []
  },
  {
   "cell_type": "markdown",
   "metadata": {},
   "source": [
    "Try again, adding min rook length when we fit to counties:"
   ]
  },
  {
   "cell_type": "code",
   "execution_count": 40,
   "metadata": {},
   "outputs": [
    {
     "name": "stderr",
     "output_type": "stream",
     "text": [
      "100%|█████████████████████████████████████████| 23/23 [00:00<00:00, 1293.31it/s]\n"
     ]
    },
    {
     "name": "stdout",
     "output_type": "stream",
     "text": [
      "Snapping all geometries to a grid with precision 10^( -5 ) to avoid GEOS errors.\n"
     ]
    },
    {
     "name": "stderr",
     "output_type": "stream",
     "text": [
      "100%|█████████████████████████████████████████| 23/23 [00:00<00:00, 1037.36it/s]\n",
      "100%|██████████████████████████████████████████| 23/23 [00:00<00:00, 143.81it/s]\n"
     ]
    },
    {
     "name": "stdout",
     "output_type": "stream",
     "text": [
      "Identifying overlaps...\n"
     ]
    },
    {
     "name": "stderr",
     "output_type": "stream",
     "text": [
      "100%|█████████████████████████████████████| 6814/6814 [00:03<00:00, 2009.06it/s]\n"
     ]
    },
    {
     "name": "stdout",
     "output_type": "stream",
     "text": [
      "Resolving overlaps and filling gaps...\n"
     ]
    },
    {
     "name": "stderr",
     "output_type": "stream",
     "text": [
      "100%|█████████████████████████████████████████| 23/23 [00:00<00:00, 1452.58it/s]\n",
      "100%|██████████████████████████████████████████| 23/23 [00:00<00:00, 143.34it/s]\n",
      "Gaps to simplify in region 0: 100%|█████████████| 41/41 [00:00<00:00, 52.83it/s]\n",
      "Gaps to fill: 0it [00:00, ?it/s]\n",
      "Gaps to simplify in region 1: 100%|███████████| 558/558 [00:07<00:00, 73.87it/s]\n",
      "Gaps to fill in region 1: 100%|███████████████████| 2/2 [00:00<00:00, 36.17it/s]\n",
      "Gaps to simplify in region 2: 100%|█████████| 1063/1063 [00:28<00:00, 37.24it/s]\n",
      "Gaps to fill in region 2: 100%|███████████████████| 7/7 [00:00<00:00, 14.49it/s]\n",
      "Gaps to simplify in region 3: 100%|███████████| 403/403 [00:04<00:00, 93.66it/s]\n",
      "Gaps to fill in region 3: 100%|███████████████████| 5/5 [00:00<00:00, 52.82it/s]\n",
      "Gaps to simplify in region 4: 100%|█████████████| 73/73 [00:00<00:00, 76.51it/s]\n",
      "Gaps to fill in region 4: 100%|███████████████████| 4/4 [00:00<00:00, 66.82it/s]\n",
      "Gaps to simplify in region 5: 100%|███████████| 367/367 [00:09<00:00, 40.08it/s]\n",
      "Gaps to fill in region 5: 100%|███████████████████| 2/2 [00:00<00:00, 11.83it/s]\n",
      "Gaps to simplify in region 6: 100%|█████████████| 54/54 [00:00<00:00, 65.78it/s]\n",
      "Gaps to fill in region 6: 100%|███████████████████| 1/1 [00:00<00:00, 44.84it/s]\n",
      "Gaps to simplify in region 7: 100%|█████████████| 80/80 [00:01<00:00, 58.32it/s]\n",
      "Gaps to fill in region 7: 100%|███████████████████| 1/1 [00:00<00:00, 19.98it/s]\n",
      "Gaps to simplify in region 8: 100%|█████████████| 94/94 [00:04<00:00, 21.46it/s]\n",
      "Gaps to fill in region 8: 100%|███████████████████| 3/3 [00:00<00:00,  4.84it/s]\n",
      "Gaps to simplify in region 9: 100%|█████████████| 76/76 [00:01<00:00, 75.79it/s]\n",
      "Gaps to fill in region 9: 100%|███████████████████| 5/5 [00:00<00:00, 14.08it/s]\n",
      "Gaps to simplify in region 10: 100%|██████████| 258/258 [00:10<00:00, 25.26it/s]\n",
      "Gaps to fill in region 10: 100%|██████████████████| 4/4 [00:00<00:00, 12.20it/s]\n",
      "Gaps to simplify in region 11: 100%|████████████| 66/66 [00:00<00:00, 72.76it/s]\n",
      "Gaps to fill in region 11: 100%|██████████████████| 4/4 [00:00<00:00, 26.21it/s]\n",
      "Gaps to simplify in region 12: 100%|████████████| 75/75 [00:03<00:00, 21.35it/s]\n",
      "Gaps to fill in region 12: 100%|██████████████████| 1/1 [00:00<00:00, 14.92it/s]\n",
      "Gaps to simplify in region 13: 100%|███████████| 85/85 [00:00<00:00, 110.18it/s]\n",
      "Gaps to fill: 0it [00:00, ?it/s]\n",
      "Gaps to simplify in region 14: 100%|█████████| 173/173 [00:01<00:00, 115.89it/s]\n",
      "Gaps to fill in region 14: 100%|██████████████████| 3/3 [00:00<00:00, 46.90it/s]\n",
      "Gaps to simplify in region 15: 100%|██████████| 157/157 [00:01<00:00, 84.87it/s]\n",
      "Gaps to fill: 0it [00:00, ?it/s]\n",
      "Gaps to simplify in region 16: 100%|████████████| 58/58 [00:01<00:00, 44.14it/s]\n",
      "Gaps to fill in region 16: 100%|██████████████████| 4/4 [00:00<00:00, 17.76it/s]\n",
      "Gaps to simplify in region 17: 100%|████████████| 56/56 [00:00<00:00, 70.17it/s]\n",
      "Gaps to fill in region 17: 100%|██████████████████| 6/6 [00:00<00:00, 35.48it/s]\n",
      "Gaps to simplify in region 18: 100%|████████████| 87/87 [00:02<00:00, 34.74it/s]\n",
      "Gaps to fill in region 18: 100%|██████████████████| 2/2 [00:00<00:00, 12.19it/s]\n",
      "Gaps to simplify in region 19: 100%|████████████| 76/76 [00:00<00:00, 78.91it/s]\n",
      "Gaps to fill in region 19: 100%|██████████████████| 2/2 [00:00<00:00, 39.00it/s]\n",
      "Gaps to simplify in region 20: 100%|████████████| 61/61 [00:01<00:00, 52.70it/s]\n",
      "Gaps to fill in region 20: 100%|██████████████████| 5/5 [00:00<00:00, 57.13it/s]\n",
      "Gaps to simplify in region 21: 100%|██████████| 240/240 [00:02<00:00, 93.92it/s]\n",
      "Gaps to fill in region 21: 100%|██████████████████| 4/4 [00:00<00:00, 37.97it/s]\n",
      "Gaps to simplify in region 22: 100%|████████████| 20/20 [00:00<00:00, 43.54it/s]\n",
      "Gaps to fill: 0it [00:00, ?it/s]\n"
     ]
    },
    {
     "name": "stdout",
     "output_type": "stream",
     "text": [
      "Converting small rook adjacencies to queen...\n"
     ]
    },
    {
     "name": "stderr",
     "output_type": "stream",
     "text": [
      "100%|████████████████████████████████████████| 481/481 [00:00<00:00, 643.97it/s]\n",
      "100%|███████████████████████████████████████████| 5/5 [00:00<00:00, 2873.60it/s]\n",
      "100%|███████████████████████████████████████████| 5/5 [00:00<00:00, 2826.73it/s]\n",
      "100%|███████████████████████████████████████████| 5/5 [00:00<00:00, 2808.94it/s]\n",
      "100%|███████████████████████████████████████████| 4/4 [00:00<00:00, 2437.84it/s]\n",
      "100%|███████████████████████████████████████████| 6/6 [00:00<00:00, 2884.67it/s]\n",
      "100%|███████████████████████████████████████████| 6/6 [00:00<00:00, 2658.55it/s]\n",
      "100%|███████████████████████████████████████████| 4/4 [00:00<00:00, 2766.24it/s]\n",
      "100%|███████████████████████████████████████████| 5/5 [00:00<00:00, 2556.26it/s]\n",
      "100%|███████████████████████████████████████████| 6/6 [00:00<00:00, 2905.65it/s]\n"
     ]
    }
   ],
   "source": [
    "vest_base = add_vest_base(vest_base_data, start_col, year, county = county_df, min_rook_length = 30.5)"
   ]
  },
  {
   "cell_type": "code",
   "execution_count": 41,
   "metadata": {},
   "outputs": [
    {
     "name": "stderr",
     "output_type": "stream",
     "text": [
      "100%|████████████████████████████████████████| 481/481 [00:00<00:00, 669.60it/s]\n"
     ]
    },
    {
     "data": {
      "text/plain": [
       "True"
      ]
     },
     "execution_count": 41,
     "metadata": {},
     "output_type": "execute_result"
    }
   ],
   "source": [
    "maup.doctor(vest_base)"
   ]
  },
  {
   "cell_type": "code",
   "execution_count": 42,
   "metadata": {},
   "outputs": [
    {
     "data": {
      "text/html": [
       "<div>\n",
       "<style scoped>\n",
       "    .dataframe tbody tr th:only-of-type {\n",
       "        vertical-align: middle;\n",
       "    }\n",
       "\n",
       "    .dataframe tbody tr th {\n",
       "        vertical-align: top;\n",
       "    }\n",
       "\n",
       "    .dataframe thead th {\n",
       "        text-align: right;\n",
       "    }\n",
       "</style>\n",
       "<table border=\"1\" class=\"dataframe\">\n",
       "  <thead>\n",
       "    <tr style=\"text-align: right;\">\n",
       "      <th></th>\n",
       "      <th>COUNTYFP20</th>\n",
       "      <th>HAL20D</th>\n",
       "      <th>HAL20O</th>\n",
       "      <th>HAL20R</th>\n",
       "      <th>NAME20</th>\n",
       "      <th>PRE20D</th>\n",
       "      <th>PRE20O</th>\n",
       "      <th>PRE20R</th>\n",
       "      <th>STATEFP20</th>\n",
       "      <th>USS20D</th>\n",
       "      <th>USS20O</th>\n",
       "      <th>USS20R</th>\n",
       "      <th>VTDST20</th>\n",
       "      <th>geometry</th>\n",
       "    </tr>\n",
       "  </thead>\n",
       "  <tbody>\n",
       "  </tbody>\n",
       "</table>\n",
       "</div>"
      ],
      "text/plain": [
       "Empty GeoDataFrame\n",
       "Columns: [COUNTYFP20, HAL20D, HAL20O, HAL20R, NAME20, PRE20D, PRE20O, PRE20R, STATEFP20, USS20D, USS20O, USS20R, VTDST20, geometry]\n",
       "Index: []"
      ]
     },
     "execution_count": 42,
     "metadata": {},
     "output_type": "execute_result"
    }
   ],
   "source": [
    "vest_base[~vest_base.geom_type.isin(['Polygon', 'MultiPolygon'])]"
   ]
  },
  {
   "cell_type": "code",
   "execution_count": 43,
   "metadata": {},
   "outputs": [
    {
     "data": {
      "text/html": [
       "<div>\n",
       "<style scoped>\n",
       "    .dataframe tbody tr th:only-of-type {\n",
       "        vertical-align: middle;\n",
       "    }\n",
       "\n",
       "    .dataframe tbody tr th {\n",
       "        vertical-align: top;\n",
       "    }\n",
       "\n",
       "    .dataframe thead th {\n",
       "        text-align: right;\n",
       "    }\n",
       "</style>\n",
       "<table border=\"1\" class=\"dataframe\">\n",
       "  <thead>\n",
       "    <tr style=\"text-align: right;\">\n",
       "      <th></th>\n",
       "      <th>COUNTYFP20</th>\n",
       "      <th>HAL20D</th>\n",
       "      <th>HAL20O</th>\n",
       "      <th>HAL20R</th>\n",
       "      <th>NAME20</th>\n",
       "      <th>PRE20D</th>\n",
       "      <th>PRE20O</th>\n",
       "      <th>PRE20R</th>\n",
       "      <th>STATEFP20</th>\n",
       "      <th>USS20D</th>\n",
       "      <th>USS20O</th>\n",
       "      <th>USS20R</th>\n",
       "      <th>VTDST20</th>\n",
       "      <th>geometry</th>\n",
       "    </tr>\n",
       "  </thead>\n",
       "  <tbody>\n",
       "  </tbody>\n",
       "</table>\n",
       "</div>"
      ],
      "text/plain": [
       "Empty GeoDataFrame\n",
       "Columns: [COUNTYFP20, HAL20D, HAL20O, HAL20R, NAME20, PRE20D, PRE20O, PRE20R, STATEFP20, USS20D, USS20O, USS20R, VTDST20, geometry]\n",
       "Index: []"
      ]
     },
     "execution_count": 43,
     "metadata": {},
     "output_type": "execute_result"
    }
   ],
   "source": [
    "vest_base[~vest_base.is_valid]"
   ]
  },
  {
   "cell_type": "code",
   "execution_count": 44,
   "metadata": {},
   "outputs": [
    {
     "data": {
      "text/html": [
       "<div>\n",
       "<style scoped>\n",
       "    .dataframe tbody tr th:only-of-type {\n",
       "        vertical-align: middle;\n",
       "    }\n",
       "\n",
       "    .dataframe tbody tr th {\n",
       "        vertical-align: top;\n",
       "    }\n",
       "\n",
       "    .dataframe thead th {\n",
       "        text-align: right;\n",
       "    }\n",
       "</style>\n",
       "<table border=\"1\" class=\"dataframe\">\n",
       "  <thead>\n",
       "    <tr style=\"text-align: right;\">\n",
       "      <th></th>\n",
       "      <th>GEOID20</th>\n",
       "      <th>SUMLEV</th>\n",
       "      <th>LOGRECNO</th>\n",
       "      <th>GEOID</th>\n",
       "      <th>COUNTY</th>\n",
       "      <th>P0010001</th>\n",
       "      <th>P0010002</th>\n",
       "      <th>P0010003</th>\n",
       "      <th>P0010004</th>\n",
       "      <th>P0010005</th>\n",
       "      <th>...</th>\n",
       "      <th>P0040071</th>\n",
       "      <th>P0040072</th>\n",
       "      <th>P0040073</th>\n",
       "      <th>H_WHITE</th>\n",
       "      <th>H_BLACK</th>\n",
       "      <th>H_AMIN</th>\n",
       "      <th>H_ASIAN</th>\n",
       "      <th>H_NHPI</th>\n",
       "      <th>H_OTHER</th>\n",
       "      <th>H_2MORE</th>\n",
       "    </tr>\n",
       "  </thead>\n",
       "  <tbody>\n",
       "  </tbody>\n",
       "</table>\n",
       "<p>0 rows × 230 columns</p>\n",
       "</div>"
      ],
      "text/plain": [
       "Empty GeoDataFrame\n",
       "Columns: [GEOID20, SUMLEV, LOGRECNO, GEOID, COUNTY, P0010001, P0010002, P0010003, P0010004, P0010005, P0010006, P0010007, P0010008, P0010009, P0010010, P0010011, P0010012, P0010013, P0010014, P0010015, P0010016, P0010017, P0010018, P0010019, P0010020, P0010021, P0010022, P0010023, P0010024, P0010025, P0010026, P0010027, P0010028, P0010029, P0010030, P0010031, P0010032, P0010033, P0010034, P0010035, P0010036, P0010037, P0010038, P0010039, P0010040, P0010041, P0010042, P0010043, P0010044, P0010045, P0010046, P0010047, P0010048, P0010049, P0010050, P0010051, P0010052, P0010053, P0010054, P0010055, P0010056, P0010057, P0010058, P0010059, P0010060, P0010061, P0010062, P0010063, P0010064, P0010065, P0010066, P0010067, P0010068, P0010069, P0010070, P0010071, geometry, TOTPOP, HISP, P0020003, P0020004, NH_WHITE, NH_BLACK, NH_AMIN, NH_ASIAN, NH_NHPI, NH_OTHER, NH_2MORE, P0020012, P0020013, P0020014, P0020015, P0020016, P0020017, P0020018, P0020019, P0020020, P0020021, P0020022, P0020023, ...]\n",
       "Index: []\n",
       "\n",
       "[0 rows x 230 columns]"
      ]
     },
     "execution_count": 44,
     "metadata": {},
     "output_type": "execute_result"
    }
   ],
   "source": [
    "population_df[~population_df.geom_type.isin(['Polygon', 'MultiPolygon'])]"
   ]
  },
  {
   "cell_type": "code",
   "execution_count": 45,
   "metadata": {},
   "outputs": [
    {
     "data": {
      "text/html": [
       "<div>\n",
       "<style scoped>\n",
       "    .dataframe tbody tr th:only-of-type {\n",
       "        vertical-align: middle;\n",
       "    }\n",
       "\n",
       "    .dataframe tbody tr th {\n",
       "        vertical-align: top;\n",
       "    }\n",
       "\n",
       "    .dataframe thead th {\n",
       "        text-align: right;\n",
       "    }\n",
       "</style>\n",
       "<table border=\"1\" class=\"dataframe\">\n",
       "  <thead>\n",
       "    <tr style=\"text-align: right;\">\n",
       "      <th></th>\n",
       "      <th>GEOID20</th>\n",
       "      <th>SUMLEV</th>\n",
       "      <th>LOGRECNO</th>\n",
       "      <th>GEOID</th>\n",
       "      <th>COUNTY</th>\n",
       "      <th>P0010001</th>\n",
       "      <th>P0010002</th>\n",
       "      <th>P0010003</th>\n",
       "      <th>P0010004</th>\n",
       "      <th>P0010005</th>\n",
       "      <th>...</th>\n",
       "      <th>P0040071</th>\n",
       "      <th>P0040072</th>\n",
       "      <th>P0040073</th>\n",
       "      <th>H_WHITE</th>\n",
       "      <th>H_BLACK</th>\n",
       "      <th>H_AMIN</th>\n",
       "      <th>H_ASIAN</th>\n",
       "      <th>H_NHPI</th>\n",
       "      <th>H_OTHER</th>\n",
       "      <th>H_2MORE</th>\n",
       "    </tr>\n",
       "  </thead>\n",
       "  <tbody>\n",
       "  </tbody>\n",
       "</table>\n",
       "<p>0 rows × 230 columns</p>\n",
       "</div>"
      ],
      "text/plain": [
       "Empty GeoDataFrame\n",
       "Columns: [GEOID20, SUMLEV, LOGRECNO, GEOID, COUNTY, P0010001, P0010002, P0010003, P0010004, P0010005, P0010006, P0010007, P0010008, P0010009, P0010010, P0010011, P0010012, P0010013, P0010014, P0010015, P0010016, P0010017, P0010018, P0010019, P0010020, P0010021, P0010022, P0010023, P0010024, P0010025, P0010026, P0010027, P0010028, P0010029, P0010030, P0010031, P0010032, P0010033, P0010034, P0010035, P0010036, P0010037, P0010038, P0010039, P0010040, P0010041, P0010042, P0010043, P0010044, P0010045, P0010046, P0010047, P0010048, P0010049, P0010050, P0010051, P0010052, P0010053, P0010054, P0010055, P0010056, P0010057, P0010058, P0010059, P0010060, P0010061, P0010062, P0010063, P0010064, P0010065, P0010066, P0010067, P0010068, P0010069, P0010070, P0010071, geometry, TOTPOP, HISP, P0020003, P0020004, NH_WHITE, NH_BLACK, NH_AMIN, NH_ASIAN, NH_NHPI, NH_OTHER, NH_2MORE, P0020012, P0020013, P0020014, P0020015, P0020016, P0020017, P0020018, P0020019, P0020020, P0020021, P0020022, P0020023, ...]\n",
       "Index: []\n",
       "\n",
       "[0 rows x 230 columns]"
      ]
     },
     "execution_count": 45,
     "metadata": {},
     "output_type": "execute_result"
    }
   ],
   "source": [
    "population_df[~population_df.is_valid]"
   ]
  },
  {
   "cell_type": "code",
   "execution_count": 46,
   "metadata": {},
   "outputs": [
    {
     "name": "stderr",
     "output_type": "stream",
     "text": [
      "100%|████████████████████████████████████████| 481/481 [00:00<00:00, 509.05it/s]\n",
      " 38%|███████████████▎                        | 184/481 [00:01<00:02, 109.85it/s]\n"
     ]
    },
    {
     "ename": "GEOSException",
     "evalue": "TopologyException: side location conflict at -108.29616606126318 45.000172480885453. This can occur if the input geometry is invalid.",
     "output_type": "error",
     "traceback": [
      "\u001b[0;31m---------------------------------------------------------------------------\u001b[0m",
      "\u001b[0;31mGEOSException\u001b[0m                             Traceback (most recent call last)",
      "Cell \u001b[0;32mIn[46], line 2\u001b[0m\n\u001b[1;32m      1\u001b[0m vest_base \u001b[38;5;241m=\u001b[39m vest_base\u001b[38;5;241m.\u001b[39mto_crs(\u001b[38;5;124m'\u001b[39m\u001b[38;5;124mEPSG:4269\u001b[39m\u001b[38;5;124m'\u001b[39m)\n\u001b[0;32m----> 2\u001b[0m blocks_to_precincts_assignment \u001b[38;5;241m=\u001b[39m \u001b[43mmaup\u001b[49m\u001b[38;5;241;43m.\u001b[39;49m\u001b[43massign\u001b[49m\u001b[43m(\u001b[49m\u001b[43mpopulation_df\u001b[49m\u001b[38;5;241;43m.\u001b[39;49m\u001b[43mgeometry\u001b[49m\u001b[43m,\u001b[49m\u001b[43m \u001b[49m\u001b[43mvest_base\u001b[49m\u001b[38;5;241;43m.\u001b[39;49m\u001b[43mgeometry\u001b[49m\u001b[43m)\u001b[49m\n",
      "File \u001b[0;32m~/anaconda3/envs/gerry/lib/python3.11/site-packages/maup/crs.py:14\u001b[0m, in \u001b[0;36mrequire_same_crs.<locals>.wrapped\u001b[0;34m(*args, **kwargs)\u001b[0m\n\u001b[1;32m      8\u001b[0m \u001b[38;5;28;01mif\u001b[39;00m \u001b[38;5;129;01mnot\u001b[39;00m geoms1\u001b[38;5;241m.\u001b[39mcrs \u001b[38;5;241m==\u001b[39m geoms2\u001b[38;5;241m.\u001b[39mcrs:\n\u001b[1;32m      9\u001b[0m     \u001b[38;5;28;01mraise\u001b[39;00m \u001b[38;5;167;01mTypeError\u001b[39;00m(\n\u001b[1;32m     10\u001b[0m         \u001b[38;5;124m\"\u001b[39m\u001b[38;5;124mthe source and target geometries must have the same CRS. \u001b[39m\u001b[38;5;132;01m{}\u001b[39;00m\u001b[38;5;124m \u001b[39m\u001b[38;5;132;01m{}\u001b[39;00m\u001b[38;5;124m\"\u001b[39m\u001b[38;5;241m.\u001b[39mformat(\n\u001b[1;32m     11\u001b[0m             geoms1\u001b[38;5;241m.\u001b[39mcrs, geoms2\u001b[38;5;241m.\u001b[39mcrs\n\u001b[1;32m     12\u001b[0m         )\n\u001b[1;32m     13\u001b[0m     )\n\u001b[0;32m---> 14\u001b[0m \u001b[38;5;28;01mreturn\u001b[39;00m \u001b[43mf\u001b[49m\u001b[43m(\u001b[49m\u001b[38;5;241;43m*\u001b[39;49m\u001b[43margs\u001b[49m\u001b[43m,\u001b[49m\u001b[43m \u001b[49m\u001b[38;5;241;43m*\u001b[39;49m\u001b[38;5;241;43m*\u001b[39;49m\u001b[43mkwargs\u001b[49m\u001b[43m)\u001b[49m\n",
      "File \u001b[0;32m~/anaconda3/envs/gerry/lib/python3.11/site-packages/maup/assign.py:23\u001b[0m, in \u001b[0;36massign\u001b[0;34m(sources, targets)\u001b[0m\n\u001b[1;32m     19\u001b[0m unassigned \u001b[38;5;241m=\u001b[39m sources[assignment\u001b[38;5;241m.\u001b[39misna()]\n\u001b[1;32m     21\u001b[0m \u001b[38;5;28;01mif\u001b[39;00m \u001b[38;5;28mlen\u001b[39m(unassigned):  \u001b[38;5;66;03m# skip if done\u001b[39;00m\n\u001b[1;32m     22\u001b[0m     assignments_by_area \u001b[38;5;241m=\u001b[39m pandas\u001b[38;5;241m.\u001b[39mSeries(\n\u001b[0;32m---> 23\u001b[0m         \u001b[43massign_by_area\u001b[49m\u001b[43m(\u001b[49m\u001b[43munassigned\u001b[49m\u001b[43m,\u001b[49m\u001b[43m \u001b[49m\u001b[43mtargets\u001b[49m\u001b[43m)\u001b[49m,\n\u001b[1;32m     24\u001b[0m         dtype\u001b[38;5;241m=\u001b[39m\u001b[38;5;124m\"\u001b[39m\u001b[38;5;124mfloat\u001b[39m\u001b[38;5;124m\"\u001b[39m\n\u001b[1;32m     25\u001b[0m     )\n\u001b[1;32m     26\u001b[0m     assignment\u001b[38;5;241m.\u001b[39mupdate(assignments_by_area)\n\u001b[1;32m     28\u001b[0m \u001b[38;5;66;03m# TODO: add a warning here if there are still unassigned source geometries.\u001b[39;00m\n",
      "File \u001b[0;32m~/anaconda3/envs/gerry/lib/python3.11/site-packages/maup/assign.py:38\u001b[0m, in \u001b[0;36massign_by_area\u001b[0;34m(sources, targets)\u001b[0m\n\u001b[1;32m     37\u001b[0m \u001b[38;5;28;01mdef\u001b[39;00m \u001b[38;5;21massign_by_area\u001b[39m(sources, targets):\n\u001b[0;32m---> 38\u001b[0m     \u001b[38;5;28;01mreturn\u001b[39;00m assign_to_max(\u001b[43mintersections\u001b[49m\u001b[43m(\u001b[49m\u001b[43msources\u001b[49m\u001b[43m,\u001b[49m\u001b[43m \u001b[49m\u001b[43mtargets\u001b[49m\u001b[43m,\u001b[49m\u001b[43m \u001b[49m\u001b[43marea_cutoff\u001b[49m\u001b[38;5;241;43m=\u001b[39;49m\u001b[38;5;241;43m0\u001b[39;49m\u001b[43m)\u001b[49m\u001b[38;5;241m.\u001b[39marea)\n",
      "File \u001b[0;32m~/anaconda3/envs/gerry/lib/python3.11/site-packages/maup/crs.py:14\u001b[0m, in \u001b[0;36mrequire_same_crs.<locals>.wrapped\u001b[0;34m(*args, **kwargs)\u001b[0m\n\u001b[1;32m      8\u001b[0m \u001b[38;5;28;01mif\u001b[39;00m \u001b[38;5;129;01mnot\u001b[39;00m geoms1\u001b[38;5;241m.\u001b[39mcrs \u001b[38;5;241m==\u001b[39m geoms2\u001b[38;5;241m.\u001b[39mcrs:\n\u001b[1;32m      9\u001b[0m     \u001b[38;5;28;01mraise\u001b[39;00m \u001b[38;5;167;01mTypeError\u001b[39;00m(\n\u001b[1;32m     10\u001b[0m         \u001b[38;5;124m\"\u001b[39m\u001b[38;5;124mthe source and target geometries must have the same CRS. \u001b[39m\u001b[38;5;132;01m{}\u001b[39;00m\u001b[38;5;124m \u001b[39m\u001b[38;5;132;01m{}\u001b[39;00m\u001b[38;5;124m\"\u001b[39m\u001b[38;5;241m.\u001b[39mformat(\n\u001b[1;32m     11\u001b[0m             geoms1\u001b[38;5;241m.\u001b[39mcrs, geoms2\u001b[38;5;241m.\u001b[39mcrs\n\u001b[1;32m     12\u001b[0m         )\n\u001b[1;32m     13\u001b[0m     )\n\u001b[0;32m---> 14\u001b[0m \u001b[38;5;28;01mreturn\u001b[39;00m \u001b[43mf\u001b[49m\u001b[43m(\u001b[49m\u001b[38;5;241;43m*\u001b[39;49m\u001b[43margs\u001b[49m\u001b[43m,\u001b[49m\u001b[43m \u001b[49m\u001b[38;5;241;43m*\u001b[39;49m\u001b[38;5;241;43m*\u001b[39;49m\u001b[43mkwargs\u001b[49m\u001b[43m)\u001b[49m\n",
      "File \u001b[0;32m~/anaconda3/envs/gerry/lib/python3.11/site-packages/maup/intersections.py:32\u001b[0m, in \u001b[0;36mintersections\u001b[0;34m(sources, targets, output_type, area_cutoff)\u001b[0m\n\u001b[1;32m     29\u001b[0m reindexed_targets \u001b[38;5;241m=\u001b[39m get_geometries_with_range_index(targets)\n\u001b[1;32m     30\u001b[0m spatially_indexed_sources \u001b[38;5;241m=\u001b[39m IndexedGeometries(reindexed_sources)\n\u001b[0;32m---> 32\u001b[0m records \u001b[38;5;241m=\u001b[39m \u001b[43m[\u001b[49m\n\u001b[1;32m     33\u001b[0m \u001b[43m    \u001b[49m\u001b[38;5;66;43;03m# Flip i, j to j, i so that the index is [\"source\", \"target\"]\u001b[39;49;00m\n\u001b[1;32m     34\u001b[0m \u001b[43m    \u001b[49m\u001b[43m(\u001b[49m\u001b[43msources\u001b[49m\u001b[38;5;241;43m.\u001b[39;49m\u001b[43mindex\u001b[49m\u001b[43m[\u001b[49m\u001b[43mj\u001b[49m\u001b[43m]\u001b[49m\u001b[43m,\u001b[49m\u001b[43m \u001b[49m\u001b[43mtargets\u001b[49m\u001b[38;5;241;43m.\u001b[39;49m\u001b[43mindex\u001b[49m\u001b[43m[\u001b[49m\u001b[43mi\u001b[49m\u001b[43m]\u001b[49m\u001b[43m,\u001b[49m\u001b[43m \u001b[49m\u001b[43mgeometry\u001b[49m\u001b[43m)\u001b[49m\n\u001b[1;32m     35\u001b[0m \u001b[43m    \u001b[49m\u001b[38;5;28;43;01mfor\u001b[39;49;00m\u001b[43m \u001b[49m\u001b[43mi\u001b[49m\u001b[43m,\u001b[49m\u001b[43m \u001b[49m\u001b[43mj\u001b[49m\u001b[43m,\u001b[49m\u001b[43m \u001b[49m\u001b[43mgeometry\u001b[49m\u001b[43m \u001b[49m\u001b[38;5;129;43;01min\u001b[39;49;00m\u001b[43m \u001b[49m\u001b[43mspatially_indexed_sources\u001b[49m\u001b[38;5;241;43m.\u001b[39;49m\u001b[43menumerate_intersections\u001b[49m\u001b[43m(\u001b[49m\n\u001b[1;32m     36\u001b[0m \u001b[43m        \u001b[49m\u001b[43mreindexed_targets\u001b[49m\n\u001b[1;32m     37\u001b[0m \u001b[43m    \u001b[49m\u001b[43m)\u001b[49m\n\u001b[1;32m     38\u001b[0m \u001b[43m\u001b[49m\u001b[43m]\u001b[49m\n\u001b[1;32m     40\u001b[0m df \u001b[38;5;241m=\u001b[39m GeoDataFrame(records, columns\u001b[38;5;241m=\u001b[39m[\u001b[38;5;124m\"\u001b[39m\u001b[38;5;124msource\u001b[39m\u001b[38;5;124m\"\u001b[39m, \u001b[38;5;124m\"\u001b[39m\u001b[38;5;124mtarget\u001b[39m\u001b[38;5;124m\"\u001b[39m, \u001b[38;5;124m\"\u001b[39m\u001b[38;5;124mgeometry\u001b[39m\u001b[38;5;124m\"\u001b[39m], crs\u001b[38;5;241m=\u001b[39msources\u001b[38;5;241m.\u001b[39mcrs)\n\u001b[1;32m     41\u001b[0m df \u001b[38;5;241m=\u001b[39m df\u001b[38;5;241m.\u001b[39msort_values(by\u001b[38;5;241m=\u001b[39m[\u001b[38;5;124m\"\u001b[39m\u001b[38;5;124msource\u001b[39m\u001b[38;5;124m\"\u001b[39m, \u001b[38;5;124m\"\u001b[39m\u001b[38;5;124mtarget\u001b[39m\u001b[38;5;124m\"\u001b[39m])\u001b[38;5;241m.\u001b[39mreset_index(drop\u001b[38;5;241m=\u001b[39m\u001b[38;5;28;01mTrue\u001b[39;00m)\n",
      "File \u001b[0;32m~/anaconda3/envs/gerry/lib/python3.11/site-packages/maup/intersections.py:32\u001b[0m, in \u001b[0;36m<listcomp>\u001b[0;34m(.0)\u001b[0m\n\u001b[1;32m     29\u001b[0m reindexed_targets \u001b[38;5;241m=\u001b[39m get_geometries_with_range_index(targets)\n\u001b[1;32m     30\u001b[0m spatially_indexed_sources \u001b[38;5;241m=\u001b[39m IndexedGeometries(reindexed_sources)\n\u001b[0;32m---> 32\u001b[0m records \u001b[38;5;241m=\u001b[39m \u001b[43m[\u001b[49m\n\u001b[1;32m     33\u001b[0m \u001b[43m    \u001b[49m\u001b[38;5;66;43;03m# Flip i, j to j, i so that the index is [\"source\", \"target\"]\u001b[39;49;00m\n\u001b[1;32m     34\u001b[0m \u001b[43m    \u001b[49m\u001b[43m(\u001b[49m\u001b[43msources\u001b[49m\u001b[38;5;241;43m.\u001b[39;49m\u001b[43mindex\u001b[49m\u001b[43m[\u001b[49m\u001b[43mj\u001b[49m\u001b[43m]\u001b[49m\u001b[43m,\u001b[49m\u001b[43m \u001b[49m\u001b[43mtargets\u001b[49m\u001b[38;5;241;43m.\u001b[39;49m\u001b[43mindex\u001b[49m\u001b[43m[\u001b[49m\u001b[43mi\u001b[49m\u001b[43m]\u001b[49m\u001b[43m,\u001b[49m\u001b[43m \u001b[49m\u001b[43mgeometry\u001b[49m\u001b[43m)\u001b[49m\n\u001b[1;32m     35\u001b[0m \u001b[43m    \u001b[49m\u001b[38;5;28;43;01mfor\u001b[39;49;00m\u001b[43m \u001b[49m\u001b[43mi\u001b[49m\u001b[43m,\u001b[49m\u001b[43m \u001b[49m\u001b[43mj\u001b[49m\u001b[43m,\u001b[49m\u001b[43m \u001b[49m\u001b[43mgeometry\u001b[49m\u001b[43m \u001b[49m\u001b[38;5;129;43;01min\u001b[39;49;00m\u001b[43m \u001b[49m\u001b[43mspatially_indexed_sources\u001b[49m\u001b[38;5;241;43m.\u001b[39;49m\u001b[43menumerate_intersections\u001b[49m\u001b[43m(\u001b[49m\n\u001b[1;32m     36\u001b[0m \u001b[43m        \u001b[49m\u001b[43mreindexed_targets\u001b[49m\n\u001b[1;32m     37\u001b[0m \u001b[43m    \u001b[49m\u001b[43m)\u001b[49m\n\u001b[1;32m     38\u001b[0m \u001b[43m\u001b[49m\u001b[43m]\u001b[49m\n\u001b[1;32m     40\u001b[0m df \u001b[38;5;241m=\u001b[39m GeoDataFrame(records, columns\u001b[38;5;241m=\u001b[39m[\u001b[38;5;124m\"\u001b[39m\u001b[38;5;124msource\u001b[39m\u001b[38;5;124m\"\u001b[39m, \u001b[38;5;124m\"\u001b[39m\u001b[38;5;124mtarget\u001b[39m\u001b[38;5;124m\"\u001b[39m, \u001b[38;5;124m\"\u001b[39m\u001b[38;5;124mgeometry\u001b[39m\u001b[38;5;124m\"\u001b[39m], crs\u001b[38;5;241m=\u001b[39msources\u001b[38;5;241m.\u001b[39mcrs)\n\u001b[1;32m     41\u001b[0m df \u001b[38;5;241m=\u001b[39m df\u001b[38;5;241m.\u001b[39msort_values(by\u001b[38;5;241m=\u001b[39m[\u001b[38;5;124m\"\u001b[39m\u001b[38;5;124msource\u001b[39m\u001b[38;5;124m\"\u001b[39m, \u001b[38;5;124m\"\u001b[39m\u001b[38;5;124mtarget\u001b[39m\u001b[38;5;124m\"\u001b[39m])\u001b[38;5;241m.\u001b[39mreset_index(drop\u001b[38;5;241m=\u001b[39m\u001b[38;5;28;01mTrue\u001b[39;00m)\n",
      "File \u001b[0;32m~/anaconda3/envs/gerry/lib/python3.11/site-packages/maup/indexed_geometries.py:76\u001b[0m, in \u001b[0;36mIndexedGeometries.enumerate_intersections\u001b[0;34m(self, targets)\u001b[0m\n\u001b[1;32m     74\u001b[0m target_geometries \u001b[38;5;241m=\u001b[39m get_geometries(targets)\n\u001b[1;32m     75\u001b[0m \u001b[38;5;28;01mfor\u001b[39;00m i, target \u001b[38;5;129;01min\u001b[39;00m progress(target_geometries\u001b[38;5;241m.\u001b[39mitems(), \u001b[38;5;28mlen\u001b[39m(target_geometries)):\n\u001b[0;32m---> 76\u001b[0m     \u001b[38;5;28;01mfor\u001b[39;00m j, intersection \u001b[38;5;129;01min\u001b[39;00m \u001b[38;5;28;43mself\u001b[39;49m\u001b[38;5;241;43m.\u001b[39;49m\u001b[43mintersections\u001b[49m\u001b[43m(\u001b[49m\u001b[43mtarget\u001b[49m\u001b[43m)\u001b[49m\u001b[38;5;241m.\u001b[39mitems():\n\u001b[1;32m     77\u001b[0m         \u001b[38;5;28;01myield\u001b[39;00m i, j, intersection\n",
      "File \u001b[0;32m~/anaconda3/envs/gerry/lib/python3.11/site-packages/maup/indexed_geometries.py:33\u001b[0m, in \u001b[0;36mIndexedGeometries.intersections\u001b[0;34m(self, geometry)\u001b[0m\n\u001b[1;32m     31\u001b[0m \u001b[38;5;28;01mdef\u001b[39;00m \u001b[38;5;21mintersections\u001b[39m(\u001b[38;5;28mself\u001b[39m, geometry):\n\u001b[1;32m     32\u001b[0m     relevant_geometries \u001b[38;5;241m=\u001b[39m \u001b[38;5;28mself\u001b[39m\u001b[38;5;241m.\u001b[39mquery(geometry)\n\u001b[0;32m---> 33\u001b[0m     intersections \u001b[38;5;241m=\u001b[39m \u001b[43mrelevant_geometries\u001b[49m\u001b[38;5;241;43m.\u001b[39;49m\u001b[43mintersection\u001b[49m\u001b[43m(\u001b[49m\u001b[43mgeometry\u001b[49m\u001b[43m)\u001b[49m\n\u001b[1;32m     34\u001b[0m     \u001b[38;5;28;01mreturn\u001b[39;00m intersections[\u001b[38;5;241m-\u001b[39m(intersections\u001b[38;5;241m.\u001b[39mis_empty \u001b[38;5;241m|\u001b[39m intersections\u001b[38;5;241m.\u001b[39misna())]\n",
      "File \u001b[0;32m~/anaconda3/envs/gerry/lib/python3.11/site-packages/geopandas/base.py:3266\u001b[0m, in \u001b[0;36mGeoPandasBase.intersection\u001b[0;34m(self, other, align)\u001b[0m\n\u001b[1;32m   3155\u001b[0m \u001b[38;5;28;01mdef\u001b[39;00m \u001b[38;5;21mintersection\u001b[39m(\u001b[38;5;28mself\u001b[39m, other, align\u001b[38;5;241m=\u001b[39m\u001b[38;5;28;01mTrue\u001b[39;00m):\n\u001b[1;32m   3156\u001b[0m \u001b[38;5;250m    \u001b[39m\u001b[38;5;124;03m\"\"\"Returns a ``GeoSeries`` of the intersection of points in each\u001b[39;00m\n\u001b[1;32m   3157\u001b[0m \u001b[38;5;124;03m    aligned geometry with `other`.\u001b[39;00m\n\u001b[1;32m   3158\u001b[0m \n\u001b[0;32m   (...)\u001b[0m\n\u001b[1;32m   3264\u001b[0m \u001b[38;5;124;03m    GeoSeries.union\u001b[39;00m\n\u001b[1;32m   3265\u001b[0m \u001b[38;5;124;03m    \"\"\"\u001b[39;00m\n\u001b[0;32m-> 3266\u001b[0m     \u001b[38;5;28;01mreturn\u001b[39;00m \u001b[43m_binary_geo\u001b[49m\u001b[43m(\u001b[49m\u001b[38;5;124;43m\"\u001b[39;49m\u001b[38;5;124;43mintersection\u001b[39;49m\u001b[38;5;124;43m\"\u001b[39;49m\u001b[43m,\u001b[49m\u001b[43m \u001b[49m\u001b[38;5;28;43mself\u001b[39;49m\u001b[43m,\u001b[49m\u001b[43m \u001b[49m\u001b[43mother\u001b[49m\u001b[43m,\u001b[49m\u001b[43m \u001b[49m\u001b[43malign\u001b[49m\u001b[43m)\u001b[49m\n",
      "File \u001b[0;32m~/anaconda3/envs/gerry/lib/python3.11/site-packages/geopandas/base.py:56\u001b[0m, in \u001b[0;36m_binary_geo\u001b[0;34m(op, this, other, align)\u001b[0m\n\u001b[1;32m     53\u001b[0m \u001b[38;5;250m\u001b[39m\u001b[38;5;124;03m\"\"\"Binary operation on GeoSeries objects that returns a GeoSeries\"\"\"\u001b[39;00m\n\u001b[1;32m     54\u001b[0m \u001b[38;5;28;01mfrom\u001b[39;00m \u001b[38;5;21;01m.\u001b[39;00m\u001b[38;5;21;01mgeoseries\u001b[39;00m \u001b[38;5;28;01mimport\u001b[39;00m GeoSeries\n\u001b[0;32m---> 56\u001b[0m geoms, index \u001b[38;5;241m=\u001b[39m \u001b[43m_delegate_binary_method\u001b[49m\u001b[43m(\u001b[49m\u001b[43mop\u001b[49m\u001b[43m,\u001b[49m\u001b[43m \u001b[49m\u001b[43mthis\u001b[49m\u001b[43m,\u001b[49m\u001b[43m \u001b[49m\u001b[43mother\u001b[49m\u001b[43m,\u001b[49m\u001b[43m \u001b[49m\u001b[43malign\u001b[49m\u001b[43m)\u001b[49m\n\u001b[1;32m     57\u001b[0m \u001b[38;5;28;01mreturn\u001b[39;00m GeoSeries(geoms, index\u001b[38;5;241m=\u001b[39mindex, crs\u001b[38;5;241m=\u001b[39mthis\u001b[38;5;241m.\u001b[39mcrs)\n",
      "File \u001b[0;32m~/anaconda3/envs/gerry/lib/python3.11/site-packages/geopandas/base.py:47\u001b[0m, in \u001b[0;36m_delegate_binary_method\u001b[0;34m(op, this, other, align, *args, **kwargs)\u001b[0m\n\u001b[1;32m     44\u001b[0m \u001b[38;5;28;01melse\u001b[39;00m:\n\u001b[1;32m     45\u001b[0m     \u001b[38;5;28;01mraise\u001b[39;00m \u001b[38;5;167;01mTypeError\u001b[39;00m(\u001b[38;5;28mtype\u001b[39m(this), \u001b[38;5;28mtype\u001b[39m(other))\n\u001b[0;32m---> 47\u001b[0m data \u001b[38;5;241m=\u001b[39m \u001b[38;5;28;43mgetattr\u001b[39;49m\u001b[43m(\u001b[49m\u001b[43ma_this\u001b[49m\u001b[43m,\u001b[49m\u001b[43m \u001b[49m\u001b[43mop\u001b[49m\u001b[43m)\u001b[49m\u001b[43m(\u001b[49m\u001b[43mother\u001b[49m\u001b[43m,\u001b[49m\u001b[43m \u001b[49m\u001b[38;5;241;43m*\u001b[39;49m\u001b[43margs\u001b[49m\u001b[43m,\u001b[49m\u001b[43m \u001b[49m\u001b[38;5;241;43m*\u001b[39;49m\u001b[38;5;241;43m*\u001b[39;49m\u001b[43mkwargs\u001b[49m\u001b[43m)\u001b[49m\n\u001b[1;32m     48\u001b[0m \u001b[38;5;28;01mreturn\u001b[39;00m data, this\u001b[38;5;241m.\u001b[39mindex\n",
      "File \u001b[0;32m~/anaconda3/envs/gerry/lib/python3.11/site-packages/geopandas/array.py:671\u001b[0m, in \u001b[0;36mGeometryArray.intersection\u001b[0;34m(self, other)\u001b[0m\n\u001b[1;32m    669\u001b[0m \u001b[38;5;28;01mdef\u001b[39;00m \u001b[38;5;21mintersection\u001b[39m(\u001b[38;5;28mself\u001b[39m, other):\n\u001b[1;32m    670\u001b[0m     \u001b[38;5;28;01mreturn\u001b[39;00m GeometryArray(\n\u001b[0;32m--> 671\u001b[0m         \u001b[38;5;28;43mself\u001b[39;49m\u001b[38;5;241;43m.\u001b[39;49m\u001b[43m_binary_method\u001b[49m\u001b[43m(\u001b[49m\u001b[38;5;124;43m\"\u001b[39;49m\u001b[38;5;124;43mintersection\u001b[39;49m\u001b[38;5;124;43m\"\u001b[39;49m\u001b[43m,\u001b[49m\u001b[43m \u001b[49m\u001b[38;5;28;43mself\u001b[39;49m\u001b[43m,\u001b[49m\u001b[43m \u001b[49m\u001b[43mother\u001b[49m\u001b[43m)\u001b[49m, crs\u001b[38;5;241m=\u001b[39m\u001b[38;5;28mself\u001b[39m\u001b[38;5;241m.\u001b[39mcrs\n\u001b[1;32m    672\u001b[0m     )\n",
      "File \u001b[0;32m~/anaconda3/envs/gerry/lib/python3.11/site-packages/geopandas/array.py:611\u001b[0m, in \u001b[0;36mGeometryArray._binary_method\u001b[0;34m(op, left, right, **kwargs)\u001b[0m\n\u001b[1;32m    608\u001b[0m         _crs_mismatch_warn(left, right, stacklevel\u001b[38;5;241m=\u001b[39m\u001b[38;5;241m7\u001b[39m)\n\u001b[1;32m    609\u001b[0m     right \u001b[38;5;241m=\u001b[39m right\u001b[38;5;241m.\u001b[39m_data\n\u001b[0;32m--> 611\u001b[0m \u001b[38;5;28;01mreturn\u001b[39;00m \u001b[38;5;28;43mgetattr\u001b[39;49m\u001b[43m(\u001b[49m\u001b[43mvectorized\u001b[49m\u001b[43m,\u001b[49m\u001b[43m \u001b[49m\u001b[43mop\u001b[49m\u001b[43m)\u001b[49m\u001b[43m(\u001b[49m\u001b[43mleft\u001b[49m\u001b[38;5;241;43m.\u001b[39;49m\u001b[43m_data\u001b[49m\u001b[43m,\u001b[49m\u001b[43m \u001b[49m\u001b[43mright\u001b[49m\u001b[43m,\u001b[49m\u001b[43m \u001b[49m\u001b[38;5;241;43m*\u001b[39;49m\u001b[38;5;241;43m*\u001b[39;49m\u001b[43mkwargs\u001b[49m\u001b[43m)\u001b[49m\n",
      "File \u001b[0;32m~/anaconda3/envs/gerry/lib/python3.11/site-packages/geopandas/_vectorized.py:938\u001b[0m, in \u001b[0;36mintersection\u001b[0;34m(data, other)\u001b[0m\n\u001b[1;32m    936\u001b[0m \u001b[38;5;28;01mdef\u001b[39;00m \u001b[38;5;21mintersection\u001b[39m(data, other):\n\u001b[1;32m    937\u001b[0m     \u001b[38;5;28;01mif\u001b[39;00m compat\u001b[38;5;241m.\u001b[39mUSE_SHAPELY_20:\n\u001b[0;32m--> 938\u001b[0m         \u001b[38;5;28;01mreturn\u001b[39;00m \u001b[43mshapely\u001b[49m\u001b[38;5;241;43m.\u001b[39;49m\u001b[43mintersection\u001b[49m\u001b[43m(\u001b[49m\u001b[43mdata\u001b[49m\u001b[43m,\u001b[49m\u001b[43m \u001b[49m\u001b[43mother\u001b[49m\u001b[43m)\u001b[49m\n\u001b[1;32m    939\u001b[0m     \u001b[38;5;28;01melif\u001b[39;00m compat\u001b[38;5;241m.\u001b[39mUSE_PYGEOS:\n\u001b[1;32m    940\u001b[0m         \u001b[38;5;28;01mreturn\u001b[39;00m _binary_method(\u001b[38;5;124m\"\u001b[39m\u001b[38;5;124mintersection\u001b[39m\u001b[38;5;124m\"\u001b[39m, data, other)\n",
      "File \u001b[0;32m~/anaconda3/envs/gerry/lib/python3.11/site-packages/shapely/decorators.py:77\u001b[0m, in \u001b[0;36mmultithreading_enabled.<locals>.wrapped\u001b[0;34m(*args, **kwargs)\u001b[0m\n\u001b[1;32m     75\u001b[0m     \u001b[38;5;28;01mfor\u001b[39;00m arr \u001b[38;5;129;01min\u001b[39;00m array_args:\n\u001b[1;32m     76\u001b[0m         arr\u001b[38;5;241m.\u001b[39mflags\u001b[38;5;241m.\u001b[39mwriteable \u001b[38;5;241m=\u001b[39m \u001b[38;5;28;01mFalse\u001b[39;00m\n\u001b[0;32m---> 77\u001b[0m     \u001b[38;5;28;01mreturn\u001b[39;00m \u001b[43mfunc\u001b[49m\u001b[43m(\u001b[49m\u001b[38;5;241;43m*\u001b[39;49m\u001b[43margs\u001b[49m\u001b[43m,\u001b[49m\u001b[43m \u001b[49m\u001b[38;5;241;43m*\u001b[39;49m\u001b[38;5;241;43m*\u001b[39;49m\u001b[43mkwargs\u001b[49m\u001b[43m)\u001b[49m\n\u001b[1;32m     78\u001b[0m \u001b[38;5;28;01mfinally\u001b[39;00m:\n\u001b[1;32m     79\u001b[0m     \u001b[38;5;28;01mfor\u001b[39;00m arr, old_flag \u001b[38;5;129;01min\u001b[39;00m \u001b[38;5;28mzip\u001b[39m(array_args, old_flags):\n",
      "File \u001b[0;32m~/anaconda3/envs/gerry/lib/python3.11/site-packages/shapely/set_operations.py:131\u001b[0m, in \u001b[0;36mintersection\u001b[0;34m(a, b, grid_size, **kwargs)\u001b[0m\n\u001b[1;32m    127\u001b[0m         \u001b[38;5;28;01mraise\u001b[39;00m \u001b[38;5;167;01mValueError\u001b[39;00m(\u001b[38;5;124m\"\u001b[39m\u001b[38;5;124mgrid_size parameter only accepts scalar values\u001b[39m\u001b[38;5;124m\"\u001b[39m)\n\u001b[1;32m    129\u001b[0m     \u001b[38;5;28;01mreturn\u001b[39;00m lib\u001b[38;5;241m.\u001b[39mintersection_prec(a, b, grid_size, \u001b[38;5;241m*\u001b[39m\u001b[38;5;241m*\u001b[39mkwargs)\n\u001b[0;32m--> 131\u001b[0m \u001b[38;5;28;01mreturn\u001b[39;00m \u001b[43mlib\u001b[49m\u001b[38;5;241;43m.\u001b[39;49m\u001b[43mintersection\u001b[49m\u001b[43m(\u001b[49m\u001b[43ma\u001b[49m\u001b[43m,\u001b[49m\u001b[43m \u001b[49m\u001b[43mb\u001b[49m\u001b[43m,\u001b[49m\u001b[43m \u001b[49m\u001b[38;5;241;43m*\u001b[39;49m\u001b[38;5;241;43m*\u001b[39;49m\u001b[43mkwargs\u001b[49m\u001b[43m)\u001b[49m\n",
      "\u001b[0;31mGEOSException\u001b[0m: TopologyException: side location conflict at -108.29616606126318 45.000172480885453. This can occur if the input geometry is invalid."
     ]
    }
   ],
   "source": [
    "vest_base = vest_base.to_crs('EPSG:4269')\n",
    "blocks_to_precincts_assignment = maup.assign(population_df.geometry, vest_base.geometry)"
   ]
  },
  {
   "cell_type": "markdown",
   "metadata": {},
   "source": [
    "Try again:"
   ]
  },
  {
   "cell_type": "code",
   "execution_count": 48,
   "metadata": {},
   "outputs": [
    {
     "name": "stderr",
     "output_type": "stream",
     "text": [
      "100%|█████████████████████████████████████████| 23/23 [00:00<00:00, 1253.89it/s]\n"
     ]
    },
    {
     "name": "stdout",
     "output_type": "stream",
     "text": [
      "Snapping all geometries to a grid with precision 10^( -3 ) to avoid GEOS errors.\n"
     ]
    },
    {
     "name": "stderr",
     "output_type": "stream",
     "text": [
      "100%|█████████████████████████████████████████| 23/23 [00:00<00:00, 1663.89it/s]\n",
      "100%|██████████████████████████████████████████| 23/23 [00:00<00:00, 156.68it/s]\n"
     ]
    },
    {
     "name": "stdout",
     "output_type": "stream",
     "text": [
      "Identifying overlaps...\n"
     ]
    },
    {
     "name": "stderr",
     "output_type": "stream",
     "text": [
      "100%|█████████████████████████████████████| 6818/6818 [00:03<00:00, 2218.54it/s]\n"
     ]
    },
    {
     "name": "stdout",
     "output_type": "stream",
     "text": [
      "Resolving overlaps and filling gaps...\n"
     ]
    },
    {
     "name": "stderr",
     "output_type": "stream",
     "text": [
      "100%|█████████████████████████████████████████| 23/23 [00:00<00:00, 1543.11it/s]\n",
      "100%|██████████████████████████████████████████| 23/23 [00:00<00:00, 160.45it/s]\n",
      "Gaps to simplify in region 0: 100%|█████████████| 40/40 [00:00<00:00, 43.42it/s]\n",
      "Gaps to fill: 0it [00:00, ?it/s]\n",
      "Gaps to simplify in region 1: 100%|███████████| 560/560 [00:07<00:00, 76.92it/s]\n",
      "Gaps to fill in region 1: 100%|███████████████████| 2/2 [00:00<00:00, 33.88it/s]\n",
      "Gaps to simplify in region 2: 100%|█████████| 1166/1166 [00:32<00:00, 35.35it/s]\n",
      "Gaps to fill in region 2: 100%|███████████████████| 6/6 [00:00<00:00, 11.29it/s]\n",
      "Gaps to simplify in region 3: 100%|███████████| 404/404 [00:04<00:00, 81.14it/s]\n",
      "Gaps to fill in region 3: 100%|███████████████████| 5/5 [00:00<00:00, 53.53it/s]\n",
      "Gaps to simplify in region 4: 100%|█████████████| 74/74 [00:00<00:00, 75.74it/s]\n",
      "Gaps to fill in region 4: 100%|███████████████████| 4/4 [00:00<00:00, 63.83it/s]\n",
      "Gaps to simplify in region 5: 100%|███████████| 367/367 [00:09<00:00, 39.95it/s]\n",
      "Gaps to fill in region 5: 100%|███████████████████| 2/2 [00:00<00:00, 12.80it/s]\n",
      "Gaps to simplify in region 6: 100%|█████████████| 55/55 [00:00<00:00, 71.21it/s]\n",
      "Gaps to fill in region 6: 100%|███████████████████| 1/1 [00:00<00:00, 43.53it/s]\n",
      "Gaps to simplify in region 7: 100%|█████████████| 83/83 [00:01<00:00, 61.84it/s]\n",
      "Gaps to fill in region 7: 100%|███████████████████| 1/1 [00:00<00:00, 21.95it/s]\n",
      "Gaps to simplify in region 8: 100%|█████████████| 95/95 [00:03<00:00, 24.39it/s]\n",
      "Gaps to fill in region 8: 100%|███████████████████| 3/3 [00:00<00:00,  6.89it/s]\n",
      "Gaps to simplify in region 9: 100%|█████████████| 75/75 [00:01<00:00, 71.62it/s]\n",
      "Gaps to fill in region 9: 100%|███████████████████| 5/5 [00:00<00:00, 40.49it/s]\n",
      "Gaps to simplify in region 10: 100%|██████████| 258/258 [00:09<00:00, 26.31it/s]\n",
      "Gaps to fill in region 10: 100%|██████████████████| 4/4 [00:00<00:00, 11.74it/s]\n",
      "Gaps to simplify in region 11: 100%|████████████| 66/66 [00:00<00:00, 69.21it/s]\n",
      "Gaps to fill in region 11: 100%|██████████████████| 4/4 [00:00<00:00, 25.29it/s]\n",
      "Gaps to simplify in region 12: 100%|████████████| 76/76 [00:03<00:00, 21.36it/s]\n",
      "Gaps to fill in region 12: 100%|██████████████████| 1/1 [00:00<00:00, 14.87it/s]\n",
      "Gaps to simplify in region 13: 100%|███████████| 85/85 [00:00<00:00, 108.39it/s]\n",
      "Gaps to fill: 0it [00:00, ?it/s]\n",
      "Gaps to simplify in region 14: 100%|█████████| 174/174 [00:01<00:00, 120.33it/s]\n",
      "Gaps to fill in region 14: 100%|██████████████████| 3/3 [00:00<00:00, 47.45it/s]\n",
      "Gaps to simplify in region 15: 100%|██████████| 157/157 [00:01<00:00, 86.42it/s]\n",
      "Gaps to fill: 0it [00:00, ?it/s]\n",
      "Gaps to simplify in region 16: 100%|████████████| 58/58 [00:01<00:00, 42.17it/s]\n",
      "Gaps to fill in region 16: 100%|██████████████████| 4/4 [00:00<00:00, 16.41it/s]\n",
      "Gaps to simplify in region 17: 100%|████████████| 56/56 [00:00<00:00, 65.68it/s]\n",
      "Gaps to fill in region 17: 100%|██████████████████| 6/6 [00:00<00:00, 38.08it/s]\n",
      "Gaps to simplify in region 18: 100%|████████████| 86/86 [00:02<00:00, 35.73it/s]\n",
      "Gaps to fill in region 18: 100%|██████████████████| 2/2 [00:00<00:00, 21.83it/s]\n",
      "Gaps to simplify in region 19: 100%|████████████| 76/76 [00:01<00:00, 73.07it/s]\n",
      "Gaps to fill in region 19: 100%|██████████████████| 2/2 [00:00<00:00, 37.29it/s]\n",
      "Gaps to simplify in region 20: 100%|████████████| 62/62 [00:01<00:00, 54.89it/s]\n",
      "Gaps to fill in region 20: 100%|██████████████████| 5/5 [00:00<00:00, 56.70it/s]\n",
      "Gaps to simplify in region 21: 100%|██████████| 240/240 [00:02<00:00, 90.55it/s]\n",
      "Gaps to fill in region 21: 100%|██████████████████| 4/4 [00:00<00:00, 33.46it/s]\n",
      "Gaps to simplify in region 22: 100%|████████████| 21/21 [00:00<00:00, 43.05it/s]\n",
      "Gaps to fill: 0it [00:00, ?it/s]\n"
     ]
    },
    {
     "name": "stdout",
     "output_type": "stream",
     "text": [
      "Converting small rook adjacencies to queen...\n"
     ]
    },
    {
     "name": "stderr",
     "output_type": "stream",
     "text": [
      "100%|████████████████████████████████████████| 481/481 [00:00<00:00, 598.80it/s]\n",
      "100%|███████████████████████████████████████████| 5/5 [00:00<00:00, 2545.71it/s]\n",
      "100%|███████████████████████████████████████████| 5/5 [00:00<00:00, 2738.15it/s]\n",
      "100%|███████████████████████████████████████████| 5/5 [00:00<00:00, 2773.28it/s]\n",
      "100%|███████████████████████████████████████████| 4/4 [00:00<00:00, 2478.17it/s]\n",
      "100%|███████████████████████████████████████████| 6/6 [00:00<00:00, 2399.95it/s]\n",
      "100%|███████████████████████████████████████████| 6/6 [00:00<00:00, 2536.88it/s]\n",
      "100%|███████████████████████████████████████████| 4/4 [00:00<00:00, 2455.68it/s]\n",
      "100%|███████████████████████████████████████████| 5/5 [00:00<00:00, 2357.41it/s]\n",
      "100%|███████████████████████████████████████████| 6/6 [00:00<00:00, 2810.25it/s]\n"
     ]
    }
   ],
   "source": [
    "vest_base = add_vest_base(vest_base_data, start_col, year, county = county_df, min_rook_length = 30.5, snap_precision = 8)"
   ]
  },
  {
   "cell_type": "code",
   "execution_count": 49,
   "metadata": {},
   "outputs": [
    {
     "name": "stderr",
     "output_type": "stream",
     "text": [
      "100%|████████████████████████████████████████| 481/481 [00:00<00:00, 637.60it/s]\n"
     ]
    },
    {
     "data": {
      "text/plain": [
       "True"
      ]
     },
     "execution_count": 49,
     "metadata": {},
     "output_type": "execute_result"
    }
   ],
   "source": [
    "maup.doctor(vest_base)"
   ]
  },
  {
   "cell_type": "code",
   "execution_count": 56,
   "metadata": {},
   "outputs": [
    {
     "data": {
      "text/html": [
       "<div>\n",
       "<style scoped>\n",
       "    .dataframe tbody tr th:only-of-type {\n",
       "        vertical-align: middle;\n",
       "    }\n",
       "\n",
       "    .dataframe tbody tr th {\n",
       "        vertical-align: top;\n",
       "    }\n",
       "\n",
       "    .dataframe thead th {\n",
       "        text-align: right;\n",
       "    }\n",
       "</style>\n",
       "<table border=\"1\" class=\"dataframe\">\n",
       "  <thead>\n",
       "    <tr style=\"text-align: right;\">\n",
       "      <th></th>\n",
       "      <th>COUNTYFP20</th>\n",
       "      <th>HAL20D</th>\n",
       "      <th>HAL20O</th>\n",
       "      <th>HAL20R</th>\n",
       "      <th>NAME20</th>\n",
       "      <th>PRE20D</th>\n",
       "      <th>PRE20O</th>\n",
       "      <th>PRE20R</th>\n",
       "      <th>STATEFP20</th>\n",
       "      <th>USS20D</th>\n",
       "      <th>USS20O</th>\n",
       "      <th>USS20R</th>\n",
       "      <th>VTDST20</th>\n",
       "      <th>geometry</th>\n",
       "    </tr>\n",
       "  </thead>\n",
       "  <tbody>\n",
       "  </tbody>\n",
       "</table>\n",
       "</div>"
      ],
      "text/plain": [
       "Empty GeoDataFrame\n",
       "Columns: [COUNTYFP20, HAL20D, HAL20O, HAL20R, NAME20, PRE20D, PRE20O, PRE20R, STATEFP20, USS20D, USS20O, USS20R, VTDST20, geometry]\n",
       "Index: []"
      ]
     },
     "execution_count": 56,
     "metadata": {},
     "output_type": "execute_result"
    }
   ],
   "source": [
    "vest_base[~vest_base.geom_type.isin(['Polygon', 'MultiPolygon'])]"
   ]
  },
  {
   "cell_type": "code",
   "execution_count": 58,
   "metadata": {},
   "outputs": [
    {
     "data": {
      "text/html": [
       "<div>\n",
       "<style scoped>\n",
       "    .dataframe tbody tr th:only-of-type {\n",
       "        vertical-align: middle;\n",
       "    }\n",
       "\n",
       "    .dataframe tbody tr th {\n",
       "        vertical-align: top;\n",
       "    }\n",
       "\n",
       "    .dataframe thead th {\n",
       "        text-align: right;\n",
       "    }\n",
       "</style>\n",
       "<table border=\"1\" class=\"dataframe\">\n",
       "  <thead>\n",
       "    <tr style=\"text-align: right;\">\n",
       "      <th></th>\n",
       "      <th>COUNTYFP20</th>\n",
       "      <th>HAL20D</th>\n",
       "      <th>HAL20O</th>\n",
       "      <th>HAL20R</th>\n",
       "      <th>NAME20</th>\n",
       "      <th>PRE20D</th>\n",
       "      <th>PRE20O</th>\n",
       "      <th>PRE20R</th>\n",
       "      <th>STATEFP20</th>\n",
       "      <th>USS20D</th>\n",
       "      <th>USS20O</th>\n",
       "      <th>USS20R</th>\n",
       "      <th>VTDST20</th>\n",
       "      <th>geometry</th>\n",
       "    </tr>\n",
       "  </thead>\n",
       "  <tbody>\n",
       "    <tr>\n",
       "      <th>184</th>\n",
       "      <td>003</td>\n",
       "      <td>31</td>\n",
       "      <td>29</td>\n",
       "      <td>477</td>\n",
       "      <td>Cowley</td>\n",
       "      <td>36</td>\n",
       "      <td>18</td>\n",
       "      <td>493</td>\n",
       "      <td>56</td>\n",
       "      <td>33</td>\n",
       "      <td>0</td>\n",
       "      <td>508</td>\n",
       "      <td>002201</td>\n",
       "      <td>POLYGON ((-108.45446 44.82802, -108.45449 44.8...</td>\n",
       "    </tr>\n",
       "  </tbody>\n",
       "</table>\n",
       "</div>"
      ],
      "text/plain": [
       "    COUNTYFP20  HAL20D  HAL20O  HAL20R  NAME20  PRE20D  PRE20O  PRE20R  \\\n",
       "184        003      31      29     477  Cowley      36      18     493   \n",
       "\n",
       "    STATEFP20  USS20D  USS20O  USS20R VTDST20  \\\n",
       "184        56      33       0     508  002201   \n",
       "\n",
       "                                              geometry  \n",
       "184  POLYGON ((-108.45446 44.82802, -108.45449 44.8...  "
      ]
     },
     "execution_count": 58,
     "metadata": {},
     "output_type": "execute_result"
    }
   ],
   "source": [
    "vest_base[~vest_base.is_valid]"
   ]
  },
  {
   "cell_type": "code",
   "execution_count": 60,
   "metadata": {},
   "outputs": [
    {
     "data": {
      "text/html": [
       "<div>\n",
       "<style scoped>\n",
       "    .dataframe tbody tr th:only-of-type {\n",
       "        vertical-align: middle;\n",
       "    }\n",
       "\n",
       "    .dataframe tbody tr th {\n",
       "        vertical-align: top;\n",
       "    }\n",
       "\n",
       "    .dataframe thead th {\n",
       "        text-align: right;\n",
       "    }\n",
       "</style>\n",
       "<table border=\"1\" class=\"dataframe\">\n",
       "  <thead>\n",
       "    <tr style=\"text-align: right;\">\n",
       "      <th></th>\n",
       "      <th>GEOID20</th>\n",
       "      <th>SUMLEV</th>\n",
       "      <th>LOGRECNO</th>\n",
       "      <th>GEOID</th>\n",
       "      <th>COUNTY</th>\n",
       "      <th>P0010001</th>\n",
       "      <th>P0010002</th>\n",
       "      <th>P0010003</th>\n",
       "      <th>P0010004</th>\n",
       "      <th>P0010005</th>\n",
       "      <th>...</th>\n",
       "      <th>P0040071</th>\n",
       "      <th>P0040072</th>\n",
       "      <th>P0040073</th>\n",
       "      <th>H_WHITE</th>\n",
       "      <th>H_BLACK</th>\n",
       "      <th>H_AMIN</th>\n",
       "      <th>H_ASIAN</th>\n",
       "      <th>H_NHPI</th>\n",
       "      <th>H_OTHER</th>\n",
       "      <th>H_2MORE</th>\n",
       "    </tr>\n",
       "  </thead>\n",
       "  <tbody>\n",
       "  </tbody>\n",
       "</table>\n",
       "<p>0 rows × 230 columns</p>\n",
       "</div>"
      ],
      "text/plain": [
       "Empty GeoDataFrame\n",
       "Columns: [GEOID20, SUMLEV, LOGRECNO, GEOID, COUNTY, P0010001, P0010002, P0010003, P0010004, P0010005, P0010006, P0010007, P0010008, P0010009, P0010010, P0010011, P0010012, P0010013, P0010014, P0010015, P0010016, P0010017, P0010018, P0010019, P0010020, P0010021, P0010022, P0010023, P0010024, P0010025, P0010026, P0010027, P0010028, P0010029, P0010030, P0010031, P0010032, P0010033, P0010034, P0010035, P0010036, P0010037, P0010038, P0010039, P0010040, P0010041, P0010042, P0010043, P0010044, P0010045, P0010046, P0010047, P0010048, P0010049, P0010050, P0010051, P0010052, P0010053, P0010054, P0010055, P0010056, P0010057, P0010058, P0010059, P0010060, P0010061, P0010062, P0010063, P0010064, P0010065, P0010066, P0010067, P0010068, P0010069, P0010070, P0010071, geometry, TOTPOP, HISP, P0020003, P0020004, NH_WHITE, NH_BLACK, NH_AMIN, NH_ASIAN, NH_NHPI, NH_OTHER, NH_2MORE, P0020012, P0020013, P0020014, P0020015, P0020016, P0020017, P0020018, P0020019, P0020020, P0020021, P0020022, P0020023, ...]\n",
       "Index: []\n",
       "\n",
       "[0 rows x 230 columns]"
      ]
     },
     "execution_count": 60,
     "metadata": {},
     "output_type": "execute_result"
    }
   ],
   "source": [
    "population_df[~population_df.geom_type.isin(['Polygon', 'MultiPolygon'])]"
   ]
  },
  {
   "cell_type": "code",
   "execution_count": 62,
   "metadata": {},
   "outputs": [
    {
     "data": {
      "text/html": [
       "<div>\n",
       "<style scoped>\n",
       "    .dataframe tbody tr th:only-of-type {\n",
       "        vertical-align: middle;\n",
       "    }\n",
       "\n",
       "    .dataframe tbody tr th {\n",
       "        vertical-align: top;\n",
       "    }\n",
       "\n",
       "    .dataframe thead th {\n",
       "        text-align: right;\n",
       "    }\n",
       "</style>\n",
       "<table border=\"1\" class=\"dataframe\">\n",
       "  <thead>\n",
       "    <tr style=\"text-align: right;\">\n",
       "      <th></th>\n",
       "      <th>GEOID20</th>\n",
       "      <th>SUMLEV</th>\n",
       "      <th>LOGRECNO</th>\n",
       "      <th>GEOID</th>\n",
       "      <th>COUNTY</th>\n",
       "      <th>P0010001</th>\n",
       "      <th>P0010002</th>\n",
       "      <th>P0010003</th>\n",
       "      <th>P0010004</th>\n",
       "      <th>P0010005</th>\n",
       "      <th>...</th>\n",
       "      <th>P0040071</th>\n",
       "      <th>P0040072</th>\n",
       "      <th>P0040073</th>\n",
       "      <th>H_WHITE</th>\n",
       "      <th>H_BLACK</th>\n",
       "      <th>H_AMIN</th>\n",
       "      <th>H_ASIAN</th>\n",
       "      <th>H_NHPI</th>\n",
       "      <th>H_OTHER</th>\n",
       "      <th>H_2MORE</th>\n",
       "    </tr>\n",
       "  </thead>\n",
       "  <tbody>\n",
       "  </tbody>\n",
       "</table>\n",
       "<p>0 rows × 230 columns</p>\n",
       "</div>"
      ],
      "text/plain": [
       "Empty GeoDataFrame\n",
       "Columns: [GEOID20, SUMLEV, LOGRECNO, GEOID, COUNTY, P0010001, P0010002, P0010003, P0010004, P0010005, P0010006, P0010007, P0010008, P0010009, P0010010, P0010011, P0010012, P0010013, P0010014, P0010015, P0010016, P0010017, P0010018, P0010019, P0010020, P0010021, P0010022, P0010023, P0010024, P0010025, P0010026, P0010027, P0010028, P0010029, P0010030, P0010031, P0010032, P0010033, P0010034, P0010035, P0010036, P0010037, P0010038, P0010039, P0010040, P0010041, P0010042, P0010043, P0010044, P0010045, P0010046, P0010047, P0010048, P0010049, P0010050, P0010051, P0010052, P0010053, P0010054, P0010055, P0010056, P0010057, P0010058, P0010059, P0010060, P0010061, P0010062, P0010063, P0010064, P0010065, P0010066, P0010067, P0010068, P0010069, P0010070, P0010071, geometry, TOTPOP, HISP, P0020003, P0020004, NH_WHITE, NH_BLACK, NH_AMIN, NH_ASIAN, NH_NHPI, NH_OTHER, NH_2MORE, P0020012, P0020013, P0020014, P0020015, P0020016, P0020017, P0020018, P0020019, P0020020, P0020021, P0020022, P0020023, ...]\n",
       "Index: []\n",
       "\n",
       "[0 rows x 230 columns]"
      ]
     },
     "execution_count": 62,
     "metadata": {},
     "output_type": "execute_result"
    }
   ],
   "source": [
    "population_df[~population_df.is_valid]"
   ]
  },
  {
   "cell_type": "code",
   "execution_count": 63,
   "metadata": {},
   "outputs": [
    {
     "name": "stderr",
     "output_type": "stream",
     "text": [
      "100%|████████████████████████████████████████| 481/481 [00:00<00:00, 499.41it/s]\n",
      " 38%|███████████████▎                        | 184/481 [00:01<00:02, 109.15it/s]\n"
     ]
    },
    {
     "ename": "GEOSException",
     "evalue": "TopologyException: side location conflict at -108.29615739455946 45.000172501550544. This can occur if the input geometry is invalid.",
     "output_type": "error",
     "traceback": [
      "\u001b[0;31m---------------------------------------------------------------------------\u001b[0m",
      "\u001b[0;31mGEOSException\u001b[0m                             Traceback (most recent call last)",
      "Cell \u001b[0;32mIn[63], line 2\u001b[0m\n\u001b[1;32m      1\u001b[0m vest_base \u001b[38;5;241m=\u001b[39m vest_base\u001b[38;5;241m.\u001b[39mto_crs(\u001b[38;5;124m'\u001b[39m\u001b[38;5;124mEPSG:4269\u001b[39m\u001b[38;5;124m'\u001b[39m)\n\u001b[0;32m----> 2\u001b[0m blocks_to_precincts_assignment \u001b[38;5;241m=\u001b[39m \u001b[43mmaup\u001b[49m\u001b[38;5;241;43m.\u001b[39;49m\u001b[43massign\u001b[49m\u001b[43m(\u001b[49m\u001b[43mpopulation_df\u001b[49m\u001b[38;5;241;43m.\u001b[39;49m\u001b[43mgeometry\u001b[49m\u001b[43m,\u001b[49m\u001b[43m \u001b[49m\u001b[43mvest_base\u001b[49m\u001b[38;5;241;43m.\u001b[39;49m\u001b[43mgeometry\u001b[49m\u001b[43m)\u001b[49m\n",
      "File \u001b[0;32m~/anaconda3/envs/gerry/lib/python3.11/site-packages/maup/crs.py:14\u001b[0m, in \u001b[0;36mrequire_same_crs.<locals>.wrapped\u001b[0;34m(*args, **kwargs)\u001b[0m\n\u001b[1;32m      8\u001b[0m \u001b[38;5;28;01mif\u001b[39;00m \u001b[38;5;129;01mnot\u001b[39;00m geoms1\u001b[38;5;241m.\u001b[39mcrs \u001b[38;5;241m==\u001b[39m geoms2\u001b[38;5;241m.\u001b[39mcrs:\n\u001b[1;32m      9\u001b[0m     \u001b[38;5;28;01mraise\u001b[39;00m \u001b[38;5;167;01mTypeError\u001b[39;00m(\n\u001b[1;32m     10\u001b[0m         \u001b[38;5;124m\"\u001b[39m\u001b[38;5;124mthe source and target geometries must have the same CRS. \u001b[39m\u001b[38;5;132;01m{}\u001b[39;00m\u001b[38;5;124m \u001b[39m\u001b[38;5;132;01m{}\u001b[39;00m\u001b[38;5;124m\"\u001b[39m\u001b[38;5;241m.\u001b[39mformat(\n\u001b[1;32m     11\u001b[0m             geoms1\u001b[38;5;241m.\u001b[39mcrs, geoms2\u001b[38;5;241m.\u001b[39mcrs\n\u001b[1;32m     12\u001b[0m         )\n\u001b[1;32m     13\u001b[0m     )\n\u001b[0;32m---> 14\u001b[0m \u001b[38;5;28;01mreturn\u001b[39;00m \u001b[43mf\u001b[49m\u001b[43m(\u001b[49m\u001b[38;5;241;43m*\u001b[39;49m\u001b[43margs\u001b[49m\u001b[43m,\u001b[49m\u001b[43m \u001b[49m\u001b[38;5;241;43m*\u001b[39;49m\u001b[38;5;241;43m*\u001b[39;49m\u001b[43mkwargs\u001b[49m\u001b[43m)\u001b[49m\n",
      "File \u001b[0;32m~/anaconda3/envs/gerry/lib/python3.11/site-packages/maup/assign.py:23\u001b[0m, in \u001b[0;36massign\u001b[0;34m(sources, targets)\u001b[0m\n\u001b[1;32m     19\u001b[0m unassigned \u001b[38;5;241m=\u001b[39m sources[assignment\u001b[38;5;241m.\u001b[39misna()]\n\u001b[1;32m     21\u001b[0m \u001b[38;5;28;01mif\u001b[39;00m \u001b[38;5;28mlen\u001b[39m(unassigned):  \u001b[38;5;66;03m# skip if done\u001b[39;00m\n\u001b[1;32m     22\u001b[0m     assignments_by_area \u001b[38;5;241m=\u001b[39m pandas\u001b[38;5;241m.\u001b[39mSeries(\n\u001b[0;32m---> 23\u001b[0m         \u001b[43massign_by_area\u001b[49m\u001b[43m(\u001b[49m\u001b[43munassigned\u001b[49m\u001b[43m,\u001b[49m\u001b[43m \u001b[49m\u001b[43mtargets\u001b[49m\u001b[43m)\u001b[49m,\n\u001b[1;32m     24\u001b[0m         dtype\u001b[38;5;241m=\u001b[39m\u001b[38;5;124m\"\u001b[39m\u001b[38;5;124mfloat\u001b[39m\u001b[38;5;124m\"\u001b[39m\n\u001b[1;32m     25\u001b[0m     )\n\u001b[1;32m     26\u001b[0m     assignment\u001b[38;5;241m.\u001b[39mupdate(assignments_by_area)\n\u001b[1;32m     28\u001b[0m \u001b[38;5;66;03m# TODO: add a warning here if there are still unassigned source geometries.\u001b[39;00m\n",
      "File \u001b[0;32m~/anaconda3/envs/gerry/lib/python3.11/site-packages/maup/assign.py:38\u001b[0m, in \u001b[0;36massign_by_area\u001b[0;34m(sources, targets)\u001b[0m\n\u001b[1;32m     37\u001b[0m \u001b[38;5;28;01mdef\u001b[39;00m \u001b[38;5;21massign_by_area\u001b[39m(sources, targets):\n\u001b[0;32m---> 38\u001b[0m     \u001b[38;5;28;01mreturn\u001b[39;00m assign_to_max(\u001b[43mintersections\u001b[49m\u001b[43m(\u001b[49m\u001b[43msources\u001b[49m\u001b[43m,\u001b[49m\u001b[43m \u001b[49m\u001b[43mtargets\u001b[49m\u001b[43m,\u001b[49m\u001b[43m \u001b[49m\u001b[43marea_cutoff\u001b[49m\u001b[38;5;241;43m=\u001b[39;49m\u001b[38;5;241;43m0\u001b[39;49m\u001b[43m)\u001b[49m\u001b[38;5;241m.\u001b[39marea)\n",
      "File \u001b[0;32m~/anaconda3/envs/gerry/lib/python3.11/site-packages/maup/crs.py:14\u001b[0m, in \u001b[0;36mrequire_same_crs.<locals>.wrapped\u001b[0;34m(*args, **kwargs)\u001b[0m\n\u001b[1;32m      8\u001b[0m \u001b[38;5;28;01mif\u001b[39;00m \u001b[38;5;129;01mnot\u001b[39;00m geoms1\u001b[38;5;241m.\u001b[39mcrs \u001b[38;5;241m==\u001b[39m geoms2\u001b[38;5;241m.\u001b[39mcrs:\n\u001b[1;32m      9\u001b[0m     \u001b[38;5;28;01mraise\u001b[39;00m \u001b[38;5;167;01mTypeError\u001b[39;00m(\n\u001b[1;32m     10\u001b[0m         \u001b[38;5;124m\"\u001b[39m\u001b[38;5;124mthe source and target geometries must have the same CRS. \u001b[39m\u001b[38;5;132;01m{}\u001b[39;00m\u001b[38;5;124m \u001b[39m\u001b[38;5;132;01m{}\u001b[39;00m\u001b[38;5;124m\"\u001b[39m\u001b[38;5;241m.\u001b[39mformat(\n\u001b[1;32m     11\u001b[0m             geoms1\u001b[38;5;241m.\u001b[39mcrs, geoms2\u001b[38;5;241m.\u001b[39mcrs\n\u001b[1;32m     12\u001b[0m         )\n\u001b[1;32m     13\u001b[0m     )\n\u001b[0;32m---> 14\u001b[0m \u001b[38;5;28;01mreturn\u001b[39;00m \u001b[43mf\u001b[49m\u001b[43m(\u001b[49m\u001b[38;5;241;43m*\u001b[39;49m\u001b[43margs\u001b[49m\u001b[43m,\u001b[49m\u001b[43m \u001b[49m\u001b[38;5;241;43m*\u001b[39;49m\u001b[38;5;241;43m*\u001b[39;49m\u001b[43mkwargs\u001b[49m\u001b[43m)\u001b[49m\n",
      "File \u001b[0;32m~/anaconda3/envs/gerry/lib/python3.11/site-packages/maup/intersections.py:32\u001b[0m, in \u001b[0;36mintersections\u001b[0;34m(sources, targets, output_type, area_cutoff)\u001b[0m\n\u001b[1;32m     29\u001b[0m reindexed_targets \u001b[38;5;241m=\u001b[39m get_geometries_with_range_index(targets)\n\u001b[1;32m     30\u001b[0m spatially_indexed_sources \u001b[38;5;241m=\u001b[39m IndexedGeometries(reindexed_sources)\n\u001b[0;32m---> 32\u001b[0m records \u001b[38;5;241m=\u001b[39m \u001b[43m[\u001b[49m\n\u001b[1;32m     33\u001b[0m \u001b[43m    \u001b[49m\u001b[38;5;66;43;03m# Flip i, j to j, i so that the index is [\"source\", \"target\"]\u001b[39;49;00m\n\u001b[1;32m     34\u001b[0m \u001b[43m    \u001b[49m\u001b[43m(\u001b[49m\u001b[43msources\u001b[49m\u001b[38;5;241;43m.\u001b[39;49m\u001b[43mindex\u001b[49m\u001b[43m[\u001b[49m\u001b[43mj\u001b[49m\u001b[43m]\u001b[49m\u001b[43m,\u001b[49m\u001b[43m \u001b[49m\u001b[43mtargets\u001b[49m\u001b[38;5;241;43m.\u001b[39;49m\u001b[43mindex\u001b[49m\u001b[43m[\u001b[49m\u001b[43mi\u001b[49m\u001b[43m]\u001b[49m\u001b[43m,\u001b[49m\u001b[43m \u001b[49m\u001b[43mgeometry\u001b[49m\u001b[43m)\u001b[49m\n\u001b[1;32m     35\u001b[0m \u001b[43m    \u001b[49m\u001b[38;5;28;43;01mfor\u001b[39;49;00m\u001b[43m \u001b[49m\u001b[43mi\u001b[49m\u001b[43m,\u001b[49m\u001b[43m \u001b[49m\u001b[43mj\u001b[49m\u001b[43m,\u001b[49m\u001b[43m \u001b[49m\u001b[43mgeometry\u001b[49m\u001b[43m \u001b[49m\u001b[38;5;129;43;01min\u001b[39;49;00m\u001b[43m \u001b[49m\u001b[43mspatially_indexed_sources\u001b[49m\u001b[38;5;241;43m.\u001b[39;49m\u001b[43menumerate_intersections\u001b[49m\u001b[43m(\u001b[49m\n\u001b[1;32m     36\u001b[0m \u001b[43m        \u001b[49m\u001b[43mreindexed_targets\u001b[49m\n\u001b[1;32m     37\u001b[0m \u001b[43m    \u001b[49m\u001b[43m)\u001b[49m\n\u001b[1;32m     38\u001b[0m \u001b[43m\u001b[49m\u001b[43m]\u001b[49m\n\u001b[1;32m     40\u001b[0m df \u001b[38;5;241m=\u001b[39m GeoDataFrame(records, columns\u001b[38;5;241m=\u001b[39m[\u001b[38;5;124m\"\u001b[39m\u001b[38;5;124msource\u001b[39m\u001b[38;5;124m\"\u001b[39m, \u001b[38;5;124m\"\u001b[39m\u001b[38;5;124mtarget\u001b[39m\u001b[38;5;124m\"\u001b[39m, \u001b[38;5;124m\"\u001b[39m\u001b[38;5;124mgeometry\u001b[39m\u001b[38;5;124m\"\u001b[39m], crs\u001b[38;5;241m=\u001b[39msources\u001b[38;5;241m.\u001b[39mcrs)\n\u001b[1;32m     41\u001b[0m df \u001b[38;5;241m=\u001b[39m df\u001b[38;5;241m.\u001b[39msort_values(by\u001b[38;5;241m=\u001b[39m[\u001b[38;5;124m\"\u001b[39m\u001b[38;5;124msource\u001b[39m\u001b[38;5;124m\"\u001b[39m, \u001b[38;5;124m\"\u001b[39m\u001b[38;5;124mtarget\u001b[39m\u001b[38;5;124m\"\u001b[39m])\u001b[38;5;241m.\u001b[39mreset_index(drop\u001b[38;5;241m=\u001b[39m\u001b[38;5;28;01mTrue\u001b[39;00m)\n",
      "File \u001b[0;32m~/anaconda3/envs/gerry/lib/python3.11/site-packages/maup/intersections.py:32\u001b[0m, in \u001b[0;36m<listcomp>\u001b[0;34m(.0)\u001b[0m\n\u001b[1;32m     29\u001b[0m reindexed_targets \u001b[38;5;241m=\u001b[39m get_geometries_with_range_index(targets)\n\u001b[1;32m     30\u001b[0m spatially_indexed_sources \u001b[38;5;241m=\u001b[39m IndexedGeometries(reindexed_sources)\n\u001b[0;32m---> 32\u001b[0m records \u001b[38;5;241m=\u001b[39m \u001b[43m[\u001b[49m\n\u001b[1;32m     33\u001b[0m \u001b[43m    \u001b[49m\u001b[38;5;66;43;03m# Flip i, j to j, i so that the index is [\"source\", \"target\"]\u001b[39;49;00m\n\u001b[1;32m     34\u001b[0m \u001b[43m    \u001b[49m\u001b[43m(\u001b[49m\u001b[43msources\u001b[49m\u001b[38;5;241;43m.\u001b[39;49m\u001b[43mindex\u001b[49m\u001b[43m[\u001b[49m\u001b[43mj\u001b[49m\u001b[43m]\u001b[49m\u001b[43m,\u001b[49m\u001b[43m \u001b[49m\u001b[43mtargets\u001b[49m\u001b[38;5;241;43m.\u001b[39;49m\u001b[43mindex\u001b[49m\u001b[43m[\u001b[49m\u001b[43mi\u001b[49m\u001b[43m]\u001b[49m\u001b[43m,\u001b[49m\u001b[43m \u001b[49m\u001b[43mgeometry\u001b[49m\u001b[43m)\u001b[49m\n\u001b[1;32m     35\u001b[0m \u001b[43m    \u001b[49m\u001b[38;5;28;43;01mfor\u001b[39;49;00m\u001b[43m \u001b[49m\u001b[43mi\u001b[49m\u001b[43m,\u001b[49m\u001b[43m \u001b[49m\u001b[43mj\u001b[49m\u001b[43m,\u001b[49m\u001b[43m \u001b[49m\u001b[43mgeometry\u001b[49m\u001b[43m \u001b[49m\u001b[38;5;129;43;01min\u001b[39;49;00m\u001b[43m \u001b[49m\u001b[43mspatially_indexed_sources\u001b[49m\u001b[38;5;241;43m.\u001b[39;49m\u001b[43menumerate_intersections\u001b[49m\u001b[43m(\u001b[49m\n\u001b[1;32m     36\u001b[0m \u001b[43m        \u001b[49m\u001b[43mreindexed_targets\u001b[49m\n\u001b[1;32m     37\u001b[0m \u001b[43m    \u001b[49m\u001b[43m)\u001b[49m\n\u001b[1;32m     38\u001b[0m \u001b[43m\u001b[49m\u001b[43m]\u001b[49m\n\u001b[1;32m     40\u001b[0m df \u001b[38;5;241m=\u001b[39m GeoDataFrame(records, columns\u001b[38;5;241m=\u001b[39m[\u001b[38;5;124m\"\u001b[39m\u001b[38;5;124msource\u001b[39m\u001b[38;5;124m\"\u001b[39m, \u001b[38;5;124m\"\u001b[39m\u001b[38;5;124mtarget\u001b[39m\u001b[38;5;124m\"\u001b[39m, \u001b[38;5;124m\"\u001b[39m\u001b[38;5;124mgeometry\u001b[39m\u001b[38;5;124m\"\u001b[39m], crs\u001b[38;5;241m=\u001b[39msources\u001b[38;5;241m.\u001b[39mcrs)\n\u001b[1;32m     41\u001b[0m df \u001b[38;5;241m=\u001b[39m df\u001b[38;5;241m.\u001b[39msort_values(by\u001b[38;5;241m=\u001b[39m[\u001b[38;5;124m\"\u001b[39m\u001b[38;5;124msource\u001b[39m\u001b[38;5;124m\"\u001b[39m, \u001b[38;5;124m\"\u001b[39m\u001b[38;5;124mtarget\u001b[39m\u001b[38;5;124m\"\u001b[39m])\u001b[38;5;241m.\u001b[39mreset_index(drop\u001b[38;5;241m=\u001b[39m\u001b[38;5;28;01mTrue\u001b[39;00m)\n",
      "File \u001b[0;32m~/anaconda3/envs/gerry/lib/python3.11/site-packages/maup/indexed_geometries.py:76\u001b[0m, in \u001b[0;36mIndexedGeometries.enumerate_intersections\u001b[0;34m(self, targets)\u001b[0m\n\u001b[1;32m     74\u001b[0m target_geometries \u001b[38;5;241m=\u001b[39m get_geometries(targets)\n\u001b[1;32m     75\u001b[0m \u001b[38;5;28;01mfor\u001b[39;00m i, target \u001b[38;5;129;01min\u001b[39;00m progress(target_geometries\u001b[38;5;241m.\u001b[39mitems(), \u001b[38;5;28mlen\u001b[39m(target_geometries)):\n\u001b[0;32m---> 76\u001b[0m     \u001b[38;5;28;01mfor\u001b[39;00m j, intersection \u001b[38;5;129;01min\u001b[39;00m \u001b[38;5;28;43mself\u001b[39;49m\u001b[38;5;241;43m.\u001b[39;49m\u001b[43mintersections\u001b[49m\u001b[43m(\u001b[49m\u001b[43mtarget\u001b[49m\u001b[43m)\u001b[49m\u001b[38;5;241m.\u001b[39mitems():\n\u001b[1;32m     77\u001b[0m         \u001b[38;5;28;01myield\u001b[39;00m i, j, intersection\n",
      "File \u001b[0;32m~/anaconda3/envs/gerry/lib/python3.11/site-packages/maup/indexed_geometries.py:33\u001b[0m, in \u001b[0;36mIndexedGeometries.intersections\u001b[0;34m(self, geometry)\u001b[0m\n\u001b[1;32m     31\u001b[0m \u001b[38;5;28;01mdef\u001b[39;00m \u001b[38;5;21mintersections\u001b[39m(\u001b[38;5;28mself\u001b[39m, geometry):\n\u001b[1;32m     32\u001b[0m     relevant_geometries \u001b[38;5;241m=\u001b[39m \u001b[38;5;28mself\u001b[39m\u001b[38;5;241m.\u001b[39mquery(geometry)\n\u001b[0;32m---> 33\u001b[0m     intersections \u001b[38;5;241m=\u001b[39m \u001b[43mrelevant_geometries\u001b[49m\u001b[38;5;241;43m.\u001b[39;49m\u001b[43mintersection\u001b[49m\u001b[43m(\u001b[49m\u001b[43mgeometry\u001b[49m\u001b[43m)\u001b[49m\n\u001b[1;32m     34\u001b[0m     \u001b[38;5;28;01mreturn\u001b[39;00m intersections[\u001b[38;5;241m-\u001b[39m(intersections\u001b[38;5;241m.\u001b[39mis_empty \u001b[38;5;241m|\u001b[39m intersections\u001b[38;5;241m.\u001b[39misna())]\n",
      "File \u001b[0;32m~/anaconda3/envs/gerry/lib/python3.11/site-packages/geopandas/base.py:3266\u001b[0m, in \u001b[0;36mGeoPandasBase.intersection\u001b[0;34m(self, other, align)\u001b[0m\n\u001b[1;32m   3155\u001b[0m \u001b[38;5;28;01mdef\u001b[39;00m \u001b[38;5;21mintersection\u001b[39m(\u001b[38;5;28mself\u001b[39m, other, align\u001b[38;5;241m=\u001b[39m\u001b[38;5;28;01mTrue\u001b[39;00m):\n\u001b[1;32m   3156\u001b[0m \u001b[38;5;250m    \u001b[39m\u001b[38;5;124;03m\"\"\"Returns a ``GeoSeries`` of the intersection of points in each\u001b[39;00m\n\u001b[1;32m   3157\u001b[0m \u001b[38;5;124;03m    aligned geometry with `other`.\u001b[39;00m\n\u001b[1;32m   3158\u001b[0m \n\u001b[0;32m   (...)\u001b[0m\n\u001b[1;32m   3264\u001b[0m \u001b[38;5;124;03m    GeoSeries.union\u001b[39;00m\n\u001b[1;32m   3265\u001b[0m \u001b[38;5;124;03m    \"\"\"\u001b[39;00m\n\u001b[0;32m-> 3266\u001b[0m     \u001b[38;5;28;01mreturn\u001b[39;00m \u001b[43m_binary_geo\u001b[49m\u001b[43m(\u001b[49m\u001b[38;5;124;43m\"\u001b[39;49m\u001b[38;5;124;43mintersection\u001b[39;49m\u001b[38;5;124;43m\"\u001b[39;49m\u001b[43m,\u001b[49m\u001b[43m \u001b[49m\u001b[38;5;28;43mself\u001b[39;49m\u001b[43m,\u001b[49m\u001b[43m \u001b[49m\u001b[43mother\u001b[49m\u001b[43m,\u001b[49m\u001b[43m \u001b[49m\u001b[43malign\u001b[49m\u001b[43m)\u001b[49m\n",
      "File \u001b[0;32m~/anaconda3/envs/gerry/lib/python3.11/site-packages/geopandas/base.py:56\u001b[0m, in \u001b[0;36m_binary_geo\u001b[0;34m(op, this, other, align)\u001b[0m\n\u001b[1;32m     53\u001b[0m \u001b[38;5;250m\u001b[39m\u001b[38;5;124;03m\"\"\"Binary operation on GeoSeries objects that returns a GeoSeries\"\"\"\u001b[39;00m\n\u001b[1;32m     54\u001b[0m \u001b[38;5;28;01mfrom\u001b[39;00m \u001b[38;5;21;01m.\u001b[39;00m\u001b[38;5;21;01mgeoseries\u001b[39;00m \u001b[38;5;28;01mimport\u001b[39;00m GeoSeries\n\u001b[0;32m---> 56\u001b[0m geoms, index \u001b[38;5;241m=\u001b[39m \u001b[43m_delegate_binary_method\u001b[49m\u001b[43m(\u001b[49m\u001b[43mop\u001b[49m\u001b[43m,\u001b[49m\u001b[43m \u001b[49m\u001b[43mthis\u001b[49m\u001b[43m,\u001b[49m\u001b[43m \u001b[49m\u001b[43mother\u001b[49m\u001b[43m,\u001b[49m\u001b[43m \u001b[49m\u001b[43malign\u001b[49m\u001b[43m)\u001b[49m\n\u001b[1;32m     57\u001b[0m \u001b[38;5;28;01mreturn\u001b[39;00m GeoSeries(geoms, index\u001b[38;5;241m=\u001b[39mindex, crs\u001b[38;5;241m=\u001b[39mthis\u001b[38;5;241m.\u001b[39mcrs)\n",
      "File \u001b[0;32m~/anaconda3/envs/gerry/lib/python3.11/site-packages/geopandas/base.py:47\u001b[0m, in \u001b[0;36m_delegate_binary_method\u001b[0;34m(op, this, other, align, *args, **kwargs)\u001b[0m\n\u001b[1;32m     44\u001b[0m \u001b[38;5;28;01melse\u001b[39;00m:\n\u001b[1;32m     45\u001b[0m     \u001b[38;5;28;01mraise\u001b[39;00m \u001b[38;5;167;01mTypeError\u001b[39;00m(\u001b[38;5;28mtype\u001b[39m(this), \u001b[38;5;28mtype\u001b[39m(other))\n\u001b[0;32m---> 47\u001b[0m data \u001b[38;5;241m=\u001b[39m \u001b[38;5;28;43mgetattr\u001b[39;49m\u001b[43m(\u001b[49m\u001b[43ma_this\u001b[49m\u001b[43m,\u001b[49m\u001b[43m \u001b[49m\u001b[43mop\u001b[49m\u001b[43m)\u001b[49m\u001b[43m(\u001b[49m\u001b[43mother\u001b[49m\u001b[43m,\u001b[49m\u001b[43m \u001b[49m\u001b[38;5;241;43m*\u001b[39;49m\u001b[43margs\u001b[49m\u001b[43m,\u001b[49m\u001b[43m \u001b[49m\u001b[38;5;241;43m*\u001b[39;49m\u001b[38;5;241;43m*\u001b[39;49m\u001b[43mkwargs\u001b[49m\u001b[43m)\u001b[49m\n\u001b[1;32m     48\u001b[0m \u001b[38;5;28;01mreturn\u001b[39;00m data, this\u001b[38;5;241m.\u001b[39mindex\n",
      "File \u001b[0;32m~/anaconda3/envs/gerry/lib/python3.11/site-packages/geopandas/array.py:671\u001b[0m, in \u001b[0;36mGeometryArray.intersection\u001b[0;34m(self, other)\u001b[0m\n\u001b[1;32m    669\u001b[0m \u001b[38;5;28;01mdef\u001b[39;00m \u001b[38;5;21mintersection\u001b[39m(\u001b[38;5;28mself\u001b[39m, other):\n\u001b[1;32m    670\u001b[0m     \u001b[38;5;28;01mreturn\u001b[39;00m GeometryArray(\n\u001b[0;32m--> 671\u001b[0m         \u001b[38;5;28;43mself\u001b[39;49m\u001b[38;5;241;43m.\u001b[39;49m\u001b[43m_binary_method\u001b[49m\u001b[43m(\u001b[49m\u001b[38;5;124;43m\"\u001b[39;49m\u001b[38;5;124;43mintersection\u001b[39;49m\u001b[38;5;124;43m\"\u001b[39;49m\u001b[43m,\u001b[49m\u001b[43m \u001b[49m\u001b[38;5;28;43mself\u001b[39;49m\u001b[43m,\u001b[49m\u001b[43m \u001b[49m\u001b[43mother\u001b[49m\u001b[43m)\u001b[49m, crs\u001b[38;5;241m=\u001b[39m\u001b[38;5;28mself\u001b[39m\u001b[38;5;241m.\u001b[39mcrs\n\u001b[1;32m    672\u001b[0m     )\n",
      "File \u001b[0;32m~/anaconda3/envs/gerry/lib/python3.11/site-packages/geopandas/array.py:611\u001b[0m, in \u001b[0;36mGeometryArray._binary_method\u001b[0;34m(op, left, right, **kwargs)\u001b[0m\n\u001b[1;32m    608\u001b[0m         _crs_mismatch_warn(left, right, stacklevel\u001b[38;5;241m=\u001b[39m\u001b[38;5;241m7\u001b[39m)\n\u001b[1;32m    609\u001b[0m     right \u001b[38;5;241m=\u001b[39m right\u001b[38;5;241m.\u001b[39m_data\n\u001b[0;32m--> 611\u001b[0m \u001b[38;5;28;01mreturn\u001b[39;00m \u001b[38;5;28;43mgetattr\u001b[39;49m\u001b[43m(\u001b[49m\u001b[43mvectorized\u001b[49m\u001b[43m,\u001b[49m\u001b[43m \u001b[49m\u001b[43mop\u001b[49m\u001b[43m)\u001b[49m\u001b[43m(\u001b[49m\u001b[43mleft\u001b[49m\u001b[38;5;241;43m.\u001b[39;49m\u001b[43m_data\u001b[49m\u001b[43m,\u001b[49m\u001b[43m \u001b[49m\u001b[43mright\u001b[49m\u001b[43m,\u001b[49m\u001b[43m \u001b[49m\u001b[38;5;241;43m*\u001b[39;49m\u001b[38;5;241;43m*\u001b[39;49m\u001b[43mkwargs\u001b[49m\u001b[43m)\u001b[49m\n",
      "File \u001b[0;32m~/anaconda3/envs/gerry/lib/python3.11/site-packages/geopandas/_vectorized.py:938\u001b[0m, in \u001b[0;36mintersection\u001b[0;34m(data, other)\u001b[0m\n\u001b[1;32m    936\u001b[0m \u001b[38;5;28;01mdef\u001b[39;00m \u001b[38;5;21mintersection\u001b[39m(data, other):\n\u001b[1;32m    937\u001b[0m     \u001b[38;5;28;01mif\u001b[39;00m compat\u001b[38;5;241m.\u001b[39mUSE_SHAPELY_20:\n\u001b[0;32m--> 938\u001b[0m         \u001b[38;5;28;01mreturn\u001b[39;00m \u001b[43mshapely\u001b[49m\u001b[38;5;241;43m.\u001b[39;49m\u001b[43mintersection\u001b[49m\u001b[43m(\u001b[49m\u001b[43mdata\u001b[49m\u001b[43m,\u001b[49m\u001b[43m \u001b[49m\u001b[43mother\u001b[49m\u001b[43m)\u001b[49m\n\u001b[1;32m    939\u001b[0m     \u001b[38;5;28;01melif\u001b[39;00m compat\u001b[38;5;241m.\u001b[39mUSE_PYGEOS:\n\u001b[1;32m    940\u001b[0m         \u001b[38;5;28;01mreturn\u001b[39;00m _binary_method(\u001b[38;5;124m\"\u001b[39m\u001b[38;5;124mintersection\u001b[39m\u001b[38;5;124m\"\u001b[39m, data, other)\n",
      "File \u001b[0;32m~/anaconda3/envs/gerry/lib/python3.11/site-packages/shapely/decorators.py:77\u001b[0m, in \u001b[0;36mmultithreading_enabled.<locals>.wrapped\u001b[0;34m(*args, **kwargs)\u001b[0m\n\u001b[1;32m     75\u001b[0m     \u001b[38;5;28;01mfor\u001b[39;00m arr \u001b[38;5;129;01min\u001b[39;00m array_args:\n\u001b[1;32m     76\u001b[0m         arr\u001b[38;5;241m.\u001b[39mflags\u001b[38;5;241m.\u001b[39mwriteable \u001b[38;5;241m=\u001b[39m \u001b[38;5;28;01mFalse\u001b[39;00m\n\u001b[0;32m---> 77\u001b[0m     \u001b[38;5;28;01mreturn\u001b[39;00m \u001b[43mfunc\u001b[49m\u001b[43m(\u001b[49m\u001b[38;5;241;43m*\u001b[39;49m\u001b[43margs\u001b[49m\u001b[43m,\u001b[49m\u001b[43m \u001b[49m\u001b[38;5;241;43m*\u001b[39;49m\u001b[38;5;241;43m*\u001b[39;49m\u001b[43mkwargs\u001b[49m\u001b[43m)\u001b[49m\n\u001b[1;32m     78\u001b[0m \u001b[38;5;28;01mfinally\u001b[39;00m:\n\u001b[1;32m     79\u001b[0m     \u001b[38;5;28;01mfor\u001b[39;00m arr, old_flag \u001b[38;5;129;01min\u001b[39;00m \u001b[38;5;28mzip\u001b[39m(array_args, old_flags):\n",
      "File \u001b[0;32m~/anaconda3/envs/gerry/lib/python3.11/site-packages/shapely/set_operations.py:131\u001b[0m, in \u001b[0;36mintersection\u001b[0;34m(a, b, grid_size, **kwargs)\u001b[0m\n\u001b[1;32m    127\u001b[0m         \u001b[38;5;28;01mraise\u001b[39;00m \u001b[38;5;167;01mValueError\u001b[39;00m(\u001b[38;5;124m\"\u001b[39m\u001b[38;5;124mgrid_size parameter only accepts scalar values\u001b[39m\u001b[38;5;124m\"\u001b[39m)\n\u001b[1;32m    129\u001b[0m     \u001b[38;5;28;01mreturn\u001b[39;00m lib\u001b[38;5;241m.\u001b[39mintersection_prec(a, b, grid_size, \u001b[38;5;241m*\u001b[39m\u001b[38;5;241m*\u001b[39mkwargs)\n\u001b[0;32m--> 131\u001b[0m \u001b[38;5;28;01mreturn\u001b[39;00m \u001b[43mlib\u001b[49m\u001b[38;5;241;43m.\u001b[39;49m\u001b[43mintersection\u001b[49m\u001b[43m(\u001b[49m\u001b[43ma\u001b[49m\u001b[43m,\u001b[49m\u001b[43m \u001b[49m\u001b[43mb\u001b[49m\u001b[43m,\u001b[49m\u001b[43m \u001b[49m\u001b[38;5;241;43m*\u001b[39;49m\u001b[38;5;241;43m*\u001b[39;49m\u001b[43mkwargs\u001b[49m\u001b[43m)\u001b[49m\n",
      "\u001b[0;31mGEOSException\u001b[0m: TopologyException: side location conflict at -108.29615739455946 45.000172501550544. This can occur if the input geometry is invalid."
     ]
    }
   ],
   "source": [
    "vest_base = vest_base.to_crs('EPSG:4269')\n",
    "blocks_to_precincts_assignment = maup.assign(population_df.geometry, vest_base.geometry)"
   ]
  },
  {
   "cell_type": "markdown",
   "metadata": {},
   "source": [
    "Try without min_rook_length:"
   ]
  },
  {
   "cell_type": "code",
   "execution_count": 66,
   "metadata": {},
   "outputs": [
    {
     "name": "stderr",
     "output_type": "stream",
     "text": [
      "100%|█████████████████████████████████████████| 23/23 [00:00<00:00, 1719.25it/s]\n"
     ]
    },
    {
     "name": "stdout",
     "output_type": "stream",
     "text": [
      "Snapping all geometries to a grid with precision 10^( -5 ) to avoid GEOS errors.\n"
     ]
    },
    {
     "name": "stderr",
     "output_type": "stream",
     "text": [
      "100%|█████████████████████████████████████████| 23/23 [00:00<00:00, 1662.83it/s]\n",
      "100%|██████████████████████████████████████████| 23/23 [00:00<00:00, 157.62it/s]\n"
     ]
    },
    {
     "name": "stdout",
     "output_type": "stream",
     "text": [
      "Identifying overlaps...\n"
     ]
    },
    {
     "name": "stderr",
     "output_type": "stream",
     "text": [
      "100%|█████████████████████████████████████| 6814/6814 [00:03<00:00, 2268.45it/s]\n"
     ]
    },
    {
     "name": "stdout",
     "output_type": "stream",
     "text": [
      "Resolving overlaps and filling gaps...\n"
     ]
    },
    {
     "name": "stderr",
     "output_type": "stream",
     "text": [
      "100%|█████████████████████████████████████████| 23/23 [00:00<00:00, 1633.16it/s]\n",
      "100%|██████████████████████████████████████████| 23/23 [00:00<00:00, 167.81it/s]\n",
      "Gaps to simplify in region 0: 100%|█████████████| 41/41 [00:00<00:00, 45.49it/s]\n",
      "Gaps to fill: 0it [00:00, ?it/s]\n",
      "Gaps to simplify in region 1: 100%|███████████| 558/558 [00:06<00:00, 83.00it/s]\n",
      "Gaps to fill in region 1: 100%|███████████████████| 2/2 [00:00<00:00, 36.73it/s]\n",
      "Gaps to simplify in region 2: 100%|█████████| 1063/1063 [00:32<00:00, 32.87it/s]\n",
      "Gaps to fill in region 2: 100%|███████████████████| 7/7 [00:00<00:00, 15.43it/s]\n",
      "Gaps to simplify in region 3: 100%|███████████| 403/403 [00:04<00:00, 95.74it/s]\n",
      "Gaps to fill in region 3: 100%|███████████████████| 5/5 [00:00<00:00, 17.64it/s]\n",
      "Gaps to simplify in region 4: 100%|█████████████| 73/73 [00:00<00:00, 78.57it/s]\n",
      "Gaps to fill in region 4: 100%|███████████████████| 4/4 [00:00<00:00, 69.87it/s]\n",
      "Gaps to simplify in region 5: 100%|███████████| 367/367 [00:07<00:00, 46.54it/s]\n",
      "Gaps to fill in region 5: 100%|███████████████████| 2/2 [00:00<00:00, 27.23it/s]\n",
      "Gaps to simplify in region 6: 100%|█████████████| 54/54 [00:00<00:00, 70.32it/s]\n",
      "Gaps to fill in region 6: 100%|███████████████████| 1/1 [00:00<00:00, 41.54it/s]\n",
      "Gaps to simplify in region 7: 100%|█████████████| 80/80 [00:01<00:00, 57.82it/s]\n",
      "Gaps to fill in region 7: 100%|███████████████████| 1/1 [00:00<00:00, 22.26it/s]\n",
      "Gaps to simplify in region 8: 100%|█████████████| 94/94 [00:03<00:00, 24.32it/s]\n",
      "Gaps to fill in region 8: 100%|███████████████████| 3/3 [00:00<00:00,  6.69it/s]\n",
      "Gaps to simplify in region 9: 100%|█████████████| 76/76 [00:00<00:00, 76.16it/s]\n",
      "Gaps to fill in region 9: 100%|███████████████████| 5/5 [00:00<00:00, 44.63it/s]\n",
      "Gaps to simplify in region 10: 100%|██████████| 258/258 [00:09<00:00, 27.57it/s]\n",
      "Gaps to fill in region 10: 100%|██████████████████| 4/4 [00:00<00:00,  6.73it/s]\n",
      "Gaps to simplify in region 11: 100%|████████████| 66/66 [00:00<00:00, 67.96it/s]\n",
      "Gaps to fill in region 11: 100%|██████████████████| 4/4 [00:00<00:00, 24.79it/s]\n",
      "Gaps to simplify in region 12: 100%|████████████| 75/75 [00:03<00:00, 19.02it/s]\n",
      "Gaps to fill in region 12: 100%|██████████████████| 1/1 [00:00<00:00,  6.55it/s]\n",
      "Gaps to simplify in region 13: 100%|███████████| 85/85 [00:00<00:00, 104.78it/s]\n",
      "Gaps to fill: 0it [00:00, ?it/s]\n",
      "Gaps to simplify in region 14: 100%|█████████| 173/173 [00:01<00:00, 111.00it/s]\n",
      "Gaps to fill in region 14: 100%|██████████████████| 3/3 [00:00<00:00, 30.75it/s]\n",
      "Gaps to simplify in region 15: 100%|██████████| 157/157 [00:01<00:00, 80.57it/s]\n",
      "Gaps to fill: 0it [00:00, ?it/s]\n",
      "Gaps to simplify in region 16: 100%|████████████| 58/58 [00:01<00:00, 41.56it/s]\n",
      "Gaps to fill in region 16: 100%|██████████████████| 4/4 [00:00<00:00, 16.05it/s]\n",
      "Gaps to simplify in region 17: 100%|████████████| 56/56 [00:01<00:00, 49.34it/s]\n",
      "Gaps to fill in region 17: 100%|██████████████████| 6/6 [00:00<00:00, 37.92it/s]\n",
      "Gaps to simplify in region 18: 100%|████████████| 87/87 [00:02<00:00, 29.27it/s]\n",
      "Gaps to fill in region 18: 100%|██████████████████| 2/2 [00:00<00:00, 20.63it/s]\n",
      "Gaps to simplify in region 19: 100%|████████████| 76/76 [00:01<00:00, 74.91it/s]\n",
      "Gaps to fill in region 19: 100%|██████████████████| 2/2 [00:00<00:00, 37.89it/s]\n",
      "Gaps to simplify in region 20: 100%|████████████| 61/61 [00:01<00:00, 47.30it/s]\n",
      "Gaps to fill in region 20: 100%|██████████████████| 5/5 [00:00<00:00, 53.73it/s]\n",
      "Gaps to simplify in region 21: 100%|██████████| 240/240 [00:02<00:00, 81.33it/s]\n",
      "Gaps to fill in region 21: 100%|██████████████████| 4/4 [00:00<00:00, 34.02it/s]\n",
      "Gaps to simplify in region 22: 100%|████████████| 20/20 [00:00<00:00, 42.77it/s]\n",
      "Gaps to fill: 0it [00:00, ?it/s]\n"
     ]
    }
   ],
   "source": [
    "vest_base = add_vest_base(vest_base_data, start_col, year, county = county_df)"
   ]
  },
  {
   "cell_type": "code",
   "execution_count": 67,
   "metadata": {},
   "outputs": [
    {
     "name": "stderr",
     "output_type": "stream",
     "text": [
      "100%|████████████████████████████████████████| 481/481 [00:00<00:00, 632.73it/s]\n"
     ]
    },
    {
     "data": {
      "text/plain": [
       "True"
      ]
     },
     "execution_count": 67,
     "metadata": {},
     "output_type": "execute_result"
    }
   ],
   "source": [
    "maup.doctor(vest_base)"
   ]
  },
  {
   "cell_type": "code",
   "execution_count": 68,
   "metadata": {},
   "outputs": [
    {
     "data": {
      "text/html": [
       "<div>\n",
       "<style scoped>\n",
       "    .dataframe tbody tr th:only-of-type {\n",
       "        vertical-align: middle;\n",
       "    }\n",
       "\n",
       "    .dataframe tbody tr th {\n",
       "        vertical-align: top;\n",
       "    }\n",
       "\n",
       "    .dataframe thead th {\n",
       "        text-align: right;\n",
       "    }\n",
       "</style>\n",
       "<table border=\"1\" class=\"dataframe\">\n",
       "  <thead>\n",
       "    <tr style=\"text-align: right;\">\n",
       "      <th></th>\n",
       "      <th>COUNTYFP20</th>\n",
       "      <th>HAL20D</th>\n",
       "      <th>HAL20O</th>\n",
       "      <th>HAL20R</th>\n",
       "      <th>NAME20</th>\n",
       "      <th>PRE20D</th>\n",
       "      <th>PRE20O</th>\n",
       "      <th>PRE20R</th>\n",
       "      <th>STATEFP20</th>\n",
       "      <th>USS20D</th>\n",
       "      <th>USS20O</th>\n",
       "      <th>USS20R</th>\n",
       "      <th>VTDST20</th>\n",
       "      <th>geometry</th>\n",
       "    </tr>\n",
       "  </thead>\n",
       "  <tbody>\n",
       "  </tbody>\n",
       "</table>\n",
       "</div>"
      ],
      "text/plain": [
       "Empty GeoDataFrame\n",
       "Columns: [COUNTYFP20, HAL20D, HAL20O, HAL20R, NAME20, PRE20D, PRE20O, PRE20R, STATEFP20, USS20D, USS20O, USS20R, VTDST20, geometry]\n",
       "Index: []"
      ]
     },
     "execution_count": 68,
     "metadata": {},
     "output_type": "execute_result"
    }
   ],
   "source": [
    "vest_base[~vest_base.geom_type.isin(['Polygon', 'MultiPolygon'])]"
   ]
  },
  {
   "cell_type": "code",
   "execution_count": 69,
   "metadata": {},
   "outputs": [
    {
     "data": {
      "text/html": [
       "<div>\n",
       "<style scoped>\n",
       "    .dataframe tbody tr th:only-of-type {\n",
       "        vertical-align: middle;\n",
       "    }\n",
       "\n",
       "    .dataframe tbody tr th {\n",
       "        vertical-align: top;\n",
       "    }\n",
       "\n",
       "    .dataframe thead th {\n",
       "        text-align: right;\n",
       "    }\n",
       "</style>\n",
       "<table border=\"1\" class=\"dataframe\">\n",
       "  <thead>\n",
       "    <tr style=\"text-align: right;\">\n",
       "      <th></th>\n",
       "      <th>COUNTYFP20</th>\n",
       "      <th>HAL20D</th>\n",
       "      <th>HAL20O</th>\n",
       "      <th>HAL20R</th>\n",
       "      <th>NAME20</th>\n",
       "      <th>PRE20D</th>\n",
       "      <th>PRE20O</th>\n",
       "      <th>PRE20R</th>\n",
       "      <th>STATEFP20</th>\n",
       "      <th>USS20D</th>\n",
       "      <th>USS20O</th>\n",
       "      <th>USS20R</th>\n",
       "      <th>VTDST20</th>\n",
       "      <th>geometry</th>\n",
       "    </tr>\n",
       "  </thead>\n",
       "  <tbody>\n",
       "  </tbody>\n",
       "</table>\n",
       "</div>"
      ],
      "text/plain": [
       "Empty GeoDataFrame\n",
       "Columns: [COUNTYFP20, HAL20D, HAL20O, HAL20R, NAME20, PRE20D, PRE20O, PRE20R, STATEFP20, USS20D, USS20O, USS20R, VTDST20, geometry]\n",
       "Index: []"
      ]
     },
     "execution_count": 69,
     "metadata": {},
     "output_type": "execute_result"
    }
   ],
   "source": [
    "vest_base[~vest_base.is_valid]"
   ]
  },
  {
   "cell_type": "code",
   "execution_count": 70,
   "metadata": {},
   "outputs": [
    {
     "data": {
      "text/html": [
       "<div>\n",
       "<style scoped>\n",
       "    .dataframe tbody tr th:only-of-type {\n",
       "        vertical-align: middle;\n",
       "    }\n",
       "\n",
       "    .dataframe tbody tr th {\n",
       "        vertical-align: top;\n",
       "    }\n",
       "\n",
       "    .dataframe thead th {\n",
       "        text-align: right;\n",
       "    }\n",
       "</style>\n",
       "<table border=\"1\" class=\"dataframe\">\n",
       "  <thead>\n",
       "    <tr style=\"text-align: right;\">\n",
       "      <th></th>\n",
       "      <th>GEOID20</th>\n",
       "      <th>SUMLEV</th>\n",
       "      <th>LOGRECNO</th>\n",
       "      <th>GEOID</th>\n",
       "      <th>COUNTY</th>\n",
       "      <th>P0010001</th>\n",
       "      <th>P0010002</th>\n",
       "      <th>P0010003</th>\n",
       "      <th>P0010004</th>\n",
       "      <th>P0010005</th>\n",
       "      <th>...</th>\n",
       "      <th>P0040071</th>\n",
       "      <th>P0040072</th>\n",
       "      <th>P0040073</th>\n",
       "      <th>H_WHITE</th>\n",
       "      <th>H_BLACK</th>\n",
       "      <th>H_AMIN</th>\n",
       "      <th>H_ASIAN</th>\n",
       "      <th>H_NHPI</th>\n",
       "      <th>H_OTHER</th>\n",
       "      <th>H_2MORE</th>\n",
       "    </tr>\n",
       "  </thead>\n",
       "  <tbody>\n",
       "  </tbody>\n",
       "</table>\n",
       "<p>0 rows × 230 columns</p>\n",
       "</div>"
      ],
      "text/plain": [
       "Empty GeoDataFrame\n",
       "Columns: [GEOID20, SUMLEV, LOGRECNO, GEOID, COUNTY, P0010001, P0010002, P0010003, P0010004, P0010005, P0010006, P0010007, P0010008, P0010009, P0010010, P0010011, P0010012, P0010013, P0010014, P0010015, P0010016, P0010017, P0010018, P0010019, P0010020, P0010021, P0010022, P0010023, P0010024, P0010025, P0010026, P0010027, P0010028, P0010029, P0010030, P0010031, P0010032, P0010033, P0010034, P0010035, P0010036, P0010037, P0010038, P0010039, P0010040, P0010041, P0010042, P0010043, P0010044, P0010045, P0010046, P0010047, P0010048, P0010049, P0010050, P0010051, P0010052, P0010053, P0010054, P0010055, P0010056, P0010057, P0010058, P0010059, P0010060, P0010061, P0010062, P0010063, P0010064, P0010065, P0010066, P0010067, P0010068, P0010069, P0010070, P0010071, geometry, TOTPOP, HISP, P0020003, P0020004, NH_WHITE, NH_BLACK, NH_AMIN, NH_ASIAN, NH_NHPI, NH_OTHER, NH_2MORE, P0020012, P0020013, P0020014, P0020015, P0020016, P0020017, P0020018, P0020019, P0020020, P0020021, P0020022, P0020023, ...]\n",
       "Index: []\n",
       "\n",
       "[0 rows x 230 columns]"
      ]
     },
     "execution_count": 70,
     "metadata": {},
     "output_type": "execute_result"
    }
   ],
   "source": [
    "population_df[~population_df.geom_type.isin(['Polygon', 'MultiPolygon'])]"
   ]
  },
  {
   "cell_type": "code",
   "execution_count": 71,
   "metadata": {},
   "outputs": [
    {
     "data": {
      "text/html": [
       "<div>\n",
       "<style scoped>\n",
       "    .dataframe tbody tr th:only-of-type {\n",
       "        vertical-align: middle;\n",
       "    }\n",
       "\n",
       "    .dataframe tbody tr th {\n",
       "        vertical-align: top;\n",
       "    }\n",
       "\n",
       "    .dataframe thead th {\n",
       "        text-align: right;\n",
       "    }\n",
       "</style>\n",
       "<table border=\"1\" class=\"dataframe\">\n",
       "  <thead>\n",
       "    <tr style=\"text-align: right;\">\n",
       "      <th></th>\n",
       "      <th>GEOID20</th>\n",
       "      <th>SUMLEV</th>\n",
       "      <th>LOGRECNO</th>\n",
       "      <th>GEOID</th>\n",
       "      <th>COUNTY</th>\n",
       "      <th>P0010001</th>\n",
       "      <th>P0010002</th>\n",
       "      <th>P0010003</th>\n",
       "      <th>P0010004</th>\n",
       "      <th>P0010005</th>\n",
       "      <th>...</th>\n",
       "      <th>P0040071</th>\n",
       "      <th>P0040072</th>\n",
       "      <th>P0040073</th>\n",
       "      <th>H_WHITE</th>\n",
       "      <th>H_BLACK</th>\n",
       "      <th>H_AMIN</th>\n",
       "      <th>H_ASIAN</th>\n",
       "      <th>H_NHPI</th>\n",
       "      <th>H_OTHER</th>\n",
       "      <th>H_2MORE</th>\n",
       "    </tr>\n",
       "  </thead>\n",
       "  <tbody>\n",
       "  </tbody>\n",
       "</table>\n",
       "<p>0 rows × 230 columns</p>\n",
       "</div>"
      ],
      "text/plain": [
       "Empty GeoDataFrame\n",
       "Columns: [GEOID20, SUMLEV, LOGRECNO, GEOID, COUNTY, P0010001, P0010002, P0010003, P0010004, P0010005, P0010006, P0010007, P0010008, P0010009, P0010010, P0010011, P0010012, P0010013, P0010014, P0010015, P0010016, P0010017, P0010018, P0010019, P0010020, P0010021, P0010022, P0010023, P0010024, P0010025, P0010026, P0010027, P0010028, P0010029, P0010030, P0010031, P0010032, P0010033, P0010034, P0010035, P0010036, P0010037, P0010038, P0010039, P0010040, P0010041, P0010042, P0010043, P0010044, P0010045, P0010046, P0010047, P0010048, P0010049, P0010050, P0010051, P0010052, P0010053, P0010054, P0010055, P0010056, P0010057, P0010058, P0010059, P0010060, P0010061, P0010062, P0010063, P0010064, P0010065, P0010066, P0010067, P0010068, P0010069, P0010070, P0010071, geometry, TOTPOP, HISP, P0020003, P0020004, NH_WHITE, NH_BLACK, NH_AMIN, NH_ASIAN, NH_NHPI, NH_OTHER, NH_2MORE, P0020012, P0020013, P0020014, P0020015, P0020016, P0020017, P0020018, P0020019, P0020020, P0020021, P0020022, P0020023, ...]\n",
       "Index: []\n",
       "\n",
       "[0 rows x 230 columns]"
      ]
     },
     "execution_count": 71,
     "metadata": {},
     "output_type": "execute_result"
    }
   ],
   "source": [
    "population_df[~population_df.is_valid]"
   ]
  },
  {
   "cell_type": "code",
   "execution_count": 72,
   "metadata": {},
   "outputs": [
    {
     "name": "stderr",
     "output_type": "stream",
     "text": [
      "100%|████████████████████████████████████████| 481/481 [00:00<00:00, 546.28it/s]\n",
      " 38%|███████████████▎                        | 184/481 [00:01<00:02, 105.44it/s]\n"
     ]
    },
    {
     "ename": "GEOSException",
     "evalue": "TopologyException: side location conflict at -108.29616606126318 45.000172480885453. This can occur if the input geometry is invalid.",
     "output_type": "error",
     "traceback": [
      "\u001b[0;31m---------------------------------------------------------------------------\u001b[0m",
      "\u001b[0;31mGEOSException\u001b[0m                             Traceback (most recent call last)",
      "Cell \u001b[0;32mIn[72], line 2\u001b[0m\n\u001b[1;32m      1\u001b[0m vest_base \u001b[38;5;241m=\u001b[39m vest_base\u001b[38;5;241m.\u001b[39mto_crs(\u001b[38;5;124m'\u001b[39m\u001b[38;5;124mEPSG:4269\u001b[39m\u001b[38;5;124m'\u001b[39m)\n\u001b[0;32m----> 2\u001b[0m blocks_to_precincts_assignment \u001b[38;5;241m=\u001b[39m \u001b[43mmaup\u001b[49m\u001b[38;5;241;43m.\u001b[39;49m\u001b[43massign\u001b[49m\u001b[43m(\u001b[49m\u001b[43mpopulation_df\u001b[49m\u001b[38;5;241;43m.\u001b[39;49m\u001b[43mgeometry\u001b[49m\u001b[43m,\u001b[49m\u001b[43m \u001b[49m\u001b[43mvest_base\u001b[49m\u001b[38;5;241;43m.\u001b[39;49m\u001b[43mgeometry\u001b[49m\u001b[43m)\u001b[49m\n",
      "File \u001b[0;32m~/anaconda3/envs/gerry/lib/python3.11/site-packages/maup/crs.py:14\u001b[0m, in \u001b[0;36mrequire_same_crs.<locals>.wrapped\u001b[0;34m(*args, **kwargs)\u001b[0m\n\u001b[1;32m      8\u001b[0m \u001b[38;5;28;01mif\u001b[39;00m \u001b[38;5;129;01mnot\u001b[39;00m geoms1\u001b[38;5;241m.\u001b[39mcrs \u001b[38;5;241m==\u001b[39m geoms2\u001b[38;5;241m.\u001b[39mcrs:\n\u001b[1;32m      9\u001b[0m     \u001b[38;5;28;01mraise\u001b[39;00m \u001b[38;5;167;01mTypeError\u001b[39;00m(\n\u001b[1;32m     10\u001b[0m         \u001b[38;5;124m\"\u001b[39m\u001b[38;5;124mthe source and target geometries must have the same CRS. \u001b[39m\u001b[38;5;132;01m{}\u001b[39;00m\u001b[38;5;124m \u001b[39m\u001b[38;5;132;01m{}\u001b[39;00m\u001b[38;5;124m\"\u001b[39m\u001b[38;5;241m.\u001b[39mformat(\n\u001b[1;32m     11\u001b[0m             geoms1\u001b[38;5;241m.\u001b[39mcrs, geoms2\u001b[38;5;241m.\u001b[39mcrs\n\u001b[1;32m     12\u001b[0m         )\n\u001b[1;32m     13\u001b[0m     )\n\u001b[0;32m---> 14\u001b[0m \u001b[38;5;28;01mreturn\u001b[39;00m \u001b[43mf\u001b[49m\u001b[43m(\u001b[49m\u001b[38;5;241;43m*\u001b[39;49m\u001b[43margs\u001b[49m\u001b[43m,\u001b[49m\u001b[43m \u001b[49m\u001b[38;5;241;43m*\u001b[39;49m\u001b[38;5;241;43m*\u001b[39;49m\u001b[43mkwargs\u001b[49m\u001b[43m)\u001b[49m\n",
      "File \u001b[0;32m~/anaconda3/envs/gerry/lib/python3.11/site-packages/maup/assign.py:23\u001b[0m, in \u001b[0;36massign\u001b[0;34m(sources, targets)\u001b[0m\n\u001b[1;32m     19\u001b[0m unassigned \u001b[38;5;241m=\u001b[39m sources[assignment\u001b[38;5;241m.\u001b[39misna()]\n\u001b[1;32m     21\u001b[0m \u001b[38;5;28;01mif\u001b[39;00m \u001b[38;5;28mlen\u001b[39m(unassigned):  \u001b[38;5;66;03m# skip if done\u001b[39;00m\n\u001b[1;32m     22\u001b[0m     assignments_by_area \u001b[38;5;241m=\u001b[39m pandas\u001b[38;5;241m.\u001b[39mSeries(\n\u001b[0;32m---> 23\u001b[0m         \u001b[43massign_by_area\u001b[49m\u001b[43m(\u001b[49m\u001b[43munassigned\u001b[49m\u001b[43m,\u001b[49m\u001b[43m \u001b[49m\u001b[43mtargets\u001b[49m\u001b[43m)\u001b[49m,\n\u001b[1;32m     24\u001b[0m         dtype\u001b[38;5;241m=\u001b[39m\u001b[38;5;124m\"\u001b[39m\u001b[38;5;124mfloat\u001b[39m\u001b[38;5;124m\"\u001b[39m\n\u001b[1;32m     25\u001b[0m     )\n\u001b[1;32m     26\u001b[0m     assignment\u001b[38;5;241m.\u001b[39mupdate(assignments_by_area)\n\u001b[1;32m     28\u001b[0m \u001b[38;5;66;03m# TODO: add a warning here if there are still unassigned source geometries.\u001b[39;00m\n",
      "File \u001b[0;32m~/anaconda3/envs/gerry/lib/python3.11/site-packages/maup/assign.py:38\u001b[0m, in \u001b[0;36massign_by_area\u001b[0;34m(sources, targets)\u001b[0m\n\u001b[1;32m     37\u001b[0m \u001b[38;5;28;01mdef\u001b[39;00m \u001b[38;5;21massign_by_area\u001b[39m(sources, targets):\n\u001b[0;32m---> 38\u001b[0m     \u001b[38;5;28;01mreturn\u001b[39;00m assign_to_max(\u001b[43mintersections\u001b[49m\u001b[43m(\u001b[49m\u001b[43msources\u001b[49m\u001b[43m,\u001b[49m\u001b[43m \u001b[49m\u001b[43mtargets\u001b[49m\u001b[43m,\u001b[49m\u001b[43m \u001b[49m\u001b[43marea_cutoff\u001b[49m\u001b[38;5;241;43m=\u001b[39;49m\u001b[38;5;241;43m0\u001b[39;49m\u001b[43m)\u001b[49m\u001b[38;5;241m.\u001b[39marea)\n",
      "File \u001b[0;32m~/anaconda3/envs/gerry/lib/python3.11/site-packages/maup/crs.py:14\u001b[0m, in \u001b[0;36mrequire_same_crs.<locals>.wrapped\u001b[0;34m(*args, **kwargs)\u001b[0m\n\u001b[1;32m      8\u001b[0m \u001b[38;5;28;01mif\u001b[39;00m \u001b[38;5;129;01mnot\u001b[39;00m geoms1\u001b[38;5;241m.\u001b[39mcrs \u001b[38;5;241m==\u001b[39m geoms2\u001b[38;5;241m.\u001b[39mcrs:\n\u001b[1;32m      9\u001b[0m     \u001b[38;5;28;01mraise\u001b[39;00m \u001b[38;5;167;01mTypeError\u001b[39;00m(\n\u001b[1;32m     10\u001b[0m         \u001b[38;5;124m\"\u001b[39m\u001b[38;5;124mthe source and target geometries must have the same CRS. \u001b[39m\u001b[38;5;132;01m{}\u001b[39;00m\u001b[38;5;124m \u001b[39m\u001b[38;5;132;01m{}\u001b[39;00m\u001b[38;5;124m\"\u001b[39m\u001b[38;5;241m.\u001b[39mformat(\n\u001b[1;32m     11\u001b[0m             geoms1\u001b[38;5;241m.\u001b[39mcrs, geoms2\u001b[38;5;241m.\u001b[39mcrs\n\u001b[1;32m     12\u001b[0m         )\n\u001b[1;32m     13\u001b[0m     )\n\u001b[0;32m---> 14\u001b[0m \u001b[38;5;28;01mreturn\u001b[39;00m \u001b[43mf\u001b[49m\u001b[43m(\u001b[49m\u001b[38;5;241;43m*\u001b[39;49m\u001b[43margs\u001b[49m\u001b[43m,\u001b[49m\u001b[43m \u001b[49m\u001b[38;5;241;43m*\u001b[39;49m\u001b[38;5;241;43m*\u001b[39;49m\u001b[43mkwargs\u001b[49m\u001b[43m)\u001b[49m\n",
      "File \u001b[0;32m~/anaconda3/envs/gerry/lib/python3.11/site-packages/maup/intersections.py:32\u001b[0m, in \u001b[0;36mintersections\u001b[0;34m(sources, targets, output_type, area_cutoff)\u001b[0m\n\u001b[1;32m     29\u001b[0m reindexed_targets \u001b[38;5;241m=\u001b[39m get_geometries_with_range_index(targets)\n\u001b[1;32m     30\u001b[0m spatially_indexed_sources \u001b[38;5;241m=\u001b[39m IndexedGeometries(reindexed_sources)\n\u001b[0;32m---> 32\u001b[0m records \u001b[38;5;241m=\u001b[39m \u001b[43m[\u001b[49m\n\u001b[1;32m     33\u001b[0m \u001b[43m    \u001b[49m\u001b[38;5;66;43;03m# Flip i, j to j, i so that the index is [\"source\", \"target\"]\u001b[39;49;00m\n\u001b[1;32m     34\u001b[0m \u001b[43m    \u001b[49m\u001b[43m(\u001b[49m\u001b[43msources\u001b[49m\u001b[38;5;241;43m.\u001b[39;49m\u001b[43mindex\u001b[49m\u001b[43m[\u001b[49m\u001b[43mj\u001b[49m\u001b[43m]\u001b[49m\u001b[43m,\u001b[49m\u001b[43m \u001b[49m\u001b[43mtargets\u001b[49m\u001b[38;5;241;43m.\u001b[39;49m\u001b[43mindex\u001b[49m\u001b[43m[\u001b[49m\u001b[43mi\u001b[49m\u001b[43m]\u001b[49m\u001b[43m,\u001b[49m\u001b[43m \u001b[49m\u001b[43mgeometry\u001b[49m\u001b[43m)\u001b[49m\n\u001b[1;32m     35\u001b[0m \u001b[43m    \u001b[49m\u001b[38;5;28;43;01mfor\u001b[39;49;00m\u001b[43m \u001b[49m\u001b[43mi\u001b[49m\u001b[43m,\u001b[49m\u001b[43m \u001b[49m\u001b[43mj\u001b[49m\u001b[43m,\u001b[49m\u001b[43m \u001b[49m\u001b[43mgeometry\u001b[49m\u001b[43m \u001b[49m\u001b[38;5;129;43;01min\u001b[39;49;00m\u001b[43m \u001b[49m\u001b[43mspatially_indexed_sources\u001b[49m\u001b[38;5;241;43m.\u001b[39;49m\u001b[43menumerate_intersections\u001b[49m\u001b[43m(\u001b[49m\n\u001b[1;32m     36\u001b[0m \u001b[43m        \u001b[49m\u001b[43mreindexed_targets\u001b[49m\n\u001b[1;32m     37\u001b[0m \u001b[43m    \u001b[49m\u001b[43m)\u001b[49m\n\u001b[1;32m     38\u001b[0m \u001b[43m\u001b[49m\u001b[43m]\u001b[49m\n\u001b[1;32m     40\u001b[0m df \u001b[38;5;241m=\u001b[39m GeoDataFrame(records, columns\u001b[38;5;241m=\u001b[39m[\u001b[38;5;124m\"\u001b[39m\u001b[38;5;124msource\u001b[39m\u001b[38;5;124m\"\u001b[39m, \u001b[38;5;124m\"\u001b[39m\u001b[38;5;124mtarget\u001b[39m\u001b[38;5;124m\"\u001b[39m, \u001b[38;5;124m\"\u001b[39m\u001b[38;5;124mgeometry\u001b[39m\u001b[38;5;124m\"\u001b[39m], crs\u001b[38;5;241m=\u001b[39msources\u001b[38;5;241m.\u001b[39mcrs)\n\u001b[1;32m     41\u001b[0m df \u001b[38;5;241m=\u001b[39m df\u001b[38;5;241m.\u001b[39msort_values(by\u001b[38;5;241m=\u001b[39m[\u001b[38;5;124m\"\u001b[39m\u001b[38;5;124msource\u001b[39m\u001b[38;5;124m\"\u001b[39m, \u001b[38;5;124m\"\u001b[39m\u001b[38;5;124mtarget\u001b[39m\u001b[38;5;124m\"\u001b[39m])\u001b[38;5;241m.\u001b[39mreset_index(drop\u001b[38;5;241m=\u001b[39m\u001b[38;5;28;01mTrue\u001b[39;00m)\n",
      "File \u001b[0;32m~/anaconda3/envs/gerry/lib/python3.11/site-packages/maup/intersections.py:32\u001b[0m, in \u001b[0;36m<listcomp>\u001b[0;34m(.0)\u001b[0m\n\u001b[1;32m     29\u001b[0m reindexed_targets \u001b[38;5;241m=\u001b[39m get_geometries_with_range_index(targets)\n\u001b[1;32m     30\u001b[0m spatially_indexed_sources \u001b[38;5;241m=\u001b[39m IndexedGeometries(reindexed_sources)\n\u001b[0;32m---> 32\u001b[0m records \u001b[38;5;241m=\u001b[39m \u001b[43m[\u001b[49m\n\u001b[1;32m     33\u001b[0m \u001b[43m    \u001b[49m\u001b[38;5;66;43;03m# Flip i, j to j, i so that the index is [\"source\", \"target\"]\u001b[39;49;00m\n\u001b[1;32m     34\u001b[0m \u001b[43m    \u001b[49m\u001b[43m(\u001b[49m\u001b[43msources\u001b[49m\u001b[38;5;241;43m.\u001b[39;49m\u001b[43mindex\u001b[49m\u001b[43m[\u001b[49m\u001b[43mj\u001b[49m\u001b[43m]\u001b[49m\u001b[43m,\u001b[49m\u001b[43m \u001b[49m\u001b[43mtargets\u001b[49m\u001b[38;5;241;43m.\u001b[39;49m\u001b[43mindex\u001b[49m\u001b[43m[\u001b[49m\u001b[43mi\u001b[49m\u001b[43m]\u001b[49m\u001b[43m,\u001b[49m\u001b[43m \u001b[49m\u001b[43mgeometry\u001b[49m\u001b[43m)\u001b[49m\n\u001b[1;32m     35\u001b[0m \u001b[43m    \u001b[49m\u001b[38;5;28;43;01mfor\u001b[39;49;00m\u001b[43m \u001b[49m\u001b[43mi\u001b[49m\u001b[43m,\u001b[49m\u001b[43m \u001b[49m\u001b[43mj\u001b[49m\u001b[43m,\u001b[49m\u001b[43m \u001b[49m\u001b[43mgeometry\u001b[49m\u001b[43m \u001b[49m\u001b[38;5;129;43;01min\u001b[39;49;00m\u001b[43m \u001b[49m\u001b[43mspatially_indexed_sources\u001b[49m\u001b[38;5;241;43m.\u001b[39;49m\u001b[43menumerate_intersections\u001b[49m\u001b[43m(\u001b[49m\n\u001b[1;32m     36\u001b[0m \u001b[43m        \u001b[49m\u001b[43mreindexed_targets\u001b[49m\n\u001b[1;32m     37\u001b[0m \u001b[43m    \u001b[49m\u001b[43m)\u001b[49m\n\u001b[1;32m     38\u001b[0m \u001b[43m\u001b[49m\u001b[43m]\u001b[49m\n\u001b[1;32m     40\u001b[0m df \u001b[38;5;241m=\u001b[39m GeoDataFrame(records, columns\u001b[38;5;241m=\u001b[39m[\u001b[38;5;124m\"\u001b[39m\u001b[38;5;124msource\u001b[39m\u001b[38;5;124m\"\u001b[39m, \u001b[38;5;124m\"\u001b[39m\u001b[38;5;124mtarget\u001b[39m\u001b[38;5;124m\"\u001b[39m, \u001b[38;5;124m\"\u001b[39m\u001b[38;5;124mgeometry\u001b[39m\u001b[38;5;124m\"\u001b[39m], crs\u001b[38;5;241m=\u001b[39msources\u001b[38;5;241m.\u001b[39mcrs)\n\u001b[1;32m     41\u001b[0m df \u001b[38;5;241m=\u001b[39m df\u001b[38;5;241m.\u001b[39msort_values(by\u001b[38;5;241m=\u001b[39m[\u001b[38;5;124m\"\u001b[39m\u001b[38;5;124msource\u001b[39m\u001b[38;5;124m\"\u001b[39m, \u001b[38;5;124m\"\u001b[39m\u001b[38;5;124mtarget\u001b[39m\u001b[38;5;124m\"\u001b[39m])\u001b[38;5;241m.\u001b[39mreset_index(drop\u001b[38;5;241m=\u001b[39m\u001b[38;5;28;01mTrue\u001b[39;00m)\n",
      "File \u001b[0;32m~/anaconda3/envs/gerry/lib/python3.11/site-packages/maup/indexed_geometries.py:76\u001b[0m, in \u001b[0;36mIndexedGeometries.enumerate_intersections\u001b[0;34m(self, targets)\u001b[0m\n\u001b[1;32m     74\u001b[0m target_geometries \u001b[38;5;241m=\u001b[39m get_geometries(targets)\n\u001b[1;32m     75\u001b[0m \u001b[38;5;28;01mfor\u001b[39;00m i, target \u001b[38;5;129;01min\u001b[39;00m progress(target_geometries\u001b[38;5;241m.\u001b[39mitems(), \u001b[38;5;28mlen\u001b[39m(target_geometries)):\n\u001b[0;32m---> 76\u001b[0m     \u001b[38;5;28;01mfor\u001b[39;00m j, intersection \u001b[38;5;129;01min\u001b[39;00m \u001b[38;5;28;43mself\u001b[39;49m\u001b[38;5;241;43m.\u001b[39;49m\u001b[43mintersections\u001b[49m\u001b[43m(\u001b[49m\u001b[43mtarget\u001b[49m\u001b[43m)\u001b[49m\u001b[38;5;241m.\u001b[39mitems():\n\u001b[1;32m     77\u001b[0m         \u001b[38;5;28;01myield\u001b[39;00m i, j, intersection\n",
      "File \u001b[0;32m~/anaconda3/envs/gerry/lib/python3.11/site-packages/maup/indexed_geometries.py:33\u001b[0m, in \u001b[0;36mIndexedGeometries.intersections\u001b[0;34m(self, geometry)\u001b[0m\n\u001b[1;32m     31\u001b[0m \u001b[38;5;28;01mdef\u001b[39;00m \u001b[38;5;21mintersections\u001b[39m(\u001b[38;5;28mself\u001b[39m, geometry):\n\u001b[1;32m     32\u001b[0m     relevant_geometries \u001b[38;5;241m=\u001b[39m \u001b[38;5;28mself\u001b[39m\u001b[38;5;241m.\u001b[39mquery(geometry)\n\u001b[0;32m---> 33\u001b[0m     intersections \u001b[38;5;241m=\u001b[39m \u001b[43mrelevant_geometries\u001b[49m\u001b[38;5;241;43m.\u001b[39;49m\u001b[43mintersection\u001b[49m\u001b[43m(\u001b[49m\u001b[43mgeometry\u001b[49m\u001b[43m)\u001b[49m\n\u001b[1;32m     34\u001b[0m     \u001b[38;5;28;01mreturn\u001b[39;00m intersections[\u001b[38;5;241m-\u001b[39m(intersections\u001b[38;5;241m.\u001b[39mis_empty \u001b[38;5;241m|\u001b[39m intersections\u001b[38;5;241m.\u001b[39misna())]\n",
      "File \u001b[0;32m~/anaconda3/envs/gerry/lib/python3.11/site-packages/geopandas/base.py:3266\u001b[0m, in \u001b[0;36mGeoPandasBase.intersection\u001b[0;34m(self, other, align)\u001b[0m\n\u001b[1;32m   3155\u001b[0m \u001b[38;5;28;01mdef\u001b[39;00m \u001b[38;5;21mintersection\u001b[39m(\u001b[38;5;28mself\u001b[39m, other, align\u001b[38;5;241m=\u001b[39m\u001b[38;5;28;01mTrue\u001b[39;00m):\n\u001b[1;32m   3156\u001b[0m \u001b[38;5;250m    \u001b[39m\u001b[38;5;124;03m\"\"\"Returns a ``GeoSeries`` of the intersection of points in each\u001b[39;00m\n\u001b[1;32m   3157\u001b[0m \u001b[38;5;124;03m    aligned geometry with `other`.\u001b[39;00m\n\u001b[1;32m   3158\u001b[0m \n\u001b[0;32m   (...)\u001b[0m\n\u001b[1;32m   3264\u001b[0m \u001b[38;5;124;03m    GeoSeries.union\u001b[39;00m\n\u001b[1;32m   3265\u001b[0m \u001b[38;5;124;03m    \"\"\"\u001b[39;00m\n\u001b[0;32m-> 3266\u001b[0m     \u001b[38;5;28;01mreturn\u001b[39;00m \u001b[43m_binary_geo\u001b[49m\u001b[43m(\u001b[49m\u001b[38;5;124;43m\"\u001b[39;49m\u001b[38;5;124;43mintersection\u001b[39;49m\u001b[38;5;124;43m\"\u001b[39;49m\u001b[43m,\u001b[49m\u001b[43m \u001b[49m\u001b[38;5;28;43mself\u001b[39;49m\u001b[43m,\u001b[49m\u001b[43m \u001b[49m\u001b[43mother\u001b[49m\u001b[43m,\u001b[49m\u001b[43m \u001b[49m\u001b[43malign\u001b[49m\u001b[43m)\u001b[49m\n",
      "File \u001b[0;32m~/anaconda3/envs/gerry/lib/python3.11/site-packages/geopandas/base.py:56\u001b[0m, in \u001b[0;36m_binary_geo\u001b[0;34m(op, this, other, align)\u001b[0m\n\u001b[1;32m     53\u001b[0m \u001b[38;5;250m\u001b[39m\u001b[38;5;124;03m\"\"\"Binary operation on GeoSeries objects that returns a GeoSeries\"\"\"\u001b[39;00m\n\u001b[1;32m     54\u001b[0m \u001b[38;5;28;01mfrom\u001b[39;00m \u001b[38;5;21;01m.\u001b[39;00m\u001b[38;5;21;01mgeoseries\u001b[39;00m \u001b[38;5;28;01mimport\u001b[39;00m GeoSeries\n\u001b[0;32m---> 56\u001b[0m geoms, index \u001b[38;5;241m=\u001b[39m \u001b[43m_delegate_binary_method\u001b[49m\u001b[43m(\u001b[49m\u001b[43mop\u001b[49m\u001b[43m,\u001b[49m\u001b[43m \u001b[49m\u001b[43mthis\u001b[49m\u001b[43m,\u001b[49m\u001b[43m \u001b[49m\u001b[43mother\u001b[49m\u001b[43m,\u001b[49m\u001b[43m \u001b[49m\u001b[43malign\u001b[49m\u001b[43m)\u001b[49m\n\u001b[1;32m     57\u001b[0m \u001b[38;5;28;01mreturn\u001b[39;00m GeoSeries(geoms, index\u001b[38;5;241m=\u001b[39mindex, crs\u001b[38;5;241m=\u001b[39mthis\u001b[38;5;241m.\u001b[39mcrs)\n",
      "File \u001b[0;32m~/anaconda3/envs/gerry/lib/python3.11/site-packages/geopandas/base.py:47\u001b[0m, in \u001b[0;36m_delegate_binary_method\u001b[0;34m(op, this, other, align, *args, **kwargs)\u001b[0m\n\u001b[1;32m     44\u001b[0m \u001b[38;5;28;01melse\u001b[39;00m:\n\u001b[1;32m     45\u001b[0m     \u001b[38;5;28;01mraise\u001b[39;00m \u001b[38;5;167;01mTypeError\u001b[39;00m(\u001b[38;5;28mtype\u001b[39m(this), \u001b[38;5;28mtype\u001b[39m(other))\n\u001b[0;32m---> 47\u001b[0m data \u001b[38;5;241m=\u001b[39m \u001b[38;5;28;43mgetattr\u001b[39;49m\u001b[43m(\u001b[49m\u001b[43ma_this\u001b[49m\u001b[43m,\u001b[49m\u001b[43m \u001b[49m\u001b[43mop\u001b[49m\u001b[43m)\u001b[49m\u001b[43m(\u001b[49m\u001b[43mother\u001b[49m\u001b[43m,\u001b[49m\u001b[43m \u001b[49m\u001b[38;5;241;43m*\u001b[39;49m\u001b[43margs\u001b[49m\u001b[43m,\u001b[49m\u001b[43m \u001b[49m\u001b[38;5;241;43m*\u001b[39;49m\u001b[38;5;241;43m*\u001b[39;49m\u001b[43mkwargs\u001b[49m\u001b[43m)\u001b[49m\n\u001b[1;32m     48\u001b[0m \u001b[38;5;28;01mreturn\u001b[39;00m data, this\u001b[38;5;241m.\u001b[39mindex\n",
      "File \u001b[0;32m~/anaconda3/envs/gerry/lib/python3.11/site-packages/geopandas/array.py:671\u001b[0m, in \u001b[0;36mGeometryArray.intersection\u001b[0;34m(self, other)\u001b[0m\n\u001b[1;32m    669\u001b[0m \u001b[38;5;28;01mdef\u001b[39;00m \u001b[38;5;21mintersection\u001b[39m(\u001b[38;5;28mself\u001b[39m, other):\n\u001b[1;32m    670\u001b[0m     \u001b[38;5;28;01mreturn\u001b[39;00m GeometryArray(\n\u001b[0;32m--> 671\u001b[0m         \u001b[38;5;28;43mself\u001b[39;49m\u001b[38;5;241;43m.\u001b[39;49m\u001b[43m_binary_method\u001b[49m\u001b[43m(\u001b[49m\u001b[38;5;124;43m\"\u001b[39;49m\u001b[38;5;124;43mintersection\u001b[39;49m\u001b[38;5;124;43m\"\u001b[39;49m\u001b[43m,\u001b[49m\u001b[43m \u001b[49m\u001b[38;5;28;43mself\u001b[39;49m\u001b[43m,\u001b[49m\u001b[43m \u001b[49m\u001b[43mother\u001b[49m\u001b[43m)\u001b[49m, crs\u001b[38;5;241m=\u001b[39m\u001b[38;5;28mself\u001b[39m\u001b[38;5;241m.\u001b[39mcrs\n\u001b[1;32m    672\u001b[0m     )\n",
      "File \u001b[0;32m~/anaconda3/envs/gerry/lib/python3.11/site-packages/geopandas/array.py:611\u001b[0m, in \u001b[0;36mGeometryArray._binary_method\u001b[0;34m(op, left, right, **kwargs)\u001b[0m\n\u001b[1;32m    608\u001b[0m         _crs_mismatch_warn(left, right, stacklevel\u001b[38;5;241m=\u001b[39m\u001b[38;5;241m7\u001b[39m)\n\u001b[1;32m    609\u001b[0m     right \u001b[38;5;241m=\u001b[39m right\u001b[38;5;241m.\u001b[39m_data\n\u001b[0;32m--> 611\u001b[0m \u001b[38;5;28;01mreturn\u001b[39;00m \u001b[38;5;28;43mgetattr\u001b[39;49m\u001b[43m(\u001b[49m\u001b[43mvectorized\u001b[49m\u001b[43m,\u001b[49m\u001b[43m \u001b[49m\u001b[43mop\u001b[49m\u001b[43m)\u001b[49m\u001b[43m(\u001b[49m\u001b[43mleft\u001b[49m\u001b[38;5;241;43m.\u001b[39;49m\u001b[43m_data\u001b[49m\u001b[43m,\u001b[49m\u001b[43m \u001b[49m\u001b[43mright\u001b[49m\u001b[43m,\u001b[49m\u001b[43m \u001b[49m\u001b[38;5;241;43m*\u001b[39;49m\u001b[38;5;241;43m*\u001b[39;49m\u001b[43mkwargs\u001b[49m\u001b[43m)\u001b[49m\n",
      "File \u001b[0;32m~/anaconda3/envs/gerry/lib/python3.11/site-packages/geopandas/_vectorized.py:938\u001b[0m, in \u001b[0;36mintersection\u001b[0;34m(data, other)\u001b[0m\n\u001b[1;32m    936\u001b[0m \u001b[38;5;28;01mdef\u001b[39;00m \u001b[38;5;21mintersection\u001b[39m(data, other):\n\u001b[1;32m    937\u001b[0m     \u001b[38;5;28;01mif\u001b[39;00m compat\u001b[38;5;241m.\u001b[39mUSE_SHAPELY_20:\n\u001b[0;32m--> 938\u001b[0m         \u001b[38;5;28;01mreturn\u001b[39;00m \u001b[43mshapely\u001b[49m\u001b[38;5;241;43m.\u001b[39;49m\u001b[43mintersection\u001b[49m\u001b[43m(\u001b[49m\u001b[43mdata\u001b[49m\u001b[43m,\u001b[49m\u001b[43m \u001b[49m\u001b[43mother\u001b[49m\u001b[43m)\u001b[49m\n\u001b[1;32m    939\u001b[0m     \u001b[38;5;28;01melif\u001b[39;00m compat\u001b[38;5;241m.\u001b[39mUSE_PYGEOS:\n\u001b[1;32m    940\u001b[0m         \u001b[38;5;28;01mreturn\u001b[39;00m _binary_method(\u001b[38;5;124m\"\u001b[39m\u001b[38;5;124mintersection\u001b[39m\u001b[38;5;124m\"\u001b[39m, data, other)\n",
      "File \u001b[0;32m~/anaconda3/envs/gerry/lib/python3.11/site-packages/shapely/decorators.py:77\u001b[0m, in \u001b[0;36mmultithreading_enabled.<locals>.wrapped\u001b[0;34m(*args, **kwargs)\u001b[0m\n\u001b[1;32m     75\u001b[0m     \u001b[38;5;28;01mfor\u001b[39;00m arr \u001b[38;5;129;01min\u001b[39;00m array_args:\n\u001b[1;32m     76\u001b[0m         arr\u001b[38;5;241m.\u001b[39mflags\u001b[38;5;241m.\u001b[39mwriteable \u001b[38;5;241m=\u001b[39m \u001b[38;5;28;01mFalse\u001b[39;00m\n\u001b[0;32m---> 77\u001b[0m     \u001b[38;5;28;01mreturn\u001b[39;00m \u001b[43mfunc\u001b[49m\u001b[43m(\u001b[49m\u001b[38;5;241;43m*\u001b[39;49m\u001b[43margs\u001b[49m\u001b[43m,\u001b[49m\u001b[43m \u001b[49m\u001b[38;5;241;43m*\u001b[39;49m\u001b[38;5;241;43m*\u001b[39;49m\u001b[43mkwargs\u001b[49m\u001b[43m)\u001b[49m\n\u001b[1;32m     78\u001b[0m \u001b[38;5;28;01mfinally\u001b[39;00m:\n\u001b[1;32m     79\u001b[0m     \u001b[38;5;28;01mfor\u001b[39;00m arr, old_flag \u001b[38;5;129;01min\u001b[39;00m \u001b[38;5;28mzip\u001b[39m(array_args, old_flags):\n",
      "File \u001b[0;32m~/anaconda3/envs/gerry/lib/python3.11/site-packages/shapely/set_operations.py:131\u001b[0m, in \u001b[0;36mintersection\u001b[0;34m(a, b, grid_size, **kwargs)\u001b[0m\n\u001b[1;32m    127\u001b[0m         \u001b[38;5;28;01mraise\u001b[39;00m \u001b[38;5;167;01mValueError\u001b[39;00m(\u001b[38;5;124m\"\u001b[39m\u001b[38;5;124mgrid_size parameter only accepts scalar values\u001b[39m\u001b[38;5;124m\"\u001b[39m)\n\u001b[1;32m    129\u001b[0m     \u001b[38;5;28;01mreturn\u001b[39;00m lib\u001b[38;5;241m.\u001b[39mintersection_prec(a, b, grid_size, \u001b[38;5;241m*\u001b[39m\u001b[38;5;241m*\u001b[39mkwargs)\n\u001b[0;32m--> 131\u001b[0m \u001b[38;5;28;01mreturn\u001b[39;00m \u001b[43mlib\u001b[49m\u001b[38;5;241;43m.\u001b[39;49m\u001b[43mintersection\u001b[49m\u001b[43m(\u001b[49m\u001b[43ma\u001b[49m\u001b[43m,\u001b[49m\u001b[43m \u001b[49m\u001b[43mb\u001b[49m\u001b[43m,\u001b[49m\u001b[43m \u001b[49m\u001b[38;5;241;43m*\u001b[39;49m\u001b[38;5;241;43m*\u001b[39;49m\u001b[43mkwargs\u001b[49m\u001b[43m)\u001b[49m\n",
      "\u001b[0;31mGEOSException\u001b[0m: TopologyException: side location conflict at -108.29616606126318 45.000172480885453. This can occur if the input geometry is invalid."
     ]
    }
   ],
   "source": [
    "vest_base = vest_base.to_crs('EPSG:4269')\n",
    "blocks_to_precincts_assignment = maup.assign(population_df.geometry, vest_base.geometry)"
   ]
  },
  {
   "cell_type": "markdown",
   "metadata": {},
   "source": [
    "One last time, try without nesting in counties:"
   ]
  },
  {
   "cell_type": "code",
   "execution_count": 74,
   "metadata": {},
   "outputs": [
    {
     "name": "stdout",
     "output_type": "stream",
     "text": [
      "Snapping all geometries to a grid with precision 10^( -5 ) to avoid GEOS errors.\n",
      "Identifying overlaps...\n"
     ]
    },
    {
     "name": "stderr",
     "output_type": "stream",
     "text": [
      "100%|█████████████████████████████████████| 2534/2534 [00:00<00:00, 2894.80it/s]\n"
     ]
    },
    {
     "name": "stdout",
     "output_type": "stream",
     "text": [
      "Resolving overlaps...\n",
      "Assigning order 2 pieces...\n",
      "Filling gaps...\n"
     ]
    },
    {
     "name": "stderr",
     "output_type": "stream",
     "text": [
      "Gaps to simplify: 100%|███████████████████████| 716/716 [00:30<00:00, 23.26it/s]\n",
      "Gaps to fill: 100%|███████████████████████████████| 3/3 [00:00<00:00,  9.13it/s]\n"
     ]
    },
    {
     "name": "stdout",
     "output_type": "stream",
     "text": [
      "Converting small rook adjacencies to queen...\n"
     ]
    },
    {
     "name": "stderr",
     "output_type": "stream",
     "text": [
      "100%|████████████████████████████████████████| 481/481 [00:00<00:00, 644.73it/s]\n",
      "100%|███████████████████████████████████████████| 5/5 [00:00<00:00, 2462.02it/s]\n",
      "100%|███████████████████████████████████████████| 5/5 [00:00<00:00, 2561.56it/s]\n",
      "100%|███████████████████████████████████████████| 5/5 [00:00<00:00, 2204.51it/s]\n",
      "100%|███████████████████████████████████████████| 4/4 [00:00<00:00, 2358.34it/s]\n",
      "100%|███████████████████████████████████████████| 6/6 [00:00<00:00, 3250.56it/s]\n",
      "100%|███████████████████████████████████████████| 6/6 [00:00<00:00, 2718.57it/s]\n",
      "100%|███████████████████████████████████████████| 4/4 [00:00<00:00, 2696.00it/s]\n",
      "100%|███████████████████████████████████████████| 5/5 [00:00<00:00, 2634.61it/s]\n",
      "100%|███████████████████████████████████████████| 4/4 [00:00<00:00, 2419.91it/s]\n",
      "100%|███████████████████████████████████████████| 6/6 [00:00<00:00, 3082.91it/s]\n"
     ]
    }
   ],
   "source": [
    "vest_base = add_vest_base(vest_base_data, start_col, year, min_rook_length = 30.5)"
   ]
  },
  {
   "cell_type": "code",
   "execution_count": 75,
   "metadata": {},
   "outputs": [
    {
     "name": "stderr",
     "output_type": "stream",
     "text": [
      "100%|████████████████████████████████████████| 481/481 [00:00<00:00, 642.97it/s]\n"
     ]
    },
    {
     "data": {
      "text/plain": [
       "True"
      ]
     },
     "execution_count": 75,
     "metadata": {},
     "output_type": "execute_result"
    }
   ],
   "source": [
    "maup.doctor(vest_base)"
   ]
  },
  {
   "cell_type": "code",
   "execution_count": 76,
   "metadata": {},
   "outputs": [
    {
     "data": {
      "text/html": [
       "<div>\n",
       "<style scoped>\n",
       "    .dataframe tbody tr th:only-of-type {\n",
       "        vertical-align: middle;\n",
       "    }\n",
       "\n",
       "    .dataframe tbody tr th {\n",
       "        vertical-align: top;\n",
       "    }\n",
       "\n",
       "    .dataframe thead th {\n",
       "        text-align: right;\n",
       "    }\n",
       "</style>\n",
       "<table border=\"1\" class=\"dataframe\">\n",
       "  <thead>\n",
       "    <tr style=\"text-align: right;\">\n",
       "      <th></th>\n",
       "      <th>COUNTYFP20</th>\n",
       "      <th>HAL20D</th>\n",
       "      <th>HAL20O</th>\n",
       "      <th>HAL20R</th>\n",
       "      <th>NAME20</th>\n",
       "      <th>PRE20D</th>\n",
       "      <th>PRE20O</th>\n",
       "      <th>PRE20R</th>\n",
       "      <th>STATEFP20</th>\n",
       "      <th>USS20D</th>\n",
       "      <th>USS20O</th>\n",
       "      <th>USS20R</th>\n",
       "      <th>VTDST20</th>\n",
       "      <th>geometry</th>\n",
       "    </tr>\n",
       "  </thead>\n",
       "  <tbody>\n",
       "  </tbody>\n",
       "</table>\n",
       "</div>"
      ],
      "text/plain": [
       "Empty GeoDataFrame\n",
       "Columns: [COUNTYFP20, HAL20D, HAL20O, HAL20R, NAME20, PRE20D, PRE20O, PRE20R, STATEFP20, USS20D, USS20O, USS20R, VTDST20, geometry]\n",
       "Index: []"
      ]
     },
     "execution_count": 76,
     "metadata": {},
     "output_type": "execute_result"
    }
   ],
   "source": [
    "vest_base[~vest_base.geom_type.isin(['Polygon', 'MultiPolygon'])]"
   ]
  },
  {
   "cell_type": "code",
   "execution_count": 77,
   "metadata": {},
   "outputs": [
    {
     "data": {
      "text/html": [
       "<div>\n",
       "<style scoped>\n",
       "    .dataframe tbody tr th:only-of-type {\n",
       "        vertical-align: middle;\n",
       "    }\n",
       "\n",
       "    .dataframe tbody tr th {\n",
       "        vertical-align: top;\n",
       "    }\n",
       "\n",
       "    .dataframe thead th {\n",
       "        text-align: right;\n",
       "    }\n",
       "</style>\n",
       "<table border=\"1\" class=\"dataframe\">\n",
       "  <thead>\n",
       "    <tr style=\"text-align: right;\">\n",
       "      <th></th>\n",
       "      <th>COUNTYFP20</th>\n",
       "      <th>HAL20D</th>\n",
       "      <th>HAL20O</th>\n",
       "      <th>HAL20R</th>\n",
       "      <th>NAME20</th>\n",
       "      <th>PRE20D</th>\n",
       "      <th>PRE20O</th>\n",
       "      <th>PRE20R</th>\n",
       "      <th>STATEFP20</th>\n",
       "      <th>USS20D</th>\n",
       "      <th>USS20O</th>\n",
       "      <th>USS20R</th>\n",
       "      <th>VTDST20</th>\n",
       "      <th>geometry</th>\n",
       "    </tr>\n",
       "  </thead>\n",
       "  <tbody>\n",
       "  </tbody>\n",
       "</table>\n",
       "</div>"
      ],
      "text/plain": [
       "Empty GeoDataFrame\n",
       "Columns: [COUNTYFP20, HAL20D, HAL20O, HAL20R, NAME20, PRE20D, PRE20O, PRE20R, STATEFP20, USS20D, USS20O, USS20R, VTDST20, geometry]\n",
       "Index: []"
      ]
     },
     "execution_count": 77,
     "metadata": {},
     "output_type": "execute_result"
    }
   ],
   "source": [
    "vest_base[~vest_base.is_valid]"
   ]
  },
  {
   "cell_type": "code",
   "execution_count": 78,
   "metadata": {},
   "outputs": [
    {
     "data": {
      "text/html": [
       "<div>\n",
       "<style scoped>\n",
       "    .dataframe tbody tr th:only-of-type {\n",
       "        vertical-align: middle;\n",
       "    }\n",
       "\n",
       "    .dataframe tbody tr th {\n",
       "        vertical-align: top;\n",
       "    }\n",
       "\n",
       "    .dataframe thead th {\n",
       "        text-align: right;\n",
       "    }\n",
       "</style>\n",
       "<table border=\"1\" class=\"dataframe\">\n",
       "  <thead>\n",
       "    <tr style=\"text-align: right;\">\n",
       "      <th></th>\n",
       "      <th>GEOID20</th>\n",
       "      <th>SUMLEV</th>\n",
       "      <th>LOGRECNO</th>\n",
       "      <th>GEOID</th>\n",
       "      <th>COUNTY</th>\n",
       "      <th>P0010001</th>\n",
       "      <th>P0010002</th>\n",
       "      <th>P0010003</th>\n",
       "      <th>P0010004</th>\n",
       "      <th>P0010005</th>\n",
       "      <th>...</th>\n",
       "      <th>P0040071</th>\n",
       "      <th>P0040072</th>\n",
       "      <th>P0040073</th>\n",
       "      <th>H_WHITE</th>\n",
       "      <th>H_BLACK</th>\n",
       "      <th>H_AMIN</th>\n",
       "      <th>H_ASIAN</th>\n",
       "      <th>H_NHPI</th>\n",
       "      <th>H_OTHER</th>\n",
       "      <th>H_2MORE</th>\n",
       "    </tr>\n",
       "  </thead>\n",
       "  <tbody>\n",
       "  </tbody>\n",
       "</table>\n",
       "<p>0 rows × 230 columns</p>\n",
       "</div>"
      ],
      "text/plain": [
       "Empty GeoDataFrame\n",
       "Columns: [GEOID20, SUMLEV, LOGRECNO, GEOID, COUNTY, P0010001, P0010002, P0010003, P0010004, P0010005, P0010006, P0010007, P0010008, P0010009, P0010010, P0010011, P0010012, P0010013, P0010014, P0010015, P0010016, P0010017, P0010018, P0010019, P0010020, P0010021, P0010022, P0010023, P0010024, P0010025, P0010026, P0010027, P0010028, P0010029, P0010030, P0010031, P0010032, P0010033, P0010034, P0010035, P0010036, P0010037, P0010038, P0010039, P0010040, P0010041, P0010042, P0010043, P0010044, P0010045, P0010046, P0010047, P0010048, P0010049, P0010050, P0010051, P0010052, P0010053, P0010054, P0010055, P0010056, P0010057, P0010058, P0010059, P0010060, P0010061, P0010062, P0010063, P0010064, P0010065, P0010066, P0010067, P0010068, P0010069, P0010070, P0010071, geometry, TOTPOP, HISP, P0020003, P0020004, NH_WHITE, NH_BLACK, NH_AMIN, NH_ASIAN, NH_NHPI, NH_OTHER, NH_2MORE, P0020012, P0020013, P0020014, P0020015, P0020016, P0020017, P0020018, P0020019, P0020020, P0020021, P0020022, P0020023, ...]\n",
       "Index: []\n",
       "\n",
       "[0 rows x 230 columns]"
      ]
     },
     "execution_count": 78,
     "metadata": {},
     "output_type": "execute_result"
    }
   ],
   "source": [
    "population_df[~population_df.geom_type.isin(['Polygon', 'MultiPolygon'])]"
   ]
  },
  {
   "cell_type": "code",
   "execution_count": 79,
   "metadata": {},
   "outputs": [
    {
     "data": {
      "text/html": [
       "<div>\n",
       "<style scoped>\n",
       "    .dataframe tbody tr th:only-of-type {\n",
       "        vertical-align: middle;\n",
       "    }\n",
       "\n",
       "    .dataframe tbody tr th {\n",
       "        vertical-align: top;\n",
       "    }\n",
       "\n",
       "    .dataframe thead th {\n",
       "        text-align: right;\n",
       "    }\n",
       "</style>\n",
       "<table border=\"1\" class=\"dataframe\">\n",
       "  <thead>\n",
       "    <tr style=\"text-align: right;\">\n",
       "      <th></th>\n",
       "      <th>GEOID20</th>\n",
       "      <th>SUMLEV</th>\n",
       "      <th>LOGRECNO</th>\n",
       "      <th>GEOID</th>\n",
       "      <th>COUNTY</th>\n",
       "      <th>P0010001</th>\n",
       "      <th>P0010002</th>\n",
       "      <th>P0010003</th>\n",
       "      <th>P0010004</th>\n",
       "      <th>P0010005</th>\n",
       "      <th>...</th>\n",
       "      <th>P0040071</th>\n",
       "      <th>P0040072</th>\n",
       "      <th>P0040073</th>\n",
       "      <th>H_WHITE</th>\n",
       "      <th>H_BLACK</th>\n",
       "      <th>H_AMIN</th>\n",
       "      <th>H_ASIAN</th>\n",
       "      <th>H_NHPI</th>\n",
       "      <th>H_OTHER</th>\n",
       "      <th>H_2MORE</th>\n",
       "    </tr>\n",
       "  </thead>\n",
       "  <tbody>\n",
       "  </tbody>\n",
       "</table>\n",
       "<p>0 rows × 230 columns</p>\n",
       "</div>"
      ],
      "text/plain": [
       "Empty GeoDataFrame\n",
       "Columns: [GEOID20, SUMLEV, LOGRECNO, GEOID, COUNTY, P0010001, P0010002, P0010003, P0010004, P0010005, P0010006, P0010007, P0010008, P0010009, P0010010, P0010011, P0010012, P0010013, P0010014, P0010015, P0010016, P0010017, P0010018, P0010019, P0010020, P0010021, P0010022, P0010023, P0010024, P0010025, P0010026, P0010027, P0010028, P0010029, P0010030, P0010031, P0010032, P0010033, P0010034, P0010035, P0010036, P0010037, P0010038, P0010039, P0010040, P0010041, P0010042, P0010043, P0010044, P0010045, P0010046, P0010047, P0010048, P0010049, P0010050, P0010051, P0010052, P0010053, P0010054, P0010055, P0010056, P0010057, P0010058, P0010059, P0010060, P0010061, P0010062, P0010063, P0010064, P0010065, P0010066, P0010067, P0010068, P0010069, P0010070, P0010071, geometry, TOTPOP, HISP, P0020003, P0020004, NH_WHITE, NH_BLACK, NH_AMIN, NH_ASIAN, NH_NHPI, NH_OTHER, NH_2MORE, P0020012, P0020013, P0020014, P0020015, P0020016, P0020017, P0020018, P0020019, P0020020, P0020021, P0020022, P0020023, ...]\n",
       "Index: []\n",
       "\n",
       "[0 rows x 230 columns]"
      ]
     },
     "execution_count": 79,
     "metadata": {},
     "output_type": "execute_result"
    }
   ],
   "source": [
    "population_df[~population_df.is_valid]"
   ]
  },
  {
   "cell_type": "code",
   "execution_count": 80,
   "metadata": {},
   "outputs": [
    {
     "name": "stderr",
     "output_type": "stream",
     "text": [
      "100%|████████████████████████████████████████| 481/481 [00:00<00:00, 527.85it/s]\n",
      "100%|█████████████████████████████████████████| 481/481 [00:05<00:00, 93.52it/s]\n"
     ]
    }
   ],
   "source": [
    "vest_base = vest_base.to_crs('EPSG:4269')\n",
    "blocks_to_precincts_assignment = maup.assign(population_df.geometry, vest_base.geometry)"
   ]
  },
  {
   "cell_type": "code",
   "execution_count": null,
   "metadata": {},
   "outputs": [],
   "source": []
  },
  {
   "cell_type": "code",
   "execution_count": null,
   "metadata": {},
   "outputs": [],
   "source": [
    "Maybe it was the counties?"
   ]
  },
  {
   "cell_type": "code",
   "execution_count": null,
   "metadata": {},
   "outputs": [],
   "source": [
    "county_df[~county_df.is_valid]"
   ]
  },
  {
   "cell_type": "code",
   "execution_count": null,
   "metadata": {},
   "outputs": [],
   "source": [
    "county_df[~county_df.geom_type.isin(['Polygon', 'MultiPolygon'])]"
   ]
  },
  {
   "cell_type": "code",
   "execution_count": null,
   "metadata": {},
   "outputs": [],
   "source": []
  },
  {
   "cell_type": "code",
   "execution_count": null,
   "metadata": {},
   "outputs": [],
   "source": []
  },
  {
   "cell_type": "markdown",
   "metadata": {},
   "source": [
    "## If it is true for maup doctor, we will use it as the base vest data."
   ]
  },
  {
   "cell_type": "code",
   "execution_count": null,
   "metadata": {},
   "outputs": [],
   "source": [
    "# vap and population have the same GEOID20\n",
    "vest_base = vest_base.to_crs('EPSG:4269')\n",
    "blocks_to_precincts_assignment = maup.assign(population_df.geometry, vest_base.geometry)"
   ]
  },
  {
   "cell_type": "code",
   "execution_count": null,
   "metadata": {},
   "outputs": [],
   "source": [
    "vest_base[pop_col] = population_df[pop_col].groupby(blocks_to_precincts_assignment).sum()"
   ]
  },
  {
   "cell_type": "code",
   "execution_count": null,
   "metadata": {},
   "outputs": [],
   "source": [
    "election_df = gpd.GeoDataFrame(vest_base, crs=\"EPSG:4269\")"
   ]
  },
  {
   "cell_type": "code",
   "execution_count": null,
   "metadata": {},
   "outputs": [],
   "source": [
    "election_df.columns"
   ]
  },
  {
   "cell_type": "markdown",
   "metadata": {},
   "source": [
    "## Check if population agrees"
   ]
  },
  {
   "cell_type": "code",
   "execution_count": null,
   "metadata": {},
   "outputs": [],
   "source": [
    "check_population(population_df, vest_base)"
   ]
  },
  {
   "cell_type": "markdown",
   "metadata": {},
   "source": [
    "## Add more vest data"
   ]
  },
  {
   "cell_type": "code",
   "execution_count": null,
   "metadata": {},
   "outputs": [],
   "source": [
    "vest18 = gpd.read_file(vest18_data)\n",
    "vest16 = gpd.read_file(vest16_data)"
   ]
  },
  {
   "cell_type": "code",
   "execution_count": null,
   "metadata": {},
   "outputs": [],
   "source": [
    "vest18.columns"
   ]
  },
  {
   "cell_type": "code",
   "execution_count": null,
   "metadata": {},
   "outputs": [],
   "source": [
    "vest16.columns"
   ]
  },
  {
   "cell_type": "code",
   "execution_count": null,
   "metadata": {},
   "outputs": [],
   "source": [
    "# check the result here\n",
    "election_df = add_vest(vest18, election_df, '18', population_df, start_col)"
   ]
  },
  {
   "cell_type": "code",
   "execution_count": null,
   "metadata": {},
   "outputs": [],
   "source": [
    "election_df.columns"
   ]
  },
  {
   "cell_type": "code",
   "execution_count": null,
   "metadata": {},
   "outputs": [],
   "source": [
    "election_df = add_vest(vest16, election_df, '16', population_df, start_col)"
   ]
  },
  {
   "cell_type": "markdown",
   "metadata": {},
   "source": [
    "##  Add the district data"
   ]
  },
  {
   "cell_type": "code",
   "execution_count": null,
   "metadata": {},
   "outputs": [],
   "source": [
    "send = gpd.read_file(send_data)\n",
    "hdist = gpd.read_file(hdist_data)"
   ]
  },
  {
   "cell_type": "code",
   "execution_count": null,
   "metadata": {},
   "outputs": [],
   "source": [
    "send.head()"
   ]
  },
  {
   "cell_type": "code",
   "execution_count": null,
   "metadata": {},
   "outputs": [],
   "source": [
    "election_df = add_district(send, \"SEND\", election_df, \"DISTRICT\")"
   ]
  },
  {
   "cell_type": "code",
   "execution_count": null,
   "metadata": {},
   "outputs": [],
   "source": [
    "hdist.head()"
   ]
  },
  {
   "cell_type": "code",
   "execution_count": null,
   "metadata": {},
   "outputs": [],
   "source": [
    "hdist = hdist.to_crs(\"EPSG:4269\")\n",
    "election_df = add_district(hdist, \"HDIST\", election_df, \"DISTRICT\")"
   ]
  },
  {
   "cell_type": "code",
   "execution_count": null,
   "metadata": {},
   "outputs": [],
   "source": [
    "maup.doctor(election_df)"
   ]
  },
  {
   "cell_type": "markdown",
   "metadata": {},
   "source": [
    "### Put the base precinct year after the precinct information column"
   ]
  },
  {
   "cell_type": "code",
   "execution_count": null,
   "metadata": {},
   "outputs": [],
   "source": [
    "base_columns = {}\n",
    "if 'COUNTYFP' + year not in election_df.columns:\n",
    "    base_columns = {\n",
    "        'STATEFP':'STATEFP'+year,\n",
    "        'COUNTYFP':'COUNTYFP'+year,\n",
    "        'VTDST':'VTDST'+year,\n",
    "        'NAME':'NAME'+year}\n",
    "election_df.rename(columns=base_columns, inplace = True)"
   ]
  },
  {
   "cell_type": "code",
   "execution_count": null,
   "metadata": {},
   "outputs": [],
   "source": [
    "election_df.columns"
   ]
  },
  {
   "cell_type": "code",
   "execution_count": null,
   "metadata": {},
   "outputs": [],
   "source": [
    "# reorder the columns\n",
    "fixed_columns = [\n",
    "    'STATEFP'+year,\n",
    "    'COUNTYFP'+year,\n",
    "    'VTDST'+year,\n",
    "    'NAME'+year,\n",
    "    'SEND',\n",
    "    'HDIST',\n",
    "    'TOTPOP',\n",
    "    'NH_2MORE',\n",
    "    'NH_AMIN',\n",
    "    'NH_ASIAN',\n",
    "    'NH_BLACK',\n",
    "    'NH_NHPI',\n",
    "    'NH_OTHER',\n",
    "    'NH_WHITE',\n",
    "    'HISP',\n",
    "    'H_AMIN',\n",
    "    'H_ASIAN',\n",
    "    'H_BLACK',\n",
    "    'H_NHPI',\n",
    "    'H_OTHER',\n",
    "    'H_WHITE',\n",
    "    'H_2MORE',\n",
    "    'VAP',\n",
    "    'HVAP',\n",
    "    'WVAP',\n",
    "    'BVAP',\n",
    "    'AMINVAP',\n",
    "    'ASIANVAP',\n",
    "    'NHPIVAP',\n",
    "    'OTHERVAP',\n",
    "    '2MOREVAP']\n",
    "\n",
    "election_columns = [col for col in election_df.columns if col not in fixed_columns]\n",
    "final_col = fixed_columns + election_columns\n",
    "election_df = election_df[final_col]"
   ]
  },
  {
   "cell_type": "code",
   "execution_count": null,
   "metadata": {},
   "outputs": [],
   "source": [
    "import os\n",
    "\n",
    "# store the result in directory \"il\"\n",
    "directory = \"./{}\".format(state_ab)\n",
    "if not os.path.exists(directory):\n",
    "    os.makedirs(directory)\n",
    "\n",
    "shapefile_path = \"./{}/{}.shp\".format(state_ab, state_ab)\n",
    "geojson_path = './{}/{}.geojson'.format(state_ab, state_ab)\n",
    "json_path = \"./{}.json\".format(state_ab, state_ab)\n",
    "\n",
    "# Check if the shapefile or geojson file already exists\n",
    "if os.path.exists(shapefile_path):\n",
    "    os.remove(shapefile_path)\n",
    "if os.path.exists(geojson_path):\n",
    "    os.remove(geojson_path)\n",
    "\n",
    "election_df.to_file(shapefile_path)\n",
    "election_df.to_file(geojson_path, driver='GeoJSON')\n",
    "\n",
    "# Only do once to build json and read from file when generating ensembles\n",
    "graph = Graph.from_file(shapefile_path, ignore_errors=True)\n",
    "graph.to_json(json_path)"
   ]
  },
  {
   "cell_type": "code",
   "execution_count": null,
   "metadata": {},
   "outputs": [],
   "source": [
    "shapefile_path = \"./{}/{}.shp\".format(state_ab, state_ab)\n",
    "shape=gpd.read_file(shapefile_path)\n",
    "shape.plot()"
   ]
  },
  {
   "cell_type": "code",
   "execution_count": null,
   "metadata": {},
   "outputs": [],
   "source": []
  }
 ],
 "metadata": {
  "kernelspec": {
   "display_name": "gerry",
   "language": "python",
   "name": "gerry"
  },
  "language_info": {
   "codemirror_mode": {
    "name": "ipython",
    "version": 3
   },
   "file_extension": ".py",
   "mimetype": "text/x-python",
   "name": "python",
   "nbconvert_exporter": "python",
   "pygments_lexer": "ipython3",
   "version": "3.11.4"
  }
 },
 "nbformat": 4,
 "nbformat_minor": 4
}
