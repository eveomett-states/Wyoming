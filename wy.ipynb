{
 "cells": [
  {
   "cell_type": "code",
   "execution_count": 1,
   "metadata": {},
   "outputs": [],
   "source": [
    "import pandas as pd\n",
    "import geopandas as gpd\n",
    "import maup\n",
    "import time\n",
    "from maup import smart_repair\n",
    "from gerrychain import Graph\n",
    "\n",
    "maup.progress.enabled = True"
   ]
  },
  {
   "cell_type": "code",
   "execution_count": 2,
   "metadata": {},
   "outputs": [],
   "source": [
    "import warnings\n",
    "warnings.filterwarnings(\"ignore\")"
   ]
  },
  {
   "cell_type": "code",
   "execution_count": 3,
   "metadata": {},
   "outputs": [],
   "source": [
    "# state = Wyoming\n",
    "state_ab = \"wy\""
   ]
  },
  {
   "cell_type": "markdown",
   "metadata": {},
   "source": [
    "## Data\n",
    "1. Download all the data in directory \"tn_data\"\n",
    "2. Extract them all"
   ]
  },
  {
   "cell_type": "code",
   "execution_count": 5,
   "metadata": {},
   "outputs": [],
   "source": [
    "data_folder = state_ab + \"_data/\"\n",
    "population1_data = \"./{}{}_pl2020_b/{}_pl2020_p1_b.shp\".format(data_folder, state_ab, state_ab)\n",
    "population2_data = \"./{}{}_pl2020_b/{}_pl2020_p2_b.shp\".format(data_folder, state_ab, state_ab)\n",
    "vap_data =  \"./{}{}_pl2020_b/{}_pl2020_p4_b.shp\".format(data_folder, state_ab, state_ab)\n",
    "vest20_data = \"./{}{}_vest_20/{}_vest_20.shp\".format(data_folder, state_ab, state_ab)\n",
    "vest18_data = \"./{}{}_vest_18/{}_vest_18.shp\".format(data_folder, state_ab, state_ab)\n",
    "vest16_data = \"./{}{}_vest_16/{}_vest_16.shp\".format(data_folder, state_ab, state_ab)\n",
    "send_data = \"./{}{}_sldu_adopted_2022/HB0100_HEA0062_SDFinal_20220314.shp\".format(data_folder, state_ab)\n",
    "hdist_data = \"./{}{}_sldl_adopted_2022/HB0100_HEA0062_HDFinal_20220314.shp\".format(data_folder, state_ab)\n",
    "county_data = \"./{}{}_cvap_2022_cnty/{}_cvap_2022_cnty.shp\".format(data_folder, state_ab, state_ab)"
   ]
  },
  {
   "cell_type": "code",
   "execution_count": 6,
   "metadata": {},
   "outputs": [],
   "source": [
    "def do_smart_repair(df, min_rook_length = None, snap_precision = 10):\n",
    "    # change it to the UTM it needs for smart_repair\n",
    "    df = df.to_crs(df.estimate_utm_crs())\n",
    "    df = smart_repair(df, min_rook_length = min_rook_length, snap_precision = snap_precision)\n",
    "    \n",
    "    # check maup doctor again to see if smart repair works\n",
    "    if maup.doctor(df) == True:\n",
    "        # change it back to this UTM for this data\n",
    "        df = df.to_crs('EPSG:4269')\n",
    "    else:\n",
    "        df = df.to_crs('EPSG:4269')\n",
    "        raise Exception('maup.doctor failed')\n",
    "    \n",
    "    return df"
   ]
  },
  {
   "cell_type": "code",
   "execution_count": 7,
   "metadata": {},
   "outputs": [],
   "source": [
    "def add_district(dist_df, dist_name, election_df, col_name):\n",
    "    election_df = election_df.to_crs('EPSG:4269')\n",
    "    dist_df = dist_df.to_crs('EPSG:4269')\n",
    "    # check if it needs to be smart_repair\n",
    "    if maup.doctor(dist_df) != True:\n",
    "        dist_df = do_smart_repair(dist_df)\n",
    "\n",
    "    election_df = gpd.GeoDataFrame(election_df, crs=\"EPSG:4269\")\n",
    "\n",
    "    # assign the pricincts\n",
    "    precincts_to_district_assignment = maup.assign(election_df.geometry, dist_df.geometry)\n",
    "    election_df[dist_name] = precincts_to_district_assignment\n",
    "    for precinct_index in range(len(election_df)):\n",
    "        election_df.at[precinct_index, dist_name] = dist_df.at[election_df.at[precinct_index, dist_name], col_name]\n",
    "\n",
    "    return election_df"
   ]
  },
  {
   "cell_type": "code",
   "execution_count": 8,
   "metadata": {},
   "outputs": [],
   "source": [
    "def rename(original, year):\n",
    "    party = original[6]\n",
    "    if party == 'R' or party == 'D':\n",
    "        return original[3:6] + year + original[6]\n",
    "    else:\n",
    "        return original[3:6] + year + 'O'"
   ]
  },
  {
   "cell_type": "code",
   "execution_count": 9,
   "metadata": {},
   "outputs": [],
   "source": [
    "pop_col = ['TOTPOP', 'HISP', 'NH_WHITE', 'NH_BLACK', 'NH_AMIN', 'NH_ASIAN', 'NH_NHPI', 'NH_OTHER', 'NH_2MORE', 'H_WHITE', 'H_BLACK', 'H_AMIN', 'H_ASIAN', 'H_NHPI', 'H_OTHER', 'H_2MORE', 'VAP', 'HVAP', 'WVAP', 'BVAP', 'AMINVAP', 'ASIANVAP', 'NHPIVAP', 'OTHERVAP', '2MOREVAP']"
   ]
  },
  {
   "cell_type": "code",
   "execution_count": 10,
   "metadata": {},
   "outputs": [],
   "source": [
    "def check_population(population, df):\n",
    "    pop_check = pd.DataFrame({\n",
    "        'pop_col': pop_col,\n",
    "        'population_df': population[pop_col].sum(), \n",
    "        'vest_base': df[pop_col].sum(),\n",
    "        'equal': [x == y for x, y in zip(population[pop_col].sum(), df[pop_col].sum())]\n",
    "    })\n",
    "    if pop_check['equal'].mean() < 1:\n",
    "        print(pop_check)\n",
    "        raise Exception(\"population doesn't agree\")\n",
    "\n",
    "    else:\n",
    "        print(\"population agrees\")"
   ]
  },
  {
   "cell_type": "code",
   "execution_count": 11,
   "metadata": {},
   "outputs": [],
   "source": [
    "def add_vest(vest, df, year, population, start_col):\n",
    "    df = df.to_crs('EPSG:4269')\n",
    "    vest = vest.to_crs('EPSG:4269')\n",
    "    population = population.to_crs('EPSG:4269')\n",
    "     # check if it needs to be smart_repair\n",
    "    if maup.doctor(vest) != True:\n",
    "        vest = do_smart_repair(vest)\n",
    "    \n",
    "    # rename the columns\n",
    "    original_col = vest.columns[start_col:-1]\n",
    "    new_col = [rename(i, year) for i in original_col]\n",
    "    rename_dict = dict(zip(original_col, new_col))\n",
    "    vest = vest.rename(columns=rename_dict)\n",
    "    vest = vest.groupby(level=0, axis=1).sum() # combine all the other party's vote into columns with sufix \"O\"\n",
    "    col_name = list(set(new_col))\n",
    "    col_name.sort()\n",
    "    \n",
    "    # make the blocks from precincts by weight\n",
    "    vest = gpd.GeoDataFrame(vest, crs=\"EPSG:4269\")\n",
    "    election_in_block = population[[\"VAP\", 'geometry']] # population_df is in block scale\n",
    "    blocks_to_precincts_assignment = maup.assign(election_in_block.geometry, vest.geometry)\n",
    "    weights = election_in_block[\"VAP\"] / blocks_to_precincts_assignment.map(election_in_block[\"VAP\"].groupby(blocks_to_precincts_assignment).sum())\n",
    "    weights = weights.fillna(0)\n",
    "    prorated = maup.prorate(blocks_to_precincts_assignment, vest[col_name], weights)\n",
    "    election_in_block[col_name] = prorated\n",
    "    \n",
    "    # assign blocks to precincts\n",
    "    election_in_block = gpd.GeoDataFrame(election_in_block, crs=\"EPSG:4269\")\n",
    "    df = gpd.GeoDataFrame(df, crs=\"EPSG:4269\")\n",
    "    block_to_pricinct_assginment = maup.assign(election_in_block.geometry, df.geometry)\n",
    "    df[col_name] = election_in_block[col_name].groupby(block_to_pricinct_assginment).sum()\n",
    "    df = df.groupby(level=0, axis=1).sum()\n",
    "    df = gpd.GeoDataFrame(df, crs = \"EPSG:4269\")\n",
    "    # check if population agrees\n",
    "    check_population(population, df)\n",
    "    \n",
    "    return df"
   ]
  },
  {
   "cell_type": "markdown",
   "metadata": {},
   "source": [
    "### Read the census data"
   ]
  },
  {
   "cell_type": "code",
   "execution_count": 13,
   "metadata": {},
   "outputs": [],
   "source": [
    "population1_df = gpd.read_file(population1_data)\n",
    "population2_df = gpd.read_file(population2_data)\n",
    "vap_df = gpd.read_file(vap_data)\n",
    "county_df = gpd.read_file(county_data)"
   ]
  },
  {
   "cell_type": "code",
   "execution_count": 14,
   "metadata": {},
   "outputs": [],
   "source": [
    "population2_df = population2_df.drop(columns=['SUMLEV', 'LOGRECNO', 'GEOID', 'COUNTY', 'geometry'])\n",
    "vap_df = vap_df.drop(columns=['SUMLEV', 'LOGRECNO', 'GEOID', 'COUNTY', 'geometry'])"
   ]
  },
  {
   "cell_type": "code",
   "execution_count": 15,
   "metadata": {},
   "outputs": [],
   "source": [
    "population_df = pd.merge(population1_df, population2_df, on='GEOID20')\n",
    "population_df = pd.merge(population_df, vap_df, on='GEOID20')"
   ]
  },
  {
   "cell_type": "code",
   "execution_count": 16,
   "metadata": {},
   "outputs": [
    {
     "name": "stderr",
     "output_type": "stream",
     "text": [
      "100%|███████████████████████████████████| 53769/53769 [00:29<00:00, 1798.69it/s]\n"
     ]
    },
    {
     "data": {
      "text/plain": [
       "True"
      ]
     },
     "execution_count": 16,
     "metadata": {},
     "output_type": "execute_result"
    }
   ],
   "source": [
    "maup.doctor(population_df)"
   ]
  },
  {
   "cell_type": "code",
   "execution_count": 17,
   "metadata": {},
   "outputs": [],
   "source": [
    "population_df['H_WHITE'] = population_df.apply(lambda t: t['P0010003'] - t['P0020005'], 1)\n",
    "population_df['H_BLACK'] = population_df.apply(lambda t: t['P0010004'] - t['P0020006'], 1)\n",
    "population_df['H_AMIN'] = population_df.apply(lambda t: t['P0010005'] - t['P0020007'], 1)\n",
    "population_df['H_ASIAN'] = population_df.apply(lambda t: t['P0010006'] - t['P0020008'], 1)\n",
    "population_df['H_NHPI'] = population_df.apply(lambda t: t['P0010007'] - t['P0020009'], 1)\n",
    "population_df['H_OTHER'] = population_df.apply(lambda t: t['P0010008'] - t['P0020010'], 1)\n",
    "population_df['H_2MORE'] = population_df.apply(lambda t: t['P0010009'] - t['P0020011'], 1)"
   ]
  },
  {
   "cell_type": "code",
   "execution_count": 18,
   "metadata": {},
   "outputs": [],
   "source": [
    "rename_dict = {'P0020001': 'TOTPOP', 'P0020002': 'HISP', 'P0020005': 'NH_WHITE', 'P0020006': 'NH_BLACK', 'P0020007': 'NH_AMIN',\n",
    "                    'P0020008': 'NH_ASIAN', 'P0020009': 'NH_NHPI', 'P0020010': 'NH_OTHER', 'P0020011': 'NH_2MORE',\n",
    "                    'P0040001': 'VAP', 'P0040002': 'HVAP', 'P0040005': 'WVAP', 'P0040006': 'BVAP', 'P0040007': 'AMINVAP',\n",
    "                                        'P0040008': 'ASIANVAP', 'P0040009': 'NHPIVAP', 'P0040010': 'OTHERVAP', 'P0040011': '2MOREVAP'}"
   ]
  },
  {
   "cell_type": "code",
   "execution_count": 19,
   "metadata": {},
   "outputs": [],
   "source": [
    "population_df.rename(columns=rename_dict, inplace = True)"
   ]
  },
  {
   "cell_type": "markdown",
   "metadata": {},
   "source": [
    "Make sure that the County shapefile is clean:"
   ]
  },
  {
   "cell_type": "code",
   "execution_count": 21,
   "metadata": {},
   "outputs": [
    {
     "name": "stderr",
     "output_type": "stream",
     "text": [
      "100%|█████████████████████████████████████████| 23/23 [00:00<00:00, 1518.96it/s]\n"
     ]
    },
    {
     "data": {
      "text/plain": [
       "True"
      ]
     },
     "execution_count": 21,
     "metadata": {},
     "output_type": "execute_result"
    }
   ],
   "source": [
    "maup.doctor(county_df)"
   ]
  },
  {
   "cell_type": "markdown",
   "metadata": {},
   "source": [
    "## Read the vest 20 data\n",
    "\n",
    "Now using it as a \"base pricinct\""
   ]
  },
  {
   "cell_type": "code",
   "execution_count": 23,
   "metadata": {},
   "outputs": [],
   "source": [
    "def add_vest_base(vest, start_col, year, county = None, min_rook_length = None, snap_precision = 10):\n",
    "    vest = vest.to_crs('EPSG:4269')\n",
    "    original_col = vest.columns[start_col:-1]\n",
    "    new_col = [rename(i, year) for i in original_col]\n",
    "    rename_dict = dict(zip(original_col, new_col))\n",
    "    vest = vest.rename(columns=rename_dict)\n",
    "    vest = vest.groupby(level=0, axis=1).sum()\n",
    "    vest = gpd.GeoDataFrame(vest, crs=\"EPSG:4269\")\n",
    "\n",
    "    vest = vest.to_crs(vest.estimate_utm_crs())\n",
    "    if county is not None:\n",
    "        county = county.to_crs(county.estimate_utm_crs())\n",
    "   \n",
    "    vest = smart_repair(vest, nest_within_regions = county, min_rook_length = min_rook_length, snap_precision = snap_precision)\n",
    "    \n",
    "    return vest"
   ]
  },
  {
   "cell_type": "markdown",
   "metadata": {},
   "source": [
    "## Check if vest20 can be used as base"
   ]
  },
  {
   "cell_type": "code",
   "execution_count": 25,
   "metadata": {},
   "outputs": [],
   "source": [
    "vest20 = gpd.read_file(vest20_data)"
   ]
  },
  {
   "cell_type": "code",
   "execution_count": 26,
   "metadata": {},
   "outputs": [
    {
     "data": {
      "text/plain": [
       "Index(['STATEFP20', 'COUNTYFP20', 'VTDST20', 'NAME20', 'G20PRERTRU',\n",
       "       'G20PREDBID', 'G20PRELJOR', 'G20PREIPIE', 'G20PREOWRI', 'G20USSRLUM',\n",
       "       'G20USSDDAV', 'G20USSOWRI', 'G20HALRCHE', 'G20HALDBUL', 'G20HALLBRU',\n",
       "       'G20HALCHAG', 'G20HALOWRI', 'geometry'],\n",
       "      dtype='object')"
      ]
     },
     "execution_count": 26,
     "metadata": {},
     "output_type": "execute_result"
    }
   ],
   "source": [
    "vest20.columns"
   ]
  },
  {
   "cell_type": "code",
   "execution_count": 27,
   "metadata": {},
   "outputs": [],
   "source": [
    "start_col = 4\n",
    "vest_base_data = vest20\n",
    "year = '20'"
   ]
  },
  {
   "cell_type": "code",
   "execution_count": 28,
   "metadata": {},
   "outputs": [
    {
     "name": "stderr",
     "output_type": "stream",
     "text": [
      "100%|█████████████████████████████████████████| 23/23 [00:00<00:00, 1375.93it/s]\n"
     ]
    },
    {
     "name": "stdout",
     "output_type": "stream",
     "text": [
      "Snapping all geometries to a grid with precision 10^( -5 ) to avoid GEOS errors.\n"
     ]
    },
    {
     "name": "stderr",
     "output_type": "stream",
     "text": [
      "100%|█████████████████████████████████████████| 23/23 [00:00<00:00, 1084.54it/s]\n",
      "100%|██████████████████████████████████████████| 23/23 [00:00<00:00, 137.74it/s]\n"
     ]
    },
    {
     "name": "stdout",
     "output_type": "stream",
     "text": [
      "Identifying overlaps...\n"
     ]
    },
    {
     "name": "stderr",
     "output_type": "stream",
     "text": [
      "100%|█████████████████████████████████████| 6814/6814 [00:03<00:00, 2008.21it/s]\n"
     ]
    },
    {
     "name": "stdout",
     "output_type": "stream",
     "text": [
      "Resolving overlaps and filling gaps...\n"
     ]
    },
    {
     "name": "stderr",
     "output_type": "stream",
     "text": [
      "100%|█████████████████████████████████████████| 23/23 [00:00<00:00, 1081.54it/s]\n",
      "100%|██████████████████████████████████████████| 23/23 [00:00<00:00, 150.44it/s]\n",
      "Gaps to simplify in region 0: 100%|█████████████| 41/41 [00:00<00:00, 56.82it/s]\n",
      "Gaps to fill: 0it [00:00, ?it/s]\n",
      "Gaps to simplify in region 1: 100%|███████████| 558/558 [00:07<00:00, 76.27it/s]\n",
      "Gaps to fill in region 1: 100%|███████████████████| 2/2 [00:00<00:00, 36.51it/s]\n",
      "Gaps to simplify in region 2: 100%|█████████| 1063/1063 [00:28<00:00, 37.94it/s]\n",
      "Gaps to fill in region 2: 100%|███████████████████| 7/7 [00:00<00:00, 15.04it/s]\n",
      "Gaps to simplify in region 3: 100%|███████████| 403/403 [00:04<00:00, 96.69it/s]\n",
      "Gaps to fill in region 3: 100%|███████████████████| 5/5 [00:00<00:00, 55.67it/s]\n",
      "Gaps to simplify in region 4: 100%|█████████████| 73/73 [00:00<00:00, 76.93it/s]\n",
      "Gaps to fill in region 4: 100%|███████████████████| 4/4 [00:00<00:00, 68.82it/s]\n",
      "Gaps to simplify in region 5: 100%|███████████| 367/367 [00:08<00:00, 42.23it/s]\n",
      "Gaps to fill in region 5: 100%|███████████████████| 2/2 [00:00<00:00, 25.96it/s]\n",
      "Gaps to simplify in region 6: 100%|█████████████| 54/54 [00:00<00:00, 68.60it/s]\n",
      "Gaps to fill in region 6: 100%|███████████████████| 1/1 [00:00<00:00, 49.00it/s]\n",
      "Gaps to simplify in region 7: 100%|█████████████| 80/80 [00:01<00:00, 52.52it/s]\n",
      "Gaps to fill in region 7: 100%|███████████████████| 1/1 [00:00<00:00, 21.57it/s]\n",
      "Gaps to simplify in region 8: 100%|█████████████| 94/94 [00:04<00:00, 22.83it/s]\n",
      "Gaps to fill in region 8: 100%|███████████████████| 3/3 [00:00<00:00,  6.78it/s]\n",
      "Gaps to simplify in region 9: 100%|█████████████| 76/76 [00:01<00:00, 75.94it/s]\n",
      "Gaps to fill in region 9: 100%|███████████████████| 5/5 [00:00<00:00, 40.69it/s]\n",
      "Gaps to simplify in region 10: 100%|██████████| 258/258 [00:09<00:00, 25.80it/s]\n",
      "Gaps to fill in region 10: 100%|██████████████████| 4/4 [00:00<00:00, 10.93it/s]\n",
      "Gaps to simplify in region 11: 100%|████████████| 66/66 [00:00<00:00, 77.18it/s]\n",
      "Gaps to fill in region 11: 100%|██████████████████| 4/4 [00:00<00:00, 28.63it/s]\n",
      "Gaps to simplify in region 12: 100%|████████████| 75/75 [00:03<00:00, 21.85it/s]\n",
      "Gaps to fill in region 12: 100%|██████████████████| 1/1 [00:00<00:00, 15.92it/s]\n",
      "Gaps to simplify in region 13: 100%|███████████| 85/85 [00:00<00:00, 112.38it/s]\n",
      "Gaps to fill: 0it [00:00, ?it/s]\n",
      "Gaps to simplify in region 14: 100%|█████████| 173/173 [00:01<00:00, 119.68it/s]\n",
      "Gaps to fill in region 14: 100%|██████████████████| 3/3 [00:00<00:00, 52.30it/s]\n",
      "Gaps to simplify in region 15: 100%|██████████| 157/157 [00:01<00:00, 91.92it/s]\n",
      "Gaps to fill: 0it [00:00, ?it/s]\n",
      "Gaps to simplify in region 16: 100%|████████████| 58/58 [00:01<00:00, 43.82it/s]\n",
      "Gaps to fill in region 16: 100%|██████████████████| 4/4 [00:00<00:00, 18.51it/s]\n",
      "Gaps to simplify in region 17: 100%|████████████| 56/56 [00:00<00:00, 70.15it/s]\n",
      "Gaps to fill in region 17: 100%|██████████████████| 6/6 [00:00<00:00, 42.08it/s]\n",
      "Gaps to simplify in region 18: 100%|████████████| 87/87 [00:02<00:00, 34.26it/s]\n",
      "Gaps to fill in region 18: 100%|██████████████████| 2/2 [00:00<00:00, 22.35it/s]\n",
      "Gaps to simplify in region 19: 100%|████████████| 76/76 [00:00<00:00, 80.92it/s]\n",
      "Gaps to fill in region 19: 100%|██████████████████| 2/2 [00:00<00:00, 41.17it/s]\n",
      "Gaps to simplify in region 20: 100%|████████████| 61/61 [00:01<00:00, 54.05it/s]\n",
      "Gaps to fill in region 20: 100%|██████████████████| 5/5 [00:00<00:00, 59.28it/s]\n",
      "Gaps to simplify in region 21: 100%|██████████| 240/240 [00:02<00:00, 93.76it/s]\n",
      "Gaps to fill in region 21: 100%|██████████████████| 4/4 [00:00<00:00, 41.88it/s]\n",
      "Gaps to simplify in region 22: 100%|████████████| 20/20 [00:00<00:00, 47.37it/s]\n",
      "Gaps to fill: 0it [00:00, ?it/s]\n"
     ]
    }
   ],
   "source": [
    "vest_base = add_vest_base(vest_base_data, start_col, year, county = county_df)"
   ]
  },
  {
   "cell_type": "code",
   "execution_count": 29,
   "metadata": {},
   "outputs": [
    {
     "name": "stderr",
     "output_type": "stream",
     "text": [
      "100%|████████████████████████████████████████| 481/481 [00:00<00:00, 650.82it/s]\n"
     ]
    },
    {
     "data": {
      "text/plain": [
       "True"
      ]
     },
     "execution_count": 29,
     "metadata": {},
     "output_type": "execute_result"
    }
   ],
   "source": [
    "maup.doctor(vest_base)"
   ]
  },
  {
   "cell_type": "code",
   "execution_count": 30,
   "metadata": {},
   "outputs": [],
   "source": [
    "this_crs = vest_base.crs\n",
    "if \"proj=utm\" not in this_crs.to_proj4(): # should have been put in crs utm, which is in meters\n",
    "    print(\"Error!\")\n",
    "\n",
    "boundaries = vest_base.copy() \n",
    "boundaries[\"geometry\"] = boundaries.geometry.boundary  # get boundaries\n",
    "neighbors = gpd.sjoin(boundaries, vest_base, predicate=\"intersects\") # find boundaries that intersect\n",
    "neighbors = neighbors[neighbors.index != neighbors.index_right] # remove boundaries of a region with itself\n",
    "\n",
    "# compute shared border length using intersection\n",
    "borders = list(neighbors.apply(\n",
    "    lambda row: row.geometry.intersection(vest_base.loc[row.index_right, \"geometry\"]).length, axis=1\n",
    "))\n",
    "\n",
    "borders.sort()"
   ]
  },
  {
   "cell_type": "code",
   "execution_count": 31,
   "metadata": {},
   "outputs": [
    {
     "name": "stdout",
     "output_type": "stream",
     "text": [
      "[0.0, 0.0, 0.0, 0.0, 0.0, 0.0, 0.0, 0.0, 0.0, 0.0, 0.0, 0.0, 0.0, 0.0, 0.0, 0.0, 0.0, 0.0, 0.0, 0.0, 0.0, 0.0, 0.0, 0.0, 0.0, 0.0, 0.0, 0.0, 0.0, 0.0, 0.0, 0.0, 0.0, 0.0, 0.0, 0.0, 0.0, 0.0, 0.0, 0.0, 0.0, 0.0, 0.0, 0.0, 0.0, 0.0, 0.0, 0.0, 0.0, 0.0, 0.0, 0.0, 0.0, 0.0, 0.0, 0.0, 0.0, 0.0, 0.0, 0.0, 0.0, 0.0, 0.0, 0.0, 0.0, 0.0, 0.0, 0.0, 0.0, 0.0, 0.0, 0.0, 0.0, 0.0, 0.0, 0.0, 0.0, 0.0, 0.0, 0.0, 0.0, 0.0, 0.0, 0.0, 0.0, 0.0, 0.0, 0.0, 0.0, 0.0, 0.0, 0.0, 0.0, 0.0, 0.0, 0.0, 0.0, 0.0, 0.0, 0.0, 0.0, 0.0, 0.0, 0.0, 0.0, 0.0, 0.0, 0.0, 0.0, 0.0, 0.0, 0.0, 0.0, 0.0, 0.0, 0.0, 0.0, 0.0, 0.0, 0.0, 0.0, 0.0, 0.0, 0.0, 0.0, 0.0, 0.0, 0.0, 0.0, 0.0, 2.1537292570887616, 2.1537292570887616, 7.777018460494129, 7.777018460494129, 9.461194491784923, 9.461194491784923, 12.232428502377925, 12.232428502377925, 14.33289573941612, 14.33289573941612, 26.831087560783395, 26.831087560783395, 28.49594379146209, 28.49594379146209, 28.849242162163648, 28.849242162163648, 29.216872683240556, 29.216872683240556, 36.68532170013888, 36.68532170013888, 44.527864475641145, 44.527864475641145, 52.52604302360799, 52.52604302360799, 53.26215875421463, 53.26215875421463, 53.693654599471834, 53.693654599471834, 54.07785780704217, 54.07785780704217, 65.40132296205816, 65.40132296205816, 73.15801697010238, 73.15801697010238, 92.6478225004656, 92.6478225004656, 92.6977567121732, 92.69775671217322, 100.94703026100791, 100.94703026100791, 115.48020709349446, 115.48020709349447, 120.91979991333997, 120.91979991333999, 121.4665254166383, 121.46652541663832, 128.31294620953193, 128.312946209532, 133.865665156232, 133.865665156232, 136.43102419240887, 136.43102419240887, 145.04971502603632, 145.04971502603632, 146.91031841581724, 146.91031841581724, 153.90680463621192, 153.90680463621192, 154.48797277708326, 154.48797277708326, 156.85514972018146, 156.85514972018146, 172.0320727822484, 172.0320727822484, 188.79270243021097, 188.79270243021097, 193.24146386228125, 193.24146386228128, 197.32551199469796, 197.32551199469802, 197.35890288961934, 197.35890288961934, 201.27839933395117, 201.27839933395117, 201.46811311750997, 201.46811311750997, 213.1209431632741, 213.12094316327412, 213.5097911457573, 213.5097911457573, 215.35091436764236, 215.35091436764236, 218.70358075281837, 218.70358075281837, 220.68416776637406, 220.68416776637406, 223.53408414075233, 223.53408414075233, 229.88512276062914, 229.88512276062914, 238.63287893160503, 238.63287893160506, 238.7277009237242, 238.72770092372423, 240.52538438145334, 240.52538438145334, 251.34253841495607, 251.3425384149561, 253.2756288667293, 253.27562886672933, 257.52570518565506, 257.52570518565506, 263.7451957857661, 263.74519578576616, 265.4053051626751, 265.4053051626751, 272.3662249058605, 272.3662249058605, 284.90432935612955, 284.90432935612955, 285.17109858676224, 285.17109858676224, 298.2445693080001, 298.24456930800017, 308.9176398257549, 308.9176398257549, 316.27516057235016, 316.27516057235016, 317.5288878333918, 317.5288878333918, 326.8066184448511, 326.8066184448511, 327.18989744456417, 327.18989744456417, 327.35094741255006, 327.35094741255006, 328.58224828073463, 328.5822482807347, 329.74218494454533, 329.7421849445454, 343.7380383508988, 343.7380383508989, 346.0095238037536, 346.0095238037536, 347.0882535766094, 347.0882535766095, 351.91915317738784, 351.9191531773879, 359.2217708442454, 359.22177084424544, 361.796025214395, 361.796025214395, 363.9451528448542, 363.9451528448542, 364.4261012680616, 364.4261012680616, 364.4272813437529, 364.42728134375295, 369.56302639451894, 369.56302639451894, 378.3776605997237, 378.37766059972375, 379.7508748849426, 379.7508748849426, 382.295052421488, 382.29505242148804, 386.3138274065697, 386.3138274065697, 388.2473220457001, 388.2473220457001, 392.8057008423117, 392.8057008423117, 393.3601066436255, 393.3601066436255, 394.38876111339926, 394.3887611133993, 394.413625793961, 394.413625793961, 399.0337058139627, 399.03370581396274]\n"
     ]
    }
   ],
   "source": [
    "print(borders[:300])"
   ]
  },
  {
   "cell_type": "code",
   "execution_count": 32,
   "metadata": {},
   "outputs": [
    {
     "name": "stdout",
     "output_type": "stream",
     "text": [
      "Snapping all geometries to a grid with precision 10^( -5 ) to avoid GEOS errors.\n",
      "Identifying overlaps...\n"
     ]
    },
    {
     "name": "stderr",
     "output_type": "stream",
     "text": [
      "100%|███████████████████████████████████████| 667/667 [00:00<00:00, 2696.33it/s]\n"
     ]
    },
    {
     "name": "stdout",
     "output_type": "stream",
     "text": [
      "Resolving overlaps...\n",
      "Filling gaps...\n"
     ]
    },
    {
     "name": "stderr",
     "output_type": "stream",
     "text": [
      "Gaps to simplify: 0it [00:00, ?it/s]\n",
      "Gaps to fill: 0it [00:00, ?it/s]\n"
     ]
    },
    {
     "name": "stdout",
     "output_type": "stream",
     "text": [
      "Converting small rook adjacencies to queen...\n"
     ]
    },
    {
     "name": "stderr",
     "output_type": "stream",
     "text": [
      "100%|████████████████████████████████████████| 481/481 [00:00<00:00, 676.29it/s]\n",
      "100%|███████████████████████████████████████████| 5/5 [00:00<00:00, 3362.44it/s]\n",
      "100%|███████████████████████████████████████████| 5/5 [00:00<00:00, 3011.85it/s]\n",
      "100%|███████████████████████████████████████████| 5/5 [00:00<00:00, 2881.89it/s]\n",
      "100%|███████████████████████████████████████████| 4/4 [00:00<00:00, 3257.71it/s]\n",
      "100%|███████████████████████████████████████████| 6/6 [00:00<00:00, 3535.52it/s]\n",
      "100%|███████████████████████████████████████████| 6/6 [00:00<00:00, 3434.20it/s]\n",
      "100%|███████████████████████████████████████████| 4/4 [00:00<00:00, 2978.38it/s]\n",
      "100%|███████████████████████████████████████████| 5/5 [00:00<00:00, 2730.31it/s]\n",
      "100%|███████████████████████████████████████████| 6/6 [00:00<00:00, 2846.49it/s]\n",
      "100%|████████████████████████████████████████| 481/481 [00:00<00:00, 703.18it/s]\n"
     ]
    }
   ],
   "source": [
    "vest_base = do_smart_repair(vest_base, min_rook_length = 30.5)"
   ]
  },
  {
   "cell_type": "code",
   "execution_count": 33,
   "metadata": {},
   "outputs": [
    {
     "ename": "GEOSException",
     "evalue": "TopologyException: side location conflict at -108.29616606126318 45.000172480885453. This can occur if the input geometry is invalid.",
     "output_type": "error",
     "traceback": [
      "\u001b[0;31m---------------------------------------------------------------------------\u001b[0m",
      "\u001b[0;31mGEOSException\u001b[0m                             Traceback (most recent call last)",
      "Cell \u001b[0;32mIn[33], line 1\u001b[0m\n\u001b[0;32m----> 1\u001b[0m \u001b[43mmaup\u001b[49m\u001b[38;5;241;43m.\u001b[39;49m\u001b[43mdoctor\u001b[49m\u001b[43m(\u001b[49m\u001b[43mvest_base\u001b[49m\u001b[43m)\u001b[49m\n",
      "File \u001b[0;32m~/anaconda3/envs/gerry/lib/python3.11/site-packages/maup/repair.py:284\u001b[0m, in \u001b[0;36mdoctor\u001b[0;34m(source, target, silent, accept_holes)\u001b[0m\n\u001b[1;32m    271\u001b[0m \u001b[38;5;250m\u001b[39m\u001b[38;5;124;03m\"\"\"\u001b[39;00m\n\u001b[1;32m    272\u001b[0m \u001b[38;5;124;03mDetects quality issues in a given set of source and target geometries. Quality\u001b[39;00m\n\u001b[1;32m    273\u001b[0m \u001b[38;5;124;03missues include overlaps, gaps, invalid geometries, non-perfect\u001b[39;00m\n\u001b[0;32m   (...)\u001b[0m\n\u001b[1;32m    281\u001b[0m \u001b[38;5;124;03mFalse. (Default is accept_holes = False.)\u001b[39;00m\n\u001b[1;32m    282\u001b[0m \u001b[38;5;124;03m\"\"\"\u001b[39;00m\n\u001b[1;32m    283\u001b[0m shapefiles \u001b[38;5;241m=\u001b[39m [source]\n\u001b[0;32m--> 284\u001b[0m source_union \u001b[38;5;241m=\u001b[39m \u001b[43munary_union\u001b[49m\u001b[43m(\u001b[49m\u001b[43mget_geometries\u001b[49m\u001b[43m(\u001b[49m\u001b[43msource\u001b[49m\u001b[43m)\u001b[49m\u001b[43m)\u001b[49m\n\u001b[1;32m    286\u001b[0m health_check \u001b[38;5;241m=\u001b[39m \u001b[38;5;28;01mTrue\u001b[39;00m\n\u001b[1;32m    288\u001b[0m \u001b[38;5;28;01mif\u001b[39;00m target \u001b[38;5;129;01mis\u001b[39;00m \u001b[38;5;129;01mnot\u001b[39;00m \u001b[38;5;28;01mNone\u001b[39;00m:\n",
      "File \u001b[0;32m~/anaconda3/envs/gerry/lib/python3.11/site-packages/shapely/ops.py:135\u001b[0m, in \u001b[0;36mCollectionOperator.unary_union\u001b[0;34m(self, geoms)\u001b[0m\n\u001b[1;32m    129\u001b[0m \u001b[38;5;28;01mdef\u001b[39;00m \u001b[38;5;21munary_union\u001b[39m(\u001b[38;5;28mself\u001b[39m, geoms):\n\u001b[1;32m    130\u001b[0m \u001b[38;5;250m    \u001b[39m\u001b[38;5;124;03m\"\"\"Returns the union of a sequence of geometries\u001b[39;00m\n\u001b[1;32m    131\u001b[0m \n\u001b[1;32m    132\u001b[0m \u001b[38;5;124;03m    Usually used to convert a collection into the smallest set of polygons\u001b[39;00m\n\u001b[1;32m    133\u001b[0m \u001b[38;5;124;03m    that cover the same area.\u001b[39;00m\n\u001b[1;32m    134\u001b[0m \u001b[38;5;124;03m    \"\"\"\u001b[39;00m\n\u001b[0;32m--> 135\u001b[0m     \u001b[38;5;28;01mreturn\u001b[39;00m \u001b[43mshapely\u001b[49m\u001b[38;5;241;43m.\u001b[39;49m\u001b[43munion_all\u001b[49m\u001b[43m(\u001b[49m\u001b[43mgeoms\u001b[49m\u001b[43m,\u001b[49m\u001b[43m \u001b[49m\u001b[43maxis\u001b[49m\u001b[38;5;241;43m=\u001b[39;49m\u001b[38;5;28;43;01mNone\u001b[39;49;00m\u001b[43m)\u001b[49m\n",
      "File \u001b[0;32m~/anaconda3/envs/gerry/lib/python3.11/site-packages/shapely/decorators.py:77\u001b[0m, in \u001b[0;36mmultithreading_enabled.<locals>.wrapped\u001b[0;34m(*args, **kwargs)\u001b[0m\n\u001b[1;32m     75\u001b[0m     \u001b[38;5;28;01mfor\u001b[39;00m arr \u001b[38;5;129;01min\u001b[39;00m array_args:\n\u001b[1;32m     76\u001b[0m         arr\u001b[38;5;241m.\u001b[39mflags\u001b[38;5;241m.\u001b[39mwriteable \u001b[38;5;241m=\u001b[39m \u001b[38;5;28;01mFalse\u001b[39;00m\n\u001b[0;32m---> 77\u001b[0m     \u001b[38;5;28;01mreturn\u001b[39;00m \u001b[43mfunc\u001b[49m\u001b[43m(\u001b[49m\u001b[38;5;241;43m*\u001b[39;49m\u001b[43margs\u001b[49m\u001b[43m,\u001b[49m\u001b[43m \u001b[49m\u001b[38;5;241;43m*\u001b[39;49m\u001b[38;5;241;43m*\u001b[39;49m\u001b[43mkwargs\u001b[49m\u001b[43m)\u001b[49m\n\u001b[1;32m     78\u001b[0m \u001b[38;5;28;01mfinally\u001b[39;00m:\n\u001b[1;32m     79\u001b[0m     \u001b[38;5;28;01mfor\u001b[39;00m arr, old_flag \u001b[38;5;129;01min\u001b[39;00m \u001b[38;5;28mzip\u001b[39m(array_args, old_flags):\n",
      "File \u001b[0;32m~/anaconda3/envs/gerry/lib/python3.11/site-packages/shapely/set_operations.py:419\u001b[0m, in \u001b[0;36munion_all\u001b[0;34m(geometries, grid_size, axis, **kwargs)\u001b[0m\n\u001b[1;32m    415\u001b[0m         \u001b[38;5;28;01mraise\u001b[39;00m \u001b[38;5;167;01mValueError\u001b[39;00m(\u001b[38;5;124m\"\u001b[39m\u001b[38;5;124mgrid_size parameter only accepts scalar values\u001b[39m\u001b[38;5;124m\"\u001b[39m)\n\u001b[1;32m    417\u001b[0m     \u001b[38;5;28;01mreturn\u001b[39;00m lib\u001b[38;5;241m.\u001b[39munary_union_prec(collections, grid_size, \u001b[38;5;241m*\u001b[39m\u001b[38;5;241m*\u001b[39mkwargs)\n\u001b[0;32m--> 419\u001b[0m \u001b[38;5;28;01mreturn\u001b[39;00m \u001b[43mlib\u001b[49m\u001b[38;5;241;43m.\u001b[39;49m\u001b[43munary_union\u001b[49m\u001b[43m(\u001b[49m\u001b[43mcollections\u001b[49m\u001b[43m,\u001b[49m\u001b[43m \u001b[49m\u001b[38;5;241;43m*\u001b[39;49m\u001b[38;5;241;43m*\u001b[39;49m\u001b[43mkwargs\u001b[49m\u001b[43m)\u001b[49m\n",
      "\u001b[0;31mGEOSException\u001b[0m: TopologyException: side location conflict at -108.29616606126318 45.000172480885453. This can occur if the input geometry is invalid."
     ]
    }
   ],
   "source": [
    "maup.doctor(vest_base)"
   ]
  },
  {
   "cell_type": "markdown",
   "metadata": {},
   "source": [
    "Try again, adding min rook length when we fit to counties:"
   ]
  },
  {
   "cell_type": "code",
   "execution_count": 53,
   "metadata": {},
   "outputs": [
    {
     "name": "stderr",
     "output_type": "stream",
     "text": [
      "100%|█████████████████████████████████████████| 23/23 [00:00<00:00, 1640.04it/s]\n"
     ]
    },
    {
     "name": "stdout",
     "output_type": "stream",
     "text": [
      "Snapping all geometries to a grid with precision 10^( -5 ) to avoid GEOS errors.\n"
     ]
    },
    {
     "name": "stderr",
     "output_type": "stream",
     "text": [
      "100%|█████████████████████████████████████████| 23/23 [00:00<00:00, 1602.00it/s]\n",
      "100%|██████████████████████████████████████████| 23/23 [00:00<00:00, 160.28it/s]\n"
     ]
    },
    {
     "name": "stdout",
     "output_type": "stream",
     "text": [
      "Identifying overlaps...\n"
     ]
    },
    {
     "name": "stderr",
     "output_type": "stream",
     "text": [
      "100%|█████████████████████████████████████| 6814/6814 [00:03<00:00, 2236.20it/s]\n"
     ]
    },
    {
     "name": "stdout",
     "output_type": "stream",
     "text": [
      "Resolving overlaps and filling gaps...\n"
     ]
    },
    {
     "name": "stderr",
     "output_type": "stream",
     "text": [
      "100%|█████████████████████████████████████████| 23/23 [00:00<00:00, 1675.54it/s]\n",
      "100%|██████████████████████████████████████████| 23/23 [00:00<00:00, 135.18it/s]\n",
      "Gaps to simplify in region 0: 100%|█████████████| 41/41 [00:00<00:00, 54.69it/s]\n",
      "Gaps to fill: 0it [00:00, ?it/s]\n",
      "Gaps to simplify in region 1: 100%|███████████| 558/558 [00:06<00:00, 83.57it/s]\n",
      "Gaps to fill in region 1: 100%|███████████████████| 2/2 [00:00<00:00, 37.26it/s]\n",
      "Gaps to simplify in region 2: 100%|█████████| 1063/1063 [00:29<00:00, 35.81it/s]\n",
      "Gaps to fill in region 2: 100%|███████████████████| 7/7 [00:00<00:00, 13.46it/s]\n",
      "Gaps to simplify in region 3: 100%|███████████| 403/403 [00:04<00:00, 91.00it/s]\n",
      "Gaps to fill in region 3: 100%|███████████████████| 5/5 [00:00<00:00, 53.56it/s]\n",
      "Gaps to simplify in region 4: 100%|█████████████| 73/73 [00:00<00:00, 79.97it/s]\n",
      "Gaps to fill in region 4: 100%|███████████████████| 4/4 [00:00<00:00, 68.98it/s]\n",
      "Gaps to simplify in region 5: 100%|███████████| 367/367 [00:09<00:00, 39.25it/s]\n",
      "Gaps to fill in region 5: 100%|███████████████████| 2/2 [00:00<00:00, 27.41it/s]\n",
      "Gaps to simplify in region 6: 100%|█████████████| 54/54 [00:00<00:00, 66.27it/s]\n",
      "Gaps to fill in region 6: 100%|███████████████████| 1/1 [00:00<00:00, 47.16it/s]\n",
      "Gaps to simplify in region 7: 100%|█████████████| 80/80 [00:01<00:00, 62.94it/s]\n",
      "Gaps to fill in region 7: 100%|███████████████████| 1/1 [00:00<00:00, 22.94it/s]\n",
      "Gaps to simplify in region 8: 100%|█████████████| 94/94 [00:03<00:00, 24.77it/s]\n",
      "Gaps to fill in region 8: 100%|███████████████████| 3/3 [00:00<00:00,  6.70it/s]\n",
      "Gaps to simplify in region 9: 100%|█████████████| 76/76 [00:00<00:00, 79.92it/s]\n",
      "Gaps to fill in region 9: 100%|███████████████████| 5/5 [00:00<00:00, 43.72it/s]\n",
      "Gaps to simplify in region 10: 100%|██████████| 258/258 [00:09<00:00, 28.51it/s]\n",
      "Gaps to fill in region 10: 100%|██████████████████| 4/4 [00:00<00:00, 10.22it/s]\n",
      "Gaps to simplify in region 11: 100%|████████████| 66/66 [00:00<00:00, 74.92it/s]\n",
      "Gaps to fill in region 11: 100%|██████████████████| 4/4 [00:00<00:00, 28.53it/s]\n",
      "Gaps to simplify in region 12: 100%|████████████| 75/75 [00:03<00:00, 23.28it/s]\n",
      "Gaps to fill in region 12: 100%|██████████████████| 1/1 [00:00<00:00,  7.45it/s]\n",
      "Gaps to simplify in region 13: 100%|███████████| 85/85 [00:00<00:00, 114.33it/s]\n",
      "Gaps to fill: 0it [00:00, ?it/s]\n",
      "Gaps to simplify in region 14: 100%|█████████| 173/173 [00:01<00:00, 123.79it/s]\n",
      "Gaps to fill in region 14: 100%|██████████████████| 3/3 [00:00<00:00, 48.96it/s]\n",
      "Gaps to simplify in region 15: 100%|██████████| 157/157 [00:01<00:00, 94.55it/s]\n",
      "Gaps to fill: 0it [00:00, ?it/s]\n",
      "Gaps to simplify in region 16: 100%|████████████| 58/58 [00:01<00:00, 41.78it/s]\n",
      "Gaps to fill in region 16: 100%|██████████████████| 4/4 [00:00<00:00, 18.25it/s]\n",
      "Gaps to simplify in region 17: 100%|████████████| 56/56 [00:00<00:00, 70.52it/s]\n",
      "Gaps to fill in region 17: 100%|██████████████████| 6/6 [00:00<00:00, 41.93it/s]\n",
      "Gaps to simplify in region 18: 100%|████████████| 87/87 [00:02<00:00, 35.69it/s]\n",
      "Gaps to fill in region 18: 100%|██████████████████| 2/2 [00:00<00:00, 22.70it/s]\n",
      "Gaps to simplify in region 19: 100%|████████████| 76/76 [00:01<00:00, 75.56it/s]\n",
      "Gaps to fill in region 19: 100%|██████████████████| 2/2 [00:00<00:00, 37.87it/s]\n",
      "Gaps to simplify in region 20: 100%|████████████| 61/61 [00:01<00:00, 55.09it/s]\n",
      "Gaps to fill in region 20: 100%|██████████████████| 5/5 [00:00<00:00, 62.30it/s]\n",
      "Gaps to simplify in region 21: 100%|██████████| 240/240 [00:02<00:00, 96.81it/s]\n",
      "Gaps to fill in region 21: 100%|██████████████████| 4/4 [00:00<00:00, 37.08it/s]\n",
      "Gaps to simplify in region 22: 100%|████████████| 20/20 [00:00<00:00, 44.28it/s]\n",
      "Gaps to fill: 0it [00:00, ?it/s]\n"
     ]
    },
    {
     "name": "stdout",
     "output_type": "stream",
     "text": [
      "Converting small rook adjacencies to queen...\n"
     ]
    },
    {
     "name": "stderr",
     "output_type": "stream",
     "text": [
      "100%|████████████████████████████████████████| 481/481 [00:00<00:00, 562.45it/s]\n",
      "100%|███████████████████████████████████████████| 5/5 [00:00<00:00, 2343.97it/s]\n",
      "100%|███████████████████████████████████████████| 5/5 [00:00<00:00, 2953.32it/s]\n",
      "100%|███████████████████████████████████████████| 5/5 [00:00<00:00, 3129.14it/s]\n",
      "100%|███████████████████████████████████████████| 4/4 [00:00<00:00, 1081.42it/s]\n",
      "100%|███████████████████████████████████████████| 6/6 [00:00<00:00, 3053.36it/s]\n",
      "100%|███████████████████████████████████████████| 6/6 [00:00<00:00, 2677.22it/s]\n",
      "100%|███████████████████████████████████████████| 4/4 [00:00<00:00, 2841.19it/s]\n",
      "100%|███████████████████████████████████████████| 5/5 [00:00<00:00, 2985.27it/s]\n",
      "100%|███████████████████████████████████████████| 6/6 [00:00<00:00, 3537.51it/s]\n"
     ]
    }
   ],
   "source": [
    "vest_base = add_vest_base(vest_base_data, start_col, year, county = county_df, min_rook_length = 30.5)"
   ]
  },
  {
   "cell_type": "code",
   "execution_count": 54,
   "metadata": {},
   "outputs": [
    {
     "name": "stderr",
     "output_type": "stream",
     "text": [
      "100%|████████████████████████████████████████| 481/481 [00:00<00:00, 633.13it/s]\n"
     ]
    },
    {
     "data": {
      "text/plain": [
       "True"
      ]
     },
     "execution_count": 54,
     "metadata": {},
     "output_type": "execute_result"
    }
   ],
   "source": [
    "maup.doctor(vest_base)"
   ]
  },
  {
   "cell_type": "code",
   "execution_count": 55,
   "metadata": {},
   "outputs": [
    {
     "name": "stderr",
     "output_type": "stream",
     "text": [
      "100%|████████████████████████████████████████| 481/481 [00:00<00:00, 490.00it/s]\n",
      " 38%|███████████████▋                         | 184/481 [00:02<00:03, 88.65it/s]\n"
     ]
    },
    {
     "ename": "GEOSException",
     "evalue": "TopologyException: side location conflict at -108.29616606126318 45.000172480885453. This can occur if the input geometry is invalid.",
     "output_type": "error",
     "traceback": [
      "\u001b[0;31m---------------------------------------------------------------------------\u001b[0m",
      "\u001b[0;31mGEOSException\u001b[0m                             Traceback (most recent call last)",
      "Cell \u001b[0;32mIn[55], line 2\u001b[0m\n\u001b[1;32m      1\u001b[0m vest_base \u001b[38;5;241m=\u001b[39m vest_base\u001b[38;5;241m.\u001b[39mto_crs(\u001b[38;5;124m'\u001b[39m\u001b[38;5;124mEPSG:4269\u001b[39m\u001b[38;5;124m'\u001b[39m)\n\u001b[0;32m----> 2\u001b[0m blocks_to_precincts_assignment \u001b[38;5;241m=\u001b[39m \u001b[43mmaup\u001b[49m\u001b[38;5;241;43m.\u001b[39;49m\u001b[43massign\u001b[49m\u001b[43m(\u001b[49m\u001b[43mpopulation_df\u001b[49m\u001b[38;5;241;43m.\u001b[39;49m\u001b[43mgeometry\u001b[49m\u001b[43m,\u001b[49m\u001b[43m \u001b[49m\u001b[43mvest_base\u001b[49m\u001b[38;5;241;43m.\u001b[39;49m\u001b[43mgeometry\u001b[49m\u001b[43m)\u001b[49m\n",
      "File \u001b[0;32m~/anaconda3/envs/gerry/lib/python3.11/site-packages/maup/crs.py:14\u001b[0m, in \u001b[0;36mrequire_same_crs.<locals>.wrapped\u001b[0;34m(*args, **kwargs)\u001b[0m\n\u001b[1;32m      8\u001b[0m \u001b[38;5;28;01mif\u001b[39;00m \u001b[38;5;129;01mnot\u001b[39;00m geoms1\u001b[38;5;241m.\u001b[39mcrs \u001b[38;5;241m==\u001b[39m geoms2\u001b[38;5;241m.\u001b[39mcrs:\n\u001b[1;32m      9\u001b[0m     \u001b[38;5;28;01mraise\u001b[39;00m \u001b[38;5;167;01mTypeError\u001b[39;00m(\n\u001b[1;32m     10\u001b[0m         \u001b[38;5;124m\"\u001b[39m\u001b[38;5;124mthe source and target geometries must have the same CRS. \u001b[39m\u001b[38;5;132;01m{}\u001b[39;00m\u001b[38;5;124m \u001b[39m\u001b[38;5;132;01m{}\u001b[39;00m\u001b[38;5;124m\"\u001b[39m\u001b[38;5;241m.\u001b[39mformat(\n\u001b[1;32m     11\u001b[0m             geoms1\u001b[38;5;241m.\u001b[39mcrs, geoms2\u001b[38;5;241m.\u001b[39mcrs\n\u001b[1;32m     12\u001b[0m         )\n\u001b[1;32m     13\u001b[0m     )\n\u001b[0;32m---> 14\u001b[0m \u001b[38;5;28;01mreturn\u001b[39;00m \u001b[43mf\u001b[49m\u001b[43m(\u001b[49m\u001b[38;5;241;43m*\u001b[39;49m\u001b[43margs\u001b[49m\u001b[43m,\u001b[49m\u001b[43m \u001b[49m\u001b[38;5;241;43m*\u001b[39;49m\u001b[38;5;241;43m*\u001b[39;49m\u001b[43mkwargs\u001b[49m\u001b[43m)\u001b[49m\n",
      "File \u001b[0;32m~/anaconda3/envs/gerry/lib/python3.11/site-packages/maup/assign.py:23\u001b[0m, in \u001b[0;36massign\u001b[0;34m(sources, targets)\u001b[0m\n\u001b[1;32m     19\u001b[0m unassigned \u001b[38;5;241m=\u001b[39m sources[assignment\u001b[38;5;241m.\u001b[39misna()]\n\u001b[1;32m     21\u001b[0m \u001b[38;5;28;01mif\u001b[39;00m \u001b[38;5;28mlen\u001b[39m(unassigned):  \u001b[38;5;66;03m# skip if done\u001b[39;00m\n\u001b[1;32m     22\u001b[0m     assignments_by_area \u001b[38;5;241m=\u001b[39m pandas\u001b[38;5;241m.\u001b[39mSeries(\n\u001b[0;32m---> 23\u001b[0m         \u001b[43massign_by_area\u001b[49m\u001b[43m(\u001b[49m\u001b[43munassigned\u001b[49m\u001b[43m,\u001b[49m\u001b[43m \u001b[49m\u001b[43mtargets\u001b[49m\u001b[43m)\u001b[49m,\n\u001b[1;32m     24\u001b[0m         dtype\u001b[38;5;241m=\u001b[39m\u001b[38;5;124m\"\u001b[39m\u001b[38;5;124mfloat\u001b[39m\u001b[38;5;124m\"\u001b[39m\n\u001b[1;32m     25\u001b[0m     )\n\u001b[1;32m     26\u001b[0m     assignment\u001b[38;5;241m.\u001b[39mupdate(assignments_by_area)\n\u001b[1;32m     28\u001b[0m \u001b[38;5;66;03m# TODO: add a warning here if there are still unassigned source geometries.\u001b[39;00m\n",
      "File \u001b[0;32m~/anaconda3/envs/gerry/lib/python3.11/site-packages/maup/assign.py:38\u001b[0m, in \u001b[0;36massign_by_area\u001b[0;34m(sources, targets)\u001b[0m\n\u001b[1;32m     37\u001b[0m \u001b[38;5;28;01mdef\u001b[39;00m \u001b[38;5;21massign_by_area\u001b[39m(sources, targets):\n\u001b[0;32m---> 38\u001b[0m     \u001b[38;5;28;01mreturn\u001b[39;00m assign_to_max(\u001b[43mintersections\u001b[49m\u001b[43m(\u001b[49m\u001b[43msources\u001b[49m\u001b[43m,\u001b[49m\u001b[43m \u001b[49m\u001b[43mtargets\u001b[49m\u001b[43m,\u001b[49m\u001b[43m \u001b[49m\u001b[43marea_cutoff\u001b[49m\u001b[38;5;241;43m=\u001b[39;49m\u001b[38;5;241;43m0\u001b[39;49m\u001b[43m)\u001b[49m\u001b[38;5;241m.\u001b[39marea)\n",
      "File \u001b[0;32m~/anaconda3/envs/gerry/lib/python3.11/site-packages/maup/crs.py:14\u001b[0m, in \u001b[0;36mrequire_same_crs.<locals>.wrapped\u001b[0;34m(*args, **kwargs)\u001b[0m\n\u001b[1;32m      8\u001b[0m \u001b[38;5;28;01mif\u001b[39;00m \u001b[38;5;129;01mnot\u001b[39;00m geoms1\u001b[38;5;241m.\u001b[39mcrs \u001b[38;5;241m==\u001b[39m geoms2\u001b[38;5;241m.\u001b[39mcrs:\n\u001b[1;32m      9\u001b[0m     \u001b[38;5;28;01mraise\u001b[39;00m \u001b[38;5;167;01mTypeError\u001b[39;00m(\n\u001b[1;32m     10\u001b[0m         \u001b[38;5;124m\"\u001b[39m\u001b[38;5;124mthe source and target geometries must have the same CRS. \u001b[39m\u001b[38;5;132;01m{}\u001b[39;00m\u001b[38;5;124m \u001b[39m\u001b[38;5;132;01m{}\u001b[39;00m\u001b[38;5;124m\"\u001b[39m\u001b[38;5;241m.\u001b[39mformat(\n\u001b[1;32m     11\u001b[0m             geoms1\u001b[38;5;241m.\u001b[39mcrs, geoms2\u001b[38;5;241m.\u001b[39mcrs\n\u001b[1;32m     12\u001b[0m         )\n\u001b[1;32m     13\u001b[0m     )\n\u001b[0;32m---> 14\u001b[0m \u001b[38;5;28;01mreturn\u001b[39;00m \u001b[43mf\u001b[49m\u001b[43m(\u001b[49m\u001b[38;5;241;43m*\u001b[39;49m\u001b[43margs\u001b[49m\u001b[43m,\u001b[49m\u001b[43m \u001b[49m\u001b[38;5;241;43m*\u001b[39;49m\u001b[38;5;241;43m*\u001b[39;49m\u001b[43mkwargs\u001b[49m\u001b[43m)\u001b[49m\n",
      "File \u001b[0;32m~/anaconda3/envs/gerry/lib/python3.11/site-packages/maup/intersections.py:32\u001b[0m, in \u001b[0;36mintersections\u001b[0;34m(sources, targets, output_type, area_cutoff)\u001b[0m\n\u001b[1;32m     29\u001b[0m reindexed_targets \u001b[38;5;241m=\u001b[39m get_geometries_with_range_index(targets)\n\u001b[1;32m     30\u001b[0m spatially_indexed_sources \u001b[38;5;241m=\u001b[39m IndexedGeometries(reindexed_sources)\n\u001b[0;32m---> 32\u001b[0m records \u001b[38;5;241m=\u001b[39m \u001b[43m[\u001b[49m\n\u001b[1;32m     33\u001b[0m \u001b[43m    \u001b[49m\u001b[38;5;66;43;03m# Flip i, j to j, i so that the index is [\"source\", \"target\"]\u001b[39;49;00m\n\u001b[1;32m     34\u001b[0m \u001b[43m    \u001b[49m\u001b[43m(\u001b[49m\u001b[43msources\u001b[49m\u001b[38;5;241;43m.\u001b[39;49m\u001b[43mindex\u001b[49m\u001b[43m[\u001b[49m\u001b[43mj\u001b[49m\u001b[43m]\u001b[49m\u001b[43m,\u001b[49m\u001b[43m \u001b[49m\u001b[43mtargets\u001b[49m\u001b[38;5;241;43m.\u001b[39;49m\u001b[43mindex\u001b[49m\u001b[43m[\u001b[49m\u001b[43mi\u001b[49m\u001b[43m]\u001b[49m\u001b[43m,\u001b[49m\u001b[43m \u001b[49m\u001b[43mgeometry\u001b[49m\u001b[43m)\u001b[49m\n\u001b[1;32m     35\u001b[0m \u001b[43m    \u001b[49m\u001b[38;5;28;43;01mfor\u001b[39;49;00m\u001b[43m \u001b[49m\u001b[43mi\u001b[49m\u001b[43m,\u001b[49m\u001b[43m \u001b[49m\u001b[43mj\u001b[49m\u001b[43m,\u001b[49m\u001b[43m \u001b[49m\u001b[43mgeometry\u001b[49m\u001b[43m \u001b[49m\u001b[38;5;129;43;01min\u001b[39;49;00m\u001b[43m \u001b[49m\u001b[43mspatially_indexed_sources\u001b[49m\u001b[38;5;241;43m.\u001b[39;49m\u001b[43menumerate_intersections\u001b[49m\u001b[43m(\u001b[49m\n\u001b[1;32m     36\u001b[0m \u001b[43m        \u001b[49m\u001b[43mreindexed_targets\u001b[49m\n\u001b[1;32m     37\u001b[0m \u001b[43m    \u001b[49m\u001b[43m)\u001b[49m\n\u001b[1;32m     38\u001b[0m \u001b[43m\u001b[49m\u001b[43m]\u001b[49m\n\u001b[1;32m     40\u001b[0m df \u001b[38;5;241m=\u001b[39m GeoDataFrame(records, columns\u001b[38;5;241m=\u001b[39m[\u001b[38;5;124m\"\u001b[39m\u001b[38;5;124msource\u001b[39m\u001b[38;5;124m\"\u001b[39m, \u001b[38;5;124m\"\u001b[39m\u001b[38;5;124mtarget\u001b[39m\u001b[38;5;124m\"\u001b[39m, \u001b[38;5;124m\"\u001b[39m\u001b[38;5;124mgeometry\u001b[39m\u001b[38;5;124m\"\u001b[39m], crs\u001b[38;5;241m=\u001b[39msources\u001b[38;5;241m.\u001b[39mcrs)\n\u001b[1;32m     41\u001b[0m df \u001b[38;5;241m=\u001b[39m df\u001b[38;5;241m.\u001b[39msort_values(by\u001b[38;5;241m=\u001b[39m[\u001b[38;5;124m\"\u001b[39m\u001b[38;5;124msource\u001b[39m\u001b[38;5;124m\"\u001b[39m, \u001b[38;5;124m\"\u001b[39m\u001b[38;5;124mtarget\u001b[39m\u001b[38;5;124m\"\u001b[39m])\u001b[38;5;241m.\u001b[39mreset_index(drop\u001b[38;5;241m=\u001b[39m\u001b[38;5;28;01mTrue\u001b[39;00m)\n",
      "File \u001b[0;32m~/anaconda3/envs/gerry/lib/python3.11/site-packages/maup/intersections.py:32\u001b[0m, in \u001b[0;36m<listcomp>\u001b[0;34m(.0)\u001b[0m\n\u001b[1;32m     29\u001b[0m reindexed_targets \u001b[38;5;241m=\u001b[39m get_geometries_with_range_index(targets)\n\u001b[1;32m     30\u001b[0m spatially_indexed_sources \u001b[38;5;241m=\u001b[39m IndexedGeometries(reindexed_sources)\n\u001b[0;32m---> 32\u001b[0m records \u001b[38;5;241m=\u001b[39m \u001b[43m[\u001b[49m\n\u001b[1;32m     33\u001b[0m \u001b[43m    \u001b[49m\u001b[38;5;66;43;03m# Flip i, j to j, i so that the index is [\"source\", \"target\"]\u001b[39;49;00m\n\u001b[1;32m     34\u001b[0m \u001b[43m    \u001b[49m\u001b[43m(\u001b[49m\u001b[43msources\u001b[49m\u001b[38;5;241;43m.\u001b[39;49m\u001b[43mindex\u001b[49m\u001b[43m[\u001b[49m\u001b[43mj\u001b[49m\u001b[43m]\u001b[49m\u001b[43m,\u001b[49m\u001b[43m \u001b[49m\u001b[43mtargets\u001b[49m\u001b[38;5;241;43m.\u001b[39;49m\u001b[43mindex\u001b[49m\u001b[43m[\u001b[49m\u001b[43mi\u001b[49m\u001b[43m]\u001b[49m\u001b[43m,\u001b[49m\u001b[43m \u001b[49m\u001b[43mgeometry\u001b[49m\u001b[43m)\u001b[49m\n\u001b[1;32m     35\u001b[0m \u001b[43m    \u001b[49m\u001b[38;5;28;43;01mfor\u001b[39;49;00m\u001b[43m \u001b[49m\u001b[43mi\u001b[49m\u001b[43m,\u001b[49m\u001b[43m \u001b[49m\u001b[43mj\u001b[49m\u001b[43m,\u001b[49m\u001b[43m \u001b[49m\u001b[43mgeometry\u001b[49m\u001b[43m \u001b[49m\u001b[38;5;129;43;01min\u001b[39;49;00m\u001b[43m \u001b[49m\u001b[43mspatially_indexed_sources\u001b[49m\u001b[38;5;241;43m.\u001b[39;49m\u001b[43menumerate_intersections\u001b[49m\u001b[43m(\u001b[49m\n\u001b[1;32m     36\u001b[0m \u001b[43m        \u001b[49m\u001b[43mreindexed_targets\u001b[49m\n\u001b[1;32m     37\u001b[0m \u001b[43m    \u001b[49m\u001b[43m)\u001b[49m\n\u001b[1;32m     38\u001b[0m \u001b[43m\u001b[49m\u001b[43m]\u001b[49m\n\u001b[1;32m     40\u001b[0m df \u001b[38;5;241m=\u001b[39m GeoDataFrame(records, columns\u001b[38;5;241m=\u001b[39m[\u001b[38;5;124m\"\u001b[39m\u001b[38;5;124msource\u001b[39m\u001b[38;5;124m\"\u001b[39m, \u001b[38;5;124m\"\u001b[39m\u001b[38;5;124mtarget\u001b[39m\u001b[38;5;124m\"\u001b[39m, \u001b[38;5;124m\"\u001b[39m\u001b[38;5;124mgeometry\u001b[39m\u001b[38;5;124m\"\u001b[39m], crs\u001b[38;5;241m=\u001b[39msources\u001b[38;5;241m.\u001b[39mcrs)\n\u001b[1;32m     41\u001b[0m df \u001b[38;5;241m=\u001b[39m df\u001b[38;5;241m.\u001b[39msort_values(by\u001b[38;5;241m=\u001b[39m[\u001b[38;5;124m\"\u001b[39m\u001b[38;5;124msource\u001b[39m\u001b[38;5;124m\"\u001b[39m, \u001b[38;5;124m\"\u001b[39m\u001b[38;5;124mtarget\u001b[39m\u001b[38;5;124m\"\u001b[39m])\u001b[38;5;241m.\u001b[39mreset_index(drop\u001b[38;5;241m=\u001b[39m\u001b[38;5;28;01mTrue\u001b[39;00m)\n",
      "File \u001b[0;32m~/anaconda3/envs/gerry/lib/python3.11/site-packages/maup/indexed_geometries.py:76\u001b[0m, in \u001b[0;36mIndexedGeometries.enumerate_intersections\u001b[0;34m(self, targets)\u001b[0m\n\u001b[1;32m     74\u001b[0m target_geometries \u001b[38;5;241m=\u001b[39m get_geometries(targets)\n\u001b[1;32m     75\u001b[0m \u001b[38;5;28;01mfor\u001b[39;00m i, target \u001b[38;5;129;01min\u001b[39;00m progress(target_geometries\u001b[38;5;241m.\u001b[39mitems(), \u001b[38;5;28mlen\u001b[39m(target_geometries)):\n\u001b[0;32m---> 76\u001b[0m     \u001b[38;5;28;01mfor\u001b[39;00m j, intersection \u001b[38;5;129;01min\u001b[39;00m \u001b[38;5;28;43mself\u001b[39;49m\u001b[38;5;241;43m.\u001b[39;49m\u001b[43mintersections\u001b[49m\u001b[43m(\u001b[49m\u001b[43mtarget\u001b[49m\u001b[43m)\u001b[49m\u001b[38;5;241m.\u001b[39mitems():\n\u001b[1;32m     77\u001b[0m         \u001b[38;5;28;01myield\u001b[39;00m i, j, intersection\n",
      "File \u001b[0;32m~/anaconda3/envs/gerry/lib/python3.11/site-packages/maup/indexed_geometries.py:33\u001b[0m, in \u001b[0;36mIndexedGeometries.intersections\u001b[0;34m(self, geometry)\u001b[0m\n\u001b[1;32m     31\u001b[0m \u001b[38;5;28;01mdef\u001b[39;00m \u001b[38;5;21mintersections\u001b[39m(\u001b[38;5;28mself\u001b[39m, geometry):\n\u001b[1;32m     32\u001b[0m     relevant_geometries \u001b[38;5;241m=\u001b[39m \u001b[38;5;28mself\u001b[39m\u001b[38;5;241m.\u001b[39mquery(geometry)\n\u001b[0;32m---> 33\u001b[0m     intersections \u001b[38;5;241m=\u001b[39m \u001b[43mrelevant_geometries\u001b[49m\u001b[38;5;241;43m.\u001b[39;49m\u001b[43mintersection\u001b[49m\u001b[43m(\u001b[49m\u001b[43mgeometry\u001b[49m\u001b[43m)\u001b[49m\n\u001b[1;32m     34\u001b[0m     \u001b[38;5;28;01mreturn\u001b[39;00m intersections[\u001b[38;5;241m-\u001b[39m(intersections\u001b[38;5;241m.\u001b[39mis_empty \u001b[38;5;241m|\u001b[39m intersections\u001b[38;5;241m.\u001b[39misna())]\n",
      "File \u001b[0;32m~/anaconda3/envs/gerry/lib/python3.11/site-packages/geopandas/base.py:3266\u001b[0m, in \u001b[0;36mGeoPandasBase.intersection\u001b[0;34m(self, other, align)\u001b[0m\n\u001b[1;32m   3155\u001b[0m \u001b[38;5;28;01mdef\u001b[39;00m \u001b[38;5;21mintersection\u001b[39m(\u001b[38;5;28mself\u001b[39m, other, align\u001b[38;5;241m=\u001b[39m\u001b[38;5;28;01mTrue\u001b[39;00m):\n\u001b[1;32m   3156\u001b[0m \u001b[38;5;250m    \u001b[39m\u001b[38;5;124;03m\"\"\"Returns a ``GeoSeries`` of the intersection of points in each\u001b[39;00m\n\u001b[1;32m   3157\u001b[0m \u001b[38;5;124;03m    aligned geometry with `other`.\u001b[39;00m\n\u001b[1;32m   3158\u001b[0m \n\u001b[0;32m   (...)\u001b[0m\n\u001b[1;32m   3264\u001b[0m \u001b[38;5;124;03m    GeoSeries.union\u001b[39;00m\n\u001b[1;32m   3265\u001b[0m \u001b[38;5;124;03m    \"\"\"\u001b[39;00m\n\u001b[0;32m-> 3266\u001b[0m     \u001b[38;5;28;01mreturn\u001b[39;00m \u001b[43m_binary_geo\u001b[49m\u001b[43m(\u001b[49m\u001b[38;5;124;43m\"\u001b[39;49m\u001b[38;5;124;43mintersection\u001b[39;49m\u001b[38;5;124;43m\"\u001b[39;49m\u001b[43m,\u001b[49m\u001b[43m \u001b[49m\u001b[38;5;28;43mself\u001b[39;49m\u001b[43m,\u001b[49m\u001b[43m \u001b[49m\u001b[43mother\u001b[49m\u001b[43m,\u001b[49m\u001b[43m \u001b[49m\u001b[43malign\u001b[49m\u001b[43m)\u001b[49m\n",
      "File \u001b[0;32m~/anaconda3/envs/gerry/lib/python3.11/site-packages/geopandas/base.py:56\u001b[0m, in \u001b[0;36m_binary_geo\u001b[0;34m(op, this, other, align)\u001b[0m\n\u001b[1;32m     53\u001b[0m \u001b[38;5;250m\u001b[39m\u001b[38;5;124;03m\"\"\"Binary operation on GeoSeries objects that returns a GeoSeries\"\"\"\u001b[39;00m\n\u001b[1;32m     54\u001b[0m \u001b[38;5;28;01mfrom\u001b[39;00m \u001b[38;5;21;01m.\u001b[39;00m\u001b[38;5;21;01mgeoseries\u001b[39;00m \u001b[38;5;28;01mimport\u001b[39;00m GeoSeries\n\u001b[0;32m---> 56\u001b[0m geoms, index \u001b[38;5;241m=\u001b[39m \u001b[43m_delegate_binary_method\u001b[49m\u001b[43m(\u001b[49m\u001b[43mop\u001b[49m\u001b[43m,\u001b[49m\u001b[43m \u001b[49m\u001b[43mthis\u001b[49m\u001b[43m,\u001b[49m\u001b[43m \u001b[49m\u001b[43mother\u001b[49m\u001b[43m,\u001b[49m\u001b[43m \u001b[49m\u001b[43malign\u001b[49m\u001b[43m)\u001b[49m\n\u001b[1;32m     57\u001b[0m \u001b[38;5;28;01mreturn\u001b[39;00m GeoSeries(geoms, index\u001b[38;5;241m=\u001b[39mindex, crs\u001b[38;5;241m=\u001b[39mthis\u001b[38;5;241m.\u001b[39mcrs)\n",
      "File \u001b[0;32m~/anaconda3/envs/gerry/lib/python3.11/site-packages/geopandas/base.py:47\u001b[0m, in \u001b[0;36m_delegate_binary_method\u001b[0;34m(op, this, other, align, *args, **kwargs)\u001b[0m\n\u001b[1;32m     44\u001b[0m \u001b[38;5;28;01melse\u001b[39;00m:\n\u001b[1;32m     45\u001b[0m     \u001b[38;5;28;01mraise\u001b[39;00m \u001b[38;5;167;01mTypeError\u001b[39;00m(\u001b[38;5;28mtype\u001b[39m(this), \u001b[38;5;28mtype\u001b[39m(other))\n\u001b[0;32m---> 47\u001b[0m data \u001b[38;5;241m=\u001b[39m \u001b[38;5;28;43mgetattr\u001b[39;49m\u001b[43m(\u001b[49m\u001b[43ma_this\u001b[49m\u001b[43m,\u001b[49m\u001b[43m \u001b[49m\u001b[43mop\u001b[49m\u001b[43m)\u001b[49m\u001b[43m(\u001b[49m\u001b[43mother\u001b[49m\u001b[43m,\u001b[49m\u001b[43m \u001b[49m\u001b[38;5;241;43m*\u001b[39;49m\u001b[43margs\u001b[49m\u001b[43m,\u001b[49m\u001b[43m \u001b[49m\u001b[38;5;241;43m*\u001b[39;49m\u001b[38;5;241;43m*\u001b[39;49m\u001b[43mkwargs\u001b[49m\u001b[43m)\u001b[49m\n\u001b[1;32m     48\u001b[0m \u001b[38;5;28;01mreturn\u001b[39;00m data, this\u001b[38;5;241m.\u001b[39mindex\n",
      "File \u001b[0;32m~/anaconda3/envs/gerry/lib/python3.11/site-packages/geopandas/array.py:671\u001b[0m, in \u001b[0;36mGeometryArray.intersection\u001b[0;34m(self, other)\u001b[0m\n\u001b[1;32m    669\u001b[0m \u001b[38;5;28;01mdef\u001b[39;00m \u001b[38;5;21mintersection\u001b[39m(\u001b[38;5;28mself\u001b[39m, other):\n\u001b[1;32m    670\u001b[0m     \u001b[38;5;28;01mreturn\u001b[39;00m GeometryArray(\n\u001b[0;32m--> 671\u001b[0m         \u001b[38;5;28;43mself\u001b[39;49m\u001b[38;5;241;43m.\u001b[39;49m\u001b[43m_binary_method\u001b[49m\u001b[43m(\u001b[49m\u001b[38;5;124;43m\"\u001b[39;49m\u001b[38;5;124;43mintersection\u001b[39;49m\u001b[38;5;124;43m\"\u001b[39;49m\u001b[43m,\u001b[49m\u001b[43m \u001b[49m\u001b[38;5;28;43mself\u001b[39;49m\u001b[43m,\u001b[49m\u001b[43m \u001b[49m\u001b[43mother\u001b[49m\u001b[43m)\u001b[49m, crs\u001b[38;5;241m=\u001b[39m\u001b[38;5;28mself\u001b[39m\u001b[38;5;241m.\u001b[39mcrs\n\u001b[1;32m    672\u001b[0m     )\n",
      "File \u001b[0;32m~/anaconda3/envs/gerry/lib/python3.11/site-packages/geopandas/array.py:611\u001b[0m, in \u001b[0;36mGeometryArray._binary_method\u001b[0;34m(op, left, right, **kwargs)\u001b[0m\n\u001b[1;32m    608\u001b[0m         _crs_mismatch_warn(left, right, stacklevel\u001b[38;5;241m=\u001b[39m\u001b[38;5;241m7\u001b[39m)\n\u001b[1;32m    609\u001b[0m     right \u001b[38;5;241m=\u001b[39m right\u001b[38;5;241m.\u001b[39m_data\n\u001b[0;32m--> 611\u001b[0m \u001b[38;5;28;01mreturn\u001b[39;00m \u001b[38;5;28;43mgetattr\u001b[39;49m\u001b[43m(\u001b[49m\u001b[43mvectorized\u001b[49m\u001b[43m,\u001b[49m\u001b[43m \u001b[49m\u001b[43mop\u001b[49m\u001b[43m)\u001b[49m\u001b[43m(\u001b[49m\u001b[43mleft\u001b[49m\u001b[38;5;241;43m.\u001b[39;49m\u001b[43m_data\u001b[49m\u001b[43m,\u001b[49m\u001b[43m \u001b[49m\u001b[43mright\u001b[49m\u001b[43m,\u001b[49m\u001b[43m \u001b[49m\u001b[38;5;241;43m*\u001b[39;49m\u001b[38;5;241;43m*\u001b[39;49m\u001b[43mkwargs\u001b[49m\u001b[43m)\u001b[49m\n",
      "File \u001b[0;32m~/anaconda3/envs/gerry/lib/python3.11/site-packages/geopandas/_vectorized.py:938\u001b[0m, in \u001b[0;36mintersection\u001b[0;34m(data, other)\u001b[0m\n\u001b[1;32m    936\u001b[0m \u001b[38;5;28;01mdef\u001b[39;00m \u001b[38;5;21mintersection\u001b[39m(data, other):\n\u001b[1;32m    937\u001b[0m     \u001b[38;5;28;01mif\u001b[39;00m compat\u001b[38;5;241m.\u001b[39mUSE_SHAPELY_20:\n\u001b[0;32m--> 938\u001b[0m         \u001b[38;5;28;01mreturn\u001b[39;00m \u001b[43mshapely\u001b[49m\u001b[38;5;241;43m.\u001b[39;49m\u001b[43mintersection\u001b[49m\u001b[43m(\u001b[49m\u001b[43mdata\u001b[49m\u001b[43m,\u001b[49m\u001b[43m \u001b[49m\u001b[43mother\u001b[49m\u001b[43m)\u001b[49m\n\u001b[1;32m    939\u001b[0m     \u001b[38;5;28;01melif\u001b[39;00m compat\u001b[38;5;241m.\u001b[39mUSE_PYGEOS:\n\u001b[1;32m    940\u001b[0m         \u001b[38;5;28;01mreturn\u001b[39;00m _binary_method(\u001b[38;5;124m\"\u001b[39m\u001b[38;5;124mintersection\u001b[39m\u001b[38;5;124m\"\u001b[39m, data, other)\n",
      "File \u001b[0;32m~/anaconda3/envs/gerry/lib/python3.11/site-packages/shapely/decorators.py:77\u001b[0m, in \u001b[0;36mmultithreading_enabled.<locals>.wrapped\u001b[0;34m(*args, **kwargs)\u001b[0m\n\u001b[1;32m     75\u001b[0m     \u001b[38;5;28;01mfor\u001b[39;00m arr \u001b[38;5;129;01min\u001b[39;00m array_args:\n\u001b[1;32m     76\u001b[0m         arr\u001b[38;5;241m.\u001b[39mflags\u001b[38;5;241m.\u001b[39mwriteable \u001b[38;5;241m=\u001b[39m \u001b[38;5;28;01mFalse\u001b[39;00m\n\u001b[0;32m---> 77\u001b[0m     \u001b[38;5;28;01mreturn\u001b[39;00m \u001b[43mfunc\u001b[49m\u001b[43m(\u001b[49m\u001b[38;5;241;43m*\u001b[39;49m\u001b[43margs\u001b[49m\u001b[43m,\u001b[49m\u001b[43m \u001b[49m\u001b[38;5;241;43m*\u001b[39;49m\u001b[38;5;241;43m*\u001b[39;49m\u001b[43mkwargs\u001b[49m\u001b[43m)\u001b[49m\n\u001b[1;32m     78\u001b[0m \u001b[38;5;28;01mfinally\u001b[39;00m:\n\u001b[1;32m     79\u001b[0m     \u001b[38;5;28;01mfor\u001b[39;00m arr, old_flag \u001b[38;5;129;01min\u001b[39;00m \u001b[38;5;28mzip\u001b[39m(array_args, old_flags):\n",
      "File \u001b[0;32m~/anaconda3/envs/gerry/lib/python3.11/site-packages/shapely/set_operations.py:131\u001b[0m, in \u001b[0;36mintersection\u001b[0;34m(a, b, grid_size, **kwargs)\u001b[0m\n\u001b[1;32m    127\u001b[0m         \u001b[38;5;28;01mraise\u001b[39;00m \u001b[38;5;167;01mValueError\u001b[39;00m(\u001b[38;5;124m\"\u001b[39m\u001b[38;5;124mgrid_size parameter only accepts scalar values\u001b[39m\u001b[38;5;124m\"\u001b[39m)\n\u001b[1;32m    129\u001b[0m     \u001b[38;5;28;01mreturn\u001b[39;00m lib\u001b[38;5;241m.\u001b[39mintersection_prec(a, b, grid_size, \u001b[38;5;241m*\u001b[39m\u001b[38;5;241m*\u001b[39mkwargs)\n\u001b[0;32m--> 131\u001b[0m \u001b[38;5;28;01mreturn\u001b[39;00m \u001b[43mlib\u001b[49m\u001b[38;5;241;43m.\u001b[39;49m\u001b[43mintersection\u001b[49m\u001b[43m(\u001b[49m\u001b[43ma\u001b[49m\u001b[43m,\u001b[49m\u001b[43m \u001b[49m\u001b[43mb\u001b[49m\u001b[43m,\u001b[49m\u001b[43m \u001b[49m\u001b[38;5;241;43m*\u001b[39;49m\u001b[38;5;241;43m*\u001b[39;49m\u001b[43mkwargs\u001b[49m\u001b[43m)\u001b[49m\n",
      "\u001b[0;31mGEOSException\u001b[0m: TopologyException: side location conflict at -108.29616606126318 45.000172480885453. This can occur if the input geometry is invalid."
     ]
    }
   ],
   "source": [
    "vest_base = vest_base.to_crs('EPSG:4269')\n",
    "blocks_to_precincts_assignment = maup.assign(population_df.geometry, vest_base.geometry)"
   ]
  },
  {
   "cell_type": "markdown",
   "metadata": {},
   "source": [
    "Try again:"
   ]
  },
  {
   "cell_type": "code",
   "execution_count": 58,
   "metadata": {},
   "outputs": [
    {
     "name": "stderr",
     "output_type": "stream",
     "text": [
      "100%|█████████████████████████████████████████| 23/23 [00:00<00:00, 1402.53it/s]\n"
     ]
    },
    {
     "name": "stdout",
     "output_type": "stream",
     "text": [
      "Snapping all geometries to a grid with precision 10^( -3 ) to avoid GEOS errors.\n"
     ]
    },
    {
     "name": "stderr",
     "output_type": "stream",
     "text": [
      "100%|█████████████████████████████████████████| 23/23 [00:00<00:00, 1136.03it/s]\n",
      "100%|██████████████████████████████████████████| 23/23 [00:00<00:00, 148.34it/s]\n"
     ]
    },
    {
     "name": "stdout",
     "output_type": "stream",
     "text": [
      "Identifying overlaps...\n"
     ]
    },
    {
     "name": "stderr",
     "output_type": "stream",
     "text": [
      "100%|█████████████████████████████████████| 6818/6818 [00:03<00:00, 1899.36it/s]\n"
     ]
    },
    {
     "name": "stdout",
     "output_type": "stream",
     "text": [
      "Resolving overlaps and filling gaps...\n"
     ]
    },
    {
     "name": "stderr",
     "output_type": "stream",
     "text": [
      "100%|█████████████████████████████████████████| 23/23 [00:00<00:00, 1062.90it/s]\n",
      "100%|██████████████████████████████████████████| 23/23 [00:00<00:00, 141.72it/s]\n",
      "Gaps to simplify in region 0: 100%|█████████████| 40/40 [00:00<00:00, 55.31it/s]\n",
      "Gaps to fill: 0it [00:00, ?it/s]\n",
      "Gaps to simplify in region 1: 100%|███████████| 560/560 [00:07<00:00, 79.51it/s]\n",
      "Gaps to fill in region 1: 100%|███████████████████| 2/2 [00:00<00:00, 39.60it/s]\n",
      "Gaps to simplify in region 2: 100%|█████████| 1166/1166 [00:31<00:00, 36.75it/s]\n",
      "Gaps to fill in region 2: 100%|███████████████████| 6/6 [00:00<00:00, 15.38it/s]\n",
      "Gaps to simplify in region 3: 100%|███████████| 404/404 [00:04<00:00, 87.47it/s]\n",
      "Gaps to fill in region 3: 100%|███████████████████| 5/5 [00:00<00:00, 49.56it/s]\n",
      "Gaps to simplify in region 4: 100%|█████████████| 74/74 [00:00<00:00, 77.68it/s]\n",
      "Gaps to fill in region 4: 100%|███████████████████| 4/4 [00:00<00:00, 66.70it/s]\n",
      "Gaps to simplify in region 5: 100%|███████████| 367/367 [00:08<00:00, 41.57it/s]\n",
      "Gaps to fill in region 5: 100%|███████████████████| 2/2 [00:00<00:00, 25.00it/s]\n",
      "Gaps to simplify in region 6: 100%|█████████████| 55/55 [00:00<00:00, 67.74it/s]\n",
      "Gaps to fill in region 6: 100%|███████████████████| 1/1 [00:00<00:00, 21.67it/s]\n",
      "Gaps to simplify in region 7: 100%|█████████████| 83/83 [00:01<00:00, 60.22it/s]\n",
      "Gaps to fill in region 7: 100%|███████████████████| 1/1 [00:00<00:00, 21.82it/s]\n",
      "Gaps to simplify in region 8: 100%|█████████████| 95/95 [00:04<00:00, 19.74it/s]\n",
      "Gaps to fill in region 8: 100%|███████████████████| 3/3 [00:00<00:00,  6.13it/s]\n",
      "Gaps to simplify in region 9: 100%|█████████████| 75/75 [00:00<00:00, 76.96it/s]\n",
      "Gaps to fill in region 9: 100%|███████████████████| 5/5 [00:00<00:00, 39.86it/s]\n",
      "Gaps to simplify in region 10: 100%|██████████| 258/258 [00:09<00:00, 27.38it/s]\n",
      "Gaps to fill in region 10: 100%|██████████████████| 4/4 [00:00<00:00, 10.30it/s]\n",
      "Gaps to simplify in region 11: 100%|████████████| 66/66 [00:00<00:00, 75.08it/s]\n",
      "Gaps to fill in region 11: 100%|██████████████████| 4/4 [00:00<00:00, 27.28it/s]\n",
      "Gaps to simplify in region 12: 100%|████████████| 76/76 [00:03<00:00, 22.41it/s]\n",
      "Gaps to fill in region 12: 100%|██████████████████| 1/1 [00:00<00:00, 15.30it/s]\n",
      "Gaps to simplify in region 13: 100%|████████████| 85/85 [00:00<00:00, 97.09it/s]\n",
      "Gaps to fill: 0it [00:00, ?it/s]\n",
      "Gaps to simplify in region 14: 100%|█████████| 174/174 [00:01<00:00, 122.48it/s]\n",
      "Gaps to fill in region 14: 100%|██████████████████| 3/3 [00:00<00:00, 49.10it/s]\n",
      "Gaps to simplify in region 15: 100%|██████████| 157/157 [00:01<00:00, 91.81it/s]\n",
      "Gaps to fill: 0it [00:00, ?it/s]\n",
      "Gaps to simplify in region 16: 100%|████████████| 58/58 [00:01<00:00, 46.25it/s]\n",
      "Gaps to fill in region 16: 100%|██████████████████| 4/4 [00:00<00:00,  9.88it/s]\n",
      "Gaps to simplify in region 17: 100%|████████████| 56/56 [00:00<00:00, 72.01it/s]\n",
      "Gaps to fill in region 17: 100%|██████████████████| 6/6 [00:00<00:00, 41.23it/s]\n",
      "Gaps to simplify in region 18: 100%|████████████| 86/86 [00:02<00:00, 38.33it/s]\n",
      "Gaps to fill in region 18: 100%|██████████████████| 2/2 [00:00<00:00, 22.37it/s]\n",
      "Gaps to simplify in region 19: 100%|████████████| 76/76 [00:01<00:00, 67.47it/s]\n",
      "Gaps to fill in region 19: 100%|██████████████████| 2/2 [00:00<00:00, 38.22it/s]\n",
      "Gaps to simplify in region 20: 100%|████████████| 62/62 [00:01<00:00, 55.24it/s]\n",
      "Gaps to fill in region 20: 100%|██████████████████| 5/5 [00:00<00:00, 59.59it/s]\n",
      "Gaps to simplify in region 21: 100%|██████████| 240/240 [00:02<00:00, 95.66it/s]\n",
      "Gaps to fill in region 21: 100%|██████████████████| 4/4 [00:00<00:00, 37.29it/s]\n",
      "Gaps to simplify in region 22: 100%|████████████| 21/21 [00:00<00:00, 46.86it/s]\n",
      "Gaps to fill: 0it [00:00, ?it/s]\n"
     ]
    },
    {
     "name": "stdout",
     "output_type": "stream",
     "text": [
      "Converting small rook adjacencies to queen...\n"
     ]
    },
    {
     "name": "stderr",
     "output_type": "stream",
     "text": [
      "100%|████████████████████████████████████████| 481/481 [00:00<00:00, 668.46it/s]\n",
      "100%|███████████████████████████████████████████| 5/5 [00:00<00:00, 2876.75it/s]\n",
      "100%|███████████████████████████████████████████| 5/5 [00:00<00:00, 2413.02it/s]\n",
      "100%|███████████████████████████████████████████| 5/5 [00:00<00:00, 2651.27it/s]\n",
      "100%|███████████████████████████████████████████| 4/4 [00:00<00:00, 2743.17it/s]\n",
      "100%|███████████████████████████████████████████| 6/6 [00:00<00:00, 2881.69it/s]\n",
      "100%|███████████████████████████████████████████| 6/6 [00:00<00:00, 2860.08it/s]\n",
      "100%|███████████████████████████████████████████| 4/4 [00:00<00:00, 3580.29it/s]\n",
      "100%|███████████████████████████████████████████| 5/5 [00:00<00:00, 2628.67it/s]\n",
      "100%|███████████████████████████████████████████| 6/6 [00:00<00:00, 3461.60it/s]\n"
     ]
    }
   ],
   "source": [
    "vest_base = add_vest_base(vest_base_data, start_col, year, county = county_df, min_rook_length = 30.5, snap_precision = 8)"
   ]
  },
  {
   "cell_type": "code",
   "execution_count": 59,
   "metadata": {},
   "outputs": [
    {
     "name": "stderr",
     "output_type": "stream",
     "text": [
      "100%|████████████████████████████████████████| 481/481 [00:00<00:00, 660.06it/s]\n"
     ]
    },
    {
     "data": {
      "text/plain": [
       "True"
      ]
     },
     "execution_count": 59,
     "metadata": {},
     "output_type": "execute_result"
    }
   ],
   "source": [
    "maup.doctor(vest_base)"
   ]
  },
  {
   "cell_type": "code",
   "execution_count": 60,
   "metadata": {},
   "outputs": [
    {
     "name": "stderr",
     "output_type": "stream",
     "text": [
      "100%|████████████████████████████████████████| 481/481 [00:01<00:00, 474.52it/s]\n",
      " 38%|███████████████▎                        | 184/481 [00:01<00:02, 108.93it/s]\n"
     ]
    },
    {
     "ename": "GEOSException",
     "evalue": "TopologyException: side location conflict at -108.29615739455946 45.000172501550544. This can occur if the input geometry is invalid.",
     "output_type": "error",
     "traceback": [
      "\u001b[0;31m---------------------------------------------------------------------------\u001b[0m",
      "\u001b[0;31mGEOSException\u001b[0m                             Traceback (most recent call last)",
      "Cell \u001b[0;32mIn[60], line 2\u001b[0m\n\u001b[1;32m      1\u001b[0m vest_base \u001b[38;5;241m=\u001b[39m vest_base\u001b[38;5;241m.\u001b[39mto_crs(\u001b[38;5;124m'\u001b[39m\u001b[38;5;124mEPSG:4269\u001b[39m\u001b[38;5;124m'\u001b[39m)\n\u001b[0;32m----> 2\u001b[0m blocks_to_precincts_assignment \u001b[38;5;241m=\u001b[39m \u001b[43mmaup\u001b[49m\u001b[38;5;241;43m.\u001b[39;49m\u001b[43massign\u001b[49m\u001b[43m(\u001b[49m\u001b[43mpopulation_df\u001b[49m\u001b[38;5;241;43m.\u001b[39;49m\u001b[43mgeometry\u001b[49m\u001b[43m,\u001b[49m\u001b[43m \u001b[49m\u001b[43mvest_base\u001b[49m\u001b[38;5;241;43m.\u001b[39;49m\u001b[43mgeometry\u001b[49m\u001b[43m)\u001b[49m\n",
      "File \u001b[0;32m~/anaconda3/envs/gerry/lib/python3.11/site-packages/maup/crs.py:14\u001b[0m, in \u001b[0;36mrequire_same_crs.<locals>.wrapped\u001b[0;34m(*args, **kwargs)\u001b[0m\n\u001b[1;32m      8\u001b[0m \u001b[38;5;28;01mif\u001b[39;00m \u001b[38;5;129;01mnot\u001b[39;00m geoms1\u001b[38;5;241m.\u001b[39mcrs \u001b[38;5;241m==\u001b[39m geoms2\u001b[38;5;241m.\u001b[39mcrs:\n\u001b[1;32m      9\u001b[0m     \u001b[38;5;28;01mraise\u001b[39;00m \u001b[38;5;167;01mTypeError\u001b[39;00m(\n\u001b[1;32m     10\u001b[0m         \u001b[38;5;124m\"\u001b[39m\u001b[38;5;124mthe source and target geometries must have the same CRS. \u001b[39m\u001b[38;5;132;01m{}\u001b[39;00m\u001b[38;5;124m \u001b[39m\u001b[38;5;132;01m{}\u001b[39;00m\u001b[38;5;124m\"\u001b[39m\u001b[38;5;241m.\u001b[39mformat(\n\u001b[1;32m     11\u001b[0m             geoms1\u001b[38;5;241m.\u001b[39mcrs, geoms2\u001b[38;5;241m.\u001b[39mcrs\n\u001b[1;32m     12\u001b[0m         )\n\u001b[1;32m     13\u001b[0m     )\n\u001b[0;32m---> 14\u001b[0m \u001b[38;5;28;01mreturn\u001b[39;00m \u001b[43mf\u001b[49m\u001b[43m(\u001b[49m\u001b[38;5;241;43m*\u001b[39;49m\u001b[43margs\u001b[49m\u001b[43m,\u001b[49m\u001b[43m \u001b[49m\u001b[38;5;241;43m*\u001b[39;49m\u001b[38;5;241;43m*\u001b[39;49m\u001b[43mkwargs\u001b[49m\u001b[43m)\u001b[49m\n",
      "File \u001b[0;32m~/anaconda3/envs/gerry/lib/python3.11/site-packages/maup/assign.py:23\u001b[0m, in \u001b[0;36massign\u001b[0;34m(sources, targets)\u001b[0m\n\u001b[1;32m     19\u001b[0m unassigned \u001b[38;5;241m=\u001b[39m sources[assignment\u001b[38;5;241m.\u001b[39misna()]\n\u001b[1;32m     21\u001b[0m \u001b[38;5;28;01mif\u001b[39;00m \u001b[38;5;28mlen\u001b[39m(unassigned):  \u001b[38;5;66;03m# skip if done\u001b[39;00m\n\u001b[1;32m     22\u001b[0m     assignments_by_area \u001b[38;5;241m=\u001b[39m pandas\u001b[38;5;241m.\u001b[39mSeries(\n\u001b[0;32m---> 23\u001b[0m         \u001b[43massign_by_area\u001b[49m\u001b[43m(\u001b[49m\u001b[43munassigned\u001b[49m\u001b[43m,\u001b[49m\u001b[43m \u001b[49m\u001b[43mtargets\u001b[49m\u001b[43m)\u001b[49m,\n\u001b[1;32m     24\u001b[0m         dtype\u001b[38;5;241m=\u001b[39m\u001b[38;5;124m\"\u001b[39m\u001b[38;5;124mfloat\u001b[39m\u001b[38;5;124m\"\u001b[39m\n\u001b[1;32m     25\u001b[0m     )\n\u001b[1;32m     26\u001b[0m     assignment\u001b[38;5;241m.\u001b[39mupdate(assignments_by_area)\n\u001b[1;32m     28\u001b[0m \u001b[38;5;66;03m# TODO: add a warning here if there are still unassigned source geometries.\u001b[39;00m\n",
      "File \u001b[0;32m~/anaconda3/envs/gerry/lib/python3.11/site-packages/maup/assign.py:38\u001b[0m, in \u001b[0;36massign_by_area\u001b[0;34m(sources, targets)\u001b[0m\n\u001b[1;32m     37\u001b[0m \u001b[38;5;28;01mdef\u001b[39;00m \u001b[38;5;21massign_by_area\u001b[39m(sources, targets):\n\u001b[0;32m---> 38\u001b[0m     \u001b[38;5;28;01mreturn\u001b[39;00m assign_to_max(\u001b[43mintersections\u001b[49m\u001b[43m(\u001b[49m\u001b[43msources\u001b[49m\u001b[43m,\u001b[49m\u001b[43m \u001b[49m\u001b[43mtargets\u001b[49m\u001b[43m,\u001b[49m\u001b[43m \u001b[49m\u001b[43marea_cutoff\u001b[49m\u001b[38;5;241;43m=\u001b[39;49m\u001b[38;5;241;43m0\u001b[39;49m\u001b[43m)\u001b[49m\u001b[38;5;241m.\u001b[39marea)\n",
      "File \u001b[0;32m~/anaconda3/envs/gerry/lib/python3.11/site-packages/maup/crs.py:14\u001b[0m, in \u001b[0;36mrequire_same_crs.<locals>.wrapped\u001b[0;34m(*args, **kwargs)\u001b[0m\n\u001b[1;32m      8\u001b[0m \u001b[38;5;28;01mif\u001b[39;00m \u001b[38;5;129;01mnot\u001b[39;00m geoms1\u001b[38;5;241m.\u001b[39mcrs \u001b[38;5;241m==\u001b[39m geoms2\u001b[38;5;241m.\u001b[39mcrs:\n\u001b[1;32m      9\u001b[0m     \u001b[38;5;28;01mraise\u001b[39;00m \u001b[38;5;167;01mTypeError\u001b[39;00m(\n\u001b[1;32m     10\u001b[0m         \u001b[38;5;124m\"\u001b[39m\u001b[38;5;124mthe source and target geometries must have the same CRS. \u001b[39m\u001b[38;5;132;01m{}\u001b[39;00m\u001b[38;5;124m \u001b[39m\u001b[38;5;132;01m{}\u001b[39;00m\u001b[38;5;124m\"\u001b[39m\u001b[38;5;241m.\u001b[39mformat(\n\u001b[1;32m     11\u001b[0m             geoms1\u001b[38;5;241m.\u001b[39mcrs, geoms2\u001b[38;5;241m.\u001b[39mcrs\n\u001b[1;32m     12\u001b[0m         )\n\u001b[1;32m     13\u001b[0m     )\n\u001b[0;32m---> 14\u001b[0m \u001b[38;5;28;01mreturn\u001b[39;00m \u001b[43mf\u001b[49m\u001b[43m(\u001b[49m\u001b[38;5;241;43m*\u001b[39;49m\u001b[43margs\u001b[49m\u001b[43m,\u001b[49m\u001b[43m \u001b[49m\u001b[38;5;241;43m*\u001b[39;49m\u001b[38;5;241;43m*\u001b[39;49m\u001b[43mkwargs\u001b[49m\u001b[43m)\u001b[49m\n",
      "File \u001b[0;32m~/anaconda3/envs/gerry/lib/python3.11/site-packages/maup/intersections.py:32\u001b[0m, in \u001b[0;36mintersections\u001b[0;34m(sources, targets, output_type, area_cutoff)\u001b[0m\n\u001b[1;32m     29\u001b[0m reindexed_targets \u001b[38;5;241m=\u001b[39m get_geometries_with_range_index(targets)\n\u001b[1;32m     30\u001b[0m spatially_indexed_sources \u001b[38;5;241m=\u001b[39m IndexedGeometries(reindexed_sources)\n\u001b[0;32m---> 32\u001b[0m records \u001b[38;5;241m=\u001b[39m \u001b[43m[\u001b[49m\n\u001b[1;32m     33\u001b[0m \u001b[43m    \u001b[49m\u001b[38;5;66;43;03m# Flip i, j to j, i so that the index is [\"source\", \"target\"]\u001b[39;49;00m\n\u001b[1;32m     34\u001b[0m \u001b[43m    \u001b[49m\u001b[43m(\u001b[49m\u001b[43msources\u001b[49m\u001b[38;5;241;43m.\u001b[39;49m\u001b[43mindex\u001b[49m\u001b[43m[\u001b[49m\u001b[43mj\u001b[49m\u001b[43m]\u001b[49m\u001b[43m,\u001b[49m\u001b[43m \u001b[49m\u001b[43mtargets\u001b[49m\u001b[38;5;241;43m.\u001b[39;49m\u001b[43mindex\u001b[49m\u001b[43m[\u001b[49m\u001b[43mi\u001b[49m\u001b[43m]\u001b[49m\u001b[43m,\u001b[49m\u001b[43m \u001b[49m\u001b[43mgeometry\u001b[49m\u001b[43m)\u001b[49m\n\u001b[1;32m     35\u001b[0m \u001b[43m    \u001b[49m\u001b[38;5;28;43;01mfor\u001b[39;49;00m\u001b[43m \u001b[49m\u001b[43mi\u001b[49m\u001b[43m,\u001b[49m\u001b[43m \u001b[49m\u001b[43mj\u001b[49m\u001b[43m,\u001b[49m\u001b[43m \u001b[49m\u001b[43mgeometry\u001b[49m\u001b[43m \u001b[49m\u001b[38;5;129;43;01min\u001b[39;49;00m\u001b[43m \u001b[49m\u001b[43mspatially_indexed_sources\u001b[49m\u001b[38;5;241;43m.\u001b[39;49m\u001b[43menumerate_intersections\u001b[49m\u001b[43m(\u001b[49m\n\u001b[1;32m     36\u001b[0m \u001b[43m        \u001b[49m\u001b[43mreindexed_targets\u001b[49m\n\u001b[1;32m     37\u001b[0m \u001b[43m    \u001b[49m\u001b[43m)\u001b[49m\n\u001b[1;32m     38\u001b[0m \u001b[43m\u001b[49m\u001b[43m]\u001b[49m\n\u001b[1;32m     40\u001b[0m df \u001b[38;5;241m=\u001b[39m GeoDataFrame(records, columns\u001b[38;5;241m=\u001b[39m[\u001b[38;5;124m\"\u001b[39m\u001b[38;5;124msource\u001b[39m\u001b[38;5;124m\"\u001b[39m, \u001b[38;5;124m\"\u001b[39m\u001b[38;5;124mtarget\u001b[39m\u001b[38;5;124m\"\u001b[39m, \u001b[38;5;124m\"\u001b[39m\u001b[38;5;124mgeometry\u001b[39m\u001b[38;5;124m\"\u001b[39m], crs\u001b[38;5;241m=\u001b[39msources\u001b[38;5;241m.\u001b[39mcrs)\n\u001b[1;32m     41\u001b[0m df \u001b[38;5;241m=\u001b[39m df\u001b[38;5;241m.\u001b[39msort_values(by\u001b[38;5;241m=\u001b[39m[\u001b[38;5;124m\"\u001b[39m\u001b[38;5;124msource\u001b[39m\u001b[38;5;124m\"\u001b[39m, \u001b[38;5;124m\"\u001b[39m\u001b[38;5;124mtarget\u001b[39m\u001b[38;5;124m\"\u001b[39m])\u001b[38;5;241m.\u001b[39mreset_index(drop\u001b[38;5;241m=\u001b[39m\u001b[38;5;28;01mTrue\u001b[39;00m)\n",
      "File \u001b[0;32m~/anaconda3/envs/gerry/lib/python3.11/site-packages/maup/intersections.py:32\u001b[0m, in \u001b[0;36m<listcomp>\u001b[0;34m(.0)\u001b[0m\n\u001b[1;32m     29\u001b[0m reindexed_targets \u001b[38;5;241m=\u001b[39m get_geometries_with_range_index(targets)\n\u001b[1;32m     30\u001b[0m spatially_indexed_sources \u001b[38;5;241m=\u001b[39m IndexedGeometries(reindexed_sources)\n\u001b[0;32m---> 32\u001b[0m records \u001b[38;5;241m=\u001b[39m \u001b[43m[\u001b[49m\n\u001b[1;32m     33\u001b[0m \u001b[43m    \u001b[49m\u001b[38;5;66;43;03m# Flip i, j to j, i so that the index is [\"source\", \"target\"]\u001b[39;49;00m\n\u001b[1;32m     34\u001b[0m \u001b[43m    \u001b[49m\u001b[43m(\u001b[49m\u001b[43msources\u001b[49m\u001b[38;5;241;43m.\u001b[39;49m\u001b[43mindex\u001b[49m\u001b[43m[\u001b[49m\u001b[43mj\u001b[49m\u001b[43m]\u001b[49m\u001b[43m,\u001b[49m\u001b[43m \u001b[49m\u001b[43mtargets\u001b[49m\u001b[38;5;241;43m.\u001b[39;49m\u001b[43mindex\u001b[49m\u001b[43m[\u001b[49m\u001b[43mi\u001b[49m\u001b[43m]\u001b[49m\u001b[43m,\u001b[49m\u001b[43m \u001b[49m\u001b[43mgeometry\u001b[49m\u001b[43m)\u001b[49m\n\u001b[1;32m     35\u001b[0m \u001b[43m    \u001b[49m\u001b[38;5;28;43;01mfor\u001b[39;49;00m\u001b[43m \u001b[49m\u001b[43mi\u001b[49m\u001b[43m,\u001b[49m\u001b[43m \u001b[49m\u001b[43mj\u001b[49m\u001b[43m,\u001b[49m\u001b[43m \u001b[49m\u001b[43mgeometry\u001b[49m\u001b[43m \u001b[49m\u001b[38;5;129;43;01min\u001b[39;49;00m\u001b[43m \u001b[49m\u001b[43mspatially_indexed_sources\u001b[49m\u001b[38;5;241;43m.\u001b[39;49m\u001b[43menumerate_intersections\u001b[49m\u001b[43m(\u001b[49m\n\u001b[1;32m     36\u001b[0m \u001b[43m        \u001b[49m\u001b[43mreindexed_targets\u001b[49m\n\u001b[1;32m     37\u001b[0m \u001b[43m    \u001b[49m\u001b[43m)\u001b[49m\n\u001b[1;32m     38\u001b[0m \u001b[43m\u001b[49m\u001b[43m]\u001b[49m\n\u001b[1;32m     40\u001b[0m df \u001b[38;5;241m=\u001b[39m GeoDataFrame(records, columns\u001b[38;5;241m=\u001b[39m[\u001b[38;5;124m\"\u001b[39m\u001b[38;5;124msource\u001b[39m\u001b[38;5;124m\"\u001b[39m, \u001b[38;5;124m\"\u001b[39m\u001b[38;5;124mtarget\u001b[39m\u001b[38;5;124m\"\u001b[39m, \u001b[38;5;124m\"\u001b[39m\u001b[38;5;124mgeometry\u001b[39m\u001b[38;5;124m\"\u001b[39m], crs\u001b[38;5;241m=\u001b[39msources\u001b[38;5;241m.\u001b[39mcrs)\n\u001b[1;32m     41\u001b[0m df \u001b[38;5;241m=\u001b[39m df\u001b[38;5;241m.\u001b[39msort_values(by\u001b[38;5;241m=\u001b[39m[\u001b[38;5;124m\"\u001b[39m\u001b[38;5;124msource\u001b[39m\u001b[38;5;124m\"\u001b[39m, \u001b[38;5;124m\"\u001b[39m\u001b[38;5;124mtarget\u001b[39m\u001b[38;5;124m\"\u001b[39m])\u001b[38;5;241m.\u001b[39mreset_index(drop\u001b[38;5;241m=\u001b[39m\u001b[38;5;28;01mTrue\u001b[39;00m)\n",
      "File \u001b[0;32m~/anaconda3/envs/gerry/lib/python3.11/site-packages/maup/indexed_geometries.py:76\u001b[0m, in \u001b[0;36mIndexedGeometries.enumerate_intersections\u001b[0;34m(self, targets)\u001b[0m\n\u001b[1;32m     74\u001b[0m target_geometries \u001b[38;5;241m=\u001b[39m get_geometries(targets)\n\u001b[1;32m     75\u001b[0m \u001b[38;5;28;01mfor\u001b[39;00m i, target \u001b[38;5;129;01min\u001b[39;00m progress(target_geometries\u001b[38;5;241m.\u001b[39mitems(), \u001b[38;5;28mlen\u001b[39m(target_geometries)):\n\u001b[0;32m---> 76\u001b[0m     \u001b[38;5;28;01mfor\u001b[39;00m j, intersection \u001b[38;5;129;01min\u001b[39;00m \u001b[38;5;28;43mself\u001b[39;49m\u001b[38;5;241;43m.\u001b[39;49m\u001b[43mintersections\u001b[49m\u001b[43m(\u001b[49m\u001b[43mtarget\u001b[49m\u001b[43m)\u001b[49m\u001b[38;5;241m.\u001b[39mitems():\n\u001b[1;32m     77\u001b[0m         \u001b[38;5;28;01myield\u001b[39;00m i, j, intersection\n",
      "File \u001b[0;32m~/anaconda3/envs/gerry/lib/python3.11/site-packages/maup/indexed_geometries.py:33\u001b[0m, in \u001b[0;36mIndexedGeometries.intersections\u001b[0;34m(self, geometry)\u001b[0m\n\u001b[1;32m     31\u001b[0m \u001b[38;5;28;01mdef\u001b[39;00m \u001b[38;5;21mintersections\u001b[39m(\u001b[38;5;28mself\u001b[39m, geometry):\n\u001b[1;32m     32\u001b[0m     relevant_geometries \u001b[38;5;241m=\u001b[39m \u001b[38;5;28mself\u001b[39m\u001b[38;5;241m.\u001b[39mquery(geometry)\n\u001b[0;32m---> 33\u001b[0m     intersections \u001b[38;5;241m=\u001b[39m \u001b[43mrelevant_geometries\u001b[49m\u001b[38;5;241;43m.\u001b[39;49m\u001b[43mintersection\u001b[49m\u001b[43m(\u001b[49m\u001b[43mgeometry\u001b[49m\u001b[43m)\u001b[49m\n\u001b[1;32m     34\u001b[0m     \u001b[38;5;28;01mreturn\u001b[39;00m intersections[\u001b[38;5;241m-\u001b[39m(intersections\u001b[38;5;241m.\u001b[39mis_empty \u001b[38;5;241m|\u001b[39m intersections\u001b[38;5;241m.\u001b[39misna())]\n",
      "File \u001b[0;32m~/anaconda3/envs/gerry/lib/python3.11/site-packages/geopandas/base.py:3266\u001b[0m, in \u001b[0;36mGeoPandasBase.intersection\u001b[0;34m(self, other, align)\u001b[0m\n\u001b[1;32m   3155\u001b[0m \u001b[38;5;28;01mdef\u001b[39;00m \u001b[38;5;21mintersection\u001b[39m(\u001b[38;5;28mself\u001b[39m, other, align\u001b[38;5;241m=\u001b[39m\u001b[38;5;28;01mTrue\u001b[39;00m):\n\u001b[1;32m   3156\u001b[0m \u001b[38;5;250m    \u001b[39m\u001b[38;5;124;03m\"\"\"Returns a ``GeoSeries`` of the intersection of points in each\u001b[39;00m\n\u001b[1;32m   3157\u001b[0m \u001b[38;5;124;03m    aligned geometry with `other`.\u001b[39;00m\n\u001b[1;32m   3158\u001b[0m \n\u001b[0;32m   (...)\u001b[0m\n\u001b[1;32m   3264\u001b[0m \u001b[38;5;124;03m    GeoSeries.union\u001b[39;00m\n\u001b[1;32m   3265\u001b[0m \u001b[38;5;124;03m    \"\"\"\u001b[39;00m\n\u001b[0;32m-> 3266\u001b[0m     \u001b[38;5;28;01mreturn\u001b[39;00m \u001b[43m_binary_geo\u001b[49m\u001b[43m(\u001b[49m\u001b[38;5;124;43m\"\u001b[39;49m\u001b[38;5;124;43mintersection\u001b[39;49m\u001b[38;5;124;43m\"\u001b[39;49m\u001b[43m,\u001b[49m\u001b[43m \u001b[49m\u001b[38;5;28;43mself\u001b[39;49m\u001b[43m,\u001b[49m\u001b[43m \u001b[49m\u001b[43mother\u001b[49m\u001b[43m,\u001b[49m\u001b[43m \u001b[49m\u001b[43malign\u001b[49m\u001b[43m)\u001b[49m\n",
      "File \u001b[0;32m~/anaconda3/envs/gerry/lib/python3.11/site-packages/geopandas/base.py:56\u001b[0m, in \u001b[0;36m_binary_geo\u001b[0;34m(op, this, other, align)\u001b[0m\n\u001b[1;32m     53\u001b[0m \u001b[38;5;250m\u001b[39m\u001b[38;5;124;03m\"\"\"Binary operation on GeoSeries objects that returns a GeoSeries\"\"\"\u001b[39;00m\n\u001b[1;32m     54\u001b[0m \u001b[38;5;28;01mfrom\u001b[39;00m \u001b[38;5;21;01m.\u001b[39;00m\u001b[38;5;21;01mgeoseries\u001b[39;00m \u001b[38;5;28;01mimport\u001b[39;00m GeoSeries\n\u001b[0;32m---> 56\u001b[0m geoms, index \u001b[38;5;241m=\u001b[39m \u001b[43m_delegate_binary_method\u001b[49m\u001b[43m(\u001b[49m\u001b[43mop\u001b[49m\u001b[43m,\u001b[49m\u001b[43m \u001b[49m\u001b[43mthis\u001b[49m\u001b[43m,\u001b[49m\u001b[43m \u001b[49m\u001b[43mother\u001b[49m\u001b[43m,\u001b[49m\u001b[43m \u001b[49m\u001b[43malign\u001b[49m\u001b[43m)\u001b[49m\n\u001b[1;32m     57\u001b[0m \u001b[38;5;28;01mreturn\u001b[39;00m GeoSeries(geoms, index\u001b[38;5;241m=\u001b[39mindex, crs\u001b[38;5;241m=\u001b[39mthis\u001b[38;5;241m.\u001b[39mcrs)\n",
      "File \u001b[0;32m~/anaconda3/envs/gerry/lib/python3.11/site-packages/geopandas/base.py:47\u001b[0m, in \u001b[0;36m_delegate_binary_method\u001b[0;34m(op, this, other, align, *args, **kwargs)\u001b[0m\n\u001b[1;32m     44\u001b[0m \u001b[38;5;28;01melse\u001b[39;00m:\n\u001b[1;32m     45\u001b[0m     \u001b[38;5;28;01mraise\u001b[39;00m \u001b[38;5;167;01mTypeError\u001b[39;00m(\u001b[38;5;28mtype\u001b[39m(this), \u001b[38;5;28mtype\u001b[39m(other))\n\u001b[0;32m---> 47\u001b[0m data \u001b[38;5;241m=\u001b[39m \u001b[38;5;28;43mgetattr\u001b[39;49m\u001b[43m(\u001b[49m\u001b[43ma_this\u001b[49m\u001b[43m,\u001b[49m\u001b[43m \u001b[49m\u001b[43mop\u001b[49m\u001b[43m)\u001b[49m\u001b[43m(\u001b[49m\u001b[43mother\u001b[49m\u001b[43m,\u001b[49m\u001b[43m \u001b[49m\u001b[38;5;241;43m*\u001b[39;49m\u001b[43margs\u001b[49m\u001b[43m,\u001b[49m\u001b[43m \u001b[49m\u001b[38;5;241;43m*\u001b[39;49m\u001b[38;5;241;43m*\u001b[39;49m\u001b[43mkwargs\u001b[49m\u001b[43m)\u001b[49m\n\u001b[1;32m     48\u001b[0m \u001b[38;5;28;01mreturn\u001b[39;00m data, this\u001b[38;5;241m.\u001b[39mindex\n",
      "File \u001b[0;32m~/anaconda3/envs/gerry/lib/python3.11/site-packages/geopandas/array.py:671\u001b[0m, in \u001b[0;36mGeometryArray.intersection\u001b[0;34m(self, other)\u001b[0m\n\u001b[1;32m    669\u001b[0m \u001b[38;5;28;01mdef\u001b[39;00m \u001b[38;5;21mintersection\u001b[39m(\u001b[38;5;28mself\u001b[39m, other):\n\u001b[1;32m    670\u001b[0m     \u001b[38;5;28;01mreturn\u001b[39;00m GeometryArray(\n\u001b[0;32m--> 671\u001b[0m         \u001b[38;5;28;43mself\u001b[39;49m\u001b[38;5;241;43m.\u001b[39;49m\u001b[43m_binary_method\u001b[49m\u001b[43m(\u001b[49m\u001b[38;5;124;43m\"\u001b[39;49m\u001b[38;5;124;43mintersection\u001b[39;49m\u001b[38;5;124;43m\"\u001b[39;49m\u001b[43m,\u001b[49m\u001b[43m \u001b[49m\u001b[38;5;28;43mself\u001b[39;49m\u001b[43m,\u001b[49m\u001b[43m \u001b[49m\u001b[43mother\u001b[49m\u001b[43m)\u001b[49m, crs\u001b[38;5;241m=\u001b[39m\u001b[38;5;28mself\u001b[39m\u001b[38;5;241m.\u001b[39mcrs\n\u001b[1;32m    672\u001b[0m     )\n",
      "File \u001b[0;32m~/anaconda3/envs/gerry/lib/python3.11/site-packages/geopandas/array.py:611\u001b[0m, in \u001b[0;36mGeometryArray._binary_method\u001b[0;34m(op, left, right, **kwargs)\u001b[0m\n\u001b[1;32m    608\u001b[0m         _crs_mismatch_warn(left, right, stacklevel\u001b[38;5;241m=\u001b[39m\u001b[38;5;241m7\u001b[39m)\n\u001b[1;32m    609\u001b[0m     right \u001b[38;5;241m=\u001b[39m right\u001b[38;5;241m.\u001b[39m_data\n\u001b[0;32m--> 611\u001b[0m \u001b[38;5;28;01mreturn\u001b[39;00m \u001b[38;5;28;43mgetattr\u001b[39;49m\u001b[43m(\u001b[49m\u001b[43mvectorized\u001b[49m\u001b[43m,\u001b[49m\u001b[43m \u001b[49m\u001b[43mop\u001b[49m\u001b[43m)\u001b[49m\u001b[43m(\u001b[49m\u001b[43mleft\u001b[49m\u001b[38;5;241;43m.\u001b[39;49m\u001b[43m_data\u001b[49m\u001b[43m,\u001b[49m\u001b[43m \u001b[49m\u001b[43mright\u001b[49m\u001b[43m,\u001b[49m\u001b[43m \u001b[49m\u001b[38;5;241;43m*\u001b[39;49m\u001b[38;5;241;43m*\u001b[39;49m\u001b[43mkwargs\u001b[49m\u001b[43m)\u001b[49m\n",
      "File \u001b[0;32m~/anaconda3/envs/gerry/lib/python3.11/site-packages/geopandas/_vectorized.py:938\u001b[0m, in \u001b[0;36mintersection\u001b[0;34m(data, other)\u001b[0m\n\u001b[1;32m    936\u001b[0m \u001b[38;5;28;01mdef\u001b[39;00m \u001b[38;5;21mintersection\u001b[39m(data, other):\n\u001b[1;32m    937\u001b[0m     \u001b[38;5;28;01mif\u001b[39;00m compat\u001b[38;5;241m.\u001b[39mUSE_SHAPELY_20:\n\u001b[0;32m--> 938\u001b[0m         \u001b[38;5;28;01mreturn\u001b[39;00m \u001b[43mshapely\u001b[49m\u001b[38;5;241;43m.\u001b[39;49m\u001b[43mintersection\u001b[49m\u001b[43m(\u001b[49m\u001b[43mdata\u001b[49m\u001b[43m,\u001b[49m\u001b[43m \u001b[49m\u001b[43mother\u001b[49m\u001b[43m)\u001b[49m\n\u001b[1;32m    939\u001b[0m     \u001b[38;5;28;01melif\u001b[39;00m compat\u001b[38;5;241m.\u001b[39mUSE_PYGEOS:\n\u001b[1;32m    940\u001b[0m         \u001b[38;5;28;01mreturn\u001b[39;00m _binary_method(\u001b[38;5;124m\"\u001b[39m\u001b[38;5;124mintersection\u001b[39m\u001b[38;5;124m\"\u001b[39m, data, other)\n",
      "File \u001b[0;32m~/anaconda3/envs/gerry/lib/python3.11/site-packages/shapely/decorators.py:77\u001b[0m, in \u001b[0;36mmultithreading_enabled.<locals>.wrapped\u001b[0;34m(*args, **kwargs)\u001b[0m\n\u001b[1;32m     75\u001b[0m     \u001b[38;5;28;01mfor\u001b[39;00m arr \u001b[38;5;129;01min\u001b[39;00m array_args:\n\u001b[1;32m     76\u001b[0m         arr\u001b[38;5;241m.\u001b[39mflags\u001b[38;5;241m.\u001b[39mwriteable \u001b[38;5;241m=\u001b[39m \u001b[38;5;28;01mFalse\u001b[39;00m\n\u001b[0;32m---> 77\u001b[0m     \u001b[38;5;28;01mreturn\u001b[39;00m \u001b[43mfunc\u001b[49m\u001b[43m(\u001b[49m\u001b[38;5;241;43m*\u001b[39;49m\u001b[43margs\u001b[49m\u001b[43m,\u001b[49m\u001b[43m \u001b[49m\u001b[38;5;241;43m*\u001b[39;49m\u001b[38;5;241;43m*\u001b[39;49m\u001b[43mkwargs\u001b[49m\u001b[43m)\u001b[49m\n\u001b[1;32m     78\u001b[0m \u001b[38;5;28;01mfinally\u001b[39;00m:\n\u001b[1;32m     79\u001b[0m     \u001b[38;5;28;01mfor\u001b[39;00m arr, old_flag \u001b[38;5;129;01min\u001b[39;00m \u001b[38;5;28mzip\u001b[39m(array_args, old_flags):\n",
      "File \u001b[0;32m~/anaconda3/envs/gerry/lib/python3.11/site-packages/shapely/set_operations.py:131\u001b[0m, in \u001b[0;36mintersection\u001b[0;34m(a, b, grid_size, **kwargs)\u001b[0m\n\u001b[1;32m    127\u001b[0m         \u001b[38;5;28;01mraise\u001b[39;00m \u001b[38;5;167;01mValueError\u001b[39;00m(\u001b[38;5;124m\"\u001b[39m\u001b[38;5;124mgrid_size parameter only accepts scalar values\u001b[39m\u001b[38;5;124m\"\u001b[39m)\n\u001b[1;32m    129\u001b[0m     \u001b[38;5;28;01mreturn\u001b[39;00m lib\u001b[38;5;241m.\u001b[39mintersection_prec(a, b, grid_size, \u001b[38;5;241m*\u001b[39m\u001b[38;5;241m*\u001b[39mkwargs)\n\u001b[0;32m--> 131\u001b[0m \u001b[38;5;28;01mreturn\u001b[39;00m \u001b[43mlib\u001b[49m\u001b[38;5;241;43m.\u001b[39;49m\u001b[43mintersection\u001b[49m\u001b[43m(\u001b[49m\u001b[43ma\u001b[49m\u001b[43m,\u001b[49m\u001b[43m \u001b[49m\u001b[43mb\u001b[49m\u001b[43m,\u001b[49m\u001b[43m \u001b[49m\u001b[38;5;241;43m*\u001b[39;49m\u001b[38;5;241;43m*\u001b[39;49m\u001b[43mkwargs\u001b[49m\u001b[43m)\u001b[49m\n",
      "\u001b[0;31mGEOSException\u001b[0m: TopologyException: side location conflict at -108.29615739455946 45.000172501550544. This can occur if the input geometry is invalid."
     ]
    }
   ],
   "source": [
    "vest_base = vest_base.to_crs('EPSG:4269')\n",
    "blocks_to_precincts_assignment = maup.assign(population_df.geometry, vest_base.geometry)"
   ]
  },
  {
   "cell_type": "markdown",
   "metadata": {},
   "source": [
    "Try without min_rook_length:"
   ]
  },
  {
   "cell_type": "code",
   "execution_count": 63,
   "metadata": {},
   "outputs": [
    {
     "name": "stderr",
     "output_type": "stream",
     "text": [
      "100%|█████████████████████████████████████████| 23/23 [00:00<00:00, 1420.63it/s]\n"
     ]
    },
    {
     "name": "stdout",
     "output_type": "stream",
     "text": [
      "Snapping all geometries to a grid with precision 10^( -5 ) to avoid GEOS errors.\n"
     ]
    },
    {
     "name": "stderr",
     "output_type": "stream",
     "text": [
      "100%|█████████████████████████████████████████| 23/23 [00:00<00:00, 1518.46it/s]\n",
      "100%|██████████████████████████████████████████| 23/23 [00:00<00:00, 153.27it/s]\n"
     ]
    },
    {
     "name": "stdout",
     "output_type": "stream",
     "text": [
      "Identifying overlaps...\n"
     ]
    },
    {
     "name": "stderr",
     "output_type": "stream",
     "text": [
      "100%|█████████████████████████████████████| 6814/6814 [00:03<00:00, 2154.69it/s]\n"
     ]
    },
    {
     "name": "stdout",
     "output_type": "stream",
     "text": [
      "Resolving overlaps and filling gaps...\n"
     ]
    },
    {
     "name": "stderr",
     "output_type": "stream",
     "text": [
      "100%|█████████████████████████████████████████| 23/23 [00:00<00:00, 1063.29it/s]\n",
      "100%|██████████████████████████████████████████| 23/23 [00:00<00:00, 138.09it/s]\n",
      "Gaps to simplify in region 0: 100%|█████████████| 41/41 [00:01<00:00, 40.82it/s]\n",
      "Gaps to fill: 0it [00:00, ?it/s]\n",
      "Gaps to simplify in region 1: 100%|███████████| 558/558 [00:07<00:00, 72.53it/s]\n",
      "Gaps to fill in region 1: 100%|███████████████████| 2/2 [00:00<00:00, 33.73it/s]\n",
      "Gaps to simplify in region 2: 100%|█████████| 1063/1063 [00:31<00:00, 34.24it/s]\n",
      "Gaps to fill in region 2: 100%|███████████████████| 7/7 [00:00<00:00, 14.41it/s]\n",
      "Gaps to simplify in region 3: 100%|██████████| 403/403 [00:03<00:00, 101.35it/s]\n",
      "Gaps to fill in region 3: 100%|███████████████████| 5/5 [00:00<00:00, 60.70it/s]\n",
      "Gaps to simplify in region 4: 100%|█████████████| 73/73 [00:00<00:00, 83.71it/s]\n",
      "Gaps to fill in region 4: 100%|███████████████████| 4/4 [00:00<00:00, 72.20it/s]\n",
      "Gaps to simplify in region 5: 100%|███████████| 367/367 [00:07<00:00, 47.75it/s]\n",
      "Gaps to fill in region 5: 100%|███████████████████| 2/2 [00:00<00:00, 28.40it/s]\n",
      "Gaps to simplify in region 6: 100%|█████████████| 54/54 [00:00<00:00, 67.19it/s]\n",
      "Gaps to fill in region 6: 100%|███████████████████| 1/1 [00:00<00:00, 47.64it/s]\n",
      "Gaps to simplify in region 7: 100%|█████████████| 80/80 [00:01<00:00, 61.40it/s]\n",
      "Gaps to fill in region 7: 100%|███████████████████| 1/1 [00:00<00:00, 20.95it/s]\n",
      "Gaps to simplify in region 8: 100%|█████████████| 94/94 [00:03<00:00, 25.24it/s]\n",
      "Gaps to fill in region 8: 100%|███████████████████| 3/3 [00:00<00:00,  6.84it/s]\n",
      "Gaps to simplify in region 9: 100%|█████████████| 76/76 [00:00<00:00, 76.34it/s]\n",
      "Gaps to fill in region 9: 100%|███████████████████| 5/5 [00:00<00:00, 45.39it/s]\n",
      "Gaps to simplify in region 10: 100%|██████████| 258/258 [00:09<00:00, 25.92it/s]\n",
      "Gaps to fill in region 10: 100%|██████████████████| 4/4 [00:00<00:00, 11.15it/s]\n",
      "Gaps to simplify in region 11: 100%|████████████| 66/66 [00:01<00:00, 56.79it/s]\n",
      "Gaps to fill in region 11: 100%|██████████████████| 4/4 [00:00<00:00, 24.37it/s]\n",
      "Gaps to simplify in region 12: 100%|████████████| 75/75 [00:03<00:00, 18.93it/s]\n",
      "Gaps to fill in region 12: 100%|██████████████████| 1/1 [00:00<00:00, 14.18it/s]\n",
      "Gaps to simplify in region 13: 100%|███████████| 85/85 [00:00<00:00, 104.93it/s]\n",
      "Gaps to fill: 0it [00:00, ?it/s]\n",
      "Gaps to simplify in region 14: 100%|█████████| 173/173 [00:01<00:00, 113.94it/s]\n",
      "Gaps to fill in region 14: 100%|██████████████████| 3/3 [00:00<00:00, 46.34it/s]\n",
      "Gaps to simplify in region 15: 100%|██████████| 157/157 [00:02<00:00, 77.68it/s]\n",
      "Gaps to fill: 0it [00:00, ?it/s]\n",
      "Gaps to simplify in region 16: 100%|████████████| 58/58 [00:01<00:00, 42.81it/s]\n",
      "Gaps to fill in region 16: 100%|██████████████████| 4/4 [00:00<00:00, 17.15it/s]\n",
      "Gaps to simplify in region 17: 100%|████████████| 56/56 [00:00<00:00, 66.12it/s]\n",
      "Gaps to fill in region 17: 100%|██████████████████| 6/6 [00:00<00:00, 40.72it/s]\n",
      "Gaps to simplify in region 18: 100%|████████████| 87/87 [00:02<00:00, 30.64it/s]\n",
      "Gaps to fill in region 18: 100%|██████████████████| 2/2 [00:00<00:00, 20.38it/s]\n",
      "Gaps to simplify in region 19: 100%|████████████| 76/76 [00:01<00:00, 73.20it/s]\n",
      "Gaps to fill in region 19: 100%|██████████████████| 2/2 [00:00<00:00, 35.02it/s]\n",
      "Gaps to simplify in region 20: 100%|████████████| 61/61 [00:01<00:00, 51.88it/s]\n",
      "Gaps to fill in region 20: 100%|██████████████████| 5/5 [00:00<00:00, 14.52it/s]\n",
      "Gaps to simplify in region 21: 100%|██████████| 240/240 [00:02<00:00, 90.92it/s]\n",
      "Gaps to fill in region 21: 100%|██████████████████| 4/4 [00:00<00:00, 39.55it/s]\n",
      "Gaps to simplify in region 22: 100%|████████████| 20/20 [00:00<00:00, 44.33it/s]\n",
      "Gaps to fill: 0it [00:00, ?it/s]\n"
     ]
    }
   ],
   "source": [
    "vest_base = add_vest_base(vest_base_data, start_col, year, county = county_df)"
   ]
  },
  {
   "cell_type": "code",
   "execution_count": 64,
   "metadata": {},
   "outputs": [
    {
     "name": "stderr",
     "output_type": "stream",
     "text": [
      "100%|████████████████████████████████████████| 481/481 [00:00<00:00, 662.69it/s]\n"
     ]
    },
    {
     "data": {
      "text/plain": [
       "True"
      ]
     },
     "execution_count": 64,
     "metadata": {},
     "output_type": "execute_result"
    }
   ],
   "source": [
    "maup.doctor(vest_base)"
   ]
  },
  {
   "cell_type": "code",
   "execution_count": 65,
   "metadata": {},
   "outputs": [
    {
     "name": "stderr",
     "output_type": "stream",
     "text": [
      "100%|████████████████████████████████████████| 481/481 [00:01<00:00, 468.25it/s]\n",
      " 38%|███████████████▎                        | 184/481 [00:01<00:02, 111.48it/s]\n"
     ]
    },
    {
     "ename": "GEOSException",
     "evalue": "TopologyException: side location conflict at -108.29616606126318 45.000172480885453. This can occur if the input geometry is invalid.",
     "output_type": "error",
     "traceback": [
      "\u001b[0;31m---------------------------------------------------------------------------\u001b[0m",
      "\u001b[0;31mGEOSException\u001b[0m                             Traceback (most recent call last)",
      "Cell \u001b[0;32mIn[65], line 2\u001b[0m\n\u001b[1;32m      1\u001b[0m vest_base \u001b[38;5;241m=\u001b[39m vest_base\u001b[38;5;241m.\u001b[39mto_crs(\u001b[38;5;124m'\u001b[39m\u001b[38;5;124mEPSG:4269\u001b[39m\u001b[38;5;124m'\u001b[39m)\n\u001b[0;32m----> 2\u001b[0m blocks_to_precincts_assignment \u001b[38;5;241m=\u001b[39m \u001b[43mmaup\u001b[49m\u001b[38;5;241;43m.\u001b[39;49m\u001b[43massign\u001b[49m\u001b[43m(\u001b[49m\u001b[43mpopulation_df\u001b[49m\u001b[38;5;241;43m.\u001b[39;49m\u001b[43mgeometry\u001b[49m\u001b[43m,\u001b[49m\u001b[43m \u001b[49m\u001b[43mvest_base\u001b[49m\u001b[38;5;241;43m.\u001b[39;49m\u001b[43mgeometry\u001b[49m\u001b[43m)\u001b[49m\n",
      "File \u001b[0;32m~/anaconda3/envs/gerry/lib/python3.11/site-packages/maup/crs.py:14\u001b[0m, in \u001b[0;36mrequire_same_crs.<locals>.wrapped\u001b[0;34m(*args, **kwargs)\u001b[0m\n\u001b[1;32m      8\u001b[0m \u001b[38;5;28;01mif\u001b[39;00m \u001b[38;5;129;01mnot\u001b[39;00m geoms1\u001b[38;5;241m.\u001b[39mcrs \u001b[38;5;241m==\u001b[39m geoms2\u001b[38;5;241m.\u001b[39mcrs:\n\u001b[1;32m      9\u001b[0m     \u001b[38;5;28;01mraise\u001b[39;00m \u001b[38;5;167;01mTypeError\u001b[39;00m(\n\u001b[1;32m     10\u001b[0m         \u001b[38;5;124m\"\u001b[39m\u001b[38;5;124mthe source and target geometries must have the same CRS. \u001b[39m\u001b[38;5;132;01m{}\u001b[39;00m\u001b[38;5;124m \u001b[39m\u001b[38;5;132;01m{}\u001b[39;00m\u001b[38;5;124m\"\u001b[39m\u001b[38;5;241m.\u001b[39mformat(\n\u001b[1;32m     11\u001b[0m             geoms1\u001b[38;5;241m.\u001b[39mcrs, geoms2\u001b[38;5;241m.\u001b[39mcrs\n\u001b[1;32m     12\u001b[0m         )\n\u001b[1;32m     13\u001b[0m     )\n\u001b[0;32m---> 14\u001b[0m \u001b[38;5;28;01mreturn\u001b[39;00m \u001b[43mf\u001b[49m\u001b[43m(\u001b[49m\u001b[38;5;241;43m*\u001b[39;49m\u001b[43margs\u001b[49m\u001b[43m,\u001b[49m\u001b[43m \u001b[49m\u001b[38;5;241;43m*\u001b[39;49m\u001b[38;5;241;43m*\u001b[39;49m\u001b[43mkwargs\u001b[49m\u001b[43m)\u001b[49m\n",
      "File \u001b[0;32m~/anaconda3/envs/gerry/lib/python3.11/site-packages/maup/assign.py:23\u001b[0m, in \u001b[0;36massign\u001b[0;34m(sources, targets)\u001b[0m\n\u001b[1;32m     19\u001b[0m unassigned \u001b[38;5;241m=\u001b[39m sources[assignment\u001b[38;5;241m.\u001b[39misna()]\n\u001b[1;32m     21\u001b[0m \u001b[38;5;28;01mif\u001b[39;00m \u001b[38;5;28mlen\u001b[39m(unassigned):  \u001b[38;5;66;03m# skip if done\u001b[39;00m\n\u001b[1;32m     22\u001b[0m     assignments_by_area \u001b[38;5;241m=\u001b[39m pandas\u001b[38;5;241m.\u001b[39mSeries(\n\u001b[0;32m---> 23\u001b[0m         \u001b[43massign_by_area\u001b[49m\u001b[43m(\u001b[49m\u001b[43munassigned\u001b[49m\u001b[43m,\u001b[49m\u001b[43m \u001b[49m\u001b[43mtargets\u001b[49m\u001b[43m)\u001b[49m,\n\u001b[1;32m     24\u001b[0m         dtype\u001b[38;5;241m=\u001b[39m\u001b[38;5;124m\"\u001b[39m\u001b[38;5;124mfloat\u001b[39m\u001b[38;5;124m\"\u001b[39m\n\u001b[1;32m     25\u001b[0m     )\n\u001b[1;32m     26\u001b[0m     assignment\u001b[38;5;241m.\u001b[39mupdate(assignments_by_area)\n\u001b[1;32m     28\u001b[0m \u001b[38;5;66;03m# TODO: add a warning here if there are still unassigned source geometries.\u001b[39;00m\n",
      "File \u001b[0;32m~/anaconda3/envs/gerry/lib/python3.11/site-packages/maup/assign.py:38\u001b[0m, in \u001b[0;36massign_by_area\u001b[0;34m(sources, targets)\u001b[0m\n\u001b[1;32m     37\u001b[0m \u001b[38;5;28;01mdef\u001b[39;00m \u001b[38;5;21massign_by_area\u001b[39m(sources, targets):\n\u001b[0;32m---> 38\u001b[0m     \u001b[38;5;28;01mreturn\u001b[39;00m assign_to_max(\u001b[43mintersections\u001b[49m\u001b[43m(\u001b[49m\u001b[43msources\u001b[49m\u001b[43m,\u001b[49m\u001b[43m \u001b[49m\u001b[43mtargets\u001b[49m\u001b[43m,\u001b[49m\u001b[43m \u001b[49m\u001b[43marea_cutoff\u001b[49m\u001b[38;5;241;43m=\u001b[39;49m\u001b[38;5;241;43m0\u001b[39;49m\u001b[43m)\u001b[49m\u001b[38;5;241m.\u001b[39marea)\n",
      "File \u001b[0;32m~/anaconda3/envs/gerry/lib/python3.11/site-packages/maup/crs.py:14\u001b[0m, in \u001b[0;36mrequire_same_crs.<locals>.wrapped\u001b[0;34m(*args, **kwargs)\u001b[0m\n\u001b[1;32m      8\u001b[0m \u001b[38;5;28;01mif\u001b[39;00m \u001b[38;5;129;01mnot\u001b[39;00m geoms1\u001b[38;5;241m.\u001b[39mcrs \u001b[38;5;241m==\u001b[39m geoms2\u001b[38;5;241m.\u001b[39mcrs:\n\u001b[1;32m      9\u001b[0m     \u001b[38;5;28;01mraise\u001b[39;00m \u001b[38;5;167;01mTypeError\u001b[39;00m(\n\u001b[1;32m     10\u001b[0m         \u001b[38;5;124m\"\u001b[39m\u001b[38;5;124mthe source and target geometries must have the same CRS. \u001b[39m\u001b[38;5;132;01m{}\u001b[39;00m\u001b[38;5;124m \u001b[39m\u001b[38;5;132;01m{}\u001b[39;00m\u001b[38;5;124m\"\u001b[39m\u001b[38;5;241m.\u001b[39mformat(\n\u001b[1;32m     11\u001b[0m             geoms1\u001b[38;5;241m.\u001b[39mcrs, geoms2\u001b[38;5;241m.\u001b[39mcrs\n\u001b[1;32m     12\u001b[0m         )\n\u001b[1;32m     13\u001b[0m     )\n\u001b[0;32m---> 14\u001b[0m \u001b[38;5;28;01mreturn\u001b[39;00m \u001b[43mf\u001b[49m\u001b[43m(\u001b[49m\u001b[38;5;241;43m*\u001b[39;49m\u001b[43margs\u001b[49m\u001b[43m,\u001b[49m\u001b[43m \u001b[49m\u001b[38;5;241;43m*\u001b[39;49m\u001b[38;5;241;43m*\u001b[39;49m\u001b[43mkwargs\u001b[49m\u001b[43m)\u001b[49m\n",
      "File \u001b[0;32m~/anaconda3/envs/gerry/lib/python3.11/site-packages/maup/intersections.py:32\u001b[0m, in \u001b[0;36mintersections\u001b[0;34m(sources, targets, output_type, area_cutoff)\u001b[0m\n\u001b[1;32m     29\u001b[0m reindexed_targets \u001b[38;5;241m=\u001b[39m get_geometries_with_range_index(targets)\n\u001b[1;32m     30\u001b[0m spatially_indexed_sources \u001b[38;5;241m=\u001b[39m IndexedGeometries(reindexed_sources)\n\u001b[0;32m---> 32\u001b[0m records \u001b[38;5;241m=\u001b[39m \u001b[43m[\u001b[49m\n\u001b[1;32m     33\u001b[0m \u001b[43m    \u001b[49m\u001b[38;5;66;43;03m# Flip i, j to j, i so that the index is [\"source\", \"target\"]\u001b[39;49;00m\n\u001b[1;32m     34\u001b[0m \u001b[43m    \u001b[49m\u001b[43m(\u001b[49m\u001b[43msources\u001b[49m\u001b[38;5;241;43m.\u001b[39;49m\u001b[43mindex\u001b[49m\u001b[43m[\u001b[49m\u001b[43mj\u001b[49m\u001b[43m]\u001b[49m\u001b[43m,\u001b[49m\u001b[43m \u001b[49m\u001b[43mtargets\u001b[49m\u001b[38;5;241;43m.\u001b[39;49m\u001b[43mindex\u001b[49m\u001b[43m[\u001b[49m\u001b[43mi\u001b[49m\u001b[43m]\u001b[49m\u001b[43m,\u001b[49m\u001b[43m \u001b[49m\u001b[43mgeometry\u001b[49m\u001b[43m)\u001b[49m\n\u001b[1;32m     35\u001b[0m \u001b[43m    \u001b[49m\u001b[38;5;28;43;01mfor\u001b[39;49;00m\u001b[43m \u001b[49m\u001b[43mi\u001b[49m\u001b[43m,\u001b[49m\u001b[43m \u001b[49m\u001b[43mj\u001b[49m\u001b[43m,\u001b[49m\u001b[43m \u001b[49m\u001b[43mgeometry\u001b[49m\u001b[43m \u001b[49m\u001b[38;5;129;43;01min\u001b[39;49;00m\u001b[43m \u001b[49m\u001b[43mspatially_indexed_sources\u001b[49m\u001b[38;5;241;43m.\u001b[39;49m\u001b[43menumerate_intersections\u001b[49m\u001b[43m(\u001b[49m\n\u001b[1;32m     36\u001b[0m \u001b[43m        \u001b[49m\u001b[43mreindexed_targets\u001b[49m\n\u001b[1;32m     37\u001b[0m \u001b[43m    \u001b[49m\u001b[43m)\u001b[49m\n\u001b[1;32m     38\u001b[0m \u001b[43m\u001b[49m\u001b[43m]\u001b[49m\n\u001b[1;32m     40\u001b[0m df \u001b[38;5;241m=\u001b[39m GeoDataFrame(records, columns\u001b[38;5;241m=\u001b[39m[\u001b[38;5;124m\"\u001b[39m\u001b[38;5;124msource\u001b[39m\u001b[38;5;124m\"\u001b[39m, \u001b[38;5;124m\"\u001b[39m\u001b[38;5;124mtarget\u001b[39m\u001b[38;5;124m\"\u001b[39m, \u001b[38;5;124m\"\u001b[39m\u001b[38;5;124mgeometry\u001b[39m\u001b[38;5;124m\"\u001b[39m], crs\u001b[38;5;241m=\u001b[39msources\u001b[38;5;241m.\u001b[39mcrs)\n\u001b[1;32m     41\u001b[0m df \u001b[38;5;241m=\u001b[39m df\u001b[38;5;241m.\u001b[39msort_values(by\u001b[38;5;241m=\u001b[39m[\u001b[38;5;124m\"\u001b[39m\u001b[38;5;124msource\u001b[39m\u001b[38;5;124m\"\u001b[39m, \u001b[38;5;124m\"\u001b[39m\u001b[38;5;124mtarget\u001b[39m\u001b[38;5;124m\"\u001b[39m])\u001b[38;5;241m.\u001b[39mreset_index(drop\u001b[38;5;241m=\u001b[39m\u001b[38;5;28;01mTrue\u001b[39;00m)\n",
      "File \u001b[0;32m~/anaconda3/envs/gerry/lib/python3.11/site-packages/maup/intersections.py:32\u001b[0m, in \u001b[0;36m<listcomp>\u001b[0;34m(.0)\u001b[0m\n\u001b[1;32m     29\u001b[0m reindexed_targets \u001b[38;5;241m=\u001b[39m get_geometries_with_range_index(targets)\n\u001b[1;32m     30\u001b[0m spatially_indexed_sources \u001b[38;5;241m=\u001b[39m IndexedGeometries(reindexed_sources)\n\u001b[0;32m---> 32\u001b[0m records \u001b[38;5;241m=\u001b[39m \u001b[43m[\u001b[49m\n\u001b[1;32m     33\u001b[0m \u001b[43m    \u001b[49m\u001b[38;5;66;43;03m# Flip i, j to j, i so that the index is [\"source\", \"target\"]\u001b[39;49;00m\n\u001b[1;32m     34\u001b[0m \u001b[43m    \u001b[49m\u001b[43m(\u001b[49m\u001b[43msources\u001b[49m\u001b[38;5;241;43m.\u001b[39;49m\u001b[43mindex\u001b[49m\u001b[43m[\u001b[49m\u001b[43mj\u001b[49m\u001b[43m]\u001b[49m\u001b[43m,\u001b[49m\u001b[43m \u001b[49m\u001b[43mtargets\u001b[49m\u001b[38;5;241;43m.\u001b[39;49m\u001b[43mindex\u001b[49m\u001b[43m[\u001b[49m\u001b[43mi\u001b[49m\u001b[43m]\u001b[49m\u001b[43m,\u001b[49m\u001b[43m \u001b[49m\u001b[43mgeometry\u001b[49m\u001b[43m)\u001b[49m\n\u001b[1;32m     35\u001b[0m \u001b[43m    \u001b[49m\u001b[38;5;28;43;01mfor\u001b[39;49;00m\u001b[43m \u001b[49m\u001b[43mi\u001b[49m\u001b[43m,\u001b[49m\u001b[43m \u001b[49m\u001b[43mj\u001b[49m\u001b[43m,\u001b[49m\u001b[43m \u001b[49m\u001b[43mgeometry\u001b[49m\u001b[43m \u001b[49m\u001b[38;5;129;43;01min\u001b[39;49;00m\u001b[43m \u001b[49m\u001b[43mspatially_indexed_sources\u001b[49m\u001b[38;5;241;43m.\u001b[39;49m\u001b[43menumerate_intersections\u001b[49m\u001b[43m(\u001b[49m\n\u001b[1;32m     36\u001b[0m \u001b[43m        \u001b[49m\u001b[43mreindexed_targets\u001b[49m\n\u001b[1;32m     37\u001b[0m \u001b[43m    \u001b[49m\u001b[43m)\u001b[49m\n\u001b[1;32m     38\u001b[0m \u001b[43m\u001b[49m\u001b[43m]\u001b[49m\n\u001b[1;32m     40\u001b[0m df \u001b[38;5;241m=\u001b[39m GeoDataFrame(records, columns\u001b[38;5;241m=\u001b[39m[\u001b[38;5;124m\"\u001b[39m\u001b[38;5;124msource\u001b[39m\u001b[38;5;124m\"\u001b[39m, \u001b[38;5;124m\"\u001b[39m\u001b[38;5;124mtarget\u001b[39m\u001b[38;5;124m\"\u001b[39m, \u001b[38;5;124m\"\u001b[39m\u001b[38;5;124mgeometry\u001b[39m\u001b[38;5;124m\"\u001b[39m], crs\u001b[38;5;241m=\u001b[39msources\u001b[38;5;241m.\u001b[39mcrs)\n\u001b[1;32m     41\u001b[0m df \u001b[38;5;241m=\u001b[39m df\u001b[38;5;241m.\u001b[39msort_values(by\u001b[38;5;241m=\u001b[39m[\u001b[38;5;124m\"\u001b[39m\u001b[38;5;124msource\u001b[39m\u001b[38;5;124m\"\u001b[39m, \u001b[38;5;124m\"\u001b[39m\u001b[38;5;124mtarget\u001b[39m\u001b[38;5;124m\"\u001b[39m])\u001b[38;5;241m.\u001b[39mreset_index(drop\u001b[38;5;241m=\u001b[39m\u001b[38;5;28;01mTrue\u001b[39;00m)\n",
      "File \u001b[0;32m~/anaconda3/envs/gerry/lib/python3.11/site-packages/maup/indexed_geometries.py:76\u001b[0m, in \u001b[0;36mIndexedGeometries.enumerate_intersections\u001b[0;34m(self, targets)\u001b[0m\n\u001b[1;32m     74\u001b[0m target_geometries \u001b[38;5;241m=\u001b[39m get_geometries(targets)\n\u001b[1;32m     75\u001b[0m \u001b[38;5;28;01mfor\u001b[39;00m i, target \u001b[38;5;129;01min\u001b[39;00m progress(target_geometries\u001b[38;5;241m.\u001b[39mitems(), \u001b[38;5;28mlen\u001b[39m(target_geometries)):\n\u001b[0;32m---> 76\u001b[0m     \u001b[38;5;28;01mfor\u001b[39;00m j, intersection \u001b[38;5;129;01min\u001b[39;00m \u001b[38;5;28;43mself\u001b[39;49m\u001b[38;5;241;43m.\u001b[39;49m\u001b[43mintersections\u001b[49m\u001b[43m(\u001b[49m\u001b[43mtarget\u001b[49m\u001b[43m)\u001b[49m\u001b[38;5;241m.\u001b[39mitems():\n\u001b[1;32m     77\u001b[0m         \u001b[38;5;28;01myield\u001b[39;00m i, j, intersection\n",
      "File \u001b[0;32m~/anaconda3/envs/gerry/lib/python3.11/site-packages/maup/indexed_geometries.py:33\u001b[0m, in \u001b[0;36mIndexedGeometries.intersections\u001b[0;34m(self, geometry)\u001b[0m\n\u001b[1;32m     31\u001b[0m \u001b[38;5;28;01mdef\u001b[39;00m \u001b[38;5;21mintersections\u001b[39m(\u001b[38;5;28mself\u001b[39m, geometry):\n\u001b[1;32m     32\u001b[0m     relevant_geometries \u001b[38;5;241m=\u001b[39m \u001b[38;5;28mself\u001b[39m\u001b[38;5;241m.\u001b[39mquery(geometry)\n\u001b[0;32m---> 33\u001b[0m     intersections \u001b[38;5;241m=\u001b[39m \u001b[43mrelevant_geometries\u001b[49m\u001b[38;5;241;43m.\u001b[39;49m\u001b[43mintersection\u001b[49m\u001b[43m(\u001b[49m\u001b[43mgeometry\u001b[49m\u001b[43m)\u001b[49m\n\u001b[1;32m     34\u001b[0m     \u001b[38;5;28;01mreturn\u001b[39;00m intersections[\u001b[38;5;241m-\u001b[39m(intersections\u001b[38;5;241m.\u001b[39mis_empty \u001b[38;5;241m|\u001b[39m intersections\u001b[38;5;241m.\u001b[39misna())]\n",
      "File \u001b[0;32m~/anaconda3/envs/gerry/lib/python3.11/site-packages/geopandas/base.py:3266\u001b[0m, in \u001b[0;36mGeoPandasBase.intersection\u001b[0;34m(self, other, align)\u001b[0m\n\u001b[1;32m   3155\u001b[0m \u001b[38;5;28;01mdef\u001b[39;00m \u001b[38;5;21mintersection\u001b[39m(\u001b[38;5;28mself\u001b[39m, other, align\u001b[38;5;241m=\u001b[39m\u001b[38;5;28;01mTrue\u001b[39;00m):\n\u001b[1;32m   3156\u001b[0m \u001b[38;5;250m    \u001b[39m\u001b[38;5;124;03m\"\"\"Returns a ``GeoSeries`` of the intersection of points in each\u001b[39;00m\n\u001b[1;32m   3157\u001b[0m \u001b[38;5;124;03m    aligned geometry with `other`.\u001b[39;00m\n\u001b[1;32m   3158\u001b[0m \n\u001b[0;32m   (...)\u001b[0m\n\u001b[1;32m   3264\u001b[0m \u001b[38;5;124;03m    GeoSeries.union\u001b[39;00m\n\u001b[1;32m   3265\u001b[0m \u001b[38;5;124;03m    \"\"\"\u001b[39;00m\n\u001b[0;32m-> 3266\u001b[0m     \u001b[38;5;28;01mreturn\u001b[39;00m \u001b[43m_binary_geo\u001b[49m\u001b[43m(\u001b[49m\u001b[38;5;124;43m\"\u001b[39;49m\u001b[38;5;124;43mintersection\u001b[39;49m\u001b[38;5;124;43m\"\u001b[39;49m\u001b[43m,\u001b[49m\u001b[43m \u001b[49m\u001b[38;5;28;43mself\u001b[39;49m\u001b[43m,\u001b[49m\u001b[43m \u001b[49m\u001b[43mother\u001b[49m\u001b[43m,\u001b[49m\u001b[43m \u001b[49m\u001b[43malign\u001b[49m\u001b[43m)\u001b[49m\n",
      "File \u001b[0;32m~/anaconda3/envs/gerry/lib/python3.11/site-packages/geopandas/base.py:56\u001b[0m, in \u001b[0;36m_binary_geo\u001b[0;34m(op, this, other, align)\u001b[0m\n\u001b[1;32m     53\u001b[0m \u001b[38;5;250m\u001b[39m\u001b[38;5;124;03m\"\"\"Binary operation on GeoSeries objects that returns a GeoSeries\"\"\"\u001b[39;00m\n\u001b[1;32m     54\u001b[0m \u001b[38;5;28;01mfrom\u001b[39;00m \u001b[38;5;21;01m.\u001b[39;00m\u001b[38;5;21;01mgeoseries\u001b[39;00m \u001b[38;5;28;01mimport\u001b[39;00m GeoSeries\n\u001b[0;32m---> 56\u001b[0m geoms, index \u001b[38;5;241m=\u001b[39m \u001b[43m_delegate_binary_method\u001b[49m\u001b[43m(\u001b[49m\u001b[43mop\u001b[49m\u001b[43m,\u001b[49m\u001b[43m \u001b[49m\u001b[43mthis\u001b[49m\u001b[43m,\u001b[49m\u001b[43m \u001b[49m\u001b[43mother\u001b[49m\u001b[43m,\u001b[49m\u001b[43m \u001b[49m\u001b[43malign\u001b[49m\u001b[43m)\u001b[49m\n\u001b[1;32m     57\u001b[0m \u001b[38;5;28;01mreturn\u001b[39;00m GeoSeries(geoms, index\u001b[38;5;241m=\u001b[39mindex, crs\u001b[38;5;241m=\u001b[39mthis\u001b[38;5;241m.\u001b[39mcrs)\n",
      "File \u001b[0;32m~/anaconda3/envs/gerry/lib/python3.11/site-packages/geopandas/base.py:47\u001b[0m, in \u001b[0;36m_delegate_binary_method\u001b[0;34m(op, this, other, align, *args, **kwargs)\u001b[0m\n\u001b[1;32m     44\u001b[0m \u001b[38;5;28;01melse\u001b[39;00m:\n\u001b[1;32m     45\u001b[0m     \u001b[38;5;28;01mraise\u001b[39;00m \u001b[38;5;167;01mTypeError\u001b[39;00m(\u001b[38;5;28mtype\u001b[39m(this), \u001b[38;5;28mtype\u001b[39m(other))\n\u001b[0;32m---> 47\u001b[0m data \u001b[38;5;241m=\u001b[39m \u001b[38;5;28;43mgetattr\u001b[39;49m\u001b[43m(\u001b[49m\u001b[43ma_this\u001b[49m\u001b[43m,\u001b[49m\u001b[43m \u001b[49m\u001b[43mop\u001b[49m\u001b[43m)\u001b[49m\u001b[43m(\u001b[49m\u001b[43mother\u001b[49m\u001b[43m,\u001b[49m\u001b[43m \u001b[49m\u001b[38;5;241;43m*\u001b[39;49m\u001b[43margs\u001b[49m\u001b[43m,\u001b[49m\u001b[43m \u001b[49m\u001b[38;5;241;43m*\u001b[39;49m\u001b[38;5;241;43m*\u001b[39;49m\u001b[43mkwargs\u001b[49m\u001b[43m)\u001b[49m\n\u001b[1;32m     48\u001b[0m \u001b[38;5;28;01mreturn\u001b[39;00m data, this\u001b[38;5;241m.\u001b[39mindex\n",
      "File \u001b[0;32m~/anaconda3/envs/gerry/lib/python3.11/site-packages/geopandas/array.py:671\u001b[0m, in \u001b[0;36mGeometryArray.intersection\u001b[0;34m(self, other)\u001b[0m\n\u001b[1;32m    669\u001b[0m \u001b[38;5;28;01mdef\u001b[39;00m \u001b[38;5;21mintersection\u001b[39m(\u001b[38;5;28mself\u001b[39m, other):\n\u001b[1;32m    670\u001b[0m     \u001b[38;5;28;01mreturn\u001b[39;00m GeometryArray(\n\u001b[0;32m--> 671\u001b[0m         \u001b[38;5;28;43mself\u001b[39;49m\u001b[38;5;241;43m.\u001b[39;49m\u001b[43m_binary_method\u001b[49m\u001b[43m(\u001b[49m\u001b[38;5;124;43m\"\u001b[39;49m\u001b[38;5;124;43mintersection\u001b[39;49m\u001b[38;5;124;43m\"\u001b[39;49m\u001b[43m,\u001b[49m\u001b[43m \u001b[49m\u001b[38;5;28;43mself\u001b[39;49m\u001b[43m,\u001b[49m\u001b[43m \u001b[49m\u001b[43mother\u001b[49m\u001b[43m)\u001b[49m, crs\u001b[38;5;241m=\u001b[39m\u001b[38;5;28mself\u001b[39m\u001b[38;5;241m.\u001b[39mcrs\n\u001b[1;32m    672\u001b[0m     )\n",
      "File \u001b[0;32m~/anaconda3/envs/gerry/lib/python3.11/site-packages/geopandas/array.py:611\u001b[0m, in \u001b[0;36mGeometryArray._binary_method\u001b[0;34m(op, left, right, **kwargs)\u001b[0m\n\u001b[1;32m    608\u001b[0m         _crs_mismatch_warn(left, right, stacklevel\u001b[38;5;241m=\u001b[39m\u001b[38;5;241m7\u001b[39m)\n\u001b[1;32m    609\u001b[0m     right \u001b[38;5;241m=\u001b[39m right\u001b[38;5;241m.\u001b[39m_data\n\u001b[0;32m--> 611\u001b[0m \u001b[38;5;28;01mreturn\u001b[39;00m \u001b[38;5;28;43mgetattr\u001b[39;49m\u001b[43m(\u001b[49m\u001b[43mvectorized\u001b[49m\u001b[43m,\u001b[49m\u001b[43m \u001b[49m\u001b[43mop\u001b[49m\u001b[43m)\u001b[49m\u001b[43m(\u001b[49m\u001b[43mleft\u001b[49m\u001b[38;5;241;43m.\u001b[39;49m\u001b[43m_data\u001b[49m\u001b[43m,\u001b[49m\u001b[43m \u001b[49m\u001b[43mright\u001b[49m\u001b[43m,\u001b[49m\u001b[43m \u001b[49m\u001b[38;5;241;43m*\u001b[39;49m\u001b[38;5;241;43m*\u001b[39;49m\u001b[43mkwargs\u001b[49m\u001b[43m)\u001b[49m\n",
      "File \u001b[0;32m~/anaconda3/envs/gerry/lib/python3.11/site-packages/geopandas/_vectorized.py:938\u001b[0m, in \u001b[0;36mintersection\u001b[0;34m(data, other)\u001b[0m\n\u001b[1;32m    936\u001b[0m \u001b[38;5;28;01mdef\u001b[39;00m \u001b[38;5;21mintersection\u001b[39m(data, other):\n\u001b[1;32m    937\u001b[0m     \u001b[38;5;28;01mif\u001b[39;00m compat\u001b[38;5;241m.\u001b[39mUSE_SHAPELY_20:\n\u001b[0;32m--> 938\u001b[0m         \u001b[38;5;28;01mreturn\u001b[39;00m \u001b[43mshapely\u001b[49m\u001b[38;5;241;43m.\u001b[39;49m\u001b[43mintersection\u001b[49m\u001b[43m(\u001b[49m\u001b[43mdata\u001b[49m\u001b[43m,\u001b[49m\u001b[43m \u001b[49m\u001b[43mother\u001b[49m\u001b[43m)\u001b[49m\n\u001b[1;32m    939\u001b[0m     \u001b[38;5;28;01melif\u001b[39;00m compat\u001b[38;5;241m.\u001b[39mUSE_PYGEOS:\n\u001b[1;32m    940\u001b[0m         \u001b[38;5;28;01mreturn\u001b[39;00m _binary_method(\u001b[38;5;124m\"\u001b[39m\u001b[38;5;124mintersection\u001b[39m\u001b[38;5;124m\"\u001b[39m, data, other)\n",
      "File \u001b[0;32m~/anaconda3/envs/gerry/lib/python3.11/site-packages/shapely/decorators.py:77\u001b[0m, in \u001b[0;36mmultithreading_enabled.<locals>.wrapped\u001b[0;34m(*args, **kwargs)\u001b[0m\n\u001b[1;32m     75\u001b[0m     \u001b[38;5;28;01mfor\u001b[39;00m arr \u001b[38;5;129;01min\u001b[39;00m array_args:\n\u001b[1;32m     76\u001b[0m         arr\u001b[38;5;241m.\u001b[39mflags\u001b[38;5;241m.\u001b[39mwriteable \u001b[38;5;241m=\u001b[39m \u001b[38;5;28;01mFalse\u001b[39;00m\n\u001b[0;32m---> 77\u001b[0m     \u001b[38;5;28;01mreturn\u001b[39;00m \u001b[43mfunc\u001b[49m\u001b[43m(\u001b[49m\u001b[38;5;241;43m*\u001b[39;49m\u001b[43margs\u001b[49m\u001b[43m,\u001b[49m\u001b[43m \u001b[49m\u001b[38;5;241;43m*\u001b[39;49m\u001b[38;5;241;43m*\u001b[39;49m\u001b[43mkwargs\u001b[49m\u001b[43m)\u001b[49m\n\u001b[1;32m     78\u001b[0m \u001b[38;5;28;01mfinally\u001b[39;00m:\n\u001b[1;32m     79\u001b[0m     \u001b[38;5;28;01mfor\u001b[39;00m arr, old_flag \u001b[38;5;129;01min\u001b[39;00m \u001b[38;5;28mzip\u001b[39m(array_args, old_flags):\n",
      "File \u001b[0;32m~/anaconda3/envs/gerry/lib/python3.11/site-packages/shapely/set_operations.py:131\u001b[0m, in \u001b[0;36mintersection\u001b[0;34m(a, b, grid_size, **kwargs)\u001b[0m\n\u001b[1;32m    127\u001b[0m         \u001b[38;5;28;01mraise\u001b[39;00m \u001b[38;5;167;01mValueError\u001b[39;00m(\u001b[38;5;124m\"\u001b[39m\u001b[38;5;124mgrid_size parameter only accepts scalar values\u001b[39m\u001b[38;5;124m\"\u001b[39m)\n\u001b[1;32m    129\u001b[0m     \u001b[38;5;28;01mreturn\u001b[39;00m lib\u001b[38;5;241m.\u001b[39mintersection_prec(a, b, grid_size, \u001b[38;5;241m*\u001b[39m\u001b[38;5;241m*\u001b[39mkwargs)\n\u001b[0;32m--> 131\u001b[0m \u001b[38;5;28;01mreturn\u001b[39;00m \u001b[43mlib\u001b[49m\u001b[38;5;241;43m.\u001b[39;49m\u001b[43mintersection\u001b[49m\u001b[43m(\u001b[49m\u001b[43ma\u001b[49m\u001b[43m,\u001b[49m\u001b[43m \u001b[49m\u001b[43mb\u001b[49m\u001b[43m,\u001b[49m\u001b[43m \u001b[49m\u001b[38;5;241;43m*\u001b[39;49m\u001b[38;5;241;43m*\u001b[39;49m\u001b[43mkwargs\u001b[49m\u001b[43m)\u001b[49m\n",
      "\u001b[0;31mGEOSException\u001b[0m: TopologyException: side location conflict at -108.29616606126318 45.000172480885453. This can occur if the input geometry is invalid."
     ]
    }
   ],
   "source": [
    "vest_base = vest_base.to_crs('EPSG:4269')\n",
    "blocks_to_precincts_assignment = maup.assign(population_df.geometry, vest_base.geometry)"
   ]
  },
  {
   "cell_type": "markdown",
   "metadata": {},
   "source": [
    "One last time, try without nesting in counties:"
   ]
  },
  {
   "cell_type": "code",
   "execution_count": 68,
   "metadata": {},
   "outputs": [
    {
     "name": "stdout",
     "output_type": "stream",
     "text": [
      "Snapping all geometries to a grid with precision 10^( -5 ) to avoid GEOS errors.\n",
      "Identifying overlaps...\n"
     ]
    },
    {
     "name": "stderr",
     "output_type": "stream",
     "text": [
      "100%|█████████████████████████████████████| 2534/2534 [00:00<00:00, 3188.46it/s]\n"
     ]
    },
    {
     "name": "stdout",
     "output_type": "stream",
     "text": [
      "Resolving overlaps...\n",
      "Assigning order 2 pieces...\n",
      "Filling gaps...\n"
     ]
    },
    {
     "name": "stderr",
     "output_type": "stream",
     "text": [
      "Gaps to simplify: 100%|███████████████████████| 716/716 [00:30<00:00, 23.79it/s]\n",
      "Gaps to fill: 100%|███████████████████████████████| 3/3 [00:00<00:00,  8.87it/s]\n"
     ]
    },
    {
     "name": "stdout",
     "output_type": "stream",
     "text": [
      "Converting small rook adjacencies to queen...\n"
     ]
    },
    {
     "name": "stderr",
     "output_type": "stream",
     "text": [
      "100%|████████████████████████████████████████| 481/481 [00:00<00:00, 539.13it/s]\n",
      "100%|███████████████████████████████████████████| 5/5 [00:00<00:00, 2847.46it/s]\n",
      "100%|███████████████████████████████████████████| 5/5 [00:00<00:00, 2623.41it/s]\n",
      "100%|███████████████████████████████████████████| 5/5 [00:00<00:00, 2655.30it/s]\n",
      "100%|███████████████████████████████████████████| 4/4 [00:00<00:00, 3339.41it/s]\n",
      "100%|███████████████████████████████████████████| 6/6 [00:00<00:00, 3312.60it/s]\n",
      "100%|███████████████████████████████████████████| 6/6 [00:00<00:00, 3407.23it/s]\n",
      "100%|███████████████████████████████████████████| 4/4 [00:00<00:00, 3221.43it/s]\n",
      "100%|███████████████████████████████████████████| 5/5 [00:00<00:00, 3142.74it/s]\n",
      "100%|███████████████████████████████████████████| 4/4 [00:00<00:00, 1110.78it/s]\n",
      "100%|███████████████████████████████████████████| 6/6 [00:00<00:00, 3424.39it/s]\n"
     ]
    }
   ],
   "source": [
    "vest_base = add_vest_base(vest_base_data, start_col, year, min_rook_length = 30.5)"
   ]
  },
  {
   "cell_type": "code",
   "execution_count": 69,
   "metadata": {},
   "outputs": [
    {
     "name": "stderr",
     "output_type": "stream",
     "text": [
      "100%|████████████████████████████████████████| 481/481 [00:00<00:00, 589.18it/s]\n"
     ]
    },
    {
     "data": {
      "text/plain": [
       "True"
      ]
     },
     "execution_count": 69,
     "metadata": {},
     "output_type": "execute_result"
    }
   ],
   "source": [
    "maup.doctor(vest_base)"
   ]
  },
  {
   "cell_type": "code",
   "execution_count": 70,
   "metadata": {},
   "outputs": [
    {
     "name": "stderr",
     "output_type": "stream",
     "text": [
      "100%|████████████████████████████████████████| 481/481 [00:01<00:00, 403.52it/s]\n",
      "100%|█████████████████████████████████████████| 481/481 [00:06<00:00, 77.33it/s]\n"
     ]
    }
   ],
   "source": [
    "vest_base = vest_base.to_crs('EPSG:4269')\n",
    "blocks_to_precincts_assignment = maup.assign(population_df.geometry, vest_base.geometry)"
   ]
  },
  {
   "cell_type": "code",
   "execution_count": null,
   "metadata": {},
   "outputs": [],
   "source": []
  },
  {
   "cell_type": "code",
   "execution_count": null,
   "metadata": {},
   "outputs": [],
   "source": []
  },
  {
   "cell_type": "code",
   "execution_count": null,
   "metadata": {},
   "outputs": [],
   "source": []
  },
  {
   "cell_type": "code",
   "execution_count": null,
   "metadata": {},
   "outputs": [],
   "source": []
  },
  {
   "cell_type": "code",
   "execution_count": null,
   "metadata": {},
   "outputs": [],
   "source": []
  },
  {
   "cell_type": "markdown",
   "metadata": {},
   "source": [
    "## If it is true for maup doctor, we will use it as the base vest data."
   ]
  },
  {
   "cell_type": "code",
   "execution_count": 80,
   "metadata": {},
   "outputs": [
    {
     "name": "stderr",
     "output_type": "stream",
     "text": [
      "100%|████████████████████████████████████████| 481/481 [00:01<00:00, 388.32it/s]\n",
      "100%|█████████████████████████████████████████| 481/481 [00:05<00:00, 84.54it/s]\n"
     ]
    }
   ],
   "source": [
    "# vap and population have the same GEOID20\n",
    "vest_base = vest_base.to_crs('EPSG:4269')\n",
    "blocks_to_precincts_assignment = maup.assign(population_df.geometry, vest_base.geometry)"
   ]
  },
  {
   "cell_type": "code",
   "execution_count": 81,
   "metadata": {},
   "outputs": [],
   "source": [
    "vest_base[pop_col] = population_df[pop_col].groupby(blocks_to_precincts_assignment).sum()"
   ]
  },
  {
   "cell_type": "code",
   "execution_count": 82,
   "metadata": {},
   "outputs": [],
   "source": [
    "election_df = gpd.GeoDataFrame(vest_base, crs=\"EPSG:4269\")"
   ]
  },
  {
   "cell_type": "code",
   "execution_count": 83,
   "metadata": {},
   "outputs": [
    {
     "data": {
      "text/plain": [
       "Index(['COUNTYFP20', 'HAL20D', 'HAL20O', 'HAL20R', 'NAME20', 'PRE20D',\n",
       "       'PRE20O', 'PRE20R', 'STATEFP20', 'USS20D', 'USS20O', 'USS20R',\n",
       "       'VTDST20', 'geometry', 'TOTPOP', 'HISP', 'NH_WHITE', 'NH_BLACK',\n",
       "       'NH_AMIN', 'NH_ASIAN', 'NH_NHPI', 'NH_OTHER', 'NH_2MORE', 'H_WHITE',\n",
       "       'H_BLACK', 'H_AMIN', 'H_ASIAN', 'H_NHPI', 'H_OTHER', 'H_2MORE', 'VAP',\n",
       "       'HVAP', 'WVAP', 'BVAP', 'AMINVAP', 'ASIANVAP', 'NHPIVAP', 'OTHERVAP',\n",
       "       '2MOREVAP'],\n",
       "      dtype='object')"
      ]
     },
     "execution_count": 83,
     "metadata": {},
     "output_type": "execute_result"
    }
   ],
   "source": [
    "election_df.columns"
   ]
  },
  {
   "cell_type": "markdown",
   "metadata": {},
   "source": [
    "## Check if population agrees"
   ]
  },
  {
   "cell_type": "code",
   "execution_count": 85,
   "metadata": {},
   "outputs": [
    {
     "name": "stdout",
     "output_type": "stream",
     "text": [
      "population agrees\n"
     ]
    }
   ],
   "source": [
    "check_population(population_df, vest_base)"
   ]
  },
  {
   "cell_type": "markdown",
   "metadata": {},
   "source": [
    "## Add more vest data"
   ]
  },
  {
   "cell_type": "code",
   "execution_count": 87,
   "metadata": {},
   "outputs": [],
   "source": [
    "vest18 = gpd.read_file(vest18_data)\n",
    "vest16 = gpd.read_file(vest16_data)"
   ]
  },
  {
   "cell_type": "code",
   "execution_count": 88,
   "metadata": {},
   "outputs": [
    {
     "data": {
      "text/plain": [
       "Index(['STATEFP20', 'COUNTYFP20', 'VTDST20', 'NAME20', 'G18USSRBAR',\n",
       "       'G18USSDTRA', 'G18USSLPOR', 'G18USSOWRI', 'G18HALRCHE', 'G18HALDHUN',\n",
       "       'G18HALLBRU', 'G18HALCCUM', 'G18HALOWRI', 'G18GOVRGOR', 'G18GOVDTHR',\n",
       "       'G18GOVLSTR', 'G18GOVCRAM', 'G18GOVOWRI', 'G18SOSRBUC', 'G18SOSDBYR',\n",
       "       'G18SOSLCAR', 'G18SOSOWRI', 'G18AUDRRAC', 'G18AUDDDOC', 'G18AUDOWRI',\n",
       "       'G18TRERMEI', 'G18TREDLOW', 'G18TREOWRI', 'G18SPIRBAL', 'G18SPIOWRI',\n",
       "       'geometry'],\n",
       "      dtype='object')"
      ]
     },
     "execution_count": 88,
     "metadata": {},
     "output_type": "execute_result"
    }
   ],
   "source": [
    "vest18.columns"
   ]
  },
  {
   "cell_type": "code",
   "execution_count": 89,
   "metadata": {},
   "outputs": [
    {
     "data": {
      "text/plain": [
       "Index(['STATEFP20', 'COUNTYFP20', 'VTDST20', 'NAME20', 'G16PRERTRU',\n",
       "       'G16PREDCLI', 'G16PRELJOH', 'G16PRECCAS', 'G16PREIFUE', 'G16PREGSTE',\n",
       "       'G16PREOWRI', 'G16HALRCHE', 'G16HALDGRE', 'G16HALLSTR', 'G16HALCCUM',\n",
       "       'G16HALOWRI', 'geometry'],\n",
       "      dtype='object')"
      ]
     },
     "execution_count": 89,
     "metadata": {},
     "output_type": "execute_result"
    }
   ],
   "source": [
    "vest16.columns"
   ]
  },
  {
   "cell_type": "code",
   "execution_count": 90,
   "metadata": {},
   "outputs": [
    {
     "name": "stderr",
     "output_type": "stream",
     "text": [
      "100%|████████████████████████████████████████| 483/483 [00:00<00:00, 607.44it/s]\n"
     ]
    },
    {
     "name": "stdout",
     "output_type": "stream",
     "text": [
      "There are 51 overlaps.\n",
      "There are 798 holes.\n",
      "Snapping all geometries to a grid with precision 10^( -5 ) to avoid GEOS errors.\n",
      "Identifying overlaps...\n"
     ]
    },
    {
     "name": "stderr",
     "output_type": "stream",
     "text": [
      "100%|█████████████████████████████████████| 2538/2538 [00:00<00:00, 2845.17it/s]\n"
     ]
    },
    {
     "name": "stdout",
     "output_type": "stream",
     "text": [
      "Resolving overlaps...\n",
      "Assigning order 2 pieces...\n",
      "Filling gaps...\n"
     ]
    },
    {
     "name": "stderr",
     "output_type": "stream",
     "text": [
      "Gaps to simplify: 100%|███████████████████████| 716/716 [00:29<00:00, 24.35it/s]\n",
      "Gaps to fill: 100%|███████████████████████████████| 3/3 [00:00<00:00, 11.28it/s]\n",
      "100%|████████████████████████████████████████| 483/483 [00:00<00:00, 556.49it/s]\n",
      "100%|████████████████████████████████████████| 483/483 [00:01<00:00, 389.94it/s]\n",
      "100%|█████████████████████████████████████████| 483/483 [00:06<00:00, 76.46it/s]\n",
      "100%|████████████████████████████████████████| 481/481 [00:01<00:00, 337.59it/s]\n",
      "100%|█████████████████████████████████████████| 481/481 [00:06<00:00, 79.45it/s]\n"
     ]
    },
    {
     "name": "stdout",
     "output_type": "stream",
     "text": [
      "population agrees\n"
     ]
    }
   ],
   "source": [
    "# check the result here\n",
    "election_df = add_vest(vest18, election_df, '18', population_df, start_col)"
   ]
  },
  {
   "cell_type": "code",
   "execution_count": 91,
   "metadata": {},
   "outputs": [
    {
     "data": {
      "text/plain": [
       "Index(['2MOREVAP', 'AMINVAP', 'ASIANVAP', 'AUD18D', 'AUD18O', 'AUD18R', 'BVAP',\n",
       "       'COUNTYFP20', 'GOV18D', 'GOV18O', 'GOV18R', 'HAL18D', 'HAL18O',\n",
       "       'HAL18R', 'HAL20D', 'HAL20O', 'HAL20R', 'HISP', 'HVAP', 'H_2MORE',\n",
       "       'H_AMIN', 'H_ASIAN', 'H_BLACK', 'H_NHPI', 'H_OTHER', 'H_WHITE',\n",
       "       'NAME20', 'NHPIVAP', 'NH_2MORE', 'NH_AMIN', 'NH_ASIAN', 'NH_BLACK',\n",
       "       'NH_NHPI', 'NH_OTHER', 'NH_WHITE', 'OTHERVAP', 'PRE20D', 'PRE20O',\n",
       "       'PRE20R', 'SOS18D', 'SOS18O', 'SOS18R', 'SPI18O', 'SPI18R', 'STATEFP20',\n",
       "       'TOTPOP', 'TRE18D', 'TRE18O', 'TRE18R', 'USS18D', 'USS18O', 'USS18R',\n",
       "       'USS20D', 'USS20O', 'USS20R', 'VAP', 'VTDST20', 'WVAP', 'geometry'],\n",
       "      dtype='object')"
      ]
     },
     "execution_count": 91,
     "metadata": {},
     "output_type": "execute_result"
    }
   ],
   "source": [
    "election_df.columns"
   ]
  },
  {
   "cell_type": "code",
   "execution_count": 92,
   "metadata": {},
   "outputs": [
    {
     "name": "stderr",
     "output_type": "stream",
     "text": [
      "100%|████████████████████████████████████████| 483/483 [00:00<00:00, 553.09it/s]\n"
     ]
    },
    {
     "name": "stdout",
     "output_type": "stream",
     "text": [
      "There are 52 overlaps.\n",
      "There are 804 holes.\n",
      "Snapping all geometries to a grid with precision 10^( -5 ) to avoid GEOS errors.\n",
      "Identifying overlaps...\n"
     ]
    },
    {
     "name": "stderr",
     "output_type": "stream",
     "text": [
      "100%|█████████████████████████████████████| 2536/2536 [00:00<00:00, 3121.44it/s]\n"
     ]
    },
    {
     "name": "stdout",
     "output_type": "stream",
     "text": [
      "Resolving overlaps...\n",
      "Assigning order 2 pieces...\n",
      "Filling gaps...\n"
     ]
    },
    {
     "name": "stderr",
     "output_type": "stream",
     "text": [
      "Gaps to simplify: 100%|███████████████████████| 716/716 [00:28<00:00, 25.28it/s]\n",
      "Gaps to fill: 100%|███████████████████████████████| 3/3 [00:00<00:00,  9.23it/s]\n",
      "100%|████████████████████████████████████████| 483/483 [00:00<00:00, 641.74it/s]\n",
      "100%|████████████████████████████████████████| 483/483 [00:01<00:00, 390.04it/s]\n",
      "100%|█████████████████████████████████████████| 483/483 [00:06<00:00, 78.28it/s]\n",
      "100%|████████████████████████████████████████| 481/481 [00:01<00:00, 423.99it/s]\n",
      "100%|█████████████████████████████████████████| 481/481 [00:06<00:00, 74.46it/s]\n"
     ]
    },
    {
     "name": "stdout",
     "output_type": "stream",
     "text": [
      "population agrees\n"
     ]
    }
   ],
   "source": [
    "election_df = add_vest(vest16, election_df, '16', population_df, start_col)"
   ]
  },
  {
   "cell_type": "markdown",
   "metadata": {},
   "source": [
    "##  Add the district data"
   ]
  },
  {
   "cell_type": "code",
   "execution_count": 94,
   "metadata": {},
   "outputs": [],
   "source": [
    "send = gpd.read_file(send_data)\n",
    "hdist = gpd.read_file(hdist_data)"
   ]
  },
  {
   "cell_type": "code",
   "execution_count": 95,
   "metadata": {},
   "outputs": [
    {
     "data": {
      "text/html": [
       "<div>\n",
       "<style scoped>\n",
       "    .dataframe tbody tr th:only-of-type {\n",
       "        vertical-align: middle;\n",
       "    }\n",
       "\n",
       "    .dataframe tbody tr th {\n",
       "        vertical-align: top;\n",
       "    }\n",
       "\n",
       "    .dataframe thead th {\n",
       "        text-align: right;\n",
       "    }\n",
       "</style>\n",
       "<table border=\"1\" class=\"dataframe\">\n",
       "  <thead>\n",
       "    <tr style=\"text-align: right;\">\n",
       "      <th></th>\n",
       "      <th>ID</th>\n",
       "      <th>AREA</th>\n",
       "      <th>DISTRICT</th>\n",
       "      <th>MEMBERS</th>\n",
       "      <th>LOCKED</th>\n",
       "      <th>NAME</th>\n",
       "      <th>POPULATION</th>\n",
       "      <th>WHITE</th>\n",
       "      <th>BLACK</th>\n",
       "      <th>AMINDIAN</th>\n",
       "      <th>...</th>\n",
       "      <th>F18_NP_HWN</th>\n",
       "      <th>F18_AP_OTH</th>\n",
       "      <th>F18_NP_OTH</th>\n",
       "      <th>F18_1_RACE</th>\n",
       "      <th>F18_2_RACE</th>\n",
       "      <th>F18_2_RAC1</th>\n",
       "      <th>F18_3_RACE</th>\n",
       "      <th>F18_4_RACE</th>\n",
       "      <th>F18_5_RACE</th>\n",
       "      <th>geometry</th>\n",
       "    </tr>\n",
       "  </thead>\n",
       "  <tbody>\n",
       "    <tr>\n",
       "      <th>0</th>\n",
       "      <td>2</td>\n",
       "      <td>4296.627441</td>\n",
       "      <td>10</td>\n",
       "      <td>1.0</td>\n",
       "      <td>None</td>\n",
       "      <td>None</td>\n",
       "      <td>18519</td>\n",
       "      <td>15660</td>\n",
       "      <td>184</td>\n",
       "      <td>182</td>\n",
       "      <td>...</td>\n",
       "      <td>14871</td>\n",
       "      <td>1051</td>\n",
       "      <td>13844</td>\n",
       "      <td>13802</td>\n",
       "      <td>1093</td>\n",
       "      <td>1047</td>\n",
       "      <td>42</td>\n",
       "      <td>4</td>\n",
       "      <td>0</td>\n",
       "      <td>POLYGON ((-105.63097 40.99712, -105.63586 40.9...</td>\n",
       "    </tr>\n",
       "    <tr>\n",
       "      <th>1</th>\n",
       "      <td>3</td>\n",
       "      <td>16349.305664</td>\n",
       "      <td>11</td>\n",
       "      <td>1.0</td>\n",
       "      <td>None</td>\n",
       "      <td>None</td>\n",
       "      <td>18135</td>\n",
       "      <td>14755</td>\n",
       "      <td>173</td>\n",
       "      <td>246</td>\n",
       "      <td>...</td>\n",
       "      <td>13988</td>\n",
       "      <td>1605</td>\n",
       "      <td>12415</td>\n",
       "      <td>12925</td>\n",
       "      <td>1095</td>\n",
       "      <td>1063</td>\n",
       "      <td>31</td>\n",
       "      <td>1</td>\n",
       "      <td>0</td>\n",
       "      <td>POLYGON ((-106.09539 41.39500, -106.10228 41.3...</td>\n",
       "    </tr>\n",
       "    <tr>\n",
       "      <th>2</th>\n",
       "      <td>6</td>\n",
       "      <td>10247.032227</td>\n",
       "      <td>14</td>\n",
       "      <td>1.0</td>\n",
       "      <td>None</td>\n",
       "      <td>None</td>\n",
       "      <td>18189</td>\n",
       "      <td>16225</td>\n",
       "      <td>39</td>\n",
       "      <td>152</td>\n",
       "      <td>...</td>\n",
       "      <td>13672</td>\n",
       "      <td>812</td>\n",
       "      <td>12904</td>\n",
       "      <td>13018</td>\n",
       "      <td>698</td>\n",
       "      <td>684</td>\n",
       "      <td>11</td>\n",
       "      <td>3</td>\n",
       "      <td>0</td>\n",
       "      <td>POLYGON ((-109.42549 41.49125, -109.42503 41.4...</td>\n",
       "    </tr>\n",
       "    <tr>\n",
       "      <th>3</th>\n",
       "      <td>13</td>\n",
       "      <td>8422.623047</td>\n",
       "      <td>20</td>\n",
       "      <td>1.0</td>\n",
       "      <td>None</td>\n",
       "      <td>None</td>\n",
       "      <td>17793</td>\n",
       "      <td>15752</td>\n",
       "      <td>39</td>\n",
       "      <td>215</td>\n",
       "      <td>...</td>\n",
       "      <td>13747</td>\n",
       "      <td>829</td>\n",
       "      <td>12950</td>\n",
       "      <td>13003</td>\n",
       "      <td>776</td>\n",
       "      <td>728</td>\n",
       "      <td>41</td>\n",
       "      <td>7</td>\n",
       "      <td>0</td>\n",
       "      <td>POLYGON ((-109.51227 43.93913, -109.51227 43.9...</td>\n",
       "    </tr>\n",
       "    <tr>\n",
       "      <th>4</th>\n",
       "      <td>18</td>\n",
       "      <td>2738.210205</td>\n",
       "      <td>25</td>\n",
       "      <td>1.0</td>\n",
       "      <td>None</td>\n",
       "      <td>None</td>\n",
       "      <td>19167</td>\n",
       "      <td>11122</td>\n",
       "      <td>109</td>\n",
       "      <td>6429</td>\n",
       "      <td>...</td>\n",
       "      <td>13960</td>\n",
       "      <td>444</td>\n",
       "      <td>13549</td>\n",
       "      <td>13256</td>\n",
       "      <td>737</td>\n",
       "      <td>678</td>\n",
       "      <td>50</td>\n",
       "      <td>7</td>\n",
       "      <td>2</td>\n",
       "      <td>POLYGON ((-108.44054 42.26340, -108.45797 42.2...</td>\n",
       "    </tr>\n",
       "  </tbody>\n",
       "</table>\n",
       "<p>5 rows × 256 columns</p>\n",
       "</div>"
      ],
      "text/plain": [
       "   ID          AREA DISTRICT  MEMBERS LOCKED  NAME  POPULATION  WHITE  BLACK  \\\n",
       "0   2   4296.627441       10      1.0   None  None       18519  15660    184   \n",
       "1   3  16349.305664       11      1.0   None  None       18135  14755    173   \n",
       "2   6  10247.032227       14      1.0   None  None       18189  16225     39   \n",
       "3  13   8422.623047       20      1.0   None  None       17793  15752     39   \n",
       "4  18   2738.210205       25      1.0   None  None       19167  11122    109   \n",
       "\n",
       "   AMINDIAN  ...  F18_NP_HWN  F18_AP_OTH  F18_NP_OTH  F18_1_RACE  F18_2_RACE  \\\n",
       "0       182  ...       14871        1051       13844       13802        1093   \n",
       "1       246  ...       13988        1605       12415       12925        1095   \n",
       "2       152  ...       13672         812       12904       13018         698   \n",
       "3       215  ...       13747         829       12950       13003         776   \n",
       "4      6429  ...       13960         444       13549       13256         737   \n",
       "\n",
       "   F18_2_RAC1  F18_3_RACE  F18_4_RACE  F18_5_RACE  \\\n",
       "0        1047          42           4           0   \n",
       "1        1063          31           1           0   \n",
       "2         684          11           3           0   \n",
       "3         728          41           7           0   \n",
       "4         678          50           7           2   \n",
       "\n",
       "                                            geometry  \n",
       "0  POLYGON ((-105.63097 40.99712, -105.63586 40.9...  \n",
       "1  POLYGON ((-106.09539 41.39500, -106.10228 41.3...  \n",
       "2  POLYGON ((-109.42549 41.49125, -109.42503 41.4...  \n",
       "3  POLYGON ((-109.51227 43.93913, -109.51227 43.9...  \n",
       "4  POLYGON ((-108.44054 42.26340, -108.45797 42.2...  \n",
       "\n",
       "[5 rows x 256 columns]"
      ]
     },
     "execution_count": 95,
     "metadata": {},
     "output_type": "execute_result"
    }
   ],
   "source": [
    "send.head()"
   ]
  },
  {
   "cell_type": "code",
   "execution_count": 96,
   "metadata": {},
   "outputs": [
    {
     "name": "stderr",
     "output_type": "stream",
     "text": [
      "100%|██████████████████████████████████████████| 31/31 [00:00<00:00, 183.94it/s]\n",
      "100%|██████████████████████████████████████████| 31/31 [00:00<00:00, 721.40it/s]\n",
      "100%|███████████████████████████████████████████| 31/31 [00:00<00:00, 49.22it/s]\n"
     ]
    }
   ],
   "source": [
    "election_df = add_district(send, \"SEND\", election_df, \"DISTRICT\")"
   ]
  },
  {
   "cell_type": "code",
   "execution_count": 97,
   "metadata": {},
   "outputs": [
    {
     "data": {
      "text/html": [
       "<div>\n",
       "<style scoped>\n",
       "    .dataframe tbody tr th:only-of-type {\n",
       "        vertical-align: middle;\n",
       "    }\n",
       "\n",
       "    .dataframe tbody tr th {\n",
       "        vertical-align: top;\n",
       "    }\n",
       "\n",
       "    .dataframe thead th {\n",
       "        text-align: right;\n",
       "    }\n",
       "</style>\n",
       "<table border=\"1\" class=\"dataframe\">\n",
       "  <thead>\n",
       "    <tr style=\"text-align: right;\">\n",
       "      <th></th>\n",
       "      <th>ID</th>\n",
       "      <th>AREA</th>\n",
       "      <th>DISTRICT</th>\n",
       "      <th>MEMBERS</th>\n",
       "      <th>LOCKED</th>\n",
       "      <th>NAME</th>\n",
       "      <th>POPULATION</th>\n",
       "      <th>WHITE</th>\n",
       "      <th>BLACK</th>\n",
       "      <th>AMINDIAN</th>\n",
       "      <th>...</th>\n",
       "      <th>F18_NP_HWN</th>\n",
       "      <th>F18_AP_OTH</th>\n",
       "      <th>F18_NP_OTH</th>\n",
       "      <th>F18_1_RACE</th>\n",
       "      <th>F18_2_RACE</th>\n",
       "      <th>F18_2_RAC1</th>\n",
       "      <th>F18_3_RACE</th>\n",
       "      <th>F18_4_RACE</th>\n",
       "      <th>F18_5_RACE</th>\n",
       "      <th>geometry</th>\n",
       "    </tr>\n",
       "  </thead>\n",
       "  <tbody>\n",
       "    <tr>\n",
       "      <th>0</th>\n",
       "      <td>6</td>\n",
       "      <td>2704.081055</td>\n",
       "      <td>14</td>\n",
       "      <td>1.0</td>\n",
       "      <td>None</td>\n",
       "      <td>None</td>\n",
       "      <td>9278</td>\n",
       "      <td>7855</td>\n",
       "      <td>102</td>\n",
       "      <td>95</td>\n",
       "      <td>...</td>\n",
       "      <td>7513</td>\n",
       "      <td>425</td>\n",
       "      <td>7097</td>\n",
       "      <td>7013</td>\n",
       "      <td>509</td>\n",
       "      <td>495</td>\n",
       "      <td>13</td>\n",
       "      <td>1</td>\n",
       "      <td>0</td>\n",
       "      <td>POLYGON ((-106.07147 41.54563, -106.07152 41.5...</td>\n",
       "    </tr>\n",
       "    <tr>\n",
       "      <th>1</th>\n",
       "      <td>7</td>\n",
       "      <td>2456.038330</td>\n",
       "      <td>15</td>\n",
       "      <td>1.0</td>\n",
       "      <td>None</td>\n",
       "      <td>None</td>\n",
       "      <td>9091</td>\n",
       "      <td>7093</td>\n",
       "      <td>126</td>\n",
       "      <td>165</td>\n",
       "      <td>...</td>\n",
       "      <td>6895</td>\n",
       "      <td>955</td>\n",
       "      <td>5952</td>\n",
       "      <td>6297</td>\n",
       "      <td>610</td>\n",
       "      <td>598</td>\n",
       "      <td>11</td>\n",
       "      <td>1</td>\n",
       "      <td>0</td>\n",
       "      <td>POLYGON ((-106.94097 42.43335, -106.94095 42.4...</td>\n",
       "    </tr>\n",
       "    <tr>\n",
       "      <th>2</th>\n",
       "      <td>10</td>\n",
       "      <td>4891.289551</td>\n",
       "      <td>18</td>\n",
       "      <td>1.0</td>\n",
       "      <td>None</td>\n",
       "      <td>None</td>\n",
       "      <td>8886</td>\n",
       "      <td>7900</td>\n",
       "      <td>21</td>\n",
       "      <td>94</td>\n",
       "      <td>...</td>\n",
       "      <td>6648</td>\n",
       "      <td>403</td>\n",
       "      <td>6270</td>\n",
       "      <td>6326</td>\n",
       "      <td>347</td>\n",
       "      <td>338</td>\n",
       "      <td>6</td>\n",
       "      <td>3</td>\n",
       "      <td>0</td>\n",
       "      <td>POLYGON ((-109.42549 41.49125, -109.42503 41.4...</td>\n",
       "    </tr>\n",
       "    <tr>\n",
       "      <th>3</th>\n",
       "      <td>13</td>\n",
       "      <td>5355.742676</td>\n",
       "      <td>20</td>\n",
       "      <td>1.0</td>\n",
       "      <td>None</td>\n",
       "      <td>None</td>\n",
       "      <td>9303</td>\n",
       "      <td>8325</td>\n",
       "      <td>18</td>\n",
       "      <td>58</td>\n",
       "      <td>...</td>\n",
       "      <td>7024</td>\n",
       "      <td>409</td>\n",
       "      <td>6634</td>\n",
       "      <td>6692</td>\n",
       "      <td>351</td>\n",
       "      <td>346</td>\n",
       "      <td>5</td>\n",
       "      <td>0</td>\n",
       "      <td>0</td>\n",
       "      <td>POLYGON ((-109.04386 42.26368, -109.04579 42.2...</td>\n",
       "    </tr>\n",
       "    <tr>\n",
       "      <th>4</th>\n",
       "      <td>17</td>\n",
       "      <td>3618.739258</td>\n",
       "      <td>24</td>\n",
       "      <td>1.0</td>\n",
       "      <td>None</td>\n",
       "      <td>None</td>\n",
       "      <td>9031</td>\n",
       "      <td>8299</td>\n",
       "      <td>17</td>\n",
       "      <td>52</td>\n",
       "      <td>...</td>\n",
       "      <td>7328</td>\n",
       "      <td>229</td>\n",
       "      <td>7104</td>\n",
       "      <td>7002</td>\n",
       "      <td>331</td>\n",
       "      <td>320</td>\n",
       "      <td>9</td>\n",
       "      <td>2</td>\n",
       "      <td>0</td>\n",
       "      <td>POLYGON ((-109.04632 44.52449, -109.04635 44.5...</td>\n",
       "    </tr>\n",
       "  </tbody>\n",
       "</table>\n",
       "<p>5 rows × 256 columns</p>\n",
       "</div>"
      ],
      "text/plain": [
       "   ID         AREA DISTRICT  MEMBERS LOCKED  NAME  POPULATION  WHITE  BLACK  \\\n",
       "0   6  2704.081055       14      1.0   None  None        9278   7855    102   \n",
       "1   7  2456.038330       15      1.0   None  None        9091   7093    126   \n",
       "2  10  4891.289551       18      1.0   None  None        8886   7900     21   \n",
       "3  13  5355.742676       20      1.0   None  None        9303   8325     18   \n",
       "4  17  3618.739258       24      1.0   None  None        9031   8299     17   \n",
       "\n",
       "   AMINDIAN  ...  F18_NP_HWN  F18_AP_OTH  F18_NP_OTH  F18_1_RACE  F18_2_RACE  \\\n",
       "0        95  ...        7513         425        7097        7013         509   \n",
       "1       165  ...        6895         955        5952        6297         610   \n",
       "2        94  ...        6648         403        6270        6326         347   \n",
       "3        58  ...        7024         409        6634        6692         351   \n",
       "4        52  ...        7328         229        7104        7002         331   \n",
       "\n",
       "   F18_2_RAC1  F18_3_RACE  F18_4_RACE  F18_5_RACE  \\\n",
       "0         495          13           1           0   \n",
       "1         598          11           1           0   \n",
       "2         338           6           3           0   \n",
       "3         346           5           0           0   \n",
       "4         320           9           2           0   \n",
       "\n",
       "                                            geometry  \n",
       "0  POLYGON ((-106.07147 41.54563, -106.07152 41.5...  \n",
       "1  POLYGON ((-106.94097 42.43335, -106.94095 42.4...  \n",
       "2  POLYGON ((-109.42549 41.49125, -109.42503 41.4...  \n",
       "3  POLYGON ((-109.04386 42.26368, -109.04579 42.2...  \n",
       "4  POLYGON ((-109.04632 44.52449, -109.04635 44.5...  \n",
       "\n",
       "[5 rows x 256 columns]"
      ]
     },
     "execution_count": 97,
     "metadata": {},
     "output_type": "execute_result"
    }
   ],
   "source": [
    "hdist.head()"
   ]
  },
  {
   "cell_type": "code",
   "execution_count": 98,
   "metadata": {},
   "outputs": [
    {
     "name": "stderr",
     "output_type": "stream",
     "text": [
      "100%|██████████████████████████████████████████| 62/62 [00:00<00:00, 276.32it/s]\n",
      "100%|█████████████████████████████████████████| 62/62 [00:00<00:00, 1464.48it/s]\n",
      "100%|███████████████████████████████████████████| 62/62 [00:00<00:00, 74.46it/s]\n"
     ]
    }
   ],
   "source": [
    "hdist = hdist.to_crs(\"EPSG:4269\")\n",
    "election_df = add_district(hdist, \"HDIST\", election_df, \"DISTRICT\")"
   ]
  },
  {
   "cell_type": "code",
   "execution_count": 99,
   "metadata": {},
   "outputs": [
    {
     "name": "stderr",
     "output_type": "stream",
     "text": [
      "100%|████████████████████████████████████████| 481/481 [00:00<00:00, 510.49it/s]\n"
     ]
    },
    {
     "data": {
      "text/plain": [
       "True"
      ]
     },
     "execution_count": 99,
     "metadata": {},
     "output_type": "execute_result"
    }
   ],
   "source": [
    "maup.doctor(election_df)"
   ]
  },
  {
   "cell_type": "markdown",
   "metadata": {},
   "source": [
    "### Put the base precinct year after the precinct information column"
   ]
  },
  {
   "cell_type": "code",
   "execution_count": 101,
   "metadata": {},
   "outputs": [],
   "source": [
    "base_columns = {}\n",
    "if 'COUNTYFP' + year not in election_df.columns:\n",
    "    base_columns = {\n",
    "        'STATEFP':'STATEFP'+year,\n",
    "        'COUNTYFP':'COUNTYFP'+year,\n",
    "        'VTDST':'VTDST'+year,\n",
    "        'NAME':'NAME'+year}\n",
    "election_df.rename(columns=base_columns, inplace = True)"
   ]
  },
  {
   "cell_type": "code",
   "execution_count": 102,
   "metadata": {},
   "outputs": [
    {
     "data": {
      "text/plain": [
       "Index(['2MOREVAP', 'AMINVAP', 'ASIANVAP', 'AUD18D', 'AUD18O', 'AUD18R', 'BVAP',\n",
       "       'COUNTYFP20', 'GOV18D', 'GOV18O', 'GOV18R', 'HAL16D', 'HAL16O',\n",
       "       'HAL16R', 'HAL18D', 'HAL18O', 'HAL18R', 'HAL20D', 'HAL20O', 'HAL20R',\n",
       "       'HISP', 'HVAP', 'H_2MORE', 'H_AMIN', 'H_ASIAN', 'H_BLACK', 'H_NHPI',\n",
       "       'H_OTHER', 'H_WHITE', 'NAME20', 'NHPIVAP', 'NH_2MORE', 'NH_AMIN',\n",
       "       'NH_ASIAN', 'NH_BLACK', 'NH_NHPI', 'NH_OTHER', 'NH_WHITE', 'OTHERVAP',\n",
       "       'PRE16D', 'PRE16O', 'PRE16R', 'PRE20D', 'PRE20O', 'PRE20R', 'SOS18D',\n",
       "       'SOS18O', 'SOS18R', 'SPI18O', 'SPI18R', 'STATEFP20', 'TOTPOP', 'TRE18D',\n",
       "       'TRE18O', 'TRE18R', 'USS18D', 'USS18O', 'USS18R', 'USS20D', 'USS20O',\n",
       "       'USS20R', 'VAP', 'VTDST20', 'WVAP', 'geometry', 'SEND', 'HDIST'],\n",
       "      dtype='object')"
      ]
     },
     "execution_count": 102,
     "metadata": {},
     "output_type": "execute_result"
    }
   ],
   "source": [
    "election_df.columns"
   ]
  },
  {
   "cell_type": "code",
   "execution_count": 103,
   "metadata": {},
   "outputs": [],
   "source": [
    "# reorder the columns\n",
    "fixed_columns = [\n",
    "    'STATEFP'+year,\n",
    "    'COUNTYFP'+year,\n",
    "    'VTDST'+year,\n",
    "    'NAME'+year,\n",
    "    'SEND',\n",
    "    'HDIST',\n",
    "    'TOTPOP',\n",
    "    'NH_2MORE',\n",
    "    'NH_AMIN',\n",
    "    'NH_ASIAN',\n",
    "    'NH_BLACK',\n",
    "    'NH_NHPI',\n",
    "    'NH_OTHER',\n",
    "    'NH_WHITE',\n",
    "    'HISP',\n",
    "    'H_AMIN',\n",
    "    'H_ASIAN',\n",
    "    'H_BLACK',\n",
    "    'H_NHPI',\n",
    "    'H_OTHER',\n",
    "    'H_WHITE',\n",
    "    'H_2MORE',\n",
    "    'VAP',\n",
    "    'HVAP',\n",
    "    'WVAP',\n",
    "    'BVAP',\n",
    "    'AMINVAP',\n",
    "    'ASIANVAP',\n",
    "    'NHPIVAP',\n",
    "    'OTHERVAP',\n",
    "    '2MOREVAP']\n",
    "\n",
    "election_columns = [col for col in election_df.columns if col not in fixed_columns]\n",
    "final_col = fixed_columns + election_columns\n",
    "election_df = election_df[final_col]"
   ]
  },
  {
   "cell_type": "code",
   "execution_count": 108,
   "metadata": {},
   "outputs": [],
   "source": [
    "import os\n",
    "\n",
    "# store the result in directory \"il\"\n",
    "directory = \"./{}\".format(state_ab)\n",
    "if not os.path.exists(directory):\n",
    "    os.makedirs(directory)\n",
    "\n",
    "shapefile_path = \"./{}/{}.shp\".format(state_ab, state_ab)\n",
    "geojson_path = './{}/{}.geojson'.format(state_ab, state_ab)\n",
    "json_path = \"./{}.json\".format(state_ab, state_ab)\n",
    "\n",
    "# Check if the shapefile or geojson file already exists\n",
    "if os.path.exists(shapefile_path):\n",
    "    os.remove(shapefile_path)\n",
    "if os.path.exists(geojson_path):\n",
    "    os.remove(geojson_path)\n",
    "\n",
    "election_df.to_file(shapefile_path)\n",
    "election_df.to_file(geojson_path, driver='GeoJSON')\n",
    "\n",
    "# Only do once to build json and read from file when generating ensembles\n",
    "graph = Graph.from_file(shapefile_path, ignore_errors=True)\n",
    "graph.to_json(json_path)"
   ]
  },
  {
   "cell_type": "code",
   "execution_count": 113,
   "metadata": {},
   "outputs": [
    {
     "data": {
      "text/plain": [
       "<Axes: >"
      ]
     },
     "execution_count": 113,
     "metadata": {},
     "output_type": "execute_result"
    },
    {
     "data": {
      "image/png": "[encoded data removed]",
      "text/plain": [
       "<Figure size 640x480 with 1 Axes>"
      ]
     },
     "metadata": {},
     "output_type": "display_data"
    }
   ],
   "source": [
    "shapefile_path = \"./{}/{}.shp\".format(state_ab, state_ab)\n",
    "shape=gpd.read_file(shapefile_path)\n",
    "shape.plot()"
   ]
  },
  {
   "cell_type": "code",
   "execution_count": null,
   "metadata": {},
   "outputs": [],
   "source": []
  }
 ],
 "metadata": {
  "kernelspec": {
   "display_name": "gerry",
   "language": "python",
   "name": "gerry"
  },
  "language_info": {
   "codemirror_mode": {
    "name": "ipython",
    "version": 3
   },
   "file_extension": ".py",
   "mimetype": "text/x-python",
   "name": "python",
   "nbconvert_exporter": "python",
   "pygments_lexer": "ipython3",
   "version": "3.11.4"
  }
 },
 "nbformat": 4,
 "nbformat_minor": 4
}
